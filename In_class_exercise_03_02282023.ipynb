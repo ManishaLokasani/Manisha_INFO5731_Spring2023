{
  "cells": [
    {
      "cell_type": "markdown",
      "metadata": {
        "id": "view-in-github",
        "colab_type": "text"
      },
      "source": [
        "<a href=\"https://colab.research.google.com/github/ManishaLokasani/Manisha_INFO5731_Spring2023/blob/main/In_class_exercise_03_02282023.ipynb\" target=\"_parent\"><img src=\"https://colab.research.google.com/assets/colab-badge.svg\" alt=\"Open In Colab\"/></a>"
      ]
    },
    {
      "cell_type": "markdown",
      "metadata": {
        "id": "kNNJS544wrZh"
      },
      "source": [
        "## The third In-class-exercise (2/28/2023, 40 points in total)"
      ]
    },
    {
      "cell_type": "markdown",
      "metadata": {
        "id": "uQHzwqEvwrZj"
      },
      "source": [
        "The purpose of this exercise is to understand text representation."
      ]
    },
    {
      "cell_type": "markdown",
      "metadata": {
        "id": "xwZ213wHwrZk"
      },
      "source": [
        "Question 1 (10 points): Describe an interesting text classification or text mining task and explain what kind of features might be useful for you to build the machine learning model. List your features and explain why these features might be helpful. You need to list at least five different types of features."
      ]
    },
    {
      "cell_type": "code",
      "execution_count": null,
      "metadata": {
        "id": "ZKLWRpdIwrZk"
      },
      "outputs": [],
      "source": [
        "# Your answer here (no code for this question, write down your answer as detail as possible for the above questions):\n",
        "\n",
        "'''\n",
        "Please write you answer here:\n",
        "\n",
        " online shopping where we can find better deals and can save our time, here i am searching for a watch where i can get a  better watch and with best price so,\n",
        " that i am choosing amazon.com where i can find the  a lot of branded watches and  and also discounts the watches .here i need to collect the title of the watch,\n",
        " url, ratings , discount price  and actual price .\n",
        "\n",
        "  All these can be find by using the  machine learning techniques , and also  collecting the data which is similar to my interest  and the discount they have been provided \n",
        "\n",
        "  The features  i have been extracting for this task is \n",
        "  1) Title of the watch \n",
        "  2)url \n",
        "  3)ratings \n",
        "  4)discount price\n",
        "  5)actual price  \n",
        "\n",
        "\n",
        "\n",
        "\n",
        "\n",
        "\n",
        "'''"
      ]
    },
    {
      "cell_type": "markdown",
      "metadata": {
        "id": "9lJcOxsuwrZm"
      },
      "source": [
        "Question 2 (10 points): Write python code to extract these features you discussed above. You can collect a few sample text data for the feature extraction. "
      ]
    },
    {
      "cell_type": "code",
      "execution_count": 34,
      "metadata": {
        "colab": {
          "base_uri": "https://localhost:8080/",
          "height": 84
        },
        "id": "JbaEIoEkwrZm",
        "outputId": "5ae5589c-9898-4260-ab1b-ac6df00b32ce"
      },
      "outputs": [
        {
          "output_type": "stream",
          "name": "stdout",
          "text": [
            "Enter num of pages you want to process: 1\n",
            "Processed 0 pages\n"
          ]
        },
        {
          "output_type": "execute_result",
          "data": {
            "text/plain": [
              "Empty DataFrame\n",
              "Columns: [Title, brand, original_price, discount_price, rating]\n",
              "Index: []"
            ],
            "text/html": [
              "\n",
              "  <div id=\"df-1f5d8cfe-89d0-4235-9058-5b68d7587606\">\n",
              "    <div class=\"colab-df-container\">\n",
              "      <div>\n",
              "<style scoped>\n",
              "    .dataframe tbody tr th:only-of-type {\n",
              "        vertical-align: middle;\n",
              "    }\n",
              "\n",
              "    .dataframe tbody tr th {\n",
              "        vertical-align: top;\n",
              "    }\n",
              "\n",
              "    .dataframe thead th {\n",
              "        text-align: right;\n",
              "    }\n",
              "</style>\n",
              "<table border=\"1\" class=\"dataframe\">\n",
              "  <thead>\n",
              "    <tr style=\"text-align: right;\">\n",
              "      <th></th>\n",
              "      <th>Title</th>\n",
              "      <th>brand</th>\n",
              "      <th>original_price</th>\n",
              "      <th>discount_price</th>\n",
              "      <th>rating</th>\n",
              "    </tr>\n",
              "  </thead>\n",
              "  <tbody>\n",
              "  </tbody>\n",
              "</table>\n",
              "</div>\n",
              "      <button class=\"colab-df-convert\" onclick=\"convertToInteractive('df-1f5d8cfe-89d0-4235-9058-5b68d7587606')\"\n",
              "              title=\"Convert this dataframe to an interactive table.\"\n",
              "              style=\"display:none;\">\n",
              "        \n",
              "  <svg xmlns=\"http://www.w3.org/2000/svg\" height=\"24px\"viewBox=\"0 0 24 24\"\n",
              "       width=\"24px\">\n",
              "    <path d=\"M0 0h24v24H0V0z\" fill=\"none\"/>\n",
              "    <path d=\"M18.56 5.44l.94 2.06.94-2.06 2.06-.94-2.06-.94-.94-2.06-.94 2.06-2.06.94zm-11 1L8.5 8.5l.94-2.06 2.06-.94-2.06-.94L8.5 2.5l-.94 2.06-2.06.94zm10 10l.94 2.06.94-2.06 2.06-.94-2.06-.94-.94-2.06-.94 2.06-2.06.94z\"/><path d=\"M17.41 7.96l-1.37-1.37c-.4-.4-.92-.59-1.43-.59-.52 0-1.04.2-1.43.59L10.3 9.45l-7.72 7.72c-.78.78-.78 2.05 0 2.83L4 21.41c.39.39.9.59 1.41.59.51 0 1.02-.2 1.41-.59l7.78-7.78 2.81-2.81c.8-.78.8-2.07 0-2.86zM5.41 20L4 18.59l7.72-7.72 1.47 1.35L5.41 20z\"/>\n",
              "  </svg>\n",
              "      </button>\n",
              "      \n",
              "  <style>\n",
              "    .colab-df-container {\n",
              "      display:flex;\n",
              "      flex-wrap:wrap;\n",
              "      gap: 12px;\n",
              "    }\n",
              "\n",
              "    .colab-df-convert {\n",
              "      background-color: #E8F0FE;\n",
              "      border: none;\n",
              "      border-radius: 50%;\n",
              "      cursor: pointer;\n",
              "      display: none;\n",
              "      fill: #1967D2;\n",
              "      height: 32px;\n",
              "      padding: 0 0 0 0;\n",
              "      width: 32px;\n",
              "    }\n",
              "\n",
              "    .colab-df-convert:hover {\n",
              "      background-color: #E2EBFA;\n",
              "      box-shadow: 0px 1px 2px rgba(60, 64, 67, 0.3), 0px 1px 3px 1px rgba(60, 64, 67, 0.15);\n",
              "      fill: #174EA6;\n",
              "    }\n",
              "\n",
              "    [theme=dark] .colab-df-convert {\n",
              "      background-color: #3B4455;\n",
              "      fill: #D2E3FC;\n",
              "    }\n",
              "\n",
              "    [theme=dark] .colab-df-convert:hover {\n",
              "      background-color: #434B5C;\n",
              "      box-shadow: 0px 1px 3px 1px rgba(0, 0, 0, 0.15);\n",
              "      filter: drop-shadow(0px 1px 2px rgba(0, 0, 0, 0.3));\n",
              "      fill: #FFFFFF;\n",
              "    }\n",
              "  </style>\n",
              "\n",
              "      <script>\n",
              "        const buttonEl =\n",
              "          document.querySelector('#df-1f5d8cfe-89d0-4235-9058-5b68d7587606 button.colab-df-convert');\n",
              "        buttonEl.style.display =\n",
              "          google.colab.kernel.accessAllowed ? 'block' : 'none';\n",
              "\n",
              "        async function convertToInteractive(key) {\n",
              "          const element = document.querySelector('#df-1f5d8cfe-89d0-4235-9058-5b68d7587606');\n",
              "          const dataTable =\n",
              "            await google.colab.kernel.invokeFunction('convertToInteractive',\n",
              "                                                     [key], {});\n",
              "          if (!dataTable) return;\n",
              "\n",
              "          const docLinkHtml = 'Like what you see? Visit the ' +\n",
              "            '<a target=\"_blank\" href=https://colab.research.google.com/notebooks/data_table.ipynb>data table notebook</a>'\n",
              "            + ' to learn more about interactive tables.';\n",
              "          element.innerHTML = '';\n",
              "          dataTable['output_type'] = 'display_data';\n",
              "          await google.colab.output.renderOutput(dataTable, element);\n",
              "          const docLink = document.createElement('div');\n",
              "          docLink.innerHTML = docLinkHtml;\n",
              "          element.appendChild(docLink);\n",
              "        }\n",
              "      </script>\n",
              "    </div>\n",
              "  </div>\n",
              "  "
            ]
          },
          "metadata": {},
          "execution_count": 34
        }
      ],
      "source": [
        "# You code here (Please add comments in the code):\n",
        "\n",
        "import requests\n",
        "from bs4 import BeautifulSoup\n",
        "import re\n",
        "import time\n",
        "import pandas as pd\n",
        "\n",
        "pages = int(input(\"Enter num of pages you want to process: \"))\n",
        "\n",
        "flipkart_content = []\n",
        "for i in range(pages):\n",
        "  url = f\"https://www.flipkart.com/search?q=women+watches+&otracker=search&otracker1=search&marketplace=FLIPKART&as-show=on&as=off&page={i}\"\n",
        "  headers = {\n",
        "      'User-Agent': 'Mozilla/5.0 (Windows NT 10.0; Win64; x64) AppleWebKit/537.36 (KHTML, like Gecko) Chrome/110.0.0.0 Safari/537.36'\n",
        "      }\n",
        "  flipkart_data = requests.get(url, headers=headers)\n",
        "  soup = BeautifulSoup(flipkart_data.content, \"html.parser\")\n",
        "  product_data= soup.findAll(\"div\" , attrs={\"class\": \"_1AtVbE col-12-12\"})\n",
        "  products_title = soup.findAll(\"a\", attrs={\"class\": \"IRpwTa\"})\n",
        "  product_brand = soup.findAll(\"div\", attrs={\"class\": \"_2WkVRV\"})\n",
        "  product_original_price = soup.findAll(\"div\", attrs={\"class\": \"_30jeq3\"})\n",
        "  product_discount_price = soup.findAll(\"div\", attrs={\"class\": \"_3I9_wc\"})\n",
        "  product_ratings = soup.findAll(\"div\", attrs={\"class\": \"_3LWZlK _3uSWvT\"})\n",
        "  title, brand, original_price, discount_price, ratings=[],[],[],[],[]\n",
        "  # for x in products_title:\n",
        "  #    title.append(x.text)\n",
        "  # for y in product_brand:\n",
        "  #   brand.append(y.text)\n",
        "  # for z in product_original_price:\n",
        "  #   original_price.append(z.text)\n",
        "  # for a in product_discount_price:\n",
        "  #   discount_price.append(a.text)\n",
        "  # for b in product_ratings:\n",
        "  #   ratings.append(b.text)\n",
        "  for x,y,z,a,b in zip(products_title, product_brand, product_original_price, product_discount_price, product_ratings):\n",
        "    flipkart_content.extend([x.text, y.text, z.text, a.text, b.text])\n",
        "  time.sleep(1)\n",
        "  print(f\"Processed {i} pages\")\n",
        "df = pd.DataFrame(flipkart_content, columns=[\"Title\", \"brand\", \"original_price\", \"discount_price\", \"rating\",])\n",
        "df.head()\n",
        "\n",
        "  \n",
        "\n",
        "  \n",
        "\n",
        "\n",
        "\n",
        "\n",
        "  \n",
        "\n"
      ]
    },
    {
      "cell_type": "code",
      "source": [
        "import requests\n",
        "from bs4 import BeautifulSoup\n",
        "import re\n",
        "import time\n",
        "import pandas as pd\n",
        "\n",
        "pages = int(input(\"Enter num of pages you want to process: \"))\n",
        "\n",
        "flipkart_content = []\n",
        "for i in range(pages):\n",
        "  url = f\"https://www.flipkart.com/search?q=women+watches+&otracker=search&otracker1=search&marketplace=FLIPKART&as-show=on&as=off&page={i}\"\n",
        "  headers = {\n",
        "      'User-Agent': 'Mozilla/5.0 (Windows NT 10.0; Win64; x64) AppleWebKit/537.36 (KHTML, like Gecko) Chrome/110.0.0.0 Safari/537.36'\n",
        "      }\n",
        "  flipkart_data = requests.get(url, headers=headers)\n",
        "  soup = BeautifulSoup(flipkart_data.content, \"html.parser\")\n",
        "  product_data= soup.findAll(\"div\" , attrs={\"class\": \"_1AtVbE col-12-12\"})\n",
        "  products_title = soup.findAll(\"a\", attrs={\"class\": \"IRpwTa\"})\n",
        "  product_brand = soup.findAll(\"div\", attrs={\"class\": \"_2WkVRV\"})\n",
        "  product_original_price = soup.findAll(\"div\", attrs={\"class\": \"_30jeq3\"})\n",
        "  product_discount_price = soup.findAll(\"div\", attrs={\"class\": \"_3I9_wc\"})\n",
        "  product_ratings = soup.findAll(\"div\", attrs={\"class\": \"_3LWZlK _3uSWvT\"})\n",
        "  title, brand, original_price, discount_price, ratings=[],[],[],[],[]\n",
        "   #for x in products_title:\n",
        "    # title.append(x.text)\n",
        "  #for y in product_brand:\n",
        "  #   brand.append(y.text)\n",
        "  # for z in product_original_price:\n",
        "  #   original_price.append(z.text)\n",
        "  # for a in product_discount_price:\n",
        "  #   discount_price.append(a.text)\n",
        "  for b in product_ratings:\n",
        "    ratings.append(b.text)\n",
        "    print(ratings)\n"
      ],
      "metadata": {
        "id": "jTW-nxvZ-LPq",
        "outputId": "b4104664-12e3-482e-860a-1ff64e803815",
        "colab": {
          "base_uri": "https://localhost:8080/"
        }
      },
      "execution_count": 35,
      "outputs": [
        {
          "name": "stdout",
          "output_type": "stream",
          "text": [
            "Enter num of pages you want to process: 1\n"
          ]
        }
      ]
    },
    {
      "cell_type": "markdown",
      "metadata": {
        "id": "McetnrtAwrZm"
      },
      "source": [
        "Question 3 (10 points): Use any of the feature selection methods mentioned in this paper \"Deng, X., Li, Y., Weng, J., & Zhang, J. (2019). Feature selection for text classification: A review. Multimedia Tools & Applications, 78(3).\" Select the most important features you extracted above, rank the features based on their importance in the descending order. "
      ]
    },
    {
      "cell_type": "code",
      "execution_count": null,
      "metadata": {
        "id": "vu_a_pPDwrZn"
      },
      "outputs": [],
      "source": [
        "# You code here (Please add comments in the code):\n",
        "\n",
        "\n",
        "\n"
      ]
    },
    {
      "cell_type": "markdown",
      "metadata": {
        "id": "pE-rIKZqwrZn"
      },
      "source": [
        "Question 4 (10 points): Write python code to rank the text based on text similarity. Based on the text data you used for question 2, design a query to match the most relevant docments. Please use the BERT model to represent both your query and the text data, then calculate the cosine similarity between the query and each text in your data. Rank the similary with descending order. "
      ]
    },
    {
      "cell_type": "code",
      "execution_count": null,
      "metadata": {
        "id": "_2T-T2r4wrZn"
      },
      "outputs": [],
      "source": [
        "# You code here (Please add comments in the code):\n",
        "\n",
        "\n",
        "\n"
      ]
    }
  ],
  "metadata": {
    "kernelspec": {
      "display_name": "Python 3 (ipykernel)",
      "language": "python",
      "name": "python3"
    },
    "language_info": {
      "codemirror_mode": {
        "name": "ipython",
        "version": 3
      },
      "file_extension": ".py",
      "mimetype": "text/x-python",
      "name": "python",
      "nbconvert_exporter": "python",
      "pygments_lexer": "ipython3",
      "version": "3.9.12"
    },
    "colab": {
      "provenance": [],
      "toc_visible": true,
      "include_colab_link": true
    }
  },
  "nbformat": 4,
  "nbformat_minor": 0
}