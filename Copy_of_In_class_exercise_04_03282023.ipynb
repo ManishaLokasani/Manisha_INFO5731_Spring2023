{
  "cells": [
    {
      "cell_type": "markdown",
      "metadata": {
        "id": "view-in-github",
        "colab_type": "text"
      },
      "source": [
        "<a href=\"https://colab.research.google.com/github/ManishaLokasani/Manisha_INFO5731_Spring2023/blob/main/Copy_of_In_class_exercise_04_03282023.ipynb\" target=\"_parent\"><img src=\"https://colab.research.google.com/assets/colab-badge.svg\" alt=\"Open In Colab\"/></a>"
      ]
    },
    {
      "cell_type": "markdown",
      "metadata": {
        "id": "7TDIyxISITPh"
      },
      "source": [
        "# **The fourth in-class-exercise (40 points in total, 03/28/2022)**"
      ]
    },
    {
      "cell_type": "markdown",
      "metadata": {
        "id": "CNBUEVIZITPk"
      },
      "source": [
        "Question description: Please use the text corpus you collected in your last in-class-exercise for this exercise. Perform the following tasks:"
      ]
    },
    {
      "cell_type": "markdown",
      "metadata": {
        "id": "Y16wjNUiITPk"
      },
      "source": [
        "## (1) (10 points) Generate K topics by using LDA, the number of topics K should be decided by the coherence score, then summarize what are the topics. You may refer the code here: \n",
        "\n",
        "https://www.machinelearningplus.com/nlp/topic-modeling-gensim-python/"
      ]
    },
    {
      "cell_type": "code",
      "execution_count": null,
      "metadata": {
        "id": "JL57acPHITPl",
        "colab": {
          "base_uri": "https://localhost:8080/"
        },
        "outputId": "54b28f2c-87f2-4d7a-f7a6-343579d116a9"
      },
      "outputs": [
        {
          "output_type": "stream",
          "name": "stdout",
          "text": [
            "Ummmmm, where do I begin. I didn't watch any trailers or read any reviews. I saw the poster and title and thought, \"I'm definitely watching that.\" After seeing it, I can say with confidence that it's exactly what a movie named Cocaine Bear should be.Aside from being an extremely fun and outrageous thriller, this movie is hysterical. I was full-volume laughing frequently. So many parts are the perfect combination of memorable and hilarious. It knows exactly what it's doing.The other thing that made me happy is seeing a studio have the courage to allow the filmmakers to go all out. I compare it to M3gan which was going for a similar tone. But M3gan was toned down to PG-13 so teens could watch. Cocaine Bear is rated R as it absolutely should be. It's not gratuitous but it never feels like it's holding back.I had a blast with this movie. If the title or premise intrigue you, you will most likely be pleased. (1 viewing, opening Thursday 2/23/2023)\n",
            "Cocaine Bear promised so much but just didn't hit the spot for me.There are too many characters in my opinion which becomes a bit of a chore and breaks things up a little too much. If there was more of a focus on just a couple of characters as the protagonists it would have been better.The humour didn't always work for me. Sometimes it was good but it fell flat a little too often.The central premise is great but it doesn't go far enough in my opinion. I feel like there was a lot more fun to have with the concept. Although saying that there are some wildly fun and gruesome body horror moments, and the effects on the bear and the injury detail are top notch.Overall a bit of a let down. This film is mostly fun as expected, but the premise wears a little thin come the third act. Not quite the riotous spectacle I was hoping for.\n",
            "I first groaned and rolled my eyes when I heard they made a film about a bear on cocaine, named Cocaine Bear. I Googled the name to look for the trailer, and stumbled on the Wikipedia page where I learned this movie is loosely based on actual events, and that's what sold me to give it a watch. If the fact a bear actually found and did cocaine for months isn't funny enough alone to give this film a watch, I don't know what is.I'm just glad the filmmakers and producers took the already hilarious true concept, and made a film just as ridiculously funny. It's been a while I've heard an entire theatre burst out in laughter so many times. The entire film was simply put, comedy gold. The story could've been a little tighter in a few of the subplots, but the casting of the various colorful characters and all their performances made up for any of the writing issues.The 95 min runtime was just right, as was the pacing, and the soundtrack was awesome and spot-on for that era. This truly is one of those rare ridiculous films that actually worked. It's a fun ride start to finish. Final fun fact; the actual taxidermied bear can be found at the Kentucky Fun Mall in Kentucky USA.\n",
            "If you go down to the woods today you're sure of a big surprise, as mother bear's opened a bag of cocaine and is reaching for the skies, it's made her somewhat volatile and her temper wont abate, if she catches hold she will remould your limbs and amputate.It's not the worst film about a drug addled bear high as a kite on cocaine that you'll come across, and it probably won't be the last, as variations on a theme are bound to come along in multiform. Quite often amusing, with various appendages and body parts being removed by claw and tooth, fine performances all round and it must have been a fun movie to direct and make.\n",
            "This film is exactly what you think it is. It's a bear on cocaine going crazy in the woods. That doesn't mean it's not good. It's actually surprisingly good.It's such a good thriller. You're on the edge of your seat for most of it and when you're not on the edge of your seat, you're laughing your ass off.The cast is actually very unrelated. Keri Russell is phenomenal. Alden Ehrenreich And O'Shea Jackson Jr (Ice Cube's son) are great together and have great chemistry.The production value is so so it is definitely not a super high budget film. But it doesn't look bad. The editing as well done especially during the action scenes and the CGI is actually pretty good.\n",
            "Curious about \"Cocaine bear?\" It could of either been brilliant or terrible, and it is.Those hoping for an over the top, hilarious horror movie that doesn't take itself seriously (like us) will be beyond disappointed. Its like they had a good idea here, and went out of their way to avoid doing it.There are jokes, but they're cringey. There is action. But the CGI is mixed. What there isn't is anything to get invested in. There's all these characters you won't care about. Mostly walking around the woods talking. Then there's the bear. Who gets a couple of good kills in before it passes out.Boring is the worst thing the movie could of been. But some stuff early on in the movie is also done in extremely bad taste. This set the bar low for a cinema audience that maybe laughed once during the rest of the longest hour and a half ever.\n",
            "I was wrong. Other than a few good gore scenes, which is why I scored above a 1, this thing is horrible. I think I might have chuckled once, which perhaps garners half a star, but other than that, I didn't find any comedy in this at all. You'll laugh harder watching 'Goodfellas', one of Liotta's decent works (among many).I didn't realize there was going to be some focus on kid actors, and as hard as they tried, they simply weren't funny, but they probably weren't given anything funny to work with. Certainly 'Sandlot' proves you can make a kid-centric comedy, so it's not the kids' fault. As for the adults, couldn't have cared less what happened to any of them. The movie would have been far more interesting if they all had met their demise at the paws of the bear.So basically, there wasn't enough comedy for the comedy fans, enough gore for the gore fans, and no discernible drama for the drama fans. Essentially, this was a bunch of you've-seen-this-before scenes with an occasional bear attack. I will say the bear looked good. Huge disappointment.\n",
            "I just got out of Cocaine Bear.This movie was awful. I was hoping for a 'so bad it's good' type of movie, where I laugh at the absurdity of it all, as giant bear that has done cocaine rips everybody apart!! You know a nice bit of gore/comedy. It even failed on that level. I didn't laugh once, it's just plain bad. I had more fun with the three Sharknado movies, let that sink in!!It's not funny, it's not intense and it's not scary. I spent most of my time trying to figure out where I knew the mother from (It's the Bon Jovi music video for Always) likewise her daughter (She was the young girl in The Turning)At one point I checked my watch to see how long was left, as nothing seemed to be happening, and it was only half an hour in. I thought it was at least double that.We spend time with a bunch of human characters, that I just didn't care about, so there was no stakes at all. Ray Liotta is there The guy who played Han Solo in Solo has a bigger role as his son. Jesse Tyler Fergurson (from Modern Family) has a small role, but the standout for me was Margo Metindale as the ranger. But it is a low bar, as the acting is not great.There was one Sly Stallone related thing, that I waited to see if there was a pay off to, but there wasn't!! I was more bothered about that, than any of the human characters.It's dialogue is cringe, the violence is tame and nothing to wrote home about, at all and it's not funny. The trailer suggested a dark horror comedy. This movie did not live up to the trailer .As for Elizabeth Banks.... I preferred Charlies AngelsAn unfunny (I'm not sure of it was trying to be, but the actors seemed to think they were in a comedy, based on the performances) badly edited, dull, waste of talent and time. This goes on my worst of the year list.\n",
            "'Cocaine Bear' does exactly what it says on the box - it's a film about a black bear in Georgia, USA, that gets high from some cocaine dumped in the forest and goes on a rampage. Very loosely based on a true story, where illegal drugs actually were thrown out of a plane and killed a bear. Needless to say, the bear is CGI. The cast is surprisingly strong, with the main cast of 'The Americans' present - Russell, Rhys & Martindale - along with Ehrenreich (from 'Solo'), Jackson Jr (from 'Obi-Wan Kenobi'), Whitlock Jr (from heaps of stuff) & Ray Liotta's final ever role.Even though it has funny parts, there's probably not enough consistently funny jokes or moments to be a true comedy. Likewise with the horror/thriller aspect - there's some scary moments, but nothing sustained or truly horrific. A bit of gore and I think the death tally reached 9 in the end, but probably needed to be a few more to reach actual horror territory.It's basically a creature feature, and I'd put it alongside 'The Meg' and 'Piranha 3D', rather than 'Jaws' or 'King Kong'. The cast are all likeable, but their skills are severely underutilised. The score is good and some of the shots of the Chattahoochee forest are nice. The ending is a bit underwhelming with too much family drama.\n",
            "I really wanted to like this movie but I just can't. I was hoping for some sort of non stop crazed coked out bear but what I really got was just boring.After the opening bit we get 30 minutes of drawn out \"set up\" which wouldn't be too bad except there was no pay off.I might have chuckled one time during this snooze fest that wasted far too much time on scenes like a lame fight in a bathroom, a police officer and his new dog and a park ranger that is dolling herself up to try to hit on the gayest man in the world.If you've seen the trailer you've seen 90% of the best stuff this had to offer.\n",
            "Cocaine Bear is the story of a bear who takes too much cocaine and does stuff like dance, wiggle, and kill, kill, kill. It has about 12 characters we never delve too deep into but somehow they all end up involved with the bear and there is a lot of death, comedy, and bizarre scenes. The film is incredibly strange as it is not exactly funny, heartwarming, or scary...yet is delves into all three of these and sort of keeps you smiling and kind of bizarrely focused and enjoying yourself. Also, a classic final film for the legendary Ray Liotta - and TBH it's wroth seeing just to see the legendary Ray in his final role.\n",
            "After watching the full movie I realised that the two minutes long intro tells everything that happens. And nothing else really does happen. Visuals: could've been better, Storyline: second to none, Casting: okay-ish, Characters: not elaborate, Horror factor: basic, grade E+, Funniness: might contain some easy to digest jokes, but that's all. If this is a primarily horror movie, it should've been more frightening and unpredictable. If primarily a comedy, should've been way more funnier. It just fails at both, and I'm sad to say (maybe I had too high expectations), but this is a missed shot again.\n",
            "What a wild ride! The \"ambulance scene\" alone makes this movie worth a watch. Totally insane, scary, funny and gory. The bear is really well made and most of the scenes with it are bananas. A lot of different characters throughout the movie. They all have their own sub plot but they blend pretty well. When it tends to drag a little bit the bear always pops out for more fun and kills so it's always entertaining and goofy. Great directing, special effects and acting. Most of the easy jokes landed, the whole theatre was laughing out loud the entire movie. A good comedy horror entry. Nothing revolutionary but ultimately a really fun popcorn movie.\n",
            "Cocaine Bear offers little beyond the trailers in terms of originality, flashiness, or cleverness, but it does offer more of the same...and a lot of it. Chances are, however you interpret the trailers and however you feel about them will determine how you enjoy this movie. If you're ready for a leave-your-brain-at-home 80's adventure of slasher gore (sans human antagonist) and some corny punchlines, then this is your ticket. I would be lying if I said I did not have the occasional chuckle, and truth be told, some of SFX company Weta's bear animations were uncomfortably realistic at times. Ultimately though, I found myself several times throughout the brisk 95 minute runtime wishing the film would tingle my brain with abstractions that never came.My advice? If you like the trailer, see it in theaters. If you were indifferent about the trailer, wait until it hits streaming.\n",
            "Come for the \"Cocaine\" ...stay for the \"Bear.\" I am certain this will be a HUGE hit. They may already be working on sequels. Allow me to suggest:Cocaine Bear 2: Mushroom Bear (Trippin' on psilocybin)Cocaine Bear 3: Molly Bear (Luvs everybody)Cocaine Bear 4: Cannabis Bear (Uncontrollable munchies)Cocaine Bear 5: Viagra Bear (self-explanatory)The title pretty much tells you what kind of movie to expect and delivers as promised. If you expect too much ...then you may be disappointed, but I don't think anyone who is going to see this film is expecting an Oscar-worthy meaningful masterpiece. Yeah, I guess the movie could have been better (definitely not a 10-star film), but compared to other things in this category; I think it's above average and effort was made to produce something entertaining.I predict the \"Cocaine Bear\" films will become quite a successful franchise. I'm actually kicking myself right now and thinking: \"Why didn't I come up with this first?!\"\n",
            "Yh I knew this was Going to Happen. Sigh 😔.Problems with this Movie -1. The Feel of the Movie is Flat as Hell.2. The First Half of the Movie is Boring as Hell.3. The Bathroom Fight was Unspeakably Bad.4. It Takes too Long to Get Going. And the when it does get going, it's not good enough.5. Almost All of the Jokes Don't Land.6. Almost All of the Characters are Boring as Hell.The 2 Good Things I Liked -1. The Ambulance Scene 🚑2. The Detective on Top of the Wooden Building, Shoots Off the 2 Fingers Scene.Overall, it's basically a waste of time to watch this Movie 👎. Not Making it an Unfunny Comedy would of Probably been a Better Choice.\n",
            "I understand that when you make a movie like 'Cocaine Bear' you can't take yourself too seriously or else it will be a death sentence for your movie. There is a way to make a film silly fun without making it completely unbearable (I'm sorry) for anyone above 11 years old to enjoy, however. And this film did not do that.I love comedy-horror when it's done right. I've found the key to getting these films right though is the humour. The horror elements will always be hit and miss, but if the audience is laughing along the way then they will forgive the imperfections in the horror. I didn't laugh once during 'Cocaine Bear'. The editing was very strange. It kept stepping on all the jokes. Every time a line that could've potentially been funny came up it would quickly cut to the next scene before it had time to breathe, almost as if the film was embarrassed by the standard of the joke.So when its not funny you only really have the bear scenes to look forward to. There are some decent kills I will give the movie credit for that. It wasn't afraid to be quite brutal at times. But the CGI of the bear looked awful and really took me out of a lot of scenes.I didn't go into 'Cocaine Bear' expecting a masterpiece, but I also didn't go in expecting to be checking my watch multiple times during a 95 minute film. This was a disappointing effort. 4/10.\n",
            "I love cheesy low budget movies. The low budget usually means the film makers need to get creative with what they do have and that can lead to some wild ,fun movies. Unfortunately, if they don't get creative, then you're stuck with a movie that is hard to watch.Cocaine Bear has it's bright spots. It's a great premise for a movie. There are a few good scenes that grab your attention or make you laugh. But there's too much dead space. It feels like they had a few good key scenes in mind, like the ambulance scene, and then just wrote the rest of the movie around them. So you have a few cool scenes and the rest is just filler.That's really sad because making a movie called Cocaine Bear a fun entertaining movie should have been a slam dunk. Hollywood had made cheesy, low budget Nature Goes Haywire type movies for decades. Some of them are drek. But some are entertaining. The creators had plenty of moves to choose from to give them an idea of how this type of film works.I do want to give a shout out to Jesse Tyler Ferguson He got into the spirit of the thing and his character was fun. But overall there were just too many gaps between anything fun or interesting. Cocaine Bear just didn't get me high enough.\n",
            "What a terrible movie. So glad my friend paid for my ticket. The trailer makes it out to be about a bear who ate cocaine and went on a rampage. But what the trailers doesn't show is you instead get introduced to endless characters and most of the movie becomes about random people.From drug dealers, to a ranger to others. You \"bearly\" get to see the bear at all. Which ends up making the movie beyond boring. Unless you want to see the stories of all these people.Admittedly I had no expectation for this movie. I knew I was lose brain cells watching it. If you want a horror movie, go watch something else. If you want to save yourself time, just read the actual story of the cocaine bear. Sure, the story is short, stupid and no interesting. But its still better then this movie. Hollywood is out of ideas.\n",
            "The first waste of time movie seen at the cinema and I didn't even want to watch it, but I got roped into seeing it with a friend and so here I am.This will be short as I just do not care to talk about this film in any real depth as it has none to begin with.Now you don't go to the cinema and watch something called Cocaine Bear and expect a master piece but goodness is this film desperate to be entertaining and funny, which it most definitely is not.The characters are inconsequential and uninteresting but the actors give good performances, hell even the child actors performed well but the characters are just who cares.But it's called Cocaine Bear so really I doubt anyone came out for interesting characters but rather came out to see a coked out bear do stupid s**t. Which is precisely what this film provides.The kills are gruesome and pretty funny at times, the bear itself is surprisingly very well done. By that I mean the cgi, it was I must admit really good. From a budget of $35 million that is very impressive. They must've spent $1 mill on cast, crew, and marketing, then $34 mill on the bears cgi as my friend and I joked.Anyway this film provides exactly as advertised and nothing more. But to me this was just boring, stupid, and uninteresting. I don't understand how this passes for entertainment these days but whatever, simply put it's not for me.IMDb: 4/10\n",
            "Letterboxd: 2/5Watched in Theaters.\n",
            "This was a fun ride for the first little while, but they shouldn't have shoehorned in a villain-arc in the later half. It was too much story for the ludicrous premise to support.We also really needed to see more of the kids being outrageous, and we DEFINITELY needed more of Margo Martindale's park ranger! What a waste of an incredible talent!The film would have been a lot better if it focused on her and the kids instead of following Keri Russell's blandly forgettable nurse around, not to mention the crooks whose entire story-arc felt wholly unnecessary.5/10 Stars. I enjoyed the opening and most of the first half, but was bored to tears by the end.\n",
            "Movie wasn't scary or funny, and ultimately just a huge waste of time.Gore was pretty subdued, often cutting away from the gnarliest parts so the film has failed as a horror/gore fest.Humor was SNL levels of schlocky funny faces, movie couldn't really land a single joke. Movie was completely spineless, afraid of it's own rating.Instead of watching a fun horror comedy, you are stuck with about an hour of dumb character development, a mother and daughter bonding, friends becoming friends, and some incredibly lame sub plot about overcoming grief.This movie took a creative premise and somehow managed to make the most streamlined hollywood cash grab I have seen in years.\n",
            "Director Elizabeth Banks undoubtedly thought the premise of the movie then, perhaps, laughed and most likely told her cast to just remember that they are making a bear on cocaine flick and have fun. But what did it have to be so...bland.The story is of a real life drug smuggling incident where a ton of cocaine was dropped from the sky and then a bear ingests the bulk of it only to die within minute. This is the germination of the story of weirdos attempting to recover it. Though it takes place in the mid-1980s, the way this is shot and constructed is too modern for the tone it was attempting to set. It buries the flick in a lot of needle drop familiar tunes, which should placate a lot of Gen Xers. But it does so more as a distraction that the idea became anemic somewhere in the middle. It becomes a drawn out skit that is painfully uneven. I found myself sighing how wonderfully funny this could've been. Wasted are the chops of Margo Matindale, Ehren Ehrenreich and O'Shea Jackson Jr. Who seem to have lines spoonfed to them in an awkward attempt to make them more human. People don't act this way. And if they do in this universe, perhaps have it boil down to one adventure and not four. You have -- Father/Son/Friend drug dealers, Woman Looking for her kid in the woods, Punks harassing campers as Park Ranger thwarts them, Local cop leaving to investigate where the cocaine disappeared. There is just too much movie here. And EVERYONE cracks wise.All to the truly wasted talent of Keri Russell. She plays a mother who is desperate to find her daughter in this madcapped mess.I'm not sure what Banks's motivation was to make this. Perhaps it was just to make something dumb and fun. It is neither of those. It seems, midway through, to truly take itself too seriously. The cocaine jokes are tiring. We get it, people on cocaine are funny (I guess). That trope is so drained of nuance it was ballsy to attempt to resuscitate it. Instead, this is a bland comedy. Worst that we feel nothing when these despicable people do dumb things and are done away with by the bear.Though only under 100 minutes this felt VERY long. Prologuing it with a joke about Europeans first encountering the bear. Ugh.Make it stop.\n",
            "...And it's very good at being just that.Granted, I really didn't expect a lot from a film called Cocaine Bear. What I did expect was some satisfying creature violence and some darkly humorous comedy to pad the time between the carnage. And the film 100% delivered on these fronts.I truly appreciated that the script wasted no time. We get to see our titular monster bear in action from the opening scene, then we get the bear minimum (pun intended) of character exposition for all the people who may or may not get mauled, and we're off to the races for more bloody fun.And oh, it's pretty fun. The CGI for the bear is shockingly good at times, and the gore is always impressive. It's not shown all the time, which was smart of them. It's only really shown at brief moments for maximum shock. Elizabeth Banks actually does have a knack for this, as it turns out. Color me pleasantly surprised.Of course, not all the characters get to shine. Would you expect them to? Most of them are pretty disposable. But even the inconsequential ones get fun personalities and all the actors give it their all and are clearly having fun, no matter how small their roles.What did surprise me most was that the film actually does give the true lead characters some heartfelt beats and emotional lessons that they take away from their horrific day in the woods.One man learns to appreciate his friends amidst his grief, another learns to stand up for what's right, a mother and daughter learn to prioritise each other, etc. It's nothing groundbreaking or powerful by any means, but it did make me feel something.And I truly did not expect a movie called Cocaine Bear to make me feel anything. The film won't be a timeless classic, but it's a really good time at the movies.And Y'know what? If it's not trying to be anything other than that, I'm perfectly happy with it.\n",
            "Cocaine Bear is very self aware which is exactly what should be expected from a movie with that title but the problem is that it doesn't make it funny. Pretty much none of the jokes landed for me and the movie looked very plain and uninteresting. For a movie set in the 80s I would expect more flair and a better energy from it. I think that problem comes down mainly to the director, Elizabeth Banks. I think she has no sense of comedic timing and her movies look very bland. Additionally, the cast is underwhelming as they weren't the right people to bring the necessary charisma and energy into the movie. A film like Cocaine Bear needs character actors that can liven up the movie whilst chewing the scenery. We get some of that but this movie needed guys like Nicolas Cage or Gary Busey to go make it live up to its title.Furthermore, the character dynamics and their plots are not what I was looking for. Instead of a family story this should have just followed a few groups of cops and gangsters, maybe some junkies looking for the lost cocaine and getting mauled by the bear. Now, it does sort of happen but the movie tried to have too much of a feel-good story with nice characters that just didn't fit. What it needed was that 70s/80s sleaze that some schlock movies from that era used to have where the majority of the characters are corrupt and we just want the bear to murder them all. That's not to say Cocaine Bear is all bad. I did appreciate some of the gore and despite me complaining about the cast, some of them did a good job like Ray Liotta who fit the movie well but wasn't allowed to do much in it. Also it's nice to get an R-rated movie in the cinema instead of the usual watered down family entertainment that gets released constantly. On top of that, it's nice and short although it does drag a bit. However, I just think the movie could've been more if the director and cast were more suited to the project and if the movie went all out but as it stands it's just bearable.\n"
          ]
        }
      ],
      "source": [
        "# Write your code here\n",
        "\n",
        "import requests\n",
        "from bs4 import BeautifulSoup\n",
        "\n",
        "# URL of the IMDB page for Cocaine Bear\n",
        "url = \"https://www.imdb.com/title/tt14209916/reviews/?ref_=tt_ql_2\"\n",
        "\n",
        "# Send a GET request to the URL\n",
        "response = requests.get(url)\n",
        "\n",
        "# Parse the HTML content using Beautiful Soup\n",
        "soup = BeautifulSoup(response.content, \"html.parser\")\n",
        "\n",
        "# Find all the user reviews on the page\n",
        "reviews = soup.find_all(\"div\", class_=\"lister-item-content\")\n",
        "\n",
        "# Print the text of each review\n",
        "imdb_reviews = []\n",
        "for review in reviews:\n",
        "    text = review.find(\"div\", class_=\"text\").text.strip()\n",
        "    imdb_reviews.append(text)\n",
        "    print(text)\n",
        "\n",
        "\n",
        "\n"
      ]
    },
    {
      "cell_type": "code",
      "source": [
        "df = pd.DataFrame({'user_reviews': imdb_reviews})\n",
        "\n",
        "#save the dataframe on a csv file\n",
        "df.to_csv('user_reviews.csv')\n",
        "df.head()\n"
      ],
      "metadata": {
        "colab": {
          "base_uri": "https://localhost:8080/",
          "height": 206
        },
        "id": "bbmW87XDUnkx",
        "outputId": "a3426fe2-5505-4b74-e763-b92f9dceed7f"
      },
      "execution_count": null,
      "outputs": [
        {
          "output_type": "execute_result",
          "data": {
            "text/plain": [
              "                                        user_reviews\n",
              "0  Ummmmm, where do I begin. I didn't watch any t...\n",
              "1  Cocaine Bear promised so much but just didn't ...\n",
              "2  I first groaned and rolled my eyes when I hear...\n",
              "3  If you go down to the woods today you're sure ...\n",
              "4  This film is exactly what you think it is. It'..."
            ],
            "text/html": [
              "\n",
              "  <div id=\"df-ae033dec-5fa4-48e8-83f4-a4051ae0c172\">\n",
              "    <div class=\"colab-df-container\">\n",
              "      <div>\n",
              "<style scoped>\n",
              "    .dataframe tbody tr th:only-of-type {\n",
              "        vertical-align: middle;\n",
              "    }\n",
              "\n",
              "    .dataframe tbody tr th {\n",
              "        vertical-align: top;\n",
              "    }\n",
              "\n",
              "    .dataframe thead th {\n",
              "        text-align: right;\n",
              "    }\n",
              "</style>\n",
              "<table border=\"1\" class=\"dataframe\">\n",
              "  <thead>\n",
              "    <tr style=\"text-align: right;\">\n",
              "      <th></th>\n",
              "      <th>user_reviews</th>\n",
              "    </tr>\n",
              "  </thead>\n",
              "  <tbody>\n",
              "    <tr>\n",
              "      <th>0</th>\n",
              "      <td>Ummmmm, where do I begin. I didn't watch any t...</td>\n",
              "    </tr>\n",
              "    <tr>\n",
              "      <th>1</th>\n",
              "      <td>Cocaine Bear promised so much but just didn't ...</td>\n",
              "    </tr>\n",
              "    <tr>\n",
              "      <th>2</th>\n",
              "      <td>I first groaned and rolled my eyes when I hear...</td>\n",
              "    </tr>\n",
              "    <tr>\n",
              "      <th>3</th>\n",
              "      <td>If you go down to the woods today you're sure ...</td>\n",
              "    </tr>\n",
              "    <tr>\n",
              "      <th>4</th>\n",
              "      <td>This film is exactly what you think it is. It'...</td>\n",
              "    </tr>\n",
              "  </tbody>\n",
              "</table>\n",
              "</div>\n",
              "      <button class=\"colab-df-convert\" onclick=\"convertToInteractive('df-ae033dec-5fa4-48e8-83f4-a4051ae0c172')\"\n",
              "              title=\"Convert this dataframe to an interactive table.\"\n",
              "              style=\"display:none;\">\n",
              "        \n",
              "  <svg xmlns=\"http://www.w3.org/2000/svg\" height=\"24px\"viewBox=\"0 0 24 24\"\n",
              "       width=\"24px\">\n",
              "    <path d=\"M0 0h24v24H0V0z\" fill=\"none\"/>\n",
              "    <path d=\"M18.56 5.44l.94 2.06.94-2.06 2.06-.94-2.06-.94-.94-2.06-.94 2.06-2.06.94zm-11 1L8.5 8.5l.94-2.06 2.06-.94-2.06-.94L8.5 2.5l-.94 2.06-2.06.94zm10 10l.94 2.06.94-2.06 2.06-.94-2.06-.94-.94-2.06-.94 2.06-2.06.94z\"/><path d=\"M17.41 7.96l-1.37-1.37c-.4-.4-.92-.59-1.43-.59-.52 0-1.04.2-1.43.59L10.3 9.45l-7.72 7.72c-.78.78-.78 2.05 0 2.83L4 21.41c.39.39.9.59 1.41.59.51 0 1.02-.2 1.41-.59l7.78-7.78 2.81-2.81c.8-.78.8-2.07 0-2.86zM5.41 20L4 18.59l7.72-7.72 1.47 1.35L5.41 20z\"/>\n",
              "  </svg>\n",
              "      </button>\n",
              "      \n",
              "  <style>\n",
              "    .colab-df-container {\n",
              "      display:flex;\n",
              "      flex-wrap:wrap;\n",
              "      gap: 12px;\n",
              "    }\n",
              "\n",
              "    .colab-df-convert {\n",
              "      background-color: #E8F0FE;\n",
              "      border: none;\n",
              "      border-radius: 50%;\n",
              "      cursor: pointer;\n",
              "      display: none;\n",
              "      fill: #1967D2;\n",
              "      height: 32px;\n",
              "      padding: 0 0 0 0;\n",
              "      width: 32px;\n",
              "    }\n",
              "\n",
              "    .colab-df-convert:hover {\n",
              "      background-color: #E2EBFA;\n",
              "      box-shadow: 0px 1px 2px rgba(60, 64, 67, 0.3), 0px 1px 3px 1px rgba(60, 64, 67, 0.15);\n",
              "      fill: #174EA6;\n",
              "    }\n",
              "\n",
              "    [theme=dark] .colab-df-convert {\n",
              "      background-color: #3B4455;\n",
              "      fill: #D2E3FC;\n",
              "    }\n",
              "\n",
              "    [theme=dark] .colab-df-convert:hover {\n",
              "      background-color: #434B5C;\n",
              "      box-shadow: 0px 1px 3px 1px rgba(0, 0, 0, 0.15);\n",
              "      filter: drop-shadow(0px 1px 2px rgba(0, 0, 0, 0.3));\n",
              "      fill: #FFFFFF;\n",
              "    }\n",
              "  </style>\n",
              "\n",
              "      <script>\n",
              "        const buttonEl =\n",
              "          document.querySelector('#df-ae033dec-5fa4-48e8-83f4-a4051ae0c172 button.colab-df-convert');\n",
              "        buttonEl.style.display =\n",
              "          google.colab.kernel.accessAllowed ? 'block' : 'none';\n",
              "\n",
              "        async function convertToInteractive(key) {\n",
              "          const element = document.querySelector('#df-ae033dec-5fa4-48e8-83f4-a4051ae0c172');\n",
              "          const dataTable =\n",
              "            await google.colab.kernel.invokeFunction('convertToInteractive',\n",
              "                                                     [key], {});\n",
              "          if (!dataTable) return;\n",
              "\n",
              "          const docLinkHtml = 'Like what you see? Visit the ' +\n",
              "            '<a target=\"_blank\" href=https://colab.research.google.com/notebooks/data_table.ipynb>data table notebook</a>'\n",
              "            + ' to learn more about interactive tables.';\n",
              "          element.innerHTML = '';\n",
              "          dataTable['output_type'] = 'display_data';\n",
              "          await google.colab.output.renderOutput(dataTable, element);\n",
              "          const docLink = document.createElement('div');\n",
              "          docLink.innerHTML = docLinkHtml;\n",
              "          element.appendChild(docLink);\n",
              "        }\n",
              "      </script>\n",
              "    </div>\n",
              "  </div>\n",
              "  "
            ]
          },
          "metadata": {},
          "execution_count": 20
        }
      ]
    },
    {
      "cell_type": "code",
      "source": [
        "import nltk\n",
        "nltk.download('stopwords')\n",
        "import os\n",
        "def install_java():\n",
        "  !apt-get install -y openjdk-8-jdk-headless -qq > /dev/null\n",
        "  os.environ[\"JAVA_HOME\"] = \"/usr/lib/jvm/java-8-openjdk-amd64\"\n",
        "  !java -version\n",
        "install_java()\n",
        "!pip install pyLDAvis"
      ],
      "metadata": {
        "colab": {
          "base_uri": "https://localhost:8080/"
        },
        "id": "ie9bjjXG2fyT",
        "outputId": "7a0b1afe-74b4-4899-8372-d96baf889c75"
      },
      "execution_count": null,
      "outputs": [
        {
          "output_type": "stream",
          "name": "stderr",
          "text": [
            "[nltk_data] Downloading package stopwords to /root/nltk_data...\n",
            "[nltk_data]   Package stopwords is already up-to-date!\n"
          ]
        },
        {
          "output_type": "stream",
          "name": "stdout",
          "text": [
            "openjdk version \"11.0.18\" 2023-01-17\n",
            "OpenJDK Runtime Environment (build 11.0.18+10-post-Ubuntu-0ubuntu120.04.1)\n",
            "OpenJDK 64-Bit Server VM (build 11.0.18+10-post-Ubuntu-0ubuntu120.04.1, mixed mode, sharing)\n",
            "Looking in indexes: https://pypi.org/simple, https://us-python.pkg.dev/colab-wheels/public/simple/\n",
            "Requirement already satisfied: pyLDAvis in /usr/local/lib/python3.9/dist-packages (3.4.0)\n",
            "Requirement already satisfied: joblib>=1.2.0 in /usr/local/lib/python3.9/dist-packages (from pyLDAvis) (1.2.0)\n",
            "Requirement already satisfied: scikit-learn>=1.0.0 in /usr/local/lib/python3.9/dist-packages (from pyLDAvis) (1.2.2)\n",
            "Requirement already satisfied: pandas>=1.3.4 in /usr/local/lib/python3.9/dist-packages (from pyLDAvis) (1.4.4)\n",
            "Requirement already satisfied: numpy>=1.22.0 in /usr/local/lib/python3.9/dist-packages (from pyLDAvis) (1.22.4)\n",
            "Requirement already satisfied: scipy in /usr/local/lib/python3.9/dist-packages (from pyLDAvis) (1.10.1)\n",
            "Requirement already satisfied: gensim in /usr/local/lib/python3.9/dist-packages (from pyLDAvis) (4.3.1)\n",
            "Requirement already satisfied: setuptools in /usr/local/lib/python3.9/dist-packages (from pyLDAvis) (67.6.1)\n",
            "Requirement already satisfied: numexpr in /usr/local/lib/python3.9/dist-packages (from pyLDAvis) (2.8.4)\n",
            "Requirement already satisfied: jinja2 in /usr/local/lib/python3.9/dist-packages (from pyLDAvis) (3.1.2)\n",
            "Requirement already satisfied: funcy in /usr/local/lib/python3.9/dist-packages (from pyLDAvis) (2.0)\n",
            "Requirement already satisfied: pytz>=2020.1 in /usr/local/lib/python3.9/dist-packages (from pandas>=1.3.4->pyLDAvis) (2022.7.1)\n",
            "Requirement already satisfied: python-dateutil>=2.8.1 in /usr/local/lib/python3.9/dist-packages (from pandas>=1.3.4->pyLDAvis) (2.8.2)\n",
            "Requirement already satisfied: threadpoolctl>=2.0.0 in /usr/local/lib/python3.9/dist-packages (from scikit-learn>=1.0.0->pyLDAvis) (3.1.0)\n",
            "Requirement already satisfied: smart-open>=1.8.1 in /usr/local/lib/python3.9/dist-packages (from gensim->pyLDAvis) (6.3.0)\n",
            "Requirement already satisfied: MarkupSafe>=2.0 in /usr/local/lib/python3.9/dist-packages (from jinja2->pyLDAvis) (2.1.2)\n",
            "Requirement already satisfied: six>=1.5 in /usr/local/lib/python3.9/dist-packages (from python-dateutil>=2.8.1->pandas>=1.3.4->pyLDAvis) (1.16.0)\n",
            "\u001b[31mERROR: Operation cancelled by user\u001b[0m\u001b[31m\n",
            "\u001b[0m"
          ]
        }
      ]
    },
    {
      "cell_type": "code",
      "source": [
        "!pip install --upgrade gensim\n",
        "import requests\n",
        "from bs4 import BeautifulSoup\n",
        "import re\n",
        "import pandas as pd\n",
        "import numpy as np\n",
        "import itertools\n",
        "import lxml.html as LH\n",
        "import urllib.request as urllib2\n",
        "from bs4 import BeautifulSoup\n",
        "import spacy.cli\n",
        "spacy.cli.download(\"en\")"
      ],
      "metadata": {
        "colab": {
          "base_uri": "https://localhost:8080/"
        },
        "id": "6stfQmoFPiaq",
        "outputId": "43314314-f54e-4470-91f2-c69cf4ad2988"
      },
      "execution_count": null,
      "outputs": [
        {
          "output_type": "stream",
          "name": "stdout",
          "text": [
            "Looking in indexes: https://pypi.org/simple, https://us-python.pkg.dev/colab-wheels/public/simple/\n",
            "Requirement already satisfied: gensim in /usr/local/lib/python3.9/dist-packages (4.3.1)\n",
            "Requirement already satisfied: smart-open>=1.8.1 in /usr/local/lib/python3.9/dist-packages (from gensim) (6.3.0)\n",
            "Requirement already satisfied: scipy>=1.7.0 in /usr/local/lib/python3.9/dist-packages (from gensim) (1.10.1)\n",
            "Requirement already satisfied: numpy>=1.18.5 in /usr/local/lib/python3.9/dist-packages (from gensim) (1.22.4)\n",
            "\u001b[38;5;3m⚠ As of spaCy v3.0, shortcuts like 'en' are deprecated. Please use the\n",
            "full pipeline package name 'en_core_web_sm' instead.\u001b[0m\n",
            "\u001b[38;5;2m✔ Download and installation successful\u001b[0m\n",
            "You can now load the package via spacy.load('en_core_web_sm')\n"
          ]
        }
      ]
    },
    {
      "cell_type": "code",
      "source": [
        "import re\n",
        "import numpy as np\n",
        "import pandas as pd\n",
        "from pprint import pprint\n",
        "import gensim\n",
        "import gensim.corpora as corpora\n",
        "from gensim.utils import simple_preprocess\n",
        "from gensim.models import CoherenceModel\n",
        "import spacy\n",
        "import pyLDAvis\n",
        "import pyLDAvis.gensim_models  \n",
        "import matplotlib.pyplot as plt\n",
        "%matplotlib inline\n",
        "import logging\n",
        "logging.basicConfig(format='%(asctime)s : %(levelname)s : %(message)s', level=logging.ERROR)\n",
        "import warnings\n",
        "warnings.filterwarnings(\"ignore\",category=DeprecationWarning)"
      ],
      "metadata": {
        "id": "NCF_FRrpPzDP"
      },
      "execution_count": null,
      "outputs": []
    },
    {
      "cell_type": "code",
      "source": [
        "from nltk.corpus import stopwords\n",
        "stop_words = stopwords.words('english')\n",
        "stop_words.extend(['from', 'subject', 're', 'edu', 'use'])\n",
        "data_word = df.user_reviews.tolist()\n",
        "data_word\n"
      ],
      "metadata": {
        "colab": {
          "base_uri": "https://localhost:8080/"
        },
        "id": "IdRRjCIswJum",
        "outputId": "641966c0-3d6d-4181-ffef-76dc151d1bc5"
      },
      "execution_count": null,
      "outputs": [
        {
          "output_type": "execute_result",
          "data": {
            "text/plain": [
              "['Ummmmm, I begin. I watch trailers read reviews. I saw poster title thought, \"I\\'m definitely watching that.\" After seeing it, I say confidence exactly movie named Cocaine Bear be.Aside extremely fun outrageous thriller, movie hysterical. I full-volume laughing frequently. So many parts perfect combination memorable hilarious. It knows exactly doing.The thing made happy seeing studio courage allow filmmakers go out. I compare M3gan going similar tone. But M3gan toned PG-13 teens could watch. Cocaine Bear rated R absolutely be. It\\'s gratuitous never feels like holding back.I blast movie. If title premise intrigue you, likely pleased. (1 viewing, opening Thursday 2/23/2023)',\n",
              " 'Cocaine Bear promised much hit spot me.There many characters opinion becomes bit chore breaks things little much. If focus couple characters protagonists would better.The humour always work me. Sometimes good fell flat little often.The central premise great go far enough opinion. I feel like lot fun concept. Although saying wildly fun gruesome body horror moments, effects bear injury detail top notch.Overall bit let down. This film mostly fun expected, premise wears little thin come third act. Not quite riotous spectacle I hoping for.',\n",
              " \"I first groaned rolled eyes I heard made film bear cocaine, named Cocaine Bear. I Googled name look trailer, stumbled Wikipedia page I learned movie loosely based actual events, that's sold give watch. If fact bear actually found cocaine months funny enough alone give film watch, I know is.I'm glad filmmakers producers took already hilarious true concept, made film ridiculously funny. It's I've heard entire theatre burst laughter many times. The entire film simply put, comedy gold. The story could've little tighter subplots, casting various colorful characters performances made writing issues.The 95 min runtime right, pacing, soundtrack awesome spot-on era. This truly one rare ridiculous films actually worked. It's fun ride start finish. Final fun fact; actual taxidermied bear found Kentucky Fun Mall Kentucky USA.\",\n",
              " \"If go woods today sure big surprise, mother bear's opened bag cocaine reaching skies, made somewhat volatile temper wont abate, catches hold remould limbs amputate.It's worst film drug addled bear high kite cocaine come across, probably last, variations theme bound come along multiform. Quite often amusing, various appendages body parts removed claw tooth, fine performances round must fun movie direct make.\",\n",
              " \"This film exactly think is. It's bear cocaine going crazy woods. That mean good. It's actually surprisingly good.It's good thriller. You're edge seat edge seat, laughing ass off.The cast actually unrelated. Keri Russell phenomenal. Alden Ehrenreich And O'Shea Jackson Jr (Ice Cube's son) great together great chemistry.The production value definitely super high budget film. But look bad. The editing well done especially action scenes CGI actually pretty good.\",\n",
              " 'Curious \"Cocaine bear?\" It could either brilliant terrible, is.Those hoping top, hilarious horror movie take seriously (like us) beyond disappointed. Its like good idea here, went way avoid it.There jokes, they\\'re cringey. There action. But CGI mixed. What anything get invested in. There\\'s characters care about. Mostly walking around woods talking. Then there\\'s bear. Who gets couple good kills passes out.Boring worst thing movie could been. But stuff early movie also done extremely bad taste. This set bar low cinema audience maybe laughed rest longest hour half ever.',\n",
              " \"I wrong. Other good gore scenes, I scored 1, thing horrible. I think I might chuckled once, perhaps garners half star, that, I find comedy all. You'll laugh harder watching 'Goodfellas', one Liotta's decent works (among many).I realize going focus kid actors, hard tried, simply funny, probably given anything funny work with. Certainly 'Sandlot' proves make kid-centric comedy, kids' fault. As adults, cared less happened them. The movie would far interesting met demise paws bear.So basically, enough comedy comedy fans, enough gore gore fans, discernible drama drama fans. Essentially, bunch you've-seen-this-before scenes occasional bear attack. I say bear looked good. Huge disappointment.\",\n",
              " \"I got Cocaine Bear.This movie awful. I hoping 'so bad good' type movie, I laugh absurdity all, giant bear done cocaine rips everybody apart!! You know nice bit gore/comedy. It even failed level. I laugh once, plain bad. I fun three Sharknado movies, let sink in!!It's funny, intense scary. I spent time trying figure I knew mother (It's Bon Jovi music video Always) likewise daughter (She young girl The Turning)At one point I checked watch see long left, nothing seemed happening, half hour in. I thought least double that.We spend time bunch human characters, I care about, stakes all. Ray Liotta The guy played Han Solo Solo bigger role son. Jesse Tyler Fergurson (from Modern Family) small role, standout Margo Metindale ranger. But low bar, acting great.There one Sly Stallone related thing, I waited see pay to, wasn't!! I bothered that, human characters.It's dialogue cringe, violence tame nothing wrote home about, funny. The trailer suggested dark horror comedy. This movie live trailer .As Elizabeth Banks.... I preferred Charlies AngelsAn unfunny (I'm sure trying be, actors seemed think comedy, based performances) badly edited, dull, waste talent time. This goes worst year list.\",\n",
              " \"'Cocaine Bear' exactly says box - film black bear Georgia, USA, gets high cocaine dumped forest goes rampage. Very loosely based true story, illegal drugs actually thrown plane killed bear. Needless say, bear CGI. The cast surprisingly strong, main cast 'The Americans' present - Russell, Rhys & Martindale - along Ehrenreich (from 'Solo'), Jackson Jr (from 'Obi-Wan Kenobi'), Whitlock Jr (from heaps stuff) & Ray Liotta's final ever role.Even though funny parts, there's probably enough consistently funny jokes moments true comedy. Likewise horror/thriller aspect - there's scary moments, nothing sustained truly horrific. A bit gore I think death tally reached 9 end, probably needed reach actual horror territory.It's basically creature feature, I'd put alongside 'The Meg' 'Piranha 3D', rather 'Jaws' 'King Kong'. The cast likeable, skills severely underutilised. The score good shots Chattahoochee forest nice. The ending bit underwhelming much family drama.\",\n",
              " 'I really wanted like movie I can\\'t. I hoping sort non stop crazed coked bear I really got boring.After opening bit get 30 minutes drawn \"set up\" bad except pay off.I might chuckled one time snooze fest wasted far much time scenes like lame fight bathroom, police officer new dog park ranger dolling try hit gayest man world.If seen trailer seen 90% best stuff offer.',\n",
              " 'Cocaine Bear story bear takes much cocaine stuff like dance, wiggle, kill, kill, kill. It 12 characters never delve deep somehow end involved bear lot death, comedy, bizarre scenes. The film incredibly strange exactly funny, heartwarming, scary...yet delves three sort keeps smiling kind bizarrely focused enjoying yourself. Also, classic final film legendary Ray Liotta - TBH wroth seeing see legendary Ray final role.',\n",
              " \"After watching full movie I realised two minutes long intro tells everything happens. And nothing else really happen. Visuals: could've better, Storyline: second none, Casting: okay-ish, Characters: elaborate, Horror factor: basic, grade E+, Funniness: might contain easy digest jokes, that's all. If primarily horror movie, frightening unpredictable. If primarily comedy, way funnier. It fails both, I'm sad say (maybe I high expectations), missed shot again.\",\n",
              " 'What wild ride! The \"ambulance scene\" alone makes movie worth watch. Totally insane, scary, funny gory. The bear really well made scenes bananas. A lot different characters throughout movie. They sub plot blend pretty well. When tends drag little bit bear always pops fun kills always entertaining goofy. Great directing, special effects acting. Most easy jokes landed, whole theatre laughing loud entire movie. A good comedy horror entry. Nothing revolutionary ultimately really fun popcorn movie.',\n",
              " \"Cocaine Bear offers little beyond trailers terms originality, flashiness, cleverness, offer same...and lot it. Chances are, however interpret trailers however feel determine enjoy movie. If ready leave-your-brain-at-home 80's adventure slasher gore (sans human antagonist) corny punchlines, ticket. I would lying I said I occasional chuckle, truth told, SFX company Weta's bear animations uncomfortably realistic times. Ultimately though, I found several times throughout brisk 95 minute runtime wishing film would tingle brain abstractions never came.My advice? If like trailer, see theaters. If indifferent trailer, wait hits streaming.\",\n",
              " 'Come \"Cocaine\" ...stay \"Bear.\" I certain HUGE hit. They may already working sequels. Allow suggest:Cocaine Bear 2: Mushroom Bear (Trippin\\' psilocybin)Cocaine Bear 3: Molly Bear (Luvs everybody)Cocaine Bear 4: Cannabis Bear (Uncontrollable munchies)Cocaine Bear 5: Viagra Bear (self-explanatory)The title pretty much tells kind movie expect delivers promised. If expect much ...then may disappointed, I think anyone going see film expecting Oscar-worthy meaningful masterpiece. Yeah, I guess movie could better (definitely 10-star film), compared things category; I think average effort made produce something entertaining.I predict \"Cocaine Bear\" films become quite successful franchise. I\\'m actually kicking right thinking: \"Why I come first?!\"',\n",
              " \"Yh I knew Going Happen. Sigh 😔.Problems Movie -1. The Feel Movie Flat Hell.2. The First Half Movie Boring Hell.3. The Bathroom Fight Unspeakably Bad.4. It Takes Long Get Going. And get going, good enough.5. Almost All Jokes Don't Land.6. Almost All Characters Boring Hell.The 2 Good Things I Liked -1. The Ambulance Scene 🚑2. The Detective Top Wooden Building, Shoots Off 2 Fingers Scene.Overall, basically waste time watch Movie 👎. Not Making Unfunny Comedy would Probably Better Choice.\",\n",
              " \"I understand make movie like 'Cocaine Bear' can't take seriously else death sentence movie. There way make film silly fun without making completely unbearable (I'm sorry) anyone 11 years old enjoy, however. And film that.I love comedy-horror done right. I've found key getting films right though humour. The horror elements always hit miss, audience laughing along way forgive imperfections horror. I laugh 'Cocaine Bear'. The editing strange. It kept stepping jokes. Every time line could've potentially funny came would quickly cut next scene time breathe, almost film embarrassed standard joke.So funny really bear scenes look forward to. There decent kills I give movie credit that. It afraid quite brutal times. But CGI bear looked awful really took lot scenes.I go 'Cocaine Bear' expecting masterpiece, I also go expecting checking watch multiple times 95 minute film. This disappointing effort. 4/10.\",\n",
              " \"I love cheesy low budget movies. The low budget usually means film makers need get creative lead wild ,fun movies. Unfortunately, get creative, stuck movie hard watch.Cocaine Bear bright spots. It's great premise movie. There good scenes grab attention make laugh. But there's much dead space. It feels like good key scenes mind, like ambulance scene, wrote rest movie around them. So cool scenes rest filler.That's really sad making movie called Cocaine Bear fun entertaining movie slam dunk. Hollywood made cheesy, low budget Nature Goes Haywire type movies decades. Some drek. But entertaining. The creators plenty moves choose give idea type film works.I want give shout Jesse Tyler Ferguson He got spirit thing character fun. But overall many gaps anything fun interesting. Cocaine Bear get high enough.\",\n",
              " 'What terrible movie. So glad friend paid ticket. The trailer makes bear ate cocaine went rampage. But trailers show instead get introduced endless characters movie becomes random people.From drug dealers, ranger others. You \"bearly\" get see bear all. Which ends making movie beyond boring. Unless want see stories people.Admittedly I expectation movie. I knew I lose brain cells watching it. If want horror movie, go watch something else. If want save time, read actual story cocaine bear. Sure, story short, stupid interesting. But still better movie. Hollywood ideas.',\n",
              " \"The first waste time movie seen cinema I even want watch it, I got roped seeing friend I am.This short I care talk film real depth none begin with.Now go cinema watch something called Cocaine Bear expect master piece goodness film desperate entertaining funny, definitely not.The characters inconsequential uninteresting actors give good performances, hell even child actors performed well characters cares.But called Cocaine Bear really I doubt anyone came interesting characters rather came see coked bear stupid s**t. Which precisely film provides.The kills gruesome pretty funny times, bear surprisingly well done. By I mean cgi, I must admit really good. From budget $35 million impressive. They must've spent $1 mill cast, crew, marketing, $34 mill bears cgi friend I joked.Anyway film provides exactly advertised nothing more. But boring, stupid, uninteresting. I understand passes entertainment days whatever, simply put me.IMDb: 4/10 Letterboxd: 2/5Watched Theaters.\",\n",
              " \"This fun ride first little while, shoehorned villain-arc later half. It much story ludicrous premise support.We also really needed see kids outrageous, DEFINITELY needed Margo Martindale's park ranger! What waste incredible talent!The film would lot better focused kids instead following Keri Russell's blandly forgettable nurse around, mention crooks whose entire story-arc felt wholly unnecessary.5/10 Stars. I enjoyed opening first half, bored tears end.\",\n",
              " 'Movie scary funny, ultimately huge waste time.Gore pretty subdued, often cutting away gnarliest parts film failed horror/gore fest.Humor SNL levels schlocky funny faces, movie really land single joke. Movie completely spineless, afraid rating.Instead watching fun horror comedy, stuck hour dumb character development, mother daughter bonding, friends becoming friends, incredibly lame sub plot overcoming grief.This movie took creative premise somehow managed make streamlined hollywood cash grab I seen years.',\n",
              " \"Director Elizabeth Banks undoubtedly thought premise movie then, perhaps, laughed likely told cast remember making bear cocaine flick fun. But so...bland.The story real life drug smuggling incident ton cocaine dropped sky bear ingests bulk die within minute. This germination story weirdos attempting recover it. Though takes place mid-1980s, way shot constructed modern tone attempting set. It buries flick lot needle drop familiar tunes, placate lot Gen Xers. But distraction idea became anemic somewhere middle. It becomes drawn skit painfully uneven. I found sighing wonderfully funny could've been. Wasted chops Margo Matindale, Ehren Ehrenreich O'Shea Jackson Jr. Who seem lines spoonfed awkward attempt make human. People act way. And universe, perhaps boil one adventure four. You -- Father/Son/Friend drug dealers, Woman Looking kid woods, Punks harassing campers Park Ranger thwarts them, Local cop leaving investigate cocaine disappeared. There much movie here. And EVERYONE cracks wise.All truly wasted talent Keri Russell. She plays mother desperate find daughter madcapped mess.I'm sure Banks's motivation make this. Perhaps make something dumb fun. It neither those. It seems, midway through, truly take seriously. The cocaine jokes tiring. We get it, people cocaine funny (I guess). That trope drained nuance ballsy attempt resuscitate it. Instead, bland comedy. Worst feel nothing despicable people dumb things done away bear.Though 100 minutes felt VERY long. Prologuing joke Europeans first encountering bear. Ugh.Make stop.\",\n",
              " \"...And good that.Granted, I really expect lot film called Cocaine Bear. What I expect satisfying creature violence darkly humorous comedy pad time carnage. And film 100% delivered fronts.I truly appreciated script wasted time. We get see titular monster bear action opening scene, get bear minimum (pun intended) character exposition people may may get mauled, we're races bloody fun.And oh, pretty fun. The CGI bear shockingly good times, gore always impressive. It's shown time, smart them. It's really shown brief moments maximum shock. Elizabeth Banks actually knack this, turns out. Color pleasantly surprised.Of course, characters get shine. Would expect to? Most pretty disposable. But even inconsequential ones get fun personalities actors give clearly fun, matter small roles.What surprise film actually give true lead characters heartfelt beats emotional lessons take away horrific day woods.One man learns appreciate friends amidst grief, another learns stand what's right, mother daughter learn prioritise other, etc. It's nothing groundbreaking powerful means, make feel something.And I truly expect movie called Cocaine Bear make feel anything. The film timeless classic, really good time movies.And Y'know what? If trying anything that, I'm perfectly happy it.\",\n",
              " \"Cocaine Bear self aware exactly expected movie title problem make funny. Pretty much none jokes landed movie looked plain uninteresting. For movie set 80s I would expect flair better energy it. I think problem comes mainly director, Elizabeth Banks. I think sense comedic timing movies look bland. Additionally, cast underwhelming right people bring necessary charisma energy movie. A film like Cocaine Bear needs character actors liven movie whilst chewing scenery. We get movie needed guys like Nicolas Cage Gary Busey go make live title.Furthermore, character dynamics plots I looking for. Instead family story followed groups cops gangsters, maybe junkies looking lost cocaine getting mauled bear. Now, sort happen movie tried much feel-good story nice characters fit. What needed 70s/80s sleaze schlock movies era used majority characters corrupt want bear murder all. That's say Cocaine Bear bad. I appreciate gore despite complaining cast, good job like Ray Liotta fit movie well allowed much it. Also nice get R-rated movie cinema instead usual watered family entertainment gets released constantly. On top that, nice short although drag bit. However, I think movie could've director cast suited project movie went stands bearable.\"]"
            ]
          },
          "metadata": {},
          "execution_count": 49
        }
      ]
    },
    {
      "cell_type": "code",
      "source": [
        "# Build the bigram and trigram models\n",
        "bigram = gensim.models.Phrases(data_word, min_count=5, threshold=100) # higher threshold fewer phrases.\n",
        "trigram = gensim.models.Phrases(bigram[data_word], threshold=100)  \n",
        "\n",
        "bigram_mod = gensim.models.phrases.Phraser(bigram)\n",
        "trigram_mod = gensim.models.phrases.Phraser(trigram)\n",
        "def remove_stopwords(texts):\n",
        "    return [[word for word in simple_preprocess(str(doc)) if word not in stop_words] for doc in texts]\n",
        "\n",
        "def make_bigrams(texts):\n",
        "    return [bigram_mod[doc] for doc in texts]\n",
        "\n",
        "def make_trigrams(texts):\n",
        "    return [trigram_mod[bigram_mod[doc]] for doc in texts]\n",
        "\n",
        "def lemmatization(texts, allowed_postags=['NOUN', 'ADJ', 'VERB', 'ADV']):\n",
        "    \"\"\"https://spacy.io/api/annotation\"\"\"\n",
        "    texts_out = []\n",
        "    for sent in texts:\n",
        "        doc = nlp(\" \".join(sent)) \n",
        "        texts_out.append([token.lemma_ for token in doc if token.pos_ in allowed_postags])\n",
        "    return texts_out\n",
        "data_words_nostops = remove_stopwords(data_words)\n",
        "\n",
        "# Form Bigrams\n",
        "data_words_bigrams = make_bigrams(data_words_nostops)\n",
        "\n",
        "# Initialize spacy 'en' model, keeping only tagger component (for efficiency)\n",
        "# python3 -m spacy download en\n",
        "nlp = spacy.load('en_core_web_sm', disable=['parser', 'ner'])\n",
        "\n",
        "# Do lemmatization keeping only noun, adj, vb, adv\n",
        "data_lemmatized = lemmatization(data_words_bigrams, allowed_postags=['NOUN', 'ADJ', 'VERB', 'ADV'])\n",
        "\n",
        "print(data_lemmatized[:1])\n",
        "\n",
        "\n",
        "\n"
      ],
      "metadata": {
        "colab": {
          "base_uri": "https://localhost:8080/"
        },
        "id": "QaUxAnUixJw0",
        "outputId": "0341f5f6-2130-4f87-ed0d-77fff43053b2"
      },
      "execution_count": null,
      "outputs": [
        {
          "output_type": "stream",
          "name": "stdout",
          "text": [
            "[['begin', 'watch', 'trailer', 'read', 'review', 'see', 'poster', 'title', 'think', 'definitely', 'watch', 'see', 'say', 'confidence', 'exactly', 'movie', 'name', 'cocaine', 'extremely', 'fun', 'outrageous', 'thriller', 'movie', 'hysterical', 'full', 'volume', 'laugh', 'frequently', 'many', 'part', 'perfect', 'combination', 'memorable', 'hilarious', 'know', 'exactly', 'thing', 'make', 'happy', 'see', 'studio', 'courage', 'allow', 'filmmaker', 'go', 'compare', 'go', 'similar', 'tone', 'tone', 'teen', 'watch', 'cocaine', 'rate', 'absolutely', 'gratuitous', 'never', 'feel', 'hold', 'blast', 'movie', 'title', 'premise', 'intrigue', 'likely', 'pleased', 'view', 'opening', 'thursday']]\n"
          ]
        }
      ]
    },
    {
      "cell_type": "code",
      "source": [
        "\n",
        "id2word = corpora.Dictionary(data_lemmatized)\n",
        "texts = data_lemmatized\n",
        "corpus = [id2word.doc2bow(text) for text in texts]\n",
        "print (corpus[:1])\n",
        "[[(id2word[i], f) for i, f in c] for c in corpus[:1]]\n"
      ],
      "metadata": {
        "colab": {
          "base_uri": "https://localhost:8080/"
        },
        "id": "FKqQTLcgzfww",
        "outputId": "88e3d101-19b3-4a12-f9c1-efede26d1a47"
      },
      "execution_count": null,
      "outputs": [
        {
          "output_type": "stream",
          "name": "stdout",
          "text": [
            "[[(0, 1), (1, 1), (2, 1), (3, 1), (4, 2), (5, 1), (6, 1), (7, 1), (8, 1), (9, 1), (10, 2), (11, 1), (12, 1), (13, 1), (14, 1), (15, 1), (16, 1), (17, 2), (18, 1), (19, 1), (20, 1), (21, 1), (22, 1), (23, 1), (24, 1), (25, 1), (26, 1), (27, 1), (28, 1), (29, 1), (30, 3), (31, 1), (32, 1), (33, 1), (34, 1), (35, 1), (36, 1), (37, 1), (38, 1), (39, 1), (40, 1), (41, 1), (42, 1), (43, 1), (44, 3), (45, 1), (46, 1), (47, 1), (48, 1), (49, 1), (50, 1), (51, 1), (52, 2), (53, 2), (54, 1), (55, 1), (56, 1), (57, 3)]]\n"
          ]
        },
        {
          "output_type": "execute_result",
          "data": {
            "text/plain": [
              "[[('absolutely', 1),\n",
              "  ('allow', 1),\n",
              "  ('begin', 1),\n",
              "  ('blast', 1),\n",
              "  ('cocaine', 2),\n",
              "  ('combination', 1),\n",
              "  ('compare', 1),\n",
              "  ('confidence', 1),\n",
              "  ('courage', 1),\n",
              "  ('definitely', 1),\n",
              "  ('exactly', 2),\n",
              "  ('extremely', 1),\n",
              "  ('feel', 1),\n",
              "  ('filmmaker', 1),\n",
              "  ('frequently', 1),\n",
              "  ('full', 1),\n",
              "  ('fun', 1),\n",
              "  ('go', 2),\n",
              "  ('gratuitous', 1),\n",
              "  ('happy', 1),\n",
              "  ('hilarious', 1),\n",
              "  ('hold', 1),\n",
              "  ('hysterical', 1),\n",
              "  ('intrigue', 1),\n",
              "  ('know', 1),\n",
              "  ('laugh', 1),\n",
              "  ('likely', 1),\n",
              "  ('make', 1),\n",
              "  ('many', 1),\n",
              "  ('memorable', 1),\n",
              "  ('movie', 3),\n",
              "  ('name', 1),\n",
              "  ('never', 1),\n",
              "  ('opening', 1),\n",
              "  ('outrageous', 1),\n",
              "  ('part', 1),\n",
              "  ('perfect', 1),\n",
              "  ('pleased', 1),\n",
              "  ('poster', 1),\n",
              "  ('premise', 1),\n",
              "  ('rate', 1),\n",
              "  ('read', 1),\n",
              "  ('review', 1),\n",
              "  ('say', 1),\n",
              "  ('see', 3),\n",
              "  ('similar', 1),\n",
              "  ('studio', 1),\n",
              "  ('teen', 1),\n",
              "  ('thing', 1),\n",
              "  ('think', 1),\n",
              "  ('thriller', 1),\n",
              "  ('thursday', 1),\n",
              "  ('title', 2),\n",
              "  ('tone', 2),\n",
              "  ('trailer', 1),\n",
              "  ('view', 1),\n",
              "  ('volume', 1),\n",
              "  ('watch', 3)]]"
            ]
          },
          "metadata": {},
          "execution_count": 56
        }
      ]
    },
    {
      "cell_type": "code",
      "source": [
        "# Build LDA model\n",
        "lda_model = gensim.models.ldamodel.LdaModel(corpus=corpus,\n",
        "                                           id2word=id2word,\n",
        "                                           num_topics=20, \n",
        "                                           random_state=100,\n",
        "                                           update_every=1,\n",
        "                                           chunksize=100,\n",
        "                                           passes=10,\n",
        "                                           alpha='auto',\n",
        "                                           per_word_topics=True)\n",
        "pprint(lda_model.print_topics())\n",
        "doc_lda = lda_model[corpus]"
      ],
      "metadata": {
        "colab": {
          "base_uri": "https://localhost:8080/"
        },
        "id": "IcdG1G9U0HuQ",
        "outputId": "7c303643-bdde-46d2-a91b-b61b5e72cb5f"
      },
      "execution_count": null,
      "outputs": [
        {
          "output_type": "stream",
          "name": "stdout",
          "text": [
            "[(0,\n",
            "  '0.033*\"movie\" + 0.026*\"go\" + 0.020*\"make\" + 0.013*\"cocaine\" + 0.013*\"get\" + '\n",
            "  '0.013*\"good\" + 0.013*\"bad\" + 0.013*\"come\" + 0.013*\"hell\" + 0.013*\"almost\"'),\n",
            " (1,\n",
            "  '0.054*\"movie\" + 0.027*\"bear\" + 0.027*\"want\" + 0.027*\"story\" + '\n",
            "  '0.018*\"cocaine\" + 0.018*\"get\" + 0.018*\"go\" + 0.018*\"make\" + 0.018*\"watch\" + '\n",
            "  '0.018*\"trailer\"'),\n",
            " (2,\n",
            "  '0.022*\"film\" + 0.022*\"see\" + 0.022*\"story\" + 0.021*\"kill\" + 0.015*\"lot\" + '\n",
            "  '0.015*\"kid\" + 0.015*\"half\" + 0.015*\"arc\" + 0.015*\"need\" + 0.015*\"much\"'),\n",
            " (3,\n",
            "  '0.036*\"film\" + 0.021*\"make\" + 0.021*\"bear\" + 0.014*\"cocaine\" + 0.014*\"fun\" '\n",
            "  '+ 0.014*\"give\" + 0.014*\"funny\" + 0.014*\"hear\" + 0.014*\"find\" + '\n",
            "  '0.014*\"actual\"'),\n",
            " (4,\n",
            "  '0.001*\"cocaine\" + 0.001*\"bear\" + 0.001*\"expect\" + 0.001*\"much\" + '\n",
            "  '0.001*\"film\" + 0.001*\"make\" + 0.001*\"think\" + 0.001*\"movie\" + '\n",
            "  '0.001*\"actually\" + 0.001*\"become\"'),\n",
            " (5,\n",
            "  '0.041*\"movie\" + 0.022*\"make\" + 0.022*\"film\" + 0.018*\"really\" + '\n",
            "  '0.018*\"horror\" + 0.015*\"scene\" + 0.015*\"fun\" + 0.015*\"funny\" + 0.015*\"time\" '\n",
            "  '+ 0.011*\"watch\"'),\n",
            " (6,\n",
            "  '0.030*\"cast\" + 0.015*\"funny\" + 0.015*\"exactly\" + 0.015*\"end\" + '\n",
            "  '0.015*\"horror\" + 0.015*\"probably\" + 0.015*\"moment\" + 0.015*\"bit\" + '\n",
            "  '0.015*\"reach\" + 0.015*\"forest\"'),\n",
            " (7,\n",
            "  '0.022*\"comedy\" + 0.016*\"kid\" + 0.016*\"movie\" + 0.016*\"film\" + 0.016*\"work\" '\n",
            "  '+ 0.016*\"cocaine\" + 0.016*\"think\" + 0.016*\"expect\" + 0.011*\"funny\" + '\n",
            "  '0.011*\"scene\"'),\n",
            " (8,\n",
            "  '0.001*\"film\" + 0.001*\"bear\" + 0.001*\"make\" + 0.001*\"fact\" + 0.001*\"give\" + '\n",
            "  '0.001*\"entire\" + 0.001*\"find\" + 0.001*\"funny\" + 0.001*\"watch\" + '\n",
            "  '0.001*\"hear\"'),\n",
            " (9,\n",
            "  '0.001*\"trailer\" + 0.001*\"offer\" + 0.001*\"kid\" + 0.001*\"feel\" + 0.001*\"arc\" '\n",
            "  '+ 0.001*\"half\" + 0.001*\"need\" + 0.001*\"time\" + 0.001*\"story\" + '\n",
            "  '0.001*\"film\"'),\n",
            " (10,\n",
            "  '0.001*\"good\" + 0.001*\"bear\" + 0.001*\"bad\" + 0.001*\"get\" + 0.001*\"movie\" + '\n",
            "  '0.001*\"cocaine\" + 0.001*\"outbore\" + 0.001*\"ever\" + 0.001*\"half\" + '\n",
            "  '0.001*\"extremely\"'),\n",
            " (11,\n",
            "  '0.001*\"see\" + 0.001*\"movie\" + 0.001*\"title\" + 0.001*\"trailer\" + '\n",
            "  '0.001*\"cocaine\" + 0.001*\"go\" + 0.001*\"tone\" + 0.001*\"watch\" + '\n",
            "  '0.001*\"exactly\" + 0.001*\"never\"'),\n",
            " (12,\n",
            "  '0.001*\"film\" + 0.001*\"watch\" + 0.001*\"character\" + 0.001*\"see\" + '\n",
            "  '0.001*\"cinema\" + 0.001*\"bear\" + 0.001*\"even\" + 0.001*\"funny\" + '\n",
            "  '0.001*\"actor\" + 0.001*\"call\"'),\n",
            " (13,\n",
            "  '0.037*\"movie\" + 0.023*\"cocaine\" + 0.018*\"make\" + 0.016*\"get\" + 0.016*\"bear\" '\n",
            "  '+ 0.016*\"fun\" + 0.009*\"go\" + 0.009*\"laugh\" + 0.009*\"thing\" + 0.009*\"good\"'),\n",
            " (14,\n",
            "  '0.039*\"trailer\" + 0.020*\"time\" + 0.020*\"however\" + 0.020*\"offer\" + '\n",
            "  '0.010*\"movie\" + 0.010*\"bear\" + 0.010*\"see\" + 0.010*\"ticket\" + '\n",
            "  '0.010*\"little\" + 0.010*\"brain\"'),\n",
            " (15,\n",
            "  '0.023*\"primarily\" + 0.023*\"happen\" + 0.023*\"horror\" + 0.023*\"movie\" + '\n",
            "  '0.012*\"long\" + 0.012*\"funniness\" + 0.012*\"realise\" + 0.012*\"high\" + '\n",
            "  '0.012*\"visual\" + 0.012*\"factor\"'),\n",
            " (16,\n",
            "  '0.001*\"time\" + 0.001*\"see\" + 0.001*\"character\" + 0.001*\"funny\" + '\n",
            "  '0.001*\"spend\" + 0.001*\"movie\" + 0.001*\"bad\" + 0.001*\"watch\" + '\n",
            "  '0.001*\"cocaine\" + 0.001*\"human\"'),\n",
            " (17,\n",
            "  '0.048*\"movie\" + 0.019*\"get\" + 0.014*\"time\" + 0.014*\"think\" + '\n",
            "  '0.014*\"character\" + 0.014*\"bad\" + 0.014*\"cocaine\" + 0.011*\"good\" + '\n",
            "  '0.011*\"much\" + 0.011*\"try\"'),\n",
            " (18,\n",
            "  '0.021*\"fun\" + 0.021*\"film\" + 0.020*\"good\" + 0.017*\"expect\" + 0.017*\"get\" + '\n",
            "  '0.017*\"time\" + 0.017*\"character\" + 0.017*\"actually\" + 0.014*\"bear\" + '\n",
            "  '0.011*\"feel\"'),\n",
            " (19,\n",
            "  '0.028*\"film\" + 0.021*\"see\" + 0.021*\"character\" + 0.021*\"watch\" + '\n",
            "  '0.014*\"bear\" + 0.014*\"time\" + 0.014*\"stupid\" + 0.014*\"well\" + 0.014*\"come\" '\n",
            "  '+ 0.014*\"call\"')]\n"
          ]
        }
      ]
    },
    {
      "cell_type": "code",
      "source": [
        "from gensim.models import LsiModel\n",
        "from gensim.models.coherencemodel import CoherenceModel\n",
        "\n",
        "# Coherence score in topic modeling to measure how interpretable the topics are to humans.\n",
        "# find the coherence score with a different number of topics\n",
        "for i in range(2,11):\n",
        "    lsi = LsiModel(bow, num_topics=i, id2word=dictionary)\n",
        "    coherence_model = CoherenceModel(model=lsi, texts=df['Text (Clean)'], dictionary=dictionary, coherence='c_v')\n",
        "    coherence_score = coherence_model.get_coherence()\n",
        "    print('Coherence score with {} clusters: {}'.format(i, coherence_score))"
      ],
      "metadata": {
        "colab": {
          "base_uri": "https://localhost:8080/"
        },
        "id": "6t60iqi3mQSc",
        "outputId": "051d159f-fcb5-4846-9535-eae531471113"
      },
      "execution_count": null,
      "outputs": [
        {
          "output_type": "stream",
          "name": "stdout",
          "text": [
            "Coherence score with 2 clusters: 0.3662187996819584\n",
            "Coherence score with 3 clusters: 0.4598846262388472\n",
            "Coherence score with 4 clusters: 0.42982349913577667\n",
            "Coherence score with 5 clusters: 0.498510064341541\n",
            "Coherence score with 6 clusters: 0.5406218565251717\n",
            "Coherence score with 7 clusters: 0.4283194416105065\n",
            "Coherence score with 8 clusters: 0.4325279376775685\n",
            "Coherence score with 9 clusters: 0.5037025603248794\n",
            "Coherence score with 10 clusters: 0.4531610994043483\n"
          ]
        }
      ]
    },
    {
      "cell_type": "code",
      "source": [
        "# perform SVD on the bag of words with the LsiModel to extract 2 topics\n",
        "lsi = LsiModel(bow, num_topics=2, id2word=dictionary)"
      ],
      "metadata": {
        "id": "ru0wBOovmvUP"
      },
      "execution_count": null,
      "outputs": []
    },
    {
      "cell_type": "code",
      "source": [
        "# find the 5 words with the srongest association to the derived topics\n",
        "for topic_num, words in lsi.print_topics(num_words=10):\n",
        "    print('Words in {}: {}.'.format(topic_num, words))"
      ],
      "metadata": {
        "id": "Sirn8mNnm83w"
      },
      "execution_count": null,
      "outputs": []
    },
    {
      "cell_type": "code",
      "source": [
        "# find the scores given between the review and each topic\n",
        "corpus_lsi = lsi[bow]\n",
        "score1 = []\n",
        "score2 = []\n",
        "for doc in corpus_lsi:\n",
        "    score1.append(round(doc[0][1],2))\n",
        "    score2.append(round(doc[1][1],2))\n",
        "\n",
        "# create data frame that shows scores assigned for both topics for each review\n",
        "df_topic = pd.DataFrame()\n",
        "df_topic['Text'] = df['user_reviews']\n",
        "df_topic['Topic 0 score'] = score1\n",
        "df_topic['Topic 1 score'] = score2\n",
        "df_topic['Topic']= df_topic[['Topic 0 score', 'Topic 1 score']].apply(lambda x: x.argmax(), axis=1)\n",
        "df_topic.head(1)"
      ],
      "metadata": {
        "colab": {
          "base_uri": "https://localhost:8080/",
          "height": 81
        },
        "id": "-JSxxGfUnEiM",
        "outputId": "1f5fe713-779d-446b-8fd1-38aa89df2fa8"
      },
      "execution_count": null,
      "outputs": [
        {
          "output_type": "execute_result",
          "data": {
            "text/plain": [
              "                                                Text  Topic 0 score  \\\n",
              "0  Ummmmm, I begin. I watch trailers read reviews...            4.7   \n",
              "\n",
              "   Topic 1 score  Topic  \n",
              "0          -1.13      0  "
            ],
            "text/html": [
              "\n",
              "  <div id=\"df-29d09fd2-9df0-4be8-8744-cec5e23aafbe\">\n",
              "    <div class=\"colab-df-container\">\n",
              "      <div>\n",
              "<style scoped>\n",
              "    .dataframe tbody tr th:only-of-type {\n",
              "        vertical-align: middle;\n",
              "    }\n",
              "\n",
              "    .dataframe tbody tr th {\n",
              "        vertical-align: top;\n",
              "    }\n",
              "\n",
              "    .dataframe thead th {\n",
              "        text-align: right;\n",
              "    }\n",
              "</style>\n",
              "<table border=\"1\" class=\"dataframe\">\n",
              "  <thead>\n",
              "    <tr style=\"text-align: right;\">\n",
              "      <th></th>\n",
              "      <th>Text</th>\n",
              "      <th>Topic 0 score</th>\n",
              "      <th>Topic 1 score</th>\n",
              "      <th>Topic</th>\n",
              "    </tr>\n",
              "  </thead>\n",
              "  <tbody>\n",
              "    <tr>\n",
              "      <th>0</th>\n",
              "      <td>Ummmmm, I begin. I watch trailers read reviews...</td>\n",
              "      <td>4.7</td>\n",
              "      <td>-1.13</td>\n",
              "      <td>0</td>\n",
              "    </tr>\n",
              "  </tbody>\n",
              "</table>\n",
              "</div>\n",
              "      <button class=\"colab-df-convert\" onclick=\"convertToInteractive('df-29d09fd2-9df0-4be8-8744-cec5e23aafbe')\"\n",
              "              title=\"Convert this dataframe to an interactive table.\"\n",
              "              style=\"display:none;\">\n",
              "        \n",
              "  <svg xmlns=\"http://www.w3.org/2000/svg\" height=\"24px\"viewBox=\"0 0 24 24\"\n",
              "       width=\"24px\">\n",
              "    <path d=\"M0 0h24v24H0V0z\" fill=\"none\"/>\n",
              "    <path d=\"M18.56 5.44l.94 2.06.94-2.06 2.06-.94-2.06-.94-.94-2.06-.94 2.06-2.06.94zm-11 1L8.5 8.5l.94-2.06 2.06-.94-2.06-.94L8.5 2.5l-.94 2.06-2.06.94zm10 10l.94 2.06.94-2.06 2.06-.94-2.06-.94-.94-2.06-.94 2.06-2.06.94z\"/><path d=\"M17.41 7.96l-1.37-1.37c-.4-.4-.92-.59-1.43-.59-.52 0-1.04.2-1.43.59L10.3 9.45l-7.72 7.72c-.78.78-.78 2.05 0 2.83L4 21.41c.39.39.9.59 1.41.59.51 0 1.02-.2 1.41-.59l7.78-7.78 2.81-2.81c.8-.78.8-2.07 0-2.86zM5.41 20L4 18.59l7.72-7.72 1.47 1.35L5.41 20z\"/>\n",
              "  </svg>\n",
              "      </button>\n",
              "      \n",
              "  <style>\n",
              "    .colab-df-container {\n",
              "      display:flex;\n",
              "      flex-wrap:wrap;\n",
              "      gap: 12px;\n",
              "    }\n",
              "\n",
              "    .colab-df-convert {\n",
              "      background-color: #E8F0FE;\n",
              "      border: none;\n",
              "      border-radius: 50%;\n",
              "      cursor: pointer;\n",
              "      display: none;\n",
              "      fill: #1967D2;\n",
              "      height: 32px;\n",
              "      padding: 0 0 0 0;\n",
              "      width: 32px;\n",
              "    }\n",
              "\n",
              "    .colab-df-convert:hover {\n",
              "      background-color: #E2EBFA;\n",
              "      box-shadow: 0px 1px 2px rgba(60, 64, 67, 0.3), 0px 1px 3px 1px rgba(60, 64, 67, 0.15);\n",
              "      fill: #174EA6;\n",
              "    }\n",
              "\n",
              "    [theme=dark] .colab-df-convert {\n",
              "      background-color: #3B4455;\n",
              "      fill: #D2E3FC;\n",
              "    }\n",
              "\n",
              "    [theme=dark] .colab-df-convert:hover {\n",
              "      background-color: #434B5C;\n",
              "      box-shadow: 0px 1px 3px 1px rgba(0, 0, 0, 0.15);\n",
              "      filter: drop-shadow(0px 1px 2px rgba(0, 0, 0, 0.3));\n",
              "      fill: #FFFFFF;\n",
              "    }\n",
              "  </style>\n",
              "\n",
              "      <script>\n",
              "        const buttonEl =\n",
              "          document.querySelector('#df-29d09fd2-9df0-4be8-8744-cec5e23aafbe button.colab-df-convert');\n",
              "        buttonEl.style.display =\n",
              "          google.colab.kernel.accessAllowed ? 'block' : 'none';\n",
              "\n",
              "        async function convertToInteractive(key) {\n",
              "          const element = document.querySelector('#df-29d09fd2-9df0-4be8-8744-cec5e23aafbe');\n",
              "          const dataTable =\n",
              "            await google.colab.kernel.invokeFunction('convertToInteractive',\n",
              "                                                     [key], {});\n",
              "          if (!dataTable) return;\n",
              "\n",
              "          const docLinkHtml = 'Like what you see? Visit the ' +\n",
              "            '<a target=\"_blank\" href=https://colab.research.google.com/notebooks/data_table.ipynb>data table notebook</a>'\n",
              "            + ' to learn more about interactive tables.';\n",
              "          element.innerHTML = '';\n",
              "          dataTable['output_type'] = 'display_data';\n",
              "          await google.colab.output.renderOutput(dataTable, element);\n",
              "          const docLink = document.createElement('div');\n",
              "          docLink.innerHTML = docLinkHtml;\n",
              "          element.appendChild(docLink);\n",
              "        }\n",
              "      </script>\n",
              "    </div>\n",
              "  </div>\n",
              "  "
            ]
          },
          "metadata": {},
          "execution_count": 60
        }
      ]
    },
    {
      "cell_type": "markdown",
      "metadata": {
        "id": "Ln-LTl4rITPm"
      },
      "source": [
        "## (2) (10 points) Generate K topics by using LSA, the number of topics K should be decided by the coherence score, then summarize what are the topics. You may refer the code here:\n",
        "\n",
        "https://www.datacamp.com/community/tutorials/discovering-hidden-topics-python"
      ]
    },
    {
      "cell_type": "code",
      "source": [
        "#import modules\n",
        "import os.path\n",
        "from gensim import corpora\n",
        "from gensim.models import LsiModel\n",
        "from nltk.tokenize import RegexpTokenizer\n",
        "from nltk.corpus import stopwords\n",
        "from nltk.stem.porter import PorterStemmer\n",
        "from gensim.models.coherencemodel import CoherenceModel\n",
        "import matplotlib.pyplot as plt\n"
      ],
      "metadata": {
        "id": "ruhd_1WN1ST9"
      },
      "execution_count": null,
      "outputs": []
    },
    {
      "cell_type": "code",
      "source": [
        "df.head()"
      ],
      "metadata": {
        "colab": {
          "base_uri": "https://localhost:8080/",
          "height": 206
        },
        "id": "Wwc37CRwteS9",
        "outputId": "0d66a27e-9dfa-490c-f890-aa3992a19770"
      },
      "execution_count": null,
      "outputs": [
        {
          "output_type": "execute_result",
          "data": {
            "text/plain": [
              "                                        user_reviews  \\\n",
              "0  Ummmmm, I begin. I watch trailers read reviews...   \n",
              "1  Cocaine Bear promised much hit spot me.There m...   \n",
              "2  I first groaned rolled eyes I heard made film ...   \n",
              "3  If go woods today sure big surprise, mother be...   \n",
              "4  This film exactly think is. It's bear cocaine ...   \n",
              "\n",
              "                                        Text (Clean)  \n",
              "0  [ummmmm, begin, watch, trailer, read, review, ...  \n",
              "1  [cocain, bear, promis, hit, spot, there, chara...  \n",
              "2  [groan, roll, ey, heard, film, bear, cocain, n...  \n",
              "3  [wood, todai, sure, big, surpris, mother, bear...  \n",
              "4  [film, exactli, think, bear, cocain, go, crazi...  "
            ],
            "text/html": [
              "\n",
              "  <div id=\"df-45c32fd7-d1c0-4834-a051-11311764ea3a\">\n",
              "    <div class=\"colab-df-container\">\n",
              "      <div>\n",
              "<style scoped>\n",
              "    .dataframe tbody tr th:only-of-type {\n",
              "        vertical-align: middle;\n",
              "    }\n",
              "\n",
              "    .dataframe tbody tr th {\n",
              "        vertical-align: top;\n",
              "    }\n",
              "\n",
              "    .dataframe thead th {\n",
              "        text-align: right;\n",
              "    }\n",
              "</style>\n",
              "<table border=\"1\" class=\"dataframe\">\n",
              "  <thead>\n",
              "    <tr style=\"text-align: right;\">\n",
              "      <th></th>\n",
              "      <th>user_reviews</th>\n",
              "      <th>Text (Clean)</th>\n",
              "    </tr>\n",
              "  </thead>\n",
              "  <tbody>\n",
              "    <tr>\n",
              "      <th>0</th>\n",
              "      <td>Ummmmm, I begin. I watch trailers read reviews...</td>\n",
              "      <td>[ummmmm, begin, watch, trailer, read, review, ...</td>\n",
              "    </tr>\n",
              "    <tr>\n",
              "      <th>1</th>\n",
              "      <td>Cocaine Bear promised much hit spot me.There m...</td>\n",
              "      <td>[cocain, bear, promis, hit, spot, there, chara...</td>\n",
              "    </tr>\n",
              "    <tr>\n",
              "      <th>2</th>\n",
              "      <td>I first groaned rolled eyes I heard made film ...</td>\n",
              "      <td>[groan, roll, ey, heard, film, bear, cocain, n...</td>\n",
              "    </tr>\n",
              "    <tr>\n",
              "      <th>3</th>\n",
              "      <td>If go woods today sure big surprise, mother be...</td>\n",
              "      <td>[wood, todai, sure, big, surpris, mother, bear...</td>\n",
              "    </tr>\n",
              "    <tr>\n",
              "      <th>4</th>\n",
              "      <td>This film exactly think is. It's bear cocaine ...</td>\n",
              "      <td>[film, exactli, think, bear, cocain, go, crazi...</td>\n",
              "    </tr>\n",
              "  </tbody>\n",
              "</table>\n",
              "</div>\n",
              "      <button class=\"colab-df-convert\" onclick=\"convertToInteractive('df-45c32fd7-d1c0-4834-a051-11311764ea3a')\"\n",
              "              title=\"Convert this dataframe to an interactive table.\"\n",
              "              style=\"display:none;\">\n",
              "        \n",
              "  <svg xmlns=\"http://www.w3.org/2000/svg\" height=\"24px\"viewBox=\"0 0 24 24\"\n",
              "       width=\"24px\">\n",
              "    <path d=\"M0 0h24v24H0V0z\" fill=\"none\"/>\n",
              "    <path d=\"M18.56 5.44l.94 2.06.94-2.06 2.06-.94-2.06-.94-.94-2.06-.94 2.06-2.06.94zm-11 1L8.5 8.5l.94-2.06 2.06-.94-2.06-.94L8.5 2.5l-.94 2.06-2.06.94zm10 10l.94 2.06.94-2.06 2.06-.94-2.06-.94-.94-2.06-.94 2.06-2.06.94z\"/><path d=\"M17.41 7.96l-1.37-1.37c-.4-.4-.92-.59-1.43-.59-.52 0-1.04.2-1.43.59L10.3 9.45l-7.72 7.72c-.78.78-.78 2.05 0 2.83L4 21.41c.39.39.9.59 1.41.59.51 0 1.02-.2 1.41-.59l7.78-7.78 2.81-2.81c.8-.78.8-2.07 0-2.86zM5.41 20L4 18.59l7.72-7.72 1.47 1.35L5.41 20z\"/>\n",
              "  </svg>\n",
              "      </button>\n",
              "      \n",
              "  <style>\n",
              "    .colab-df-container {\n",
              "      display:flex;\n",
              "      flex-wrap:wrap;\n",
              "      gap: 12px;\n",
              "    }\n",
              "\n",
              "    .colab-df-convert {\n",
              "      background-color: #E8F0FE;\n",
              "      border: none;\n",
              "      border-radius: 50%;\n",
              "      cursor: pointer;\n",
              "      display: none;\n",
              "      fill: #1967D2;\n",
              "      height: 32px;\n",
              "      padding: 0 0 0 0;\n",
              "      width: 32px;\n",
              "    }\n",
              "\n",
              "    .colab-df-convert:hover {\n",
              "      background-color: #E2EBFA;\n",
              "      box-shadow: 0px 1px 2px rgba(60, 64, 67, 0.3), 0px 1px 3px 1px rgba(60, 64, 67, 0.15);\n",
              "      fill: #174EA6;\n",
              "    }\n",
              "\n",
              "    [theme=dark] .colab-df-convert {\n",
              "      background-color: #3B4455;\n",
              "      fill: #D2E3FC;\n",
              "    }\n",
              "\n",
              "    [theme=dark] .colab-df-convert:hover {\n",
              "      background-color: #434B5C;\n",
              "      box-shadow: 0px 1px 3px 1px rgba(0, 0, 0, 0.15);\n",
              "      filter: drop-shadow(0px 1px 2px rgba(0, 0, 0, 0.3));\n",
              "      fill: #FFFFFF;\n",
              "    }\n",
              "  </style>\n",
              "\n",
              "      <script>\n",
              "        const buttonEl =\n",
              "          document.querySelector('#df-45c32fd7-d1c0-4834-a051-11311764ea3a button.colab-df-convert');\n",
              "        buttonEl.style.display =\n",
              "          google.colab.kernel.accessAllowed ? 'block' : 'none';\n",
              "\n",
              "        async function convertToInteractive(key) {\n",
              "          const element = document.querySelector('#df-45c32fd7-d1c0-4834-a051-11311764ea3a');\n",
              "          const dataTable =\n",
              "            await google.colab.kernel.invokeFunction('convertToInteractive',\n",
              "                                                     [key], {});\n",
              "          if (!dataTable) return;\n",
              "\n",
              "          const docLinkHtml = 'Like what you see? Visit the ' +\n",
              "            '<a target=\"_blank\" href=https://colab.research.google.com/notebooks/data_table.ipynb>data table notebook</a>'\n",
              "            + ' to learn more about interactive tables.';\n",
              "          element.innerHTML = '';\n",
              "          dataTable['output_type'] = 'display_data';\n",
              "          await google.colab.output.renderOutput(dataTable, element);\n",
              "          const docLink = document.createElement('div');\n",
              "          docLink.innerHTML = docLinkHtml;\n",
              "          element.appendChild(docLink);\n",
              "        }\n",
              "      </script>\n",
              "    </div>\n",
              "  </div>\n",
              "  "
            ]
          },
          "metadata": {},
          "execution_count": 42
        }
      ]
    },
    {
      "cell_type": "code",
      "source": [
        "import re\n",
        "# Remove punctuation\n",
        "df['user_reviews_processed'] = \\\n",
        "df['user_reviews'].map(lambda x: re.sub('[,\\.!?]', '', x))\n",
        "# Convert the titles to lowercase\n",
        "df['user_reviews_processed'] = \\\n",
        "df['user_reviews_processed'].map(lambda x: x.lower())\n",
        "# Print out the first rows \n",
        "df['user_reviews_processed'].head()"
      ],
      "metadata": {
        "colab": {
          "base_uri": "https://localhost:8080/"
        },
        "id": "e06tUuusttgy",
        "outputId": "1c38aaa3-47ee-4598-fac7-e1fb0482a2e3"
      },
      "execution_count": null,
      "outputs": [
        {
          "output_type": "execute_result",
          "data": {
            "text/plain": [
              "0    ummmmm i begin i watch trailers read reviews i...\n",
              "1    cocaine bear promised much hit spot methere ma...\n",
              "2    i first groaned rolled eyes i heard made film ...\n",
              "3    if go woods today sure big surprise mother bea...\n",
              "4    this film exactly think is it's bear cocaine g...\n",
              "Name: user_reviews_processed, dtype: object"
            ]
          },
          "metadata": {},
          "execution_count": 43
        }
      ]
    },
    {
      "cell_type": "code",
      "source": [
        "import gensim\n",
        "from gensim.utils import simple_preprocess\n",
        "import nltk\n",
        "nltk.download('stopwords')\n",
        "from nltk.corpus import stopwords\n",
        "stop_words = stopwords.words('english')\n",
        "stop_words.extend(['from', 'subject', 're', 'edu', 'use'])\n",
        "def sent_to_words(sentences):\n",
        "    for sentence in sentences:\n",
        "        # deacc=True removes punctuations\n",
        "        yield(gensim.utils.simple_preprocess(str(sentence), deacc=True))\n",
        "def remove_stopwords(texts):\n",
        "    return [[word for word in simple_preprocess(str(doc)) \n",
        "             if word not in stop_words] for doc in texts]\n",
        "data = df.user_reviews_processed.values.tolist()\n",
        "data_words = list(sent_to_words(data))\n",
        "# remove stop words\n",
        "data_words = remove_stopwords(data_words)\n",
        "print(data_words[:1][0][:30])"
      ],
      "metadata": {
        "colab": {
          "base_uri": "https://localhost:8080/"
        },
        "id": "L7JHdOVmsFW_",
        "outputId": "bf1de3b0-3e26-4e60-b188-3061ff07e0c0"
      },
      "execution_count": null,
      "outputs": [
        {
          "output_type": "stream",
          "name": "stdout",
          "text": [
            "['ummmmm', 'begin', 'watch', 'trailers', 'read', 'reviews', 'saw', 'poster', 'title', 'thought', 'definitely', 'watching', 'seeing', 'say', 'confidence', 'exactly', 'movie', 'named', 'cocaine', 'bear', 'beaside', 'extremely', 'fun', 'outrageous', 'thriller', 'movie', 'hysterical', 'full', 'volume', 'laughing']\n"
          ]
        },
        {
          "output_type": "stream",
          "name": "stderr",
          "text": [
            "[nltk_data] Downloading package stopwords to /root/nltk_data...\n",
            "[nltk_data]   Package stopwords is already up-to-date!\n"
          ]
        }
      ]
    },
    {
      "cell_type": "code",
      "execution_count": null,
      "metadata": {
        "id": "fC6tT08QITPm",
        "colab": {
          "base_uri": "https://localhost:8080/"
        },
        "outputId": "a837aff3-456e-44e7-c5fb-b9a96b15f5c9"
      },
      "outputs": [
        {
          "output_type": "stream",
          "name": "stdout",
          "text": [
            "[(0, 1), (1, 1), (2, 1), (3, 2), (4, 1), (5, 1), (6, 1), (7, 2), (8, 1), (9, 1), (10, 1), (11, 1), (12, 1), (13, 1), (14, 1), (15, 2), (16, 1), (17, 1), (18, 1), (19, 1), (20, 1), (21, 1), (22, 2), (23, 1), (24, 1), (25, 1), (26, 1), (27, 1), (28, 1), (29, 1)]\n"
          ]
        }
      ],
      "source": [
        "# Write your code here\n",
        "\n",
        "import gensim.corpora as corpora\n",
        "# Create Dictionary\n",
        "id2word = corpora.Dictionary(data_words)\n",
        "# Create Corpus\n",
        "texts = data_words\n",
        "# Term Document Frequency\n",
        "corpus = [id2word.doc2bow(text) for text in texts]\n",
        "# View\n",
        "print(corpus[:1][0][:30])\n",
        "\n",
        "\n"
      ]
    },
    {
      "cell_type": "code",
      "source": [
        "from pprint import pprint\n",
        "# number of topics\n",
        "num_topics = 10\n",
        "# Build LDA model\n",
        "lda_model = gensim.models.LdaMulticore(corpus=corpus,\n",
        "                                       id2word=id2word,\n",
        "                                       num_topics=num_topics)\n",
        "# Print the Keyword in the 10 topics\n",
        "pprint(lda_model.print_topics())\n",
        "doc_lda = lda_model[corpus]"
      ],
      "metadata": {
        "colab": {
          "base_uri": "https://localhost:8080/"
        },
        "id": "MbBad68nrx7H",
        "outputId": "dd92c883-f8ef-442f-e9f1-b3b8776e74f9"
      },
      "execution_count": null,
      "outputs": [
        {
          "output_type": "stream",
          "name": "stderr",
          "text": [
            "WARNING:gensim.models.ldamulticore:too few updates, training might not converge; consider increasing the number of passes or iterations to improve accuracy\n"
          ]
        },
        {
          "output_type": "stream",
          "name": "stdout",
          "text": [
            "[(0,\n",
            "  '0.029*\"bear\" + 0.024*\"movie\" + 0.017*\"cocaine\" + 0.008*\"film\" + '\n",
            "  '0.007*\"horror\" + 0.006*\"funny\" + 0.005*\"could\" + 0.005*\"think\" + '\n",
            "  '0.005*\"like\" + 0.005*\"story\"'),\n",
            " (1,\n",
            "  '0.013*\"bear\" + 0.011*\"movie\" + 0.008*\"time\" + 0.008*\"funny\" + '\n",
            "  '0.008*\"cocaine\" + 0.007*\"film\" + 0.006*\"comedy\" + 0.006*\"horror\" + '\n",
            "  '0.004*\"fun\" + 0.004*\"make\"'),\n",
            " (2,\n",
            "  '0.017*\"movie\" + 0.014*\"bear\" + 0.010*\"cocaine\" + 0.009*\"film\" + 0.007*\"get\" '\n",
            "  '+ 0.007*\"characters\" + 0.007*\"want\" + 0.005*\"time\" + 0.005*\"see\" + '\n",
            "  '0.005*\"watch\"'),\n",
            " (3,\n",
            "  '0.016*\"movie\" + 0.011*\"bear\" + 0.008*\"fun\" + 0.008*\"funny\" + 0.007*\"comedy\" '\n",
            "  '+ 0.007*\"really\" + 0.006*\"always\" + 0.005*\"cocaine\" + 0.005*\"good\" + '\n",
            "  '0.005*\"well\"'),\n",
            " (4,\n",
            "  '0.019*\"bear\" + 0.015*\"cocaine\" + 0.015*\"film\" + 0.008*\"movie\" + 0.007*\"fun\" '\n",
            "  '+ 0.007*\"actually\" + 0.006*\"good\" + 0.005*\"much\" + 0.005*\"think\" + '\n",
            "  '0.004*\"funny\"'),\n",
            " (5,\n",
            "  '0.028*\"movie\" + 0.014*\"bear\" + 0.013*\"cocaine\" + 0.009*\"horror\" + '\n",
            "  '0.009*\"comedy\" + 0.008*\"fun\" + 0.008*\"funny\" + 0.007*\"film\" + 0.007*\"make\" '\n",
            "  '+ 0.006*\"really\"'),\n",
            " (6,\n",
            "  '0.030*\"bear\" + 0.018*\"movie\" + 0.018*\"cocaine\" + 0.013*\"film\" + '\n",
            "  '0.010*\"characters\" + 0.008*\"fun\" + 0.007*\"funny\" + 0.007*\"good\" + '\n",
            "  '0.007*\"watch\" + 0.006*\"exactly\"'),\n",
            " (7,\n",
            "  '0.014*\"bear\" + 0.013*\"good\" + 0.011*\"cocaine\" + 0.009*\"film\" + '\n",
            "  '0.007*\"actually\" + 0.007*\"fun\" + 0.007*\"comedy\" + 0.006*\"great\" + '\n",
            "  '0.005*\"movie\" + 0.005*\"edge\"'),\n",
            " (8,\n",
            "  '0.010*\"bear\" + 0.007*\"half\" + 0.007*\"film\" + 0.007*\"cocaine\" + 0.007*\"fun\" '\n",
            "  '+ 0.007*\"little\" + 0.007*\"story\" + 0.007*\"needed\" + 0.007*\"lot\" + '\n",
            "  '0.006*\"good\"'),\n",
            " (9,\n",
            "  '0.023*\"movie\" + 0.019*\"bear\" + 0.013*\"cocaine\" + 0.012*\"fun\" + 0.011*\"get\" '\n",
            "  '+ 0.010*\"good\" + 0.010*\"scenes\" + 0.009*\"film\" + 0.008*\"movies\" + '\n",
            "  '0.008*\"like\"')]\n"
          ]
        }
      ]
    },
    {
      "cell_type": "code",
      "source": [
        "#import pyLDAvis.gensim\n",
        "\n",
        "import pyLDAvis\n",
        "import pyLDAvis.gensim_models as gensimvis\n",
        "pyLDAvis.enable_notebook()\n",
        "\n",
        "\n",
        "LDAvis_prepared = pyLDAvis.gensim_models.prepare(lda_model, corpus, id2word)\n",
        "\n",
        "pyLDAvis.display(LDAvis_prepared)"
      ],
      "metadata": {
        "colab": {
          "base_uri": "https://localhost:8080/",
          "height": 919
        },
        "id": "611Zcx8GufiO",
        "outputId": "19d84f98-4e7a-469f-d31d-8bb2faa797d7"
      },
      "execution_count": null,
      "outputs": [
        {
          "output_type": "stream",
          "name": "stderr",
          "text": [
            "/usr/local/lib/python3.9/dist-packages/pyLDAvis/_prepare.py:243: FutureWarning: In a future version of pandas all arguments of DataFrame.drop except for the argument 'labels' will be keyword-only.\n",
            "  default_term_info = default_term_info.sort_values(\n"
          ]
        },
        {
          "output_type": "execute_result",
          "data": {
            "text/plain": [
              "<IPython.core.display.HTML object>"
            ],
            "text/html": [
              "\n",
              "<link rel=\"stylesheet\" type=\"text/css\" href=\"https://cdn.jsdelivr.net/gh/bmabey/pyLDAvis@3.4.0/pyLDAvis/js/ldavis.v1.0.0.css\">\n",
              "\n",
              "\n",
              "<div id=\"ldavis_el14751398699219908004130757582\" style=\"background-color:white;\"></div>\n",
              "<script type=\"text/javascript\">\n",
              "\n",
              "var ldavis_el14751398699219908004130757582_data = {\"mdsDat\": {\"x\": [-0.05677647250150428, 0.015815617253313645, 0.003385506465014063, -0.036772928567871434, 0.013841892468056496, 0.010313158655709673, 0.06587021501749463, -0.0023552595715629044, -0.0151251112123166, 0.0018033819936666947], \"y\": [0.04643151153529928, -0.01344074633021573, -0.008344212696981051, -0.06193150160230645, -0.0037661491263578533, 0.005953397115999484, 0.014662905894235748, 0.012024657100936264, 0.021403211812397585, -0.012993073703007337], \"topics\": [1, 2, 3, 4, 5, 6, 7, 8, 9, 10], \"cluster\": [1, 1, 1, 1, 1, 1, 1, 1, 1, 1], \"Freq\": [30.685249225888317, 23.629231326855976, 16.384461223293748, 6.933416871644201, 6.638800097928284, 5.8409569745429355, 3.978487965028964, 2.9056028649322307, 2.8989736219460958, 0.10481982793925032]}, \"tinfo\": {\"Term\": [\"bear\", \"cocaine\", \"film\", \"movie\", \"fun\", \"good\", \"actually\", \"much\", \"funny\", \"characters\", \"get\", \"horror\", \"time\", \"think\", \"scenes\", \"make\", \"like\", \"really\", \"comedy\", \"little\", \"lot\", \"story\", \"watch\", \"go\", \"see\", \"expect\", \"give\", \"pretty\", \"bit\", \"want\", \"kill\", \"legendary\", \"seeing\", \"mill\", \"smiling\", \"heartwarming\", \"wiggle\", \"involved\", \"bizarrely\", \"bizarre\", \"wroth\", \"keeps\", \"dance\", \"scaryyet\", \"deep\", \"delves\", \"enjoying\", \"tbh\", \"delve\", \"stupid\", \"classic\", \"uninteresting\", \"doubt\", \"providesthe\", \"begin\", \"piece\", \"whatever\", \"withnow\", \"master\", \"letterboxd\", \"final\", \"exactly\", \"called\", \"impressive\", \"even\", \"sort\", \"characters\", \"friend\", \"bear\", \"ray\", \"cocaine\", \"watch\", \"film\", \"actors\", \"movie\", \"expect\", \"time\", \"much\", \"never\", \"fun\", \"like\", \"well\", \"funny\", \"really\", \"get\", \"good\", \"see\", \"story\", \"give\", \"comedy\", \"cast\", \"go\", \"want\", \"pretty\", \"scenes\", \"suggest\", \"working\", \"viagra\", \"sequels\", \"trippin\", \"chuckle\", \"explanatory\", \"delivers\", \"average\", \"franchise\", \"become\", \"compared\", \"worthy\", \"produce\", \"category\", \"tells\", \"primarily\", \"lying\", \"molly\", \"uncontrollable\", \"mushroom\", \"psilocybin\", \"yeah\", \"chances\", \"offers\", \"oscar\", \"sameand\", \"munchies\", \"meaningful\", \"animations\", \"brain\", \"disappointed\", \"beyond\", \"trailer\", \"bear\", \"however\", \"movie\", \"think\", \"could\", \"guess\", \"cocaine\", \"better\", \"horror\", \"jokes\", \"would\", \"story\", \"first\", \"trailers\", \"may\", \"film\", \"see\", \"gore\", \"much\", \"minutes\", \"like\", \"funny\", \"found\", \"cast\", \"comedy\", \"characters\", \"expect\", \"good\", \"get\", \"times\", \"made\", \"right\", \"make\", \"fun\", \"actually\", \"really\", \"often\", \"somewhat\", \"opened\", \"remould\", \"last\", \"tooth\", \"limbs\", \"direct\", \"bound\", \"fine\", \"abate\", \"addled\", \"kite\", \"round\", \"removed\", \"amusing\", \"hold\", \"skies\", \"appendages\", \"variations\", \"afraid\", \"reaching\", \"wont\", \"catches\", \"claw\", \"today\", \"bag\", \"across\", \"volatile\", \"multiform\", \"almost\", \"completely\", \"worst\", \"horror\", \"movie\", \"way\", \"parts\", \"mother\", \"years\", \"comedy\", \"make\", \"plot\", \"along\", \"friends\", \"fun\", \"funny\", \"come\", \"cocaine\", \"scene\", \"really\", \"jokes\", \"bear\", \"hour\", \"scary\", \"good\", \"going\", \"film\", \"time\", \"go\", \"watch\", \"could\", \"get\", \"characters\", \"like\", \"bad\", \"always\", \"nothing\", \"lot\", \"cheesy\", \"overall\", \"bright\", \"watchcocaine\", \"need\", \"decades\", \"creators\", \"dead\", \"moves\", \"space\", \"makers\", \"attention\", \"dunk\", \"slam\", \"plenty\", \"drek\", \"nature\", \"mind\", \"choose\", \"unfortunately\", \"fillerthat\", \"haywire\", \"usually\", \"shout\", \"spots\", \"ferguson\", \"worksi\", \"spirit\", \"cool\", \"gaps\", \"budget\", \"low\", \"type\", \"rest\", \"movies\", \"creative\", \"scenes\", \"entertaining\", \"get\", \"movie\", \"fun\", \"bear\", \"enough\", \"good\", \"give\", \"like\", \"cocaine\", \"much\", \"film\", \"make\", \"made\", \"making\", \"really\", \"ambulance\", \"got\", \"high\", \"goes\", \"hard\", \"scene\", \"think\", \"cast\", \"many\", \"going\", \"comedy\", \"funny\", \"seemed\", \"multiple\", \"awful\", \"stallone\", \"bothered\", \"checked\", \"every\", \"jovi\", \"level\", \"bon\", \"tame\", \"guy\", \"forgive\", \"unbearable\", \"old\", \"charactersit\", \"angelsan\", \"dialogue\", \"double\", \"waited\", \"badly\", \"suggested\", \"related\", \"edited\", \"giant\", \"preferred\", \"standout\", \"sharknado\", \"figure\", \"init\", \"solo\", \"trying\", \"small\", \"time\", \"laugh\", \"funny\", \"horror\", \"likewise\", \"always\", \"comedy\", \"bear\", \"movie\", \"one\", \"film\", \"done\", \"right\", \"cocaine\", \"elizabeth\", \"nothing\", \"nice\", \"times\", \"banks\", \"make\", \"expecting\", \"role\", \"see\", \"go\", \"fun\", \"really\", \"trailer\", \"give\", \"good\", \"watch\", \"characters\", \"edge\", \"seat\", \"chemistrythe\", \"offthe\", \"ass\", \"ice\", \"value\", \"together\", \"production\", \"goodit\", \"alden\", \"unrelated\", \"crazy\", \"cube\", \"especially\", \"super\", \"phenomenal\", \"great\", \"shea\", \"editing\", \"son\", \"keri\", \"mean\", \"action\", \"ehrenreich\", \"high\", \"breaks\", \"jackson\", \"chore\", \"betterthe\", \"opinion\", \"actually\", \"woods\", \"good\", \"film\", \"bear\", \"cocaine\", \"comedy\", \"fun\", \"pretty\", \"characters\", \"scenes\", \"think\", \"nothing\", \"movie\", \"make\", \"jr\", \"expect\", \"done\", \"gore\", \"time\", \"russell\", \"funny\", \"get\", \"really\", \"cgi\", \"little\", \"arc\", \"mention\", \"blandly\", \"bored\", \"incredible\", \"ludicrous\", \"nurse\", \"supportwe\", \"villain\", \"whose\", \"later\", \"unnecessary\", \"shoehorned\", \"stars\", \"following\", \"enjoyed\", \"wholly\", \"talentthe\", \"forgettable\", \"tears\", \"crooks\", \"kids\", \"martindale\", \"felt\", \"around\", \"needed\", \"keri\", \"half\", \"margo\", \"russell\", \"little\", \"lot\", \"first\", \"story\", \"would\", \"bear\", \"fun\", \"see\", \"film\", \"good\", \"much\", \"premise\", \"also\", \"cocaine\", \"ranger\", \"really\", \"movie\", \"park\", \"end\", \"get\", \"like\", \"characters\", \"horror\", \"opening\", \"revolutionary\", \"blend\", \"popcorn\", \"entry\", \"bananas\", \"worth\", \"loud\", \"directing\", \"pops\", \"tends\", \"wild\", \"different\", \"insane\", \"goofy\", \"gory\", \"whole\", \"sub\", \"totally\", \"special\", \"ultimately\", \"effects\", \"landed\", \"drag\", \"plot\", \"alone\", \"acting\", \"theatre\", \"easy\", \"throughout\", \"makes\", \"always\", \"well\", \"laughing\", \"movie\", \"fun\", \"really\", \"funny\", \"comedy\", \"bear\", \"made\", \"pretty\", \"entire\", \"good\", \"lot\", \"scenes\", \"make\", \"gore\", \"little\", \"scary\", \"cocaine\", \"film\", \"horror\", \"characters\", \"watch\", \"great\", \"get\", \"theme\", \"stories\", \"big\", \"amputateit\", \"multiform\", \"ate\", \"must\", \"across\", \"bearly\", \"endless\", \"today\", \"volatile\", \"lose\", \"bag\", \"temper\", \"reaching\", \"introduced\", \"peoplefrom\", \"ideas\", \"catches\", \"skies\", \"random\", \"wont\", \"unless\", \"variations\", \"want\", \"amusing\", \"save\", \"paid\", \"cells\", \"boring\", \"friend\", \"drug\", \"sure\", \"short\", \"stupid\", \"desperate\", \"something\", \"movie\", \"performances\", \"get\", \"see\", \"go\", \"film\", \"bear\", \"characters\", \"making\", \"cocaine\", \"watch\", \"time\", \"story\", \"interesting\", \"instead\", \"actual\", \"actors\", \"becomes\", \"funny\", \"make\", \"even\", \"mother\", \"good\", \"fun\", \"really\", \"seat\", \"phenomenal\", \"edge\", \"super\", \"cube\", \"ass\", \"goodit\", \"editing\", \"production\", \"offthe\", \"saying\", \"crazy\", \"value\", \"humour\", \"unrelated\", \"betterthe\", \"ice\", \"together\", \"thin\", \"third\", \"riotous\", \"especially\", \"chemistrythe\", \"breaks\", \"alden\", \"chore\", \"concept\", \"thati\", \"central\", \"wears\", \"actually\", \"key\", \"great\", \"effort\", \"film\", \"hit\", \"opinion\", \"cocaine\", \"bear\", \"quite\", \"think\", \"fun\", \"come\", \"expecting\", \"laughing\", \"little\", \"much\", \"good\", \"films\", \"promised\", \"movie\", \"right\", \"make\", \"bit\", \"funny\", \"go\", \"horror\", \"like\", \"could\", \"characters\", \"give\", \"time\", \"cast\", \"get\", \"expect\", \"lot\", \"really\"], \"Freq\": [52.0, 33.0, 22.0, 45.0, 15.0, 15.0, 6.0, 10.0, 15.0, 14.0, 12.0, 10.0, 10.0, 6.0, 6.0, 9.0, 11.0, 11.0, 13.0, 4.0, 6.0, 8.0, 9.0, 6.0, 8.0, 7.0, 6.0, 6.0, 6.0, 5.0, 3.7088654441357467, 2.4811565794581734, 3.6297766774061317, 1.9310981153033455, 1.347296983230426, 1.3313189851331289, 1.3288472822530635, 1.3254277677051653, 1.3249825311324108, 1.3201845345177314, 1.3189773944376286, 1.31759529187678, 1.3167514641664646, 1.3144056366033938, 1.3130651276255523, 1.3130069471278643, 1.3112028465143215, 1.3032018914154968, 1.299699610689267, 2.457378016398806, 1.8084098434583544, 2.4132056312454147, 1.1078228552407552, 1.1021624232602047, 1.732098921851342, 1.083512163751015, 1.0643596659368932, 1.0475631835877526, 1.0533415763168714, 1.0531756229725258, 2.9817388872434676, 4.613256105630335, 2.9821383203563925, 1.5150711834993058, 2.534258955327594, 2.2325840656795712, 7.561347636566974, 2.4400978192027525, 21.529450175307254, 3.0898165289831314, 12.783155582085463, 4.868364537373509, 9.087953377374895, 3.021327895302594, 12.82508595523823, 3.4118646965262833, 4.555903438120851, 4.282617431838126, 2.0830253288416465, 5.601694431961377, 4.520985372593899, 2.5638005029669095, 5.3495713080706215, 4.3406625398873855, 4.544290240313192, 5.001974240066676, 3.486290603687223, 3.4624414830923094, 2.8718203505668316, 4.072410535914012, 2.7975512192187644, 2.7479152559250455, 2.5836244761342306, 2.6024422887409586, 2.6051830869475223, 0.8801198615040251, 0.8672072257835007, 0.8638840328058225, 0.8396311752969688, 0.8589978271832727, 0.849766800415075, 0.8413511570219098, 0.8405316889496266, 0.8199007260094797, 0.8065614663538637, 0.8108159054682778, 0.8136745451792491, 0.8094840348186345, 0.8076730875342811, 0.7977898059352291, 1.2571279516362408, 1.326309237081533, 0.7960696297008952, 0.7629696421289621, 0.8041474751150594, 0.7897660341322909, 0.782757147505035, 0.7699324948665652, 0.7746393628288623, 0.7716632394445799, 0.7661774910366513, 0.7619421786792057, 0.780551605498954, 0.7572846512662407, 0.7559359231358795, 1.599609846491324, 1.1560184680383028, 1.4482913939585271, 2.7784271494900965, 16.095786084849088, 1.7238445518110164, 13.42988495326374, 2.891828719008747, 3.04118029256055, 1.0905616484482392, 9.31318857314154, 2.045163695045767, 3.6252559503618977, 2.421192754567058, 2.4165450174602023, 2.8592961153359, 2.025545218332123, 1.5866308830678213, 1.527452178315892, 4.72815403287243, 2.569439255421338, 2.3663224328678405, 2.822057421738328, 1.3186272831183827, 2.885165605245601, 3.197365110757821, 1.5629663516360226, 2.087422676074061, 2.604278740493966, 2.645035460644437, 1.883447418733236, 2.3991024524884548, 2.229552245540455, 1.6786843983511706, 1.7054722319412117, 1.6156909753857076, 1.7421638354530236, 1.756929951178482, 1.6356696834950002, 1.64788331729391, 1.1767934223296097, 0.6708979005715506, 0.6659147692796206, 0.6598115674992688, 0.6631274958533876, 0.645176606191353, 0.6437440363064065, 0.6401283764781643, 0.6326942087023995, 0.6378364894496162, 0.626275944949548, 0.622967884153247, 0.6173606532177323, 0.6149377151546754, 0.6187036228585018, 0.6119869313982511, 0.6132373785590828, 0.6097079471645243, 0.6099314307640243, 0.6051497988671776, 1.0255286087005941, 0.5926700988266188, 0.5935142203442637, 0.5912568156976944, 0.5944231255808544, 0.5871647864829501, 0.5868743612057885, 0.5841105555805894, 0.5798438216248156, 0.5602875455506814, 1.229145141113962, 0.901653686071258, 1.3704490870559067, 3.3920917086923614, 10.739990049558058, 1.746952639940444, 1.3948379768015475, 1.4647393847566974, 0.8734816249520649, 3.3502578806885834, 2.5154878771383897, 0.8850534987353909, 1.013209901371725, 1.0836815499175125, 3.189674461835273, 3.0962528324325187, 1.3141182722296014, 4.949365352244906, 1.2403543879180952, 2.3874736300324555, 1.7006529163744177, 5.55347582424561, 1.03365817867251, 1.1046309232150844, 2.386977839017512, 1.4465845679960243, 2.8700939036146216, 1.9931388642796612, 1.536801269046101, 1.7941389248788584, 1.5483319617839346, 1.7709076001543258, 1.6863886294334056, 1.4753753338620126, 1.2260039624583456, 1.1729897503482578, 1.2144248954793007, 1.1999010240877728, 0.7610240833236872, 0.4196519818079881, 0.41752030602423035, 0.4174718311750852, 0.41540400217065676, 0.41564078316455805, 0.4151210292875387, 0.41385874269382594, 0.4128349873632928, 0.4130750405997581, 0.4113520526925058, 0.40953017457102414, 0.4127060001273415, 0.4086544311425119, 0.41039686225848726, 0.40682018698808503, 0.40711092193495946, 0.40511181002437413, 0.4066858347963021, 0.4064411395413159, 0.40265618222678456, 0.4027597525088671, 0.40295277677080843, 0.40175623942303196, 0.40288984317545046, 0.398701753186906, 0.3978759685314923, 0.39096997669892386, 0.389949569709619, 0.3898821462930686, 1.2107263242244595, 1.127506651337887, 0.7780959054705044, 0.7722003897515526, 1.3358536076276384, 0.7814240044540423, 1.5863352528482018, 0.7860138192913108, 1.7509013539014773, 3.71704899729215, 1.9268630777330675, 3.086080270771626, 0.9396413461439256, 1.6221007118749309, 0.9793087641815137, 1.2962762143098912, 2.0984002730262015, 1.1080388627462743, 1.4936788889991608, 0.9431664645692794, 0.7277115125426336, 0.6166777778624206, 0.8133078228132748, 0.5264326382403631, 0.5905623524034633, 0.5843227565739781, 0.512731454230415, 0.4766697431036513, 0.5651724135604013, 0.6406036545034366, 0.6262758740918227, 0.565093537294877, 0.5804544712220623, 0.6058588688113372, 0.5984440432600733, 0.5196867066621117, 0.3070638453824634, 0.48171122382404824, 0.3066539065682886, 0.30733439334140955, 0.3024964631918815, 0.2875412015754372, 0.30487951490137066, 0.2934296454769491, 0.296558361753601, 0.2913471803464103, 0.28887993306284027, 0.2780975075662255, 0.2807074610651459, 0.2692218877624901, 0.2784614138802483, 0.282733565073615, 0.28096613201969983, 0.28018915369402453, 0.27938905892881905, 0.2801584957210306, 0.2798518795585621, 0.27673134238462815, 0.2773236260054991, 0.27271268872672433, 0.27118995475256424, 0.26551711855655236, 0.26681659399416224, 0.26746044785956424, 0.2642244924343589, 0.5132258713004594, 0.4939582369788416, 0.3662144240205426, 1.2691951970745765, 0.5640428368659157, 1.2068677383567579, 0.9379711930765449, 0.3556278233662838, 0.5623097779029331, 0.988001653210042, 1.9697423034789567, 1.721906382993237, 0.5419045378692102, 1.139514776614831, 0.5211566499020254, 0.5340530000178069, 1.199218656067954, 0.44194788749967134, 0.5694999560588412, 0.484940858205505, 0.5318213618980537, 0.4616540237380512, 0.599583388073464, 0.3897602209027808, 0.40815759140870417, 0.5401926826379954, 0.5064085072118684, 0.6358083243347159, 0.5362486063665665, 0.45921577674741426, 0.44831031860100673, 0.512191879700291, 0.45710083201744095, 0.4517182173459328, 0.6746837689521412, 0.6559555778015629, 0.3862743435983304, 0.3621952315321267, 0.3568353034113945, 0.3647648172622967, 0.35970530026704667, 0.3628378843975548, 0.3558334842355708, 0.34821826094008396, 0.3575431543379868, 0.3530271788978799, 0.3495718098726209, 0.3420097964008964, 0.35207430634909537, 0.3364888925362278, 0.31733858080183874, 0.860409773924537, 0.45757124424310874, 0.3368394042367344, 0.4627859351882584, 0.40641775579043277, 0.36651282408111013, 0.4390503790805393, 0.42925259138747657, 0.6302194605368235, 0.1891811656459353, 0.3930831175227112, 0.19536337786845942, 0.18769447996460514, 0.3132365842014248, 1.0221070558927499, 0.47299334236195884, 1.8533588080188594, 1.2872897520920963, 1.9744610332743744, 1.481230328121851, 0.8951263631677056, 0.9427137035885427, 0.586312701323025, 0.6657767008872153, 0.5525947899528315, 0.547707243261488, 0.5226324343546043, 0.7292741632623129, 0.5330533860137894, 0.4362247130599855, 0.4999980972199902, 0.46880890258882396, 0.5003722007459721, 0.5234329216611201, 0.4209617636007619, 0.5084625300702572, 0.49310482865980376, 0.489655742240242, 0.45335535938737703, 0.4458858540791333, 0.542720249261934, 0.3028409629874684, 0.3009102514183444, 0.30115098449265354, 0.2995772678897938, 0.3010499840208819, 0.30187896951865495, 0.29853043053137707, 0.29781093862762364, 0.2976347008826732, 0.2964688724799081, 0.29525153951317645, 0.2917017855782445, 0.28957140922002583, 0.28702980417918306, 0.28578858567070514, 0.2884913417020682, 0.28648078605052546, 0.28621317628344695, 0.2784635188138389, 0.2769804319036562, 0.5664274572742045, 0.3477633572118484, 0.315966548507859, 0.3932909901041883, 0.6433464123245451, 0.3231318180337921, 0.6888842194970073, 0.36226616036278037, 0.3972680419710361, 0.6517154345549008, 0.628519560535041, 0.5562647487580882, 0.6438231188313897, 0.5528972803698103, 0.9791037259941775, 0.659107114563383, 0.5302047057177154, 0.6692832723424935, 0.5988439800704478, 0.5358247509917748, 0.44496096253900985, 0.4280206988025638, 0.6636610000800811, 0.3832585385734999, 0.4269881185362498, 0.48593309425643477, 0.3348373491476759, 0.33738866997103883, 0.3829083774048285, 0.37755247041600326, 0.3774970577058095, 0.35963080347892257, 0.3388248591264949, 0.1938907499974889, 0.18915653866486062, 0.19052167396187986, 0.18901996613710237, 0.17902808720316532, 0.17435773728018936, 0.17549641571331798, 0.17428419700021025, 0.17381147905999753, 0.17042401795439371, 0.21373586243292184, 0.17167578131068187, 0.1682677187216147, 0.16700833345426191, 0.16452923512610187, 0.15645053559648725, 0.2475219764044231, 0.1525083492523332, 0.1502256506701625, 0.31549676243683433, 0.19855819785390885, 0.21245298956097033, 0.1947607162020381, 0.2012965527762104, 0.1870661418555755, 0.176071678653649, 0.18794347484445914, 0.18226436977570712, 0.17837290581460025, 0.1767029897475201, 0.3775779934383428, 0.3495651103536154, 0.24238598830799737, 1.100375746870754, 0.5691476163899252, 0.46155177672137254, 0.518911664344707, 0.47628502648180393, 0.7621033428666647, 0.30509661695290047, 0.30082675221465033, 0.22588954176975776, 0.35433062254695463, 0.2791117681373458, 0.2819200437291418, 0.2994823938007215, 0.276826789360024, 0.24633490361966037, 0.2258070879996424, 0.3686431683292921, 0.32654818268127717, 0.26581507321296793, 0.2514476751836382, 0.23894581164176673, 0.209208511042221, 0.2266080105328322, 0.12072654971244821, 0.13805518577551554, 0.11971934835483773, 0.11890287252993476, 0.1192736963562583, 0.1325497986548941, 0.29613733998282865, 0.11559065005874364, 0.1319344528752224, 0.13142862493073929, 0.11438162661263769, 0.11236361254521046, 0.12980456643460425, 0.11240542945831233, 0.11120764574935932, 0.11163316485711493, 0.12723124730656427, 0.1276577766383952, 0.12640183743168915, 0.10896168694884342, 0.10889210080545078, 0.12410752310240279, 0.10790706074133502, 0.12449322188164634, 0.10699754089273936, 0.45076825056805064, 0.10641050525073732, 0.12307652977464056, 0.12183241098506774, 0.12213655206790013, 0.3020187213679543, 0.30567210525935207, 0.2535852223897402, 0.24720787666527622, 0.23041325936655752, 0.24496941102286227, 0.16279033930566536, 0.24573972676659153, 1.1790678681896085, 0.22502696732353952, 0.46237777745966513, 0.3553105072421681, 0.310510521763697, 0.6146490273315164, 0.9397083985019028, 0.45343244213574746, 0.21410175190240777, 0.6721808906947578, 0.34969391592805915, 0.3665700034234659, 0.3261128996540965, 0.2048302494290077, 0.20978149284897693, 0.19661152771441154, 0.23052304765543558, 0.1682870719082242, 0.316046676968754, 0.2558457856894866, 0.19538735886169614, 0.1917960043194269, 0.26155464943882134, 0.25270203200326496, 0.22887993012871427, 0.006547663609016905, 0.004135891707154032, 0.005934764658922358, 0.003944444086058427, 0.003849258692823827, 0.003771643478673756, 0.003765503162851339, 0.006058842238471307, 0.0035585748935368124, 0.0034701665981392823, 0.004040587816091954, 0.003448210848973709, 0.003369764711950859, 0.006054908800877632, 0.003283453713053261, 0.0036578777986601995, 0.00319336602732892, 0.0031650384313916097, 0.0036245919890143955, 0.0037146204258249977, 0.0036005562003140566, 0.0030870173909440337, 0.0030861847423747377, 0.0034825145319482657, 0.0030296282028176545, 0.0035369596818171966, 0.005375735626524518, 0.003500443368292177, 0.003347547807379096, 0.0032741458812744874, 0.01681958393320792, 0.004505742409375695, 0.00786585817686965, 0.0054173795596327515, 0.036563737966227, 0.007886649368502554, 0.005045553510131668, 0.03676697899731756, 0.047558861460929754, 0.006995129237772553, 0.01140307815124478, 0.01791814622922255, 0.0077107370426822315, 0.006110863935198654, 0.006534532784221523, 0.008191154846423793, 0.012250059205343737, 0.014983111505734276, 0.0059850152157914244, 0.005014876378386905, 0.020477393279239628, 0.007696746821021545, 0.009698118754378263, 0.007784706722940826, 0.010840305507870098, 0.008038250081795956, 0.009088799474091474, 0.00918191805813127, 0.008085780940954742, 0.009573767364315335, 0.007339774991903829, 0.008171753415718986, 0.007436686656887277, 0.007902115060684996, 0.007328932440689559, 0.0072102488132195644, 0.007222106649217812], \"Total\": [52.0, 33.0, 22.0, 45.0, 15.0, 15.0, 6.0, 10.0, 15.0, 14.0, 12.0, 10.0, 10.0, 6.0, 6.0, 9.0, 11.0, 11.0, 13.0, 4.0, 6.0, 8.0, 9.0, 6.0, 8.0, 7.0, 6.0, 6.0, 6.0, 5.0, 4.334137521168486, 3.071656561294259, 4.7918324290782515, 2.571057363749973, 1.8260921286532044, 1.823219543978799, 1.8227713298220627, 1.822133623373215, 1.8220544305558923, 1.8211648447910869, 1.820924600685009, 1.8207484172021942, 1.8205854286483076, 1.8201652803453494, 1.8198878410604118, 1.819889515059611, 1.819550017048718, 1.818086229529391, 1.8174872145885335, 3.477811674937375, 2.562120429929348, 3.524302053300562, 1.6238991024735894, 1.6240896339876256, 2.5620805279425123, 1.6100882422626712, 1.5905466920703566, 1.5756012393113668, 1.5867414414890781, 1.5867031274041234, 4.502384833312029, 7.000962868081899, 4.516154256490554, 2.2917629627972564, 4.060689737837392, 3.5510226780688434, 14.450648334536286, 4.002754911291611, 52.93747002075058, 5.316500871286242, 33.565810802789365, 9.800899490104287, 22.25372895188955, 5.534971837130693, 45.949044604203756, 7.009676906603439, 10.987254161651041, 10.089331312451227, 3.549013958696191, 15.552558859817255, 11.373692806290007, 4.911901331809259, 15.081746974857122, 11.339873590669386, 12.23847635096864, 15.005418294728681, 8.354245184889251, 8.824590828989612, 6.111761628921336, 13.424744234624564, 7.2958551359233255, 6.693857012494842, 5.142407051625633, 6.472238574405232, 6.947611741051662, 1.4174960582771925, 1.4174938183011314, 1.4148109422942314, 1.3784794933835898, 1.4108238622616984, 1.3963210074360655, 1.386945278947958, 1.3959217729942837, 1.3622553178240264, 1.3527566685144756, 1.3610825958964214, 1.3703572227402563, 1.3686620150645383, 1.3680775509707173, 1.3546714986468782, 2.1366886777282166, 2.2624482618257686, 1.3591600401460993, 1.30697042278451, 1.3806894112420096, 1.3579213603102926, 1.354077037470355, 1.3353736684785527, 1.3437685745747343, 1.3412662948187453, 1.3350523380659411, 1.334910290698832, 1.3692408091144403, 1.332243405788769, 1.3304453089868358, 2.822488756076671, 2.0803408453866554, 2.7966657262679515, 6.070046824529368, 52.93747002075058, 3.562346322190711, 45.949044604203756, 6.8999592982995175, 7.5972959604807215, 2.0686277430455227, 33.565810802789365, 4.817243746693357, 10.733816154037529, 6.535965253371727, 6.7871317865108445, 8.824590828989612, 5.351337471962586, 3.8091840582728738, 3.6000190802677716, 22.25372895188955, 8.354245184889251, 7.427985100202852, 10.089331312451227, 2.9440784347949336, 11.373692806290007, 15.081746974857122, 4.188423471312955, 7.2958551359233255, 13.424744234624564, 14.450648334536286, 7.009676906603439, 15.005418294728681, 12.23847635096864, 5.634155835751257, 6.427018836946688, 5.08157400299155, 9.207267692416501, 15.552558859817255, 6.143401943134585, 11.339873590669386, 2.0876220079907273, 1.254503164837963, 1.2538333389405165, 1.2488503855380522, 1.2588507880839026, 1.241817882709133, 1.2413805038897388, 1.2376520983861088, 1.2283039332028127, 1.2383114347081965, 1.2237321029797266, 1.2278588188094297, 1.2210048209621158, 1.2194412307008826, 1.2274175917057235, 1.2164202850135404, 1.219754108523677, 1.2133983333682943, 1.2195178052875344, 1.2129536972642776, 2.0763789113768363, 1.2036873964522345, 1.2071100954432648, 1.2052517961688198, 1.2128928591525203, 1.199002872582324, 1.200514324132961, 1.196704215490348, 1.197446702718678, 1.1832381239180987, 2.605446112287669, 2.023228621067985, 3.3367872380445474, 10.733816154037529, 45.949044604203756, 4.718993742113243, 3.739562369316165, 4.056088546474571, 2.035098907028391, 13.424744234624564, 9.207267692416501, 2.07317280024281, 2.5959214516208884, 2.8992802385581973, 15.552558859817255, 15.081746974857122, 3.977865751310811, 33.565810802789365, 3.7539202428782246, 11.339873590669386, 6.535965253371727, 52.93747002075058, 2.8608247574505667, 3.3552383195828757, 15.005418294728681, 5.687326630123933, 22.25372895188955, 10.987254161651041, 6.693857012494842, 9.800899490104287, 7.5972959604807215, 12.23847635096864, 14.450648334536286, 11.373692806290007, 5.504581767606971, 4.493988403442759, 6.460861642646719, 6.622799513753529, 1.3308208370335768, 0.9630889505683955, 0.9595949239563166, 0.9610059341024448, 0.9574393064752404, 0.9591658421364806, 0.960219150305615, 0.9573712846691886, 0.9556326950073976, 0.9579278865880079, 0.95682276194153, 0.9528526749049585, 0.9618022025969445, 0.9530537832373298, 0.9583340065359771, 0.9517214583315765, 0.9537560017164445, 0.9511912953542184, 0.9562998181024466, 0.9560818426456499, 0.9480574464105931, 0.9498129564647735, 0.9516447722423096, 0.9491571980190591, 0.9559335479103223, 0.9479170554201719, 0.948118929928484, 0.9432587866744762, 0.9410995993680313, 0.9414249109986398, 3.0741394435869176, 3.0883976392861787, 2.040104167777356, 2.083373672836381, 4.08126090492598, 2.1888641859899716, 6.947611741051662, 2.9427957100800097, 12.23847635096864, 45.949044604203756, 15.552558859817255, 52.93747002075058, 4.999622377875093, 15.005418294728681, 6.111761628921336, 11.373692806290007, 33.565810802789365, 10.089331312451227, 22.25372895188955, 9.207267692416501, 6.427018836946688, 3.676310028793346, 11.339873590669386, 2.306350950588292, 3.5768467832829662, 3.466505417505033, 2.3131422359500964, 1.7115549295216865, 3.7539202428782246, 6.8999592982995175, 7.2958551359233255, 4.154727304158418, 5.687326630123933, 13.424744234624564, 15.081746974857122, 1.9041014667271337, 1.2112798058031629, 1.9146875561833698, 1.2419429224332958, 1.252849065332681, 1.2385280131413785, 1.1875691259813195, 1.2632570785288706, 1.236444256484321, 1.2574561028638522, 1.2489077090030722, 1.239097604835896, 1.2082392502113357, 1.2229509348538095, 1.1745650672539383, 1.2341811078353204, 1.2537091889160399, 1.2498954569537835, 1.2465902812525498, 1.245835497719403, 1.2547535830348204, 1.2557394473935133, 1.2440402768296688, 1.2478020762722402, 1.2370433266150476, 1.2474685024866994, 1.239326924449982, 1.2471023068211182, 1.2543086268932766, 1.2406487285158543, 2.630038792959979, 2.6683356058450287, 1.9019705264775668, 10.987254161651041, 3.6920321700061147, 15.081746974857122, 10.733816154037529, 1.9403628140330011, 4.493988403442759, 13.424744234624564, 52.93747002075058, 45.949044604203756, 4.700026463187392, 22.25372895188955, 4.7053812030400355, 5.08157400299155, 33.565810802789365, 3.4651011455277247, 6.460861642646719, 4.463219764858305, 5.634155835751257, 3.993921661783442, 9.207267692416501, 2.722978221369999, 3.2210547281534523, 8.354245184889251, 6.693857012494842, 15.552558859817255, 11.339873590669386, 6.070046824529368, 6.111761628921336, 15.005418294728681, 9.800899490104287, 14.450648334536286, 1.2958774428091984, 1.2690373278311187, 0.9495681120375982, 0.9310069393796552, 0.9183296071312137, 0.9423228363329257, 0.9346331036613231, 0.943161450399462, 0.9266185295149414, 0.9173602099759857, 0.9477969446274076, 0.9371179647604343, 0.9301195244055906, 0.9131906966751424, 0.9447656679258717, 0.9086655169689818, 0.8984102909697508, 2.8471428335345332, 1.6232261479779424, 1.5463761660344066, 2.1826165825087385, 1.9775596498920958, 1.9386391033609378, 2.3627483527379662, 2.3101491130189022, 3.466505417505033, 1.0741435933913601, 2.232132673892979, 1.1146542225154457, 1.071613950962794, 1.809275624379718, 6.143401943134585, 2.9353473699674955, 15.005418294728681, 22.25372895188955, 52.93747002075058, 33.565810802789365, 13.424744234624564, 15.552558859817255, 6.472238574405232, 14.450648334536286, 6.947611741051662, 6.8999592982995175, 6.460861642646719, 45.949044604203756, 9.207267692416501, 2.9669739982911905, 7.009676906603439, 4.7053812030400355, 7.427985100202852, 10.987254161651041, 2.6503011792135505, 15.081746974857122, 12.23847635096864, 11.339873590669386, 5.762493418970416, 4.7174768844624175, 1.3658996059806836, 0.9305101679695518, 0.9320365912119681, 0.9346585201386942, 0.9301698075870238, 0.9354672344097809, 0.9381879411553078, 0.9335660317398159, 0.9367926923524602, 0.9410636159370168, 0.9398700628859078, 0.9444528940072072, 0.95014138420144, 0.9553323698739147, 0.9599638256713028, 0.9577377997516536, 0.9684760029324946, 0.9633850391826345, 0.9670959157946319, 0.9761898465428381, 0.9756992086502826, 2.0541413206770165, 1.670100515586729, 1.5977546776160296, 2.0876492868304055, 3.5847314893861078, 1.9775596498920958, 4.233025637538896, 2.279933748119869, 2.6503011792135505, 4.7174768844624175, 6.622799513753529, 5.351337471962586, 8.824590828989612, 6.7871317865108445, 52.93747002075058, 15.552558859817255, 8.354245184889251, 22.25372895188955, 15.005418294728681, 10.089331312451227, 5.03325630467076, 4.369113874987675, 33.565810802789365, 3.9616380384014898, 11.339873590669386, 45.949044604203756, 2.422525476482736, 2.9225278658309897, 12.23847635096864, 11.373692806290007, 14.450648334536286, 10.733816154037529, 3.579566703410001, 1.1651665562198705, 1.1667013570987392, 1.181466120110708, 1.1838996059997813, 1.2006933865259632, 1.205016812789708, 1.2145072821241876, 1.206276574187889, 1.218388384839141, 1.2055686522083344, 1.5238097279403642, 1.2303363641198661, 1.2212039531666967, 1.2269277371379386, 1.20940205159192, 1.2390562863510146, 1.9648090570251466, 1.2574454686575016, 1.26206947524588, 2.683402175087916, 1.7113642174779125, 1.9882238764441085, 1.996932449031974, 2.07317280024281, 1.9514978450780789, 1.9049397977175881, 2.044343599626106, 2.0264114446711314, 2.04129975616802, 2.0252165880188504, 4.493988403442759, 4.911901331809259, 3.1150061934972935, 45.949044604203756, 15.552558859817255, 11.339873590669386, 15.081746974857122, 13.424744234624564, 52.93747002075058, 6.427018836946688, 6.472238574405232, 3.0321490969346296, 15.005418294728681, 6.622799513753529, 6.947611741051662, 9.207267692416501, 7.427985100202852, 4.7174768844624175, 3.3552383195828757, 33.565810802789365, 22.25372895188955, 10.733816154037529, 14.450648334536286, 9.800899490104287, 2.8471428335345332, 12.23847635096864, 1.1816548087002077, 1.3541678012869107, 1.1802591119009538, 1.1792523700962914, 1.1832381239180987, 1.3604357411470238, 3.0637560722607518, 1.196704215490348, 1.3681816808015814, 1.3754249524500104, 1.199002872582324, 1.197446702718678, 1.3861066225958976, 1.200514324132961, 1.1901345617917367, 1.2036873964522345, 1.3923818275829487, 1.3974159616122765, 1.3885564960575048, 1.2052517961688198, 1.2133983333682943, 1.3876854885541237, 1.2071100954432648, 1.399977913265421, 1.2129536972642776, 5.142407051625633, 1.2164202850135404, 1.409614278894925, 1.3955469857761957, 1.3994360170118358, 3.6377794843213183, 4.002754911291611, 3.335084194854169, 3.4089054368257496, 3.144334205481654, 3.477811674937375, 2.070582701371123, 3.784934030605341, 45.949044604203756, 3.6075225025793345, 12.23847635096864, 8.354245184889251, 6.693857012494842, 22.25372895188955, 52.93747002075058, 14.450648334536286, 3.676310028793346, 33.565810802789365, 9.800899490104287, 10.987254161651041, 8.824590828989612, 3.540412172276225, 4.005553043914926, 3.539312063570909, 5.534971837130693, 2.5783790479753925, 15.081746974857122, 9.207267692416501, 4.060689737837392, 4.056088546474571, 15.005418294728681, 15.552558859817255, 11.339873590669386, 1.2690373278311187, 0.8984102909697508, 1.2958774428091984, 0.9086655169689818, 0.9131906966751424, 0.9183296071312137, 0.9173602099759857, 1.5463761660344066, 0.9266185295149414, 0.9310069393796552, 1.0870385960692608, 0.9301195244055906, 0.9346331036613231, 1.6935122328798842, 0.9371179647604343, 1.071613950962794, 0.9423228363329257, 0.943161450399462, 1.0842367362710432, 1.1177143877897606, 1.0970538162514483, 0.9447656679258717, 0.9495681120375982, 1.0741435933913601, 0.9477969446274076, 1.1146542225154457, 1.7640893539260585, 1.159513139458071, 1.1108637707180533, 1.0916381491506484, 6.143401943134585, 1.5395760516262684, 2.8471428335345332, 1.925470651536076, 22.25372895188955, 3.178776635255243, 1.809275624379718, 33.565810802789365, 52.93747002075058, 3.174849068931417, 6.8999592982995175, 15.552558859817255, 3.977865751310811, 2.722978221369999, 3.1150061934972935, 4.7174768844624175, 10.089331312451227, 15.005418294728681, 2.6983326494559554, 1.9364746602052716, 45.949044604203756, 5.08157400299155, 9.207267692416501, 6.117574763843649, 15.081746974857122, 6.693857012494842, 10.733816154037529, 11.373692806290007, 7.5972959604807215, 14.450648334536286, 6.111761628921336, 10.987254161651041, 7.2958551359233255, 12.23847635096864, 7.009676906603439, 6.622799513753529, 11.339873590669386], \"Category\": [\"Default\", \"Default\", \"Default\", \"Default\", \"Default\", \"Default\", \"Default\", \"Default\", \"Default\", \"Default\", \"Default\", \"Default\", \"Default\", \"Default\", \"Default\", \"Default\", \"Default\", \"Default\", \"Default\", \"Default\", \"Default\", \"Default\", \"Default\", \"Default\", \"Default\", \"Default\", \"Default\", \"Default\", \"Default\", \"Default\", \"Topic1\", \"Topic1\", \"Topic1\", \"Topic1\", \"Topic1\", \"Topic1\", \"Topic1\", \"Topic1\", \"Topic1\", \"Topic1\", \"Topic1\", \"Topic1\", \"Topic1\", \"Topic1\", \"Topic1\", \"Topic1\", \"Topic1\", \"Topic1\", \"Topic1\", \"Topic1\", \"Topic1\", \"Topic1\", \"Topic1\", \"Topic1\", \"Topic1\", \"Topic1\", \"Topic1\", \"Topic1\", \"Topic1\", \"Topic1\", \"Topic1\", \"Topic1\", \"Topic1\", \"Topic1\", \"Topic1\", \"Topic1\", \"Topic1\", \"Topic1\", \"Topic1\", \"Topic1\", \"Topic1\", \"Topic1\", \"Topic1\", \"Topic1\", \"Topic1\", \"Topic1\", \"Topic1\", \"Topic1\", \"Topic1\", \"Topic1\", \"Topic1\", \"Topic1\", \"Topic1\", \"Topic1\", \"Topic1\", \"Topic1\", \"Topic1\", \"Topic1\", \"Topic1\", \"Topic1\", \"Topic1\", \"Topic1\", \"Topic1\", \"Topic1\", \"Topic1\", \"Topic2\", \"Topic2\", \"Topic2\", \"Topic2\", \"Topic2\", \"Topic2\", \"Topic2\", \"Topic2\", \"Topic2\", \"Topic2\", \"Topic2\", \"Topic2\", \"Topic2\", \"Topic2\", \"Topic2\", \"Topic2\", \"Topic2\", \"Topic2\", \"Topic2\", \"Topic2\", \"Topic2\", \"Topic2\", \"Topic2\", \"Topic2\", \"Topic2\", \"Topic2\", \"Topic2\", \"Topic2\", \"Topic2\", \"Topic2\", \"Topic2\", \"Topic2\", \"Topic2\", \"Topic2\", \"Topic2\", \"Topic2\", \"Topic2\", \"Topic2\", \"Topic2\", \"Topic2\", \"Topic2\", \"Topic2\", \"Topic2\", \"Topic2\", \"Topic2\", \"Topic2\", \"Topic2\", \"Topic2\", \"Topic2\", \"Topic2\", \"Topic2\", \"Topic2\", \"Topic2\", \"Topic2\", \"Topic2\", \"Topic2\", \"Topic2\", \"Topic2\", \"Topic2\", \"Topic2\", \"Topic2\", \"Topic2\", \"Topic2\", \"Topic2\", \"Topic2\", \"Topic2\", \"Topic2\", \"Topic2\", \"Topic2\", \"Topic2\", \"Topic3\", \"Topic3\", \"Topic3\", \"Topic3\", \"Topic3\", \"Topic3\", \"Topic3\", \"Topic3\", \"Topic3\", \"Topic3\", \"Topic3\", \"Topic3\", \"Topic3\", \"Topic3\", \"Topic3\", \"Topic3\", \"Topic3\", \"Topic3\", \"Topic3\", \"Topic3\", \"Topic3\", \"Topic3\", \"Topic3\", \"Topic3\", \"Topic3\", \"Topic3\", \"Topic3\", \"Topic3\", \"Topic3\", \"Topic3\", \"Topic3\", \"Topic3\", \"Topic3\", \"Topic3\", \"Topic3\", \"Topic3\", \"Topic3\", \"Topic3\", \"Topic3\", \"Topic3\", \"Topic3\", \"Topic3\", \"Topic3\", \"Topic3\", \"Topic3\", \"Topic3\", \"Topic3\", \"Topic3\", \"Topic3\", \"Topic3\", \"Topic3\", \"Topic3\", \"Topic3\", \"Topic3\", \"Topic3\", \"Topic3\", \"Topic3\", \"Topic3\", \"Topic3\", \"Topic3\", \"Topic3\", \"Topic3\", \"Topic3\", \"Topic3\", \"Topic3\", \"Topic3\", \"Topic3\", \"Topic3\", \"Topic4\", \"Topic4\", \"Topic4\", \"Topic4\", \"Topic4\", \"Topic4\", \"Topic4\", \"Topic4\", \"Topic4\", \"Topic4\", \"Topic4\", \"Topic4\", \"Topic4\", \"Topic4\", \"Topic4\", \"Topic4\", \"Topic4\", \"Topic4\", \"Topic4\", \"Topic4\", \"Topic4\", \"Topic4\", \"Topic4\", \"Topic4\", \"Topic4\", \"Topic4\", \"Topic4\", \"Topic4\", \"Topic4\", \"Topic4\", \"Topic4\", \"Topic4\", \"Topic4\", \"Topic4\", \"Topic4\", \"Topic4\", \"Topic4\", \"Topic4\", \"Topic4\", \"Topic4\", \"Topic4\", \"Topic4\", \"Topic4\", \"Topic4\", \"Topic4\", \"Topic4\", \"Topic4\", \"Topic4\", \"Topic4\", \"Topic4\", \"Topic4\", \"Topic4\", \"Topic4\", \"Topic4\", \"Topic4\", \"Topic4\", \"Topic4\", \"Topic4\", \"Topic4\", \"Topic4\", \"Topic4\", \"Topic4\", \"Topic4\", \"Topic4\", \"Topic4\", \"Topic5\", \"Topic5\", \"Topic5\", \"Topic5\", \"Topic5\", \"Topic5\", \"Topic5\", \"Topic5\", \"Topic5\", \"Topic5\", \"Topic5\", \"Topic5\", \"Topic5\", \"Topic5\", \"Topic5\", \"Topic5\", \"Topic5\", \"Topic5\", \"Topic5\", \"Topic5\", \"Topic5\", \"Topic5\", \"Topic5\", \"Topic5\", \"Topic5\", \"Topic5\", \"Topic5\", \"Topic5\", \"Topic5\", \"Topic5\", \"Topic5\", \"Topic5\", \"Topic5\", \"Topic5\", \"Topic5\", \"Topic5\", \"Topic5\", \"Topic5\", \"Topic5\", \"Topic5\", \"Topic5\", \"Topic5\", \"Topic5\", \"Topic5\", \"Topic5\", \"Topic5\", \"Topic5\", \"Topic5\", \"Topic5\", \"Topic5\", \"Topic5\", \"Topic5\", \"Topic5\", \"Topic5\", \"Topic5\", \"Topic5\", \"Topic5\", \"Topic5\", \"Topic5\", \"Topic5\", \"Topic5\", \"Topic5\", \"Topic5\", \"Topic5\", \"Topic6\", \"Topic6\", \"Topic6\", \"Topic6\", \"Topic6\", \"Topic6\", \"Topic6\", \"Topic6\", \"Topic6\", \"Topic6\", \"Topic6\", \"Topic6\", \"Topic6\", \"Topic6\", \"Topic6\", \"Topic6\", \"Topic6\", \"Topic6\", \"Topic6\", \"Topic6\", \"Topic6\", \"Topic6\", \"Topic6\", \"Topic6\", \"Topic6\", \"Topic6\", \"Topic6\", \"Topic6\", \"Topic6\", \"Topic6\", \"Topic6\", \"Topic6\", \"Topic6\", \"Topic6\", \"Topic6\", \"Topic6\", \"Topic6\", \"Topic6\", \"Topic6\", \"Topic6\", \"Topic6\", \"Topic6\", \"Topic6\", \"Topic6\", \"Topic6\", \"Topic6\", \"Topic6\", \"Topic6\", \"Topic6\", \"Topic6\", \"Topic6\", \"Topic6\", \"Topic6\", \"Topic6\", \"Topic6\", \"Topic6\", \"Topic6\", \"Topic7\", \"Topic7\", \"Topic7\", \"Topic7\", \"Topic7\", \"Topic7\", \"Topic7\", \"Topic7\", \"Topic7\", \"Topic7\", \"Topic7\", \"Topic7\", \"Topic7\", \"Topic7\", \"Topic7\", \"Topic7\", \"Topic7\", \"Topic7\", \"Topic7\", \"Topic7\", \"Topic7\", \"Topic7\", \"Topic7\", \"Topic7\", \"Topic7\", \"Topic7\", \"Topic7\", \"Topic7\", \"Topic7\", \"Topic7\", \"Topic7\", \"Topic7\", \"Topic7\", \"Topic7\", \"Topic7\", \"Topic7\", \"Topic7\", \"Topic7\", \"Topic7\", \"Topic7\", \"Topic7\", \"Topic7\", \"Topic7\", \"Topic7\", \"Topic7\", \"Topic7\", \"Topic7\", \"Topic7\", \"Topic7\", \"Topic7\", \"Topic7\", \"Topic7\", \"Topic7\", \"Topic7\", \"Topic8\", \"Topic8\", \"Topic8\", \"Topic8\", \"Topic8\", \"Topic8\", \"Topic8\", \"Topic8\", \"Topic8\", \"Topic8\", \"Topic8\", \"Topic8\", \"Topic8\", \"Topic8\", \"Topic8\", \"Topic8\", \"Topic8\", \"Topic8\", \"Topic8\", \"Topic8\", \"Topic8\", \"Topic8\", \"Topic8\", \"Topic8\", \"Topic8\", \"Topic8\", \"Topic8\", \"Topic8\", \"Topic8\", \"Topic8\", \"Topic8\", \"Topic8\", \"Topic8\", \"Topic8\", \"Topic8\", \"Topic8\", \"Topic8\", \"Topic8\", \"Topic8\", \"Topic8\", \"Topic8\", \"Topic8\", \"Topic8\", \"Topic8\", \"Topic8\", \"Topic8\", \"Topic8\", \"Topic8\", \"Topic8\", \"Topic8\", \"Topic8\", \"Topic8\", \"Topic8\", \"Topic8\", \"Topic8\", \"Topic8\", \"Topic9\", \"Topic9\", \"Topic9\", \"Topic9\", \"Topic9\", \"Topic9\", \"Topic9\", \"Topic9\", \"Topic9\", \"Topic9\", \"Topic9\", \"Topic9\", \"Topic9\", \"Topic9\", \"Topic9\", \"Topic9\", \"Topic9\", \"Topic9\", \"Topic9\", \"Topic9\", \"Topic9\", \"Topic9\", \"Topic9\", \"Topic9\", \"Topic9\", \"Topic9\", \"Topic9\", \"Topic9\", \"Topic9\", \"Topic9\", \"Topic9\", \"Topic9\", \"Topic9\", \"Topic9\", \"Topic9\", \"Topic9\", \"Topic9\", \"Topic9\", \"Topic9\", \"Topic9\", \"Topic9\", \"Topic9\", \"Topic9\", \"Topic9\", \"Topic9\", \"Topic9\", \"Topic9\", \"Topic9\", \"Topic9\", \"Topic9\", \"Topic9\", \"Topic9\", \"Topic9\", \"Topic9\", \"Topic9\", \"Topic9\", \"Topic9\", \"Topic9\", \"Topic9\", \"Topic9\", \"Topic9\", \"Topic9\", \"Topic9\", \"Topic10\", \"Topic10\", \"Topic10\", \"Topic10\", \"Topic10\", \"Topic10\", \"Topic10\", \"Topic10\", \"Topic10\", \"Topic10\", \"Topic10\", \"Topic10\", \"Topic10\", \"Topic10\", \"Topic10\", \"Topic10\", \"Topic10\", \"Topic10\", \"Topic10\", \"Topic10\", \"Topic10\", \"Topic10\", \"Topic10\", \"Topic10\", \"Topic10\", \"Topic10\", \"Topic10\", \"Topic10\", \"Topic10\", \"Topic10\", \"Topic10\", \"Topic10\", \"Topic10\", \"Topic10\", \"Topic10\", \"Topic10\", \"Topic10\", \"Topic10\", \"Topic10\", \"Topic10\", \"Topic10\", \"Topic10\", \"Topic10\", \"Topic10\", \"Topic10\", \"Topic10\", \"Topic10\", \"Topic10\", \"Topic10\", \"Topic10\", \"Topic10\", \"Topic10\", \"Topic10\", \"Topic10\", \"Topic10\", \"Topic10\", \"Topic10\", \"Topic10\", \"Topic10\", \"Topic10\", \"Topic10\", \"Topic10\", \"Topic10\", \"Topic10\", \"Topic10\", \"Topic10\", \"Topic10\"], \"logprob\": [30.0, 29.0, 28.0, 27.0, 26.0, 25.0, 24.0, 23.0, 22.0, 21.0, 20.0, 19.0, 18.0, 17.0, 16.0, 15.0, 14.0, 13.0, 12.0, 11.0, 10.0, 9.0, 8.0, 7.0, 6.0, 5.0, 4.0, 3.0, 2.0, 1.0, -5.273, -5.675, -5.2946, -5.9257, -6.2857, -6.2976, -6.2994, -6.302, -6.3024, -6.306, -6.3069, -6.3079, -6.3086, -6.3104, -6.3114, -6.3114, -6.3128, -6.3189, -6.3216, -5.6847, -5.9913, -5.7028, -6.4814, -6.4865, -6.0344, -6.5035, -6.5214, -6.5373, -6.5318, -6.5319, -5.4913, -5.0548, -5.4911, -6.1683, -5.6539, -5.7806, -4.5607, -5.6917, -3.5143, -5.4556, -4.0356, -5.001, -4.3768, -5.4781, -4.0324, -5.3565, -5.0673, -5.1292, -5.8499, -4.8607, -5.075, -5.6423, -4.9067, -5.1157, -5.0699, -4.9739, -5.3349, -5.3418, -5.5288, -5.1795, -5.555, -5.5729, -5.6346, -5.6273, -5.6263, -6.4502, -6.4649, -6.4688, -6.4973, -6.4744, -6.4853, -6.4952, -6.4962, -6.521, -6.5374, -6.5322, -6.5287, -6.5338, -6.5361, -6.5484, -6.0936, -6.0401, -6.5505, -6.593, -6.5404, -6.5585, -6.5674, -6.5839, -6.5778, -6.5817, -6.5888, -6.5943, -6.5702, -6.6005, -6.6023, -5.8527, -6.1775, -5.9521, -5.3006, -3.5439, -5.7779, -3.725, -5.2606, -5.2102, -6.2358, -4.091, -5.607, -5.0345, -5.4382, -5.4401, -5.2719, -5.6166, -5.8608, -5.8989, -4.7689, -5.3788, -5.4611, -5.285, -6.0459, -5.2629, -5.1601, -5.8759, -5.5865, -5.3653, -5.3498, -5.6894, -5.4474, -5.5207, -5.8044, -5.7886, -5.8427, -5.7673, -5.7589, -5.8304, -5.823, -5.7935, -6.3554, -6.3629, -6.3721, -6.3671, -6.3945, -6.3968, -6.4024, -6.4141, -6.406, -6.4243, -6.4296, -6.4386, -6.4425, -6.4364, -6.4474, -6.4453, -6.4511, -6.4507, -6.4586, -5.9311, -6.4794, -6.478, -6.4818, -6.4765, -6.4888, -6.4893, -6.494, -6.5013, -6.5356, -5.75, -6.0598, -5.6412, -4.7349, -3.5823, -5.3984, -5.6235, -5.5746, -6.0916, -4.7473, -5.0338, -6.0784, -5.9432, -5.8759, -4.7964, -4.8261, -5.6831, -4.357, -5.7409, -5.0861, -5.4253, -4.2419, -5.9232, -5.8568, -5.0863, -5.5871, -4.902, -5.2666, -5.5266, -5.3718, -5.5191, -5.3848, -5.4337, -5.5674, -5.7525, -5.7968, -5.762, -5.7741, -5.3694, -5.9647, -5.9697, -5.9699, -5.9748, -5.9743, -5.9755, -5.9786, -5.981, -5.9805, -5.9846, -5.9891, -5.9813, -5.9912, -5.987, -5.9957, -5.995, -5.9999, -5.996, -5.9966, -6.006, -6.0057, -6.0053, -6.0082, -6.0054, -6.0159, -6.0179, -6.0355, -6.0381, -6.0382, -4.9051, -4.9763, -5.3472, -5.3548, -4.8068, -5.343, -4.6349, -5.3371, -4.5362, -3.7834, -4.4404, -3.9694, -5.1586, -4.6126, -5.1172, -4.8368, -4.3552, -4.9937, -4.6951, -5.1548, -5.4142, -5.5797, -5.303, -5.738, -5.623, -5.6336, -5.7643, -5.8373, -5.667, -5.5417, -5.5643, -5.6671, -5.6403, -5.5974, -5.6097, -5.7074, -6.2336, -5.7833, -6.2349, -6.2327, -6.2486, -6.2993, -6.2407, -6.279, -6.2684, -6.2861, -6.2947, -6.3327, -6.3233, -6.3651, -6.3314, -6.3162, -6.3224, -6.3252, -6.3281, -6.3253, -6.3264, -6.3376, -6.3355, -6.3522, -6.3578, -6.379, -6.3741, -6.3717, -6.3839, -5.7199, -5.7582, -6.0574, -4.8145, -5.6255, -4.8649, -5.1169, -6.0868, -5.6286, -5.065, -4.375, -4.5095, -5.6656, -4.9223, -5.7046, -5.6802, -4.8712, -5.8695, -5.6159, -5.7766, -5.6844, -5.8258, -5.5644, -5.9951, -5.949, -5.6687, -5.7333, -5.5058, -5.6761, -5.8311, -5.8552, -5.722, -5.8358, -5.8476, -5.3184, -5.3465, -5.8761, -5.9404, -5.9554, -5.9334, -5.9473, -5.9387, -5.9582, -5.9798, -5.9534, -5.9661, -5.9759, -5.9978, -5.9688, -6.0141, -6.0727, -5.0752, -5.7067, -6.013, -5.6954, -5.8252, -5.9286, -5.748, -5.7706, -5.3866, -6.5899, -5.8586, -6.5578, -6.5978, -6.0857, -4.903, -5.6735, -4.3079, -4.6723, -4.2446, -4.532, -5.0357, -4.9839, -5.4588, -5.3317, -5.518, -5.5269, -5.5737, -5.2406, -5.554, -5.7545, -5.618, -5.6824, -5.6173, -5.5722, -5.7901, -5.6012, -5.6319, -5.6389, -5.7159, -5.7326, -5.152, -5.7354, -5.7418, -5.741, -5.7463, -5.7414, -5.7386, -5.7498, -5.7522, -5.7528, -5.7567, -5.7608, -5.7729, -5.7802, -5.789, -5.7934, -5.784, -5.791, -5.7919, -5.8193, -5.8247, -5.1093, -5.5971, -5.693, -5.4741, -4.9819, -5.6706, -4.9136, -5.5563, -5.464, -4.969, -5.0053, -5.1274, -4.9812, -5.1335, -4.562, -4.9577, -5.1754, -4.9424, -5.0536, -5.1648, -5.3506, -5.3895, -4.9509, -5.4999, -5.3919, -5.2626, -5.635, -5.6274, -5.5008, -5.5149, -5.5151, -5.5636, -5.6231, -5.8671, -5.8918, -5.8846, -5.8925, -5.9468, -5.9733, -5.9668, -5.9737, -5.9764, -5.9961, -5.7696, -5.9888, -6.0088, -6.0163, -6.0313, -6.0816, -5.6229, -6.1072, -6.1222, -5.3802, -5.8433, -5.7757, -5.8626, -5.8296, -5.9029, -5.9635, -5.8982, -5.9289, -5.9505, -5.9599, -5.2006, -5.2777, -5.6438, -4.131, -4.7902, -4.9998, -4.8826, -4.9684, -4.4983, -5.4137, -5.4278, -5.7143, -5.2641, -5.5028, -5.4927, -5.4323, -5.511, -5.6277, -5.7147, -5.2245, -5.3458, -5.5516, -5.6071, -5.6581, -5.791, -5.7111, -6.3386, -6.2044, -6.3469, -6.3538, -6.3507, -6.2451, -5.4413, -6.382, -6.2498, -6.2536, -6.3925, -6.4103, -6.2661, -6.41, -6.4207, -6.4169, -6.2861, -6.2827, -6.2926, -6.4411, -6.4417, -6.3109, -6.4508, -6.3078, -6.4593, -5.0211, -6.4648, -6.3193, -6.3294, -6.3269, -5.4216, -5.4096, -5.5964, -5.6219, -5.6922, -5.631, -6.0396, -5.6278, -4.0596, -5.7159, -4.9957, -5.2591, -5.3939, -4.711, -4.2865, -5.0152, -5.7656, -4.6216, -5.275, -5.2279, -5.3448, -5.8099, -5.786, -5.8509, -5.6917, -6.0064, -5.3762, -5.5875, -5.8571, -5.8757, -5.5654, -5.5999, -5.6989, -5.9331, -6.3925, -6.0314, -6.4399, -6.4643, -6.4847, -6.4863, -6.0107, -6.5429, -6.568, -6.4158, -6.5744, -6.5974, -6.0113, -6.6233, -6.5153, -6.6511, -6.6601, -6.5245, -6.4999, -6.5311, -6.685, -6.6853, -6.5645, -6.7038, -6.549, -6.1303, -6.5593, -6.604, -6.6262, -4.9897, -6.3069, -5.7497, -6.1226, -4.2132, -5.747, -6.1937, -4.2076, -3.9502, -5.867, -5.3783, -4.9264, -5.7696, -6.0021, -5.9351, -5.7092, -5.3067, -5.1053, -6.023, -6.1998, -4.7929, -5.7714, -5.5403, -5.7601, -5.4289, -5.728, -5.6052, -5.595, -5.7221, -5.5532, -5.8189, -5.7115, -5.8058, -5.7451, -5.8204, -5.8367, -5.8351], \"loglift\": [30.0, 29.0, 28.0, 27.0, 26.0, 25.0, 24.0, 23.0, 22.0, 21.0, 20.0, 19.0, 18.0, 17.0, 16.0, 15.0, 14.0, 13.0, 12.0, 11.0, 10.0, 9.0, 8.0, 7.0, 6.0, 5.0, 4.0, 3.0, 2.0, 1.0, 1.0256, 0.9679, 0.9036, 0.8952, 0.8773, 0.867, 0.8653, 0.8631, 0.8628, 0.8597, 0.8589, 0.8579, 0.8574, 0.8558, 0.855, 0.8549, 0.8537, 0.8484, 0.8461, 0.8341, 0.833, 0.8027, 0.799, 0.7937, 0.7899, 0.7853, 0.7797, 0.7732, 0.7717, 0.7715, 0.7693, 0.7643, 0.7664, 0.7675, 0.7099, 0.7173, 0.5337, 0.6864, 0.2817, 0.6387, 0.216, 0.4817, 0.2858, 0.576, -0.0947, 0.4614, 0.3011, 0.3245, 0.6485, 0.1602, 0.2588, 0.5312, 0.1449, 0.2211, 0.1907, 0.0828, 0.3075, 0.2458, 0.4261, -0.0115, 0.2228, 0.291, 0.4931, 0.2703, 0.2005, 0.9661, 0.9513, 0.9494, 0.9469, 0.9465, 0.9461, 0.9428, 0.9354, 0.935, 0.9256, 0.9247, 0.9214, 0.9175, 0.9157, 0.9132, 0.9123, 0.9086, 0.9078, 0.9044, 0.9021, 0.9007, 0.8946, 0.892, 0.8918, 0.8899, 0.8874, 0.8819, 0.8807, 0.8778, 0.8774, 0.8748, 0.8551, 0.7846, 0.6612, 0.2521, 0.7168, 0.2126, 0.5731, 0.5271, 0.8025, 0.1606, 0.586, 0.3572, 0.4496, 0.41, 0.3157, 0.4712, 0.5669, 0.5853, -0.1063, 0.2636, 0.2988, 0.1687, 0.6395, 0.071, -0.1085, 0.4569, 0.1913, -0.1973, -0.2554, 0.1285, -0.3906, -0.2601, 0.2318, 0.116, 0.2968, -0.2222, -0.738, 0.1194, -0.4861, 1.2356, 1.183, 1.176, 1.1708, 1.1678, 1.154, 1.1522, 1.1495, 1.1454, 1.1454, 1.139, 1.1303, 1.1269, 1.1242, 1.1238, 1.1219, 1.1212, 1.1206, 1.116, 1.1135, 1.1034, 1.1003, 1.0989, 1.0966, 1.0957, 1.0949, 1.0931, 1.0916, 1.0836, 1.0613, 1.0576, 1.0006, 0.919, 0.6569, 0.3553, 0.8151, 0.8226, 0.7903, 0.963, 0.4208, 0.5113, 0.9576, 0.868, 0.8247, 0.2245, 0.2255, 0.7013, -0.1054, 0.7014, 0.2507, 0.4625, -0.4459, 0.7908, 0.6978, -0.0295, 0.4398, -0.2393, 0.1018, 0.3373, 0.1109, 0.2182, -0.1243, -0.3393, -0.2336, 0.307, 0.4657, 0.1373, 0.1006, 2.1099, 1.8381, 1.8366, 1.8351, 1.8338, 1.8326, 1.8302, 1.8302, 1.8295, 1.8277, 1.8246, 1.8244, 1.8227, 1.822, 1.8207, 1.8189, 1.8175, 1.8153, 1.8138, 1.8134, 1.8125, 1.8109, 1.8094, 1.8091, 1.8048, 1.8028, 1.8005, 1.7881, 1.7878, 1.7873, 1.737, 1.6612, 1.7049, 1.6763, 1.552, 1.6388, 1.1918, 1.3487, 0.7244, 0.1542, 0.5805, -0.1734, 0.9972, 0.4441, 0.8377, 0.497, -0.1035, 0.4599, -0.0324, 0.3903, 0.4905, 0.8835, 0.0338, 1.1915, 0.8677, 0.8884, 1.1622, 1.3905, 0.7754, 0.292, 0.2135, 0.6738, 0.3866, -0.4294, -0.5581, 1.4137, 1.3399, 1.3323, 1.3135, 1.307, 1.3026, 1.2939, 1.2907, 1.2739, 1.2676, 1.2567, 1.2561, 1.2433, 1.2405, 1.2391, 1.2234, 1.2229, 1.2197, 1.2195, 1.2173, 1.2129, 1.211, 1.2092, 1.2083, 1.2002, 1.1862, 1.1716, 1.1702, 1.1669, 1.1656, 1.0782, 1.0255, 1.0648, 0.5539, 0.8334, 0.1868, 0.2748, 1.0155, 0.6338, 0.1031, -0.579, -0.5719, 0.552, -0.2597, 0.5118, 0.4594, -0.6196, 0.6529, 0.2835, 0.4926, 0.3519, 0.5545, -0.0193, 0.7683, 0.6464, -0.0264, 0.1306, -0.4848, -0.3392, 0.1306, 0.0998, -0.6652, -0.3531, -0.7532, 2.1876, 2.1804, 1.9408, 1.8962, 1.895, 1.8912, 1.8854, 1.885, 1.8832, 1.8716, 1.8654, 1.864, 1.8617, 1.8582, 1.8532, 1.8469, 1.7996, 1.6436, 1.574, 1.3162, 1.2893, 1.258, 1.1746, 1.1573, 1.1573, 1.1354, 1.1037, 1.1036, 1.0988, 1.0982, 1.0866, 1.0468, 1.0148, 0.7489, -0.0097, -0.4485, -0.2804, 0.1324, 0.0371, 0.4389, -0.2373, 0.3087, 0.3067, 0.3256, -1.303, -0.0089, 0.9231, 0.1998, 0.534, 0.1426, -0.2038, 1.0004, -0.5496, -0.3713, -0.3021, 0.2978, 0.4813, 2.3013, 2.1017, 2.0937, 2.0917, 2.0913, 2.0905, 2.0903, 2.0841, 2.0783, 2.0731, 2.0705, 2.0615, 2.0434, 2.0306, 2.017, 2.0149, 2.0132, 2.0115, 2.0067, 1.9699, 1.9651, 1.936, 1.6552, 1.6036, 1.555, 1.5065, 1.4127, 1.4087, 1.3847, 1.3265, 1.2448, 0.8694, 0.9604, 0.6064, 0.7167, -0.766, 0.0632, 0.467, -0.2798, 0.0031, 0.2888, 0.7984, 0.9011, -0.6992, 0.8886, -0.0551, -1.3249, 1.2453, 1.0653, -0.2403, -0.1811, -0.4207, -0.1718, 0.8668, 1.7452, 1.7192, 1.7138, 1.7038, 1.6354, 1.6054, 1.6041, 1.6039, 1.5912, 1.5821, 1.5743, 1.5691, 1.5565, 1.5443, 1.5437, 1.4692, 1.4669, 1.4289, 1.4102, 1.3978, 1.3846, 1.3023, 1.2109, 1.2065, 1.1936, 1.1572, 1.1518, 1.13, 1.1011, 1.0996, 1.0618, 0.8958, 0.9851, -0.1934, 0.2307, 0.337, 0.169, 0.1997, -0.7023, 0.4909, 0.4698, 0.9415, -0.2074, 0.3719, 0.334, 0.1128, 0.2489, 0.5862, 0.8399, -0.9729, -0.6832, -0.1598, -0.5127, -0.1755, 0.9278, -0.4506, 1.2597, 1.2575, 1.2525, 1.2465, 1.2462, 1.2122, 1.2042, 1.2035, 1.2019, 1.1928, 1.1911, 1.1746, 1.1726, 1.1724, 1.1704, 1.1629, 1.148, 1.1478, 1.1443, 1.1374, 1.13, 1.1266, 1.1261, 1.1209, 1.1128, 1.1065, 1.1045, 1.1025, 1.1024, 1.1021, 1.0522, 0.9686, 0.9643, 0.9169, 0.9273, 0.8878, 0.9977, 0.8063, -0.122, 0.7663, 0.2649, 0.3833, 0.4701, -0.0484, -0.4905, 0.0792, 0.6976, -0.3699, 0.2076, 0.1405, 0.2428, 0.691, 0.5914, 0.6504, 0.3623, 0.8116, -0.3245, -0.0424, 0.5067, 0.4893, -0.5087, -0.579, -0.3621, 1.5938, 1.4798, 1.4746, 1.421, 1.3916, 1.3656, 1.3651, 1.3185, 1.2985, 1.2686, 1.2659, 1.2632, 1.2354, 1.227, 1.2068, 1.1806, 1.1734, 1.1636, 1.1598, 1.1539, 1.1414, 1.137, 1.1316, 1.1292, 1.115, 1.1077, 1.0672, 1.0578, 1.056, 1.0513, 0.9601, 1.0268, 0.9691, 0.9874, 0.4495, 0.8616, 0.9785, 0.044, -0.1542, 0.7429, 0.4553, 0.0945, 0.6148, 0.7613, 0.6938, 0.5047, 0.147, -0.0486, 0.7496, 0.9045, -0.8553, 0.3681, 0.0049, 0.1939, -0.3773, 0.1359, -0.2134, -0.2611, 0.0152, -0.4588, 0.136, -0.3431, -0.028, -0.4845, -0.0025, 0.0379, -0.4983]}, \"token.table\": {\"Topic\": [3, 3, 3, 1, 1, 2, 3, 1, 2, 1, 2, 6, 3, 3, 3, 1, 2, 3, 1, 2, 3, 1, 3, 5, 3, 4, 3, 3, 2, 3, 7, 2, 2, 3, 1, 2, 3, 3, 1, 2, 3, 1, 2, 3, 4, 5, 6, 7, 8, 9, 2, 1, 2, 1, 1, 2, 3, 2, 3, 1, 2, 3, 1, 1, 1, 2, 3, 3, 1, 2, 1, 4, 1, 1, 2, 3, 4, 3, 2, 1, 1, 2, 3, 2, 1, 2, 3, 6, 4, 2, 1, 3, 1, 2, 3, 4, 5, 6, 7, 9, 2, 3, 1, 2, 3, 4, 5, 6, 2, 2, 3, 1, 1, 2, 3, 3, 4, 1, 1, 2, 1, 1, 1, 3, 2, 1, 2, 3, 5, 1, 1, 1, 2, 3, 2, 3, 6, 1, 2, 2, 1, 2, 3, 1, 2, 1, 1, 1, 2, 3, 4, 1, 4, 1, 2, 1, 1, 2, 3, 1, 2, 2, 3, 2, 1, 2, 3, 4, 5, 6, 7, 9, 2, 1, 2, 3, 1, 2, 7, 1, 2, 3, 2, 1, 2, 1, 2, 3, 1, 2, 3, 4, 5, 6, 7, 8, 1, 2, 3, 4, 5, 6, 8, 1, 2, 3, 4, 1, 2, 3, 4, 1, 2, 3, 5, 2, 4, 1, 2, 3, 4, 1, 2, 3, 4, 5, 6, 7, 1, 2, 3, 6, 1, 2, 4, 1, 4, 6, 2, 1, 2, 3, 7, 1, 2, 3, 4, 6, 1, 2, 3, 1, 2, 3, 5, 2, 3, 2, 1, 1, 1, 2, 1, 1, 1, 2, 1, 2, 3, 2, 1, 7, 1, 3, 1, 3, 1, 3, 5, 1, 3, 1, 1, 1, 2, 3, 4, 2, 3, 1, 2, 7, 1, 1, 2, 3, 7, 2, 4, 2, 1, 2, 3, 4, 1, 2, 3, 4, 5, 6, 1, 1, 2, 3, 4, 1, 4, 2, 3, 2, 1, 1, 2, 1, 2, 1, 1, 2, 2, 1, 2, 3, 1, 2, 3, 4, 5, 6, 8, 9, 1, 2, 3, 4, 1, 2, 3, 4, 7, 3, 2, 2, 1, 3, 1, 2, 7, 1, 2, 1, 2, 3, 1, 2, 3, 5, 6, 2, 3, 1, 2, 3, 4, 5, 3, 1, 1, 2, 1, 2, 1, 2, 3, 1, 1, 2, 3, 1, 3, 1, 2, 3, 1, 2, 3, 6, 2, 2, 1, 2, 1, 2, 1, 2, 3, 1, 2, 1, 2, 3, 1, 2, 3, 4, 5, 3, 3, 2, 4, 1, 2, 3, 5, 1, 3, 3, 2, 2, 1, 2, 3, 1, 1, 3, 4, 1, 2, 3, 4, 6, 6, 1, 2, 5, 7, 1, 3, 5, 2, 1, 2, 3, 1, 1, 2, 5, 1, 2, 3, 1, 2, 1, 1, 2, 3, 7, 1, 3, 2, 1, 2, 3, 1, 2, 3, 1, 3, 1, 2, 3, 4, 6, 2, 1, 2, 3, 4, 5, 6, 1, 2, 3, 5, 3, 3, 1, 2, 3, 1, 2, 2, 1, 4, 2, 3, 2, 1, 1, 3, 2, 3, 1, 2, 1, 2, 3, 2, 3, 1, 3, 1, 1, 1, 3, 2, 3, 2, 2, 3, 2, 1, 2, 3, 7, 1, 2, 2, 3], \"Freq\": [0.8171723186513208, 0.8356283758808782, 0.5249509728329232, 0.423235931512213, 0.5420081778691015, 0.1806693926230338, 0.1806693926230338, 0.28254078251327536, 0.28254078251327536, 0.3255525226108725, 0.3255525226108725, 0.16277626130543624, 0.8144258807943663, 0.4816076654028937, 0.383811430711943, 0.5124269045554546, 0.3852196680972769, 0.3852196680972769, 0.45775872573374893, 0.22887936286687446, 0.22887936286687446, 0.44503897661770514, 0.22251948830885257, 0.22251948830885257, 0.43358535687941385, 0.43358535687941385, 0.8479949036849046, 0.8220842847822689, 0.7516280400594013, 0.8199962277420155, 0.732118228617559, 0.4790076601028423, 0.7340767820215462, 0.5222784243677562, 0.18166684449756734, 0.3633336889951347, 0.18166684449756734, 0.8329763168150642, 0.25038047430140653, 0.25038047430140653, 0.25038047430140653, 0.41558465093583763, 0.302243382498791, 0.11334126843704663, 0.056670634218523315, 0.03778042281234888, 0.03778042281234888, 0.01889021140617444, 0.01889021140617444, 0.01889021140617444, 0.734709269676166, 0.38784057013852363, 0.38784057013852363, 0.7806155888496241, 0.20758758588589543, 0.41517517177179086, 0.20758758588589543, 0.3575686542039701, 0.8472715778396965, 0.3269269403654019, 0.16346347018270094, 0.16346347018270094, 0.5490991125049496, 0.5488310246005709, 0.274892968171919, 0.274892968171919, 0.274892968171919, 0.814130748073477, 0.35429724842908666, 0.7085944968581733, 0.3252942875073995, 0.3252942875073995, 0.6642820040277503, 0.4111923748634485, 0.27412824990896567, 0.13706412495448284, 0.13706412495448284, 0.8297021445466735, 0.7381863433303617, 0.7145735766721677, 0.5206079698284514, 0.17353598994281713, 0.17353598994281713, 0.7441757598152438, 0.5536083790012676, 0.20760314212547534, 0.1384020947503169, 0.06920104737515845, 0.7514159473404532, 0.7161676968795356, 0.7806034316876944, 0.8244751318749836, 0.3872988522869134, 0.2681299746601708, 0.14896109703342822, 0.05958443881337129, 0.029792219406685645, 0.029792219406685645, 0.029792219406685645, 0.029792219406685645, 0.25139108821620587, 0.25139108821620587, 0.29795725937804907, 0.2234679445335368, 0.2234679445335368, 0.07448931484451227, 0.07448931484451227, 0.07448931484451227, 0.7297367309819657, 0.49425951649109146, 0.49425951649109146, 0.5668647099844778, 0.26325155823907764, 0.39487733735861646, 0.26325155823907764, 0.4568579477889002, 0.4568579477889002, 0.5492738677703519, 0.549484411862063, 0.716372521258822, 0.5502101978892837, 0.5494839064267287, 0.4829558362183786, 0.8079815008627984, 0.4806904609970961, 0.21252263246045267, 0.21252263246045267, 0.21252263246045267, 0.21252263246045267, 0.6158018059599634, 0.5007680657824738, 0.2998425051886063, 0.2998425051886063, 0.2998425051886063, 0.4934831979111187, 0.4934831979111187, 0.7716779125595424, 0.5843291508535391, 0.5193535404978692, 0.4328724905091517, 0.28859186442238843, 0.28859186442238843, 0.28859186442238843, 0.6843390694005654, 0.3421695347002827, 0.7270480284792891, 0.5495864310572701, 0.40003021205174044, 0.20001510602587022, 0.20001510602587022, 0.20001510602587022, 0.3398129189106408, 0.3398129189106408, 0.3297990857411848, 0.3297990857411848, 0.7387907458297257, 0.7141874759535589, 0.1428374951907118, 0.1428374951907118, 0.4279797828019522, 0.28531985520130143, 0.3672449497215864, 0.3672449497215864, 0.7210089793582425, 0.4044266028159661, 0.22468144600887005, 0.13480886760532204, 0.04493628920177401, 0.04493628920177401, 0.04493628920177401, 0.04493628920177401, 0.04493628920177401, 0.3705992291949706, 0.666313545169161, 0.22210451505638698, 0.8075512928099919, 0.18686917153689675, 0.3737383430737935, 0.18686917153689675, 0.2387533177695921, 0.4775066355391842, 0.2387533177695921, 0.7392312477735896, 0.4996558730983204, 0.2498279365491602, 0.34491319145378535, 0.34491319145378535, 0.34491319145378535, 0.3857886058545675, 0.1285962019515225, 0.19289430292728374, 0.1285962019515225, 0.06429810097576125, 0.06429810097576125, 0.06429810097576125, 0.06429810097576125, 0.33152658033154464, 0.19891594819892677, 0.19891594819892677, 0.06630531606630893, 0.06630531606630893, 0.06630531606630893, 0.06630531606630893, 0.40854758849162337, 0.16341903539664934, 0.16341903539664934, 0.16341903539664934, 0.4908568399990871, 0.16361894666636237, 0.16361894666636237, 0.16361894666636237, 0.4481721068137787, 0.14939070227125958, 0.29878140454251917, 0.14939070227125958, 0.4323123690615859, 0.4323123690615859, 0.1758295355683148, 0.3516590711366296, 0.1758295355683148, 0.1758295355683148, 0.33321297026131363, 0.13328518810452547, 0.13328518810452547, 0.13328518810452547, 0.06664259405226274, 0.13328518810452547, 0.06664259405226274, 0.2692520209747569, 0.2692520209747569, 0.13462601048737846, 0.13462601048737846, 0.5591517113194108, 0.2795758556597054, 0.2795758556597054, 0.35122930547132697, 0.35122930547132697, 0.35122930547132697, 0.48341225402292876, 0.23623764314864992, 0.23623764314864992, 0.23623764314864992, 0.23623764314864992, 0.548480298657674, 0.28847495663795486, 0.28847495663795486, 0.28847495663795486, 0.28847495663795486, 0.31458643205979897, 0.31458643205979897, 0.81983736968949, 0.09316351106161341, 0.37265404424645365, 0.27949053318484024, 0.09316351106161341, 0.3495495476944744, 0.3495495476944744, 0.561427727433888, 0.7201723536919643, 0.8726906021549719, 0.24965341590449278, 0.24965341590449278, 0.5649059778014905, 0.7181938030144441, 0.5488071715337514, 0.44800204382830766, 0.15299958938492322, 0.30599917876984645, 0.30599917876984645, 0.33704373566332013, 0.5492246982351489, 0.48682142262267225, 0.922905648577943, 0.8189975852937497, 0.5029614681966683, 0.7943753218934712, 0.27085354459366584, 0.27085354459366584, 0.27085354459366584, 0.3210266490280315, 0.3210266490280315, 0.6511144589541251, 0.6302376183224766, 0.4396109588290308, 0.2637665752974185, 0.08792219176580615, 0.08792219176580615, 0.5153675347557924, 0.8055547810414312, 0.42395544249241424, 0.21197772124620712, 0.21197772124620712, 0.7214452219607768, 0.30198709712510724, 0.15099354856255362, 0.15099354856255362, 0.15099354856255362, 0.3237925023900517, 0.3237925023900517, 0.7357485288432315, 0.31118626702985497, 0.31118626702985497, 0.15559313351492748, 0.15559313351492748, 0.21721970804077798, 0.21721970804077798, 0.325829562061167, 0.10860985402038899, 0.10860985402038899, 0.10860985402038899, 0.49377434784802, 0.27201187934855, 0.27201187934855, 0.27201187934855, 0.27201187934855, 0.4813793670641689, 0.24068968353208445, 0.4386092362660287, 0.4386092362660287, 0.5987663560768894, 0.6302224003562606, 0.2777763055426971, 0.5555526110853942, 0.5158257657479114, 0.7506135858168794, 0.7778900728542801, 0.3396648636060044, 0.3396648636060044, 0.7651282558250191, 0.24654294119618506, 0.24654294119618506, 0.24654294119618506, 0.2829220958124266, 0.2829220958124266, 0.23939561953359176, 0.08705295255766973, 0.043526476278834866, 0.021763238139417433, 0.021763238139417433, 0.021763238139417433, 0.24502231621434079, 0.24502231621434079, 0.24502231621434079, 0.24502231621434079, 0.3964583852116747, 0.297343788908756, 0.09911459630291868, 0.09911459630291868, 0.09911459630291868, 0.8451384212407426, 0.7303317234948266, 0.7364196699663774, 0.6527934838246428, 0.3263967419123214, 0.2789609216090134, 0.2789609216090134, 0.2789609216090134, 0.5635368086111289, 0.28176840430556443, 0.2240534978522948, 0.2240534978522948, 0.2240534978522948, 0.3095562342332859, 0.3095562342332859, 0.15477811711664294, 0.15477811711664294, 0.15477811711664294, 0.7455641015232826, 0.47901391926906806, 0.21276475948219137, 0.21276475948219137, 0.21276475948219137, 0.21276475948219137, 0.21276475948219137, 0.7975541636538357, 0.5587268420210583, 0.5527073855001139, 0.7490343048637902, 0.4127923564510453, 0.4127923564510453, 0.26741096985176505, 0.26741096985176505, 0.26741096985176505, 0.7156065391197081, 0.2771985481130089, 0.2771985481130089, 0.2771985481130089, 0.6210839715186611, 0.4823524599024645, 0.39735707441404094, 0.19867853720702047, 0.19867853720702047, 0.4635181422180016, 0.15450604740600052, 0.15450604740600052, 0.15450604740600052, 0.4419990577786791, 0.7309527148446019, 0.5164023163070965, 0.5164023163070965, 0.6157295626256175, 0.7385104187780698, 0.31497560302498967, 0.31497560302498967, 0.31497560302498967, 0.2524208396392259, 0.2524208396392259, 0.564280919467657, 0.18809363982255234, 0.8307804858200014, 0.3527376181063657, 0.17636880905318286, 0.17636880905318286, 0.08818440452659143, 0.08818440452659143, 0.8007364305446101, 0.814718647310827, 0.47999070595845794, 0.47999070595845794, 0.19678941985520523, 0.39357883971041047, 0.19678941985520523, 0.19678941985520523, 0.31045731426403744, 0.31045731426403744, 0.8200477192535492, 0.3773156076913265, 0.7491140093590073, 0.7094139261869251, 0.29804142202462697, 0.29804142202462697, 0.5494006565218433, 0.2663881849640138, 0.2663881849640138, 0.2663881849640138, 0.4318030586357851, 0.14393435287859505, 0.14393435287859505, 0.2878687057571901, 0.14393435287859505, 0.7879988855088101, 0.35909886933008056, 0.35909886933008056, 0.11969962311002685, 0.11969962311002685, 0.8347537313130612, 0.2086884328282653, 0.525182096371603, 0.7254369795124184, 0.6360647021914252, 0.3180323510957126, 0.8241316742409576, 0.5257705027911193, 0.5476174965704106, 0.38022252853333366, 0.38022252853333366, 0.2642053974822028, 0.2642053974822028, 0.7971283198230626, 0.5632180307808291, 0.28160901539041455, 0.7384609197247688, 0.33995910497569104, 0.33995910497569104, 0.11331970165856368, 0.11331970165856368, 0.5750742670780223, 0.5089553086212191, 0.7054693338727078, 0.2933492930596409, 0.2933492930596409, 0.2933492930596409, 0.5500289170876392, 0.46801389946205274, 0.8402411223941847, 0.4891545629525741, 0.8462708336117012, 0.28985678227013545, 0.43478517340520323, 0.14492839113506772, 0.14492839113506772, 0.14492839113506772, 0.489883956032614, 0.45507275306796546, 0.09101455061359309, 0.18202910122718619, 0.09101455061359309, 0.09101455061359309, 0.09101455061359309, 0.354977756793502, 0.354977756793502, 0.177488878396751, 0.177488878396751, 0.8340263587911793, 0.8052710577966662, 0.16474337495370697, 0.4942301248611209, 0.16474337495370697, 0.26252341307272276, 0.5250468261454455, 0.7088057033547017, 0.3747654522202849, 0.49017104900553965, 0.372661246712762, 0.372661246712762, 0.7242758522356179, 0.5674882486667027, 0.7142969832056275, 0.824433778680441, 0.7068082173427486, 0.8351102372486426, 0.5833843898163664, 0.19446146327212216, 0.510157256999561, 0.20406290279982442, 0.20406290279982442, 0.21190958383262945, 0.4238191676652589, 0.6107614541383661, 0.20358715137945538, 0.6287146457161447, 0.5486151683643274, 0.6346783532850359, 0.8284248502062179, 0.3406751821713944, 0.3406751821713944, 0.7054704486813929, 0.29968947033794957, 0.29968947033794957, 0.7306405737817204, 0.1473376429771793, 0.2946752859543586, 0.1473376429771793, 0.1473376429771793, 0.5491715580226729, 0.7488540650493296, 0.4913766090416603, 0.4913766090416603], \"Term\": [\"abate\", \"across\", \"acting\", \"action\", \"actors\", \"actors\", \"actors\", \"actual\", \"actual\", \"actually\", \"actually\", \"actually\", \"addled\", \"afraid\", \"almost\", \"alone\", \"along\", \"along\", \"also\", \"also\", \"also\", \"always\", \"always\", \"always\", \"ambulance\", \"ambulance\", \"amputateit\", \"amusing\", \"animations\", \"appendages\", \"arc\", \"around\", \"average\", \"awful\", \"bad\", \"bad\", \"bad\", \"bag\", \"banks\", \"banks\", \"banks\", \"bear\", \"bear\", \"bear\", \"bear\", \"bear\", \"bear\", \"bear\", \"bear\", \"bear\", \"become\", \"becomes\", \"becomes\", \"begin\", \"better\", \"better\", \"better\", \"beyond\", \"big\", \"bit\", \"bit\", \"bit\", \"bizarre\", \"bizarrely\", \"boring\", \"boring\", \"boring\", \"bound\", \"brain\", \"brain\", \"budget\", \"budget\", \"called\", \"cast\", \"cast\", \"cast\", \"cast\", \"catches\", \"category\", \"cells\", \"cgi\", \"cgi\", \"cgi\", \"chances\", \"characters\", \"characters\", \"characters\", \"characters\", \"cheesy\", \"chuckle\", \"classic\", \"claw\", \"cocaine\", \"cocaine\", \"cocaine\", \"cocaine\", \"cocaine\", \"cocaine\", \"cocaine\", \"cocaine\", \"come\", \"come\", \"comedy\", \"comedy\", \"comedy\", \"comedy\", \"comedy\", \"comedy\", \"compared\", \"completely\", \"completely\", \"concept\", \"could\", \"could\", \"could\", \"creative\", \"creative\", \"dance\", \"deep\", \"delivers\", \"delve\", \"delves\", \"desperate\", \"direct\", \"disappointed\", \"done\", \"done\", \"done\", \"done\", \"doubt\", \"drag\", \"drug\", \"drug\", \"drug\", \"easy\", \"easy\", \"edge\", \"effects\", \"effort\", \"ehrenreich\", \"elizabeth\", \"elizabeth\", \"elizabeth\", \"end\", \"end\", \"endless\", \"enjoying\", \"enough\", \"enough\", \"enough\", \"enough\", \"entertaining\", \"entertaining\", \"entire\", \"entire\", \"even\", \"exactly\", \"exactly\", \"exactly\", \"expect\", \"expect\", \"expecting\", \"expecting\", \"explanatory\", \"film\", \"film\", \"film\", \"film\", \"film\", \"film\", \"film\", \"film\", \"films\", \"final\", \"final\", \"fine\", \"first\", \"first\", \"first\", \"found\", \"found\", \"found\", \"franchise\", \"friend\", \"friend\", \"friends\", \"friends\", \"friends\", \"fun\", \"fun\", \"fun\", \"fun\", \"fun\", \"fun\", \"fun\", \"fun\", \"funny\", \"funny\", \"funny\", \"funny\", \"funny\", \"funny\", \"funny\", \"get\", \"get\", \"get\", \"get\", \"give\", \"give\", \"give\", \"give\", \"go\", \"go\", \"go\", \"go\", \"goes\", \"goes\", \"going\", \"going\", \"going\", \"going\", \"good\", \"good\", \"good\", \"good\", \"good\", \"good\", \"good\", \"gore\", \"gore\", \"gore\", \"gore\", \"got\", \"got\", \"got\", \"great\", \"great\", \"great\", \"guess\", \"half\", \"half\", \"half\", \"half\", \"heartwarming\", \"high\", \"high\", \"high\", \"high\", \"hit\", \"hit\", \"hold\", \"horror\", \"horror\", \"horror\", \"horror\", \"hour\", \"hour\", \"however\", \"ideas\", \"impressive\", \"instead\", \"instead\", \"interesting\", \"introduced\", \"involved\", \"jackson\", \"jokes\", \"jokes\", \"jokes\", \"jr\", \"keeps\", \"kids\", \"kill\", \"kite\", \"landed\", \"last\", \"laugh\", \"laugh\", \"laugh\", \"laughing\", \"laughing\", \"legendary\", \"letterboxd\", \"like\", \"like\", \"like\", \"like\", \"likewise\", \"limbs\", \"little\", \"little\", \"little\", \"lose\", \"lot\", \"lot\", \"lot\", \"lot\", \"low\", \"low\", \"lying\", \"made\", \"made\", \"made\", \"made\", \"make\", \"make\", \"make\", \"make\", \"make\", \"make\", \"makes\", \"making\", \"making\", \"making\", \"making\", \"many\", \"many\", \"margo\", \"margo\", \"martindale\", \"master\", \"may\", \"may\", \"mean\", \"meaningful\", \"mill\", \"minutes\", \"minutes\", \"molly\", \"mother\", \"mother\", \"mother\", \"movie\", \"movie\", \"movie\", \"movie\", \"movie\", \"movie\", \"movie\", \"movie\", \"movies\", \"movies\", \"movies\", \"movies\", \"much\", \"much\", \"much\", \"much\", \"much\", \"multiform\", \"munchies\", \"mushroom\", \"must\", \"must\", \"needed\", \"needed\", \"needed\", \"never\", \"never\", \"nice\", \"nice\", \"nice\", \"nothing\", \"nothing\", \"nothing\", \"nothing\", \"nothing\", \"offers\", \"often\", \"one\", \"one\", \"one\", \"one\", \"one\", \"opened\", \"opening\", \"opinion\", \"oscar\", \"park\", \"park\", \"parts\", \"parts\", \"parts\", \"peoplefrom\", \"performances\", \"performances\", \"performances\", \"piece\", \"plot\", \"premise\", \"premise\", \"premise\", \"pretty\", \"pretty\", \"pretty\", \"pretty\", \"primarily\", \"produce\", \"promised\", \"promised\", \"providesthe\", \"psilocybin\", \"quite\", \"quite\", \"quite\", \"ranger\", \"ranger\", \"ray\", \"ray\", \"reaching\", \"really\", \"really\", \"really\", \"really\", \"really\", \"remould\", \"removed\", \"rest\", \"rest\", \"right\", \"right\", \"right\", \"right\", \"role\", \"role\", \"round\", \"russell\", \"sameand\", \"save\", \"scary\", \"scary\", \"scaryyet\", \"scene\", \"scene\", \"scene\", \"scenes\", \"scenes\", \"scenes\", \"scenes\", \"scenes\", \"seat\", \"see\", \"see\", \"see\", \"see\", \"seeing\", \"seeing\", \"seemed\", \"sequels\", \"short\", \"short\", \"skies\", \"small\", \"smiling\", \"solo\", \"solo\", \"something\", \"something\", \"somewhat\", \"sort\", \"sort\", \"stories\", \"story\", \"story\", \"story\", \"story\", \"stupid\", \"sub\", \"suggest\", \"sure\", \"sure\", \"sure\", \"tbh\", \"tells\", \"temper\", \"theatre\", \"theme\", \"think\", \"think\", \"think\", \"think\", \"think\", \"throughout\", \"time\", \"time\", \"time\", \"time\", \"time\", \"time\", \"times\", \"times\", \"times\", \"times\", \"today\", \"tooth\", \"trailer\", \"trailer\", \"trailer\", \"trailers\", \"trailers\", \"trippin\", \"trying\", \"type\", \"ultimately\", \"ultimately\", \"uncontrollable\", \"uninteresting\", \"unless\", \"variations\", \"viagra\", \"volatile\", \"want\", \"want\", \"watch\", \"watch\", \"watch\", \"way\", \"way\", \"well\", \"well\", \"whatever\", \"wiggle\", \"withnow\", \"wont\", \"woods\", \"woods\", \"working\", \"worst\", \"worst\", \"worthy\", \"would\", \"would\", \"would\", \"would\", \"wroth\", \"yeah\", \"years\", \"years\"]}, \"R\": 30, \"lambda.step\": 0.01, \"plot.opts\": {\"xlab\": \"PC1\", \"ylab\": \"PC2\"}, \"topic.order\": [7, 1, 6, 10, 2, 8, 9, 4, 3, 5]};\n",
              "\n",
              "function LDAvis_load_lib(url, callback){\n",
              "  var s = document.createElement('script');\n",
              "  s.src = url;\n",
              "  s.async = true;\n",
              "  s.onreadystatechange = s.onload = callback;\n",
              "  s.onerror = function(){console.warn(\"failed to load library \" + url);};\n",
              "  document.getElementsByTagName(\"head\")[0].appendChild(s);\n",
              "}\n",
              "\n",
              "if(typeof(LDAvis) !== \"undefined\"){\n",
              "   // already loaded: just create the visualization\n",
              "   !function(LDAvis){\n",
              "       new LDAvis(\"#\" + \"ldavis_el14751398699219908004130757582\", ldavis_el14751398699219908004130757582_data);\n",
              "   }(LDAvis);\n",
              "}else if(typeof define === \"function\" && define.amd){\n",
              "   // require.js is available: use it to load d3/LDAvis\n",
              "   require.config({paths: {d3: \"https://d3js.org/d3.v5\"}});\n",
              "   require([\"d3\"], function(d3){\n",
              "      window.d3 = d3;\n",
              "      LDAvis_load_lib(\"https://cdn.jsdelivr.net/gh/bmabey/pyLDAvis@3.4.0/pyLDAvis/js/ldavis.v3.0.0.js\", function(){\n",
              "        new LDAvis(\"#\" + \"ldavis_el14751398699219908004130757582\", ldavis_el14751398699219908004130757582_data);\n",
              "      });\n",
              "    });\n",
              "}else{\n",
              "    // require.js not available: dynamically load d3 & LDAvis\n",
              "    LDAvis_load_lib(\"https://d3js.org/d3.v5.js\", function(){\n",
              "         LDAvis_load_lib(\"https://cdn.jsdelivr.net/gh/bmabey/pyLDAvis@3.4.0/pyLDAvis/js/ldavis.v3.0.0.js\", function(){\n",
              "                 new LDAvis(\"#\" + \"ldavis_el14751398699219908004130757582\", ldavis_el14751398699219908004130757582_data);\n",
              "            })\n",
              "         });\n",
              "}\n",
              "</script>"
            ]
          },
          "metadata": {},
          "execution_count": 47
        }
      ]
    },
    {
      "cell_type": "markdown",
      "metadata": {
        "id": "mM4-AXFkITPn"
      },
      "source": [
        "## (3) (10 points) Generate K topics by using  lda2vec, the number of topics K should be decided by the coherence score, then summarize what are the topics. You may refer the code here:\n",
        "\n",
        "https://nbviewer.org/github/cemoody/lda2vec/blob/master/examples/twenty_newsgroups/lda2vec/lda2vec.ipynb"
      ]
    },
    {
      "cell_type": "code",
      "execution_count": null,
      "metadata": {
        "id": "yOuHjDetITPn"
      },
      "outputs": [],
      "source": [
        "# Write your code here\n",
        "\n",
        "\n",
        "\n"
      ]
    },
    {
      "cell_type": "markdown",
      "metadata": {
        "id": "1Rg5CtdjITPo"
      },
      "source": [
        "## (4) (10 points) Generate K topics by using BERTopic, the number of topics K should be decided by the coherence score, then summarize what are the topics. You may refer the code here: \n",
        "\n",
        "https://colab.research.google.com/drive/1FieRA9fLdkQEGDIMYl0I3MCjSUKVF8C-?usp=sharing"
      ]
    },
    {
      "cell_type": "code",
      "execution_count": null,
      "metadata": {
        "id": "MKktKR9ZITPo"
      },
      "outputs": [],
      "source": [
        "# Write your code here\n",
        "\n",
        "\n",
        "\n"
      ]
    },
    {
      "cell_type": "markdown",
      "metadata": {
        "id": "DpOIHUjVITPp"
      },
      "source": [
        "## (5) (10 extra points) Compare the results generated by the four topic modeling algorithms, which one is better? You should explain the reasons in details."
      ]
    },
    {
      "cell_type": "code",
      "execution_count": null,
      "metadata": {
        "id": "cxupfJ3rITPp"
      },
      "outputs": [],
      "source": [
        "# Write your answer here (no code needed for this question)\n",
        "\n",
        "\n",
        "\n"
      ]
    }
  ],
  "metadata": {
    "kernelspec": {
      "display_name": "Python 3 (ipykernel)",
      "language": "python",
      "name": "python3"
    },
    "language_info": {
      "codemirror_mode": {
        "name": "ipython",
        "version": 3
      },
      "file_extension": ".py",
      "mimetype": "text/x-python",
      "name": "python",
      "nbconvert_exporter": "python",
      "pygments_lexer": "ipython3",
      "version": "3.9.12"
    },
    "colab": {
      "provenance": [],
      "include_colab_link": true
    }
  },
  "nbformat": 4,
  "nbformat_minor": 0
}