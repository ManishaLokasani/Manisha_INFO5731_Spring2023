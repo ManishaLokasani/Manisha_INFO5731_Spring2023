{
  "cells": [
    {
      "cell_type": "markdown",
      "metadata": {
        "id": "view-in-github",
        "colab_type": "text"
      },
      "source": [
        "<a href=\"https://colab.research.google.com/github/ManishaLokasani/Manisha_INFO5731_Spring2023/blob/main/In_class_exercise_04_03282023.ipynb\" target=\"_parent\"><img src=\"https://colab.research.google.com/assets/colab-badge.svg\" alt=\"Open In Colab\"/></a>"
      ]
    },
    {
      "cell_type": "markdown",
      "metadata": {
        "id": "7TDIyxISITPh"
      },
      "source": [
        "# **The fourth in-class-exercise (40 points in total, 03/28/2022)**"
      ]
    },
    {
      "cell_type": "markdown",
      "metadata": {
        "id": "CNBUEVIZITPk"
      },
      "source": [
        "Question description: Please use the text corpus you collected in your last in-class-exercise for this exercise. Perform the following tasks:"
      ]
    },
    {
      "cell_type": "markdown",
      "metadata": {
        "id": "Y16wjNUiITPk"
      },
      "source": [
        "## (1) (10 points) Generate K topics by using LDA, the number of topics K should be decided by the coherence score, then summarize what are the topics. You may refer the code here: \n",
        "\n",
        "https://www.machinelearningplus.com/nlp/topic-modeling-gensim-python/"
      ]
    },
    {
      "cell_type": "code",
      "execution_count": 19,
      "metadata": {
        "id": "JL57acPHITPl",
        "colab": {
          "base_uri": "https://localhost:8080/"
        },
        "outputId": "54b28f2c-87f2-4d7a-f7a6-343579d116a9"
      },
      "outputs": [
        {
          "output_type": "stream",
          "name": "stdout",
          "text": [
            "Ummmmm, where do I begin. I didn't watch any trailers or read any reviews. I saw the poster and title and thought, \"I'm definitely watching that.\" After seeing it, I can say with confidence that it's exactly what a movie named Cocaine Bear should be.Aside from being an extremely fun and outrageous thriller, this movie is hysterical. I was full-volume laughing frequently. So many parts are the perfect combination of memorable and hilarious. It knows exactly what it's doing.The other thing that made me happy is seeing a studio have the courage to allow the filmmakers to go all out. I compare it to M3gan which was going for a similar tone. But M3gan was toned down to PG-13 so teens could watch. Cocaine Bear is rated R as it absolutely should be. It's not gratuitous but it never feels like it's holding back.I had a blast with this movie. If the title or premise intrigue you, you will most likely be pleased. (1 viewing, opening Thursday 2/23/2023)\n",
            "Cocaine Bear promised so much but just didn't hit the spot for me.There are too many characters in my opinion which becomes a bit of a chore and breaks things up a little too much. If there was more of a focus on just a couple of characters as the protagonists it would have been better.The humour didn't always work for me. Sometimes it was good but it fell flat a little too often.The central premise is great but it doesn't go far enough in my opinion. I feel like there was a lot more fun to have with the concept. Although saying that there are some wildly fun and gruesome body horror moments, and the effects on the bear and the injury detail are top notch.Overall a bit of a let down. This film is mostly fun as expected, but the premise wears a little thin come the third act. Not quite the riotous spectacle I was hoping for.\n",
            "I first groaned and rolled my eyes when I heard they made a film about a bear on cocaine, named Cocaine Bear. I Googled the name to look for the trailer, and stumbled on the Wikipedia page where I learned this movie is loosely based on actual events, and that's what sold me to give it a watch. If the fact a bear actually found and did cocaine for months isn't funny enough alone to give this film a watch, I don't know what is.I'm just glad the filmmakers and producers took the already hilarious true concept, and made a film just as ridiculously funny. It's been a while I've heard an entire theatre burst out in laughter so many times. The entire film was simply put, comedy gold. The story could've been a little tighter in a few of the subplots, but the casting of the various colorful characters and all their performances made up for any of the writing issues.The 95 min runtime was just right, as was the pacing, and the soundtrack was awesome and spot-on for that era. This truly is one of those rare ridiculous films that actually worked. It's a fun ride start to finish. Final fun fact; the actual taxidermied bear can be found at the Kentucky Fun Mall in Kentucky USA.\n",
            "If you go down to the woods today you're sure of a big surprise, as mother bear's opened a bag of cocaine and is reaching for the skies, it's made her somewhat volatile and her temper wont abate, if she catches hold she will remould your limbs and amputate.It's not the worst film about a drug addled bear high as a kite on cocaine that you'll come across, and it probably won't be the last, as variations on a theme are bound to come along in multiform. Quite often amusing, with various appendages and body parts being removed by claw and tooth, fine performances all round and it must have been a fun movie to direct and make.\n",
            "This film is exactly what you think it is. It's a bear on cocaine going crazy in the woods. That doesn't mean it's not good. It's actually surprisingly good.It's such a good thriller. You're on the edge of your seat for most of it and when you're not on the edge of your seat, you're laughing your ass off.The cast is actually very unrelated. Keri Russell is phenomenal. Alden Ehrenreich And O'Shea Jackson Jr (Ice Cube's son) are great together and have great chemistry.The production value is so so it is definitely not a super high budget film. But it doesn't look bad. The editing as well done especially during the action scenes and the CGI is actually pretty good.\n",
            "Curious about \"Cocaine bear?\" It could of either been brilliant or terrible, and it is.Those hoping for an over the top, hilarious horror movie that doesn't take itself seriously (like us) will be beyond disappointed. Its like they had a good idea here, and went out of their way to avoid doing it.There are jokes, but they're cringey. There is action. But the CGI is mixed. What there isn't is anything to get invested in. There's all these characters you won't care about. Mostly walking around the woods talking. Then there's the bear. Who gets a couple of good kills in before it passes out.Boring is the worst thing the movie could of been. But some stuff early on in the movie is also done in extremely bad taste. This set the bar low for a cinema audience that maybe laughed once during the rest of the longest hour and a half ever.\n",
            "I was wrong. Other than a few good gore scenes, which is why I scored above a 1, this thing is horrible. I think I might have chuckled once, which perhaps garners half a star, but other than that, I didn't find any comedy in this at all. You'll laugh harder watching 'Goodfellas', one of Liotta's decent works (among many).I didn't realize there was going to be some focus on kid actors, and as hard as they tried, they simply weren't funny, but they probably weren't given anything funny to work with. Certainly 'Sandlot' proves you can make a kid-centric comedy, so it's not the kids' fault. As for the adults, couldn't have cared less what happened to any of them. The movie would have been far more interesting if they all had met their demise at the paws of the bear.So basically, there wasn't enough comedy for the comedy fans, enough gore for the gore fans, and no discernible drama for the drama fans. Essentially, this was a bunch of you've-seen-this-before scenes with an occasional bear attack. I will say the bear looked good. Huge disappointment.\n",
            "I just got out of Cocaine Bear.This movie was awful. I was hoping for a 'so bad it's good' type of movie, where I laugh at the absurdity of it all, as giant bear that has done cocaine rips everybody apart!! You know a nice bit of gore/comedy. It even failed on that level. I didn't laugh once, it's just plain bad. I had more fun with the three Sharknado movies, let that sink in!!It's not funny, it's not intense and it's not scary. I spent most of my time trying to figure out where I knew the mother from (It's the Bon Jovi music video for Always) likewise her daughter (She was the young girl in The Turning)At one point I checked my watch to see how long was left, as nothing seemed to be happening, and it was only half an hour in. I thought it was at least double that.We spend time with a bunch of human characters, that I just didn't care about, so there was no stakes at all. Ray Liotta is there The guy who played Han Solo in Solo has a bigger role as his son. Jesse Tyler Fergurson (from Modern Family) has a small role, but the standout for me was Margo Metindale as the ranger. But it is a low bar, as the acting is not great.There was one Sly Stallone related thing, that I waited to see if there was a pay off to, but there wasn't!! I was more bothered about that, than any of the human characters.It's dialogue is cringe, the violence is tame and nothing to wrote home about, at all and it's not funny. The trailer suggested a dark horror comedy. This movie did not live up to the trailer .As for Elizabeth Banks.... I preferred Charlies AngelsAn unfunny (I'm not sure of it was trying to be, but the actors seemed to think they were in a comedy, based on the performances) badly edited, dull, waste of talent and time. This goes on my worst of the year list.\n",
            "'Cocaine Bear' does exactly what it says on the box - it's a film about a black bear in Georgia, USA, that gets high from some cocaine dumped in the forest and goes on a rampage. Very loosely based on a true story, where illegal drugs actually were thrown out of a plane and killed a bear. Needless to say, the bear is CGI. The cast is surprisingly strong, with the main cast of 'The Americans' present - Russell, Rhys & Martindale - along with Ehrenreich (from 'Solo'), Jackson Jr (from 'Obi-Wan Kenobi'), Whitlock Jr (from heaps of stuff) & Ray Liotta's final ever role.Even though it has funny parts, there's probably not enough consistently funny jokes or moments to be a true comedy. Likewise with the horror/thriller aspect - there's some scary moments, but nothing sustained or truly horrific. A bit of gore and I think the death tally reached 9 in the end, but probably needed to be a few more to reach actual horror territory.It's basically a creature feature, and I'd put it alongside 'The Meg' and 'Piranha 3D', rather than 'Jaws' or 'King Kong'. The cast are all likeable, but their skills are severely underutilised. The score is good and some of the shots of the Chattahoochee forest are nice. The ending is a bit underwhelming with too much family drama.\n",
            "I really wanted to like this movie but I just can't. I was hoping for some sort of non stop crazed coked out bear but what I really got was just boring.After the opening bit we get 30 minutes of drawn out \"set up\" which wouldn't be too bad except there was no pay off.I might have chuckled one time during this snooze fest that wasted far too much time on scenes like a lame fight in a bathroom, a police officer and his new dog and a park ranger that is dolling herself up to try to hit on the gayest man in the world.If you've seen the trailer you've seen 90% of the best stuff this had to offer.\n",
            "Cocaine Bear is the story of a bear who takes too much cocaine and does stuff like dance, wiggle, and kill, kill, kill. It has about 12 characters we never delve too deep into but somehow they all end up involved with the bear and there is a lot of death, comedy, and bizarre scenes. The film is incredibly strange as it is not exactly funny, heartwarming, or scary...yet is delves into all three of these and sort of keeps you smiling and kind of bizarrely focused and enjoying yourself. Also, a classic final film for the legendary Ray Liotta - and TBH it's wroth seeing just to see the legendary Ray in his final role.\n",
            "After watching the full movie I realised that the two minutes long intro tells everything that happens. And nothing else really does happen. Visuals: could've been better, Storyline: second to none, Casting: okay-ish, Characters: not elaborate, Horror factor: basic, grade E+, Funniness: might contain some easy to digest jokes, but that's all. If this is a primarily horror movie, it should've been more frightening and unpredictable. If primarily a comedy, should've been way more funnier. It just fails at both, and I'm sad to say (maybe I had too high expectations), but this is a missed shot again.\n",
            "What a wild ride! The \"ambulance scene\" alone makes this movie worth a watch. Totally insane, scary, funny and gory. The bear is really well made and most of the scenes with it are bananas. A lot of different characters throughout the movie. They all have their own sub plot but they blend pretty well. When it tends to drag a little bit the bear always pops out for more fun and kills so it's always entertaining and goofy. Great directing, special effects and acting. Most of the easy jokes landed, the whole theatre was laughing out loud the entire movie. A good comedy horror entry. Nothing revolutionary but ultimately a really fun popcorn movie.\n",
            "Cocaine Bear offers little beyond the trailers in terms of originality, flashiness, or cleverness, but it does offer more of the same...and a lot of it. Chances are, however you interpret the trailers and however you feel about them will determine how you enjoy this movie. If you're ready for a leave-your-brain-at-home 80's adventure of slasher gore (sans human antagonist) and some corny punchlines, then this is your ticket. I would be lying if I said I did not have the occasional chuckle, and truth be told, some of SFX company Weta's bear animations were uncomfortably realistic at times. Ultimately though, I found myself several times throughout the brisk 95 minute runtime wishing the film would tingle my brain with abstractions that never came.My advice? If you like the trailer, see it in theaters. If you were indifferent about the trailer, wait until it hits streaming.\n",
            "Come for the \"Cocaine\" ...stay for the \"Bear.\" I am certain this will be a HUGE hit. They may already be working on sequels. Allow me to suggest:Cocaine Bear 2: Mushroom Bear (Trippin' on psilocybin)Cocaine Bear 3: Molly Bear (Luvs everybody)Cocaine Bear 4: Cannabis Bear (Uncontrollable munchies)Cocaine Bear 5: Viagra Bear (self-explanatory)The title pretty much tells you what kind of movie to expect and delivers as promised. If you expect too much ...then you may be disappointed, but I don't think anyone who is going to see this film is expecting an Oscar-worthy meaningful masterpiece. Yeah, I guess the movie could have been better (definitely not a 10-star film), but compared to other things in this category; I think it's above average and effort was made to produce something entertaining.I predict the \"Cocaine Bear\" films will become quite a successful franchise. I'm actually kicking myself right now and thinking: \"Why didn't I come up with this first?!\"\n",
            "Yh I knew this was Going to Happen. Sigh 😔.Problems with this Movie -1. The Feel of the Movie is Flat as Hell.2. The First Half of the Movie is Boring as Hell.3. The Bathroom Fight was Unspeakably Bad.4. It Takes too Long to Get Going. And the when it does get going, it's not good enough.5. Almost All of the Jokes Don't Land.6. Almost All of the Characters are Boring as Hell.The 2 Good Things I Liked -1. The Ambulance Scene 🚑2. The Detective on Top of the Wooden Building, Shoots Off the 2 Fingers Scene.Overall, it's basically a waste of time to watch this Movie 👎. Not Making it an Unfunny Comedy would of Probably been a Better Choice.\n",
            "I understand that when you make a movie like 'Cocaine Bear' you can't take yourself too seriously or else it will be a death sentence for your movie. There is a way to make a film silly fun without making it completely unbearable (I'm sorry) for anyone above 11 years old to enjoy, however. And this film did not do that.I love comedy-horror when it's done right. I've found the key to getting these films right though is the humour. The horror elements will always be hit and miss, but if the audience is laughing along the way then they will forgive the imperfections in the horror. I didn't laugh once during 'Cocaine Bear'. The editing was very strange. It kept stepping on all the jokes. Every time a line that could've potentially been funny came up it would quickly cut to the next scene before it had time to breathe, almost as if the film was embarrassed by the standard of the joke.So when its not funny you only really have the bear scenes to look forward to. There are some decent kills I will give the movie credit for that. It wasn't afraid to be quite brutal at times. But the CGI of the bear looked awful and really took me out of a lot of scenes.I didn't go into 'Cocaine Bear' expecting a masterpiece, but I also didn't go in expecting to be checking my watch multiple times during a 95 minute film. This was a disappointing effort. 4/10.\n",
            "I love cheesy low budget movies. The low budget usually means the film makers need to get creative with what they do have and that can lead to some wild ,fun movies. Unfortunately, if they don't get creative, then you're stuck with a movie that is hard to watch.Cocaine Bear has it's bright spots. It's a great premise for a movie. There are a few good scenes that grab your attention or make you laugh. But there's too much dead space. It feels like they had a few good key scenes in mind, like the ambulance scene, and then just wrote the rest of the movie around them. So you have a few cool scenes and the rest is just filler.That's really sad because making a movie called Cocaine Bear a fun entertaining movie should have been a slam dunk. Hollywood had made cheesy, low budget Nature Goes Haywire type movies for decades. Some of them are drek. But some are entertaining. The creators had plenty of moves to choose from to give them an idea of how this type of film works.I do want to give a shout out to Jesse Tyler Ferguson He got into the spirit of the thing and his character was fun. But overall there were just too many gaps between anything fun or interesting. Cocaine Bear just didn't get me high enough.\n",
            "What a terrible movie. So glad my friend paid for my ticket. The trailer makes it out to be about a bear who ate cocaine and went on a rampage. But what the trailers doesn't show is you instead get introduced to endless characters and most of the movie becomes about random people.From drug dealers, to a ranger to others. You \"bearly\" get to see the bear at all. Which ends up making the movie beyond boring. Unless you want to see the stories of all these people.Admittedly I had no expectation for this movie. I knew I was lose brain cells watching it. If you want a horror movie, go watch something else. If you want to save yourself time, just read the actual story of the cocaine bear. Sure, the story is short, stupid and no interesting. But its still better then this movie. Hollywood is out of ideas.\n",
            "The first waste of time movie seen at the cinema and I didn't even want to watch it, but I got roped into seeing it with a friend and so here I am.This will be short as I just do not care to talk about this film in any real depth as it has none to begin with.Now you don't go to the cinema and watch something called Cocaine Bear and expect a master piece but goodness is this film desperate to be entertaining and funny, which it most definitely is not.The characters are inconsequential and uninteresting but the actors give good performances, hell even the child actors performed well but the characters are just who cares.But it's called Cocaine Bear so really I doubt anyone came out for interesting characters but rather came out to see a coked out bear do stupid s**t. Which is precisely what this film provides.The kills are gruesome and pretty funny at times, the bear itself is surprisingly very well done. By that I mean the cgi, it was I must admit really good. From a budget of $35 million that is very impressive. They must've spent $1 mill on cast, crew, and marketing, then $34 mill on the bears cgi as my friend and I joked.Anyway this film provides exactly as advertised and nothing more. But to me this was just boring, stupid, and uninteresting. I don't understand how this passes for entertainment these days but whatever, simply put it's not for me.IMDb: 4/10\n",
            "Letterboxd: 2/5Watched in Theaters.\n",
            "This was a fun ride for the first little while, but they shouldn't have shoehorned in a villain-arc in the later half. It was too much story for the ludicrous premise to support.We also really needed to see more of the kids being outrageous, and we DEFINITELY needed more of Margo Martindale's park ranger! What a waste of an incredible talent!The film would have been a lot better if it focused on her and the kids instead of following Keri Russell's blandly forgettable nurse around, not to mention the crooks whose entire story-arc felt wholly unnecessary.5/10 Stars. I enjoyed the opening and most of the first half, but was bored to tears by the end.\n",
            "Movie wasn't scary or funny, and ultimately just a huge waste of time.Gore was pretty subdued, often cutting away from the gnarliest parts so the film has failed as a horror/gore fest.Humor was SNL levels of schlocky funny faces, movie couldn't really land a single joke. Movie was completely spineless, afraid of it's own rating.Instead of watching a fun horror comedy, you are stuck with about an hour of dumb character development, a mother and daughter bonding, friends becoming friends, and some incredibly lame sub plot about overcoming grief.This movie took a creative premise and somehow managed to make the most streamlined hollywood cash grab I have seen in years.\n",
            "Director Elizabeth Banks undoubtedly thought the premise of the movie then, perhaps, laughed and most likely told her cast to just remember that they are making a bear on cocaine flick and have fun. But what did it have to be so...bland.The story is of a real life drug smuggling incident where a ton of cocaine was dropped from the sky and then a bear ingests the bulk of it only to die within minute. This is the germination of the story of weirdos attempting to recover it. Though it takes place in the mid-1980s, the way this is shot and constructed is too modern for the tone it was attempting to set. It buries the flick in a lot of needle drop familiar tunes, which should placate a lot of Gen Xers. But it does so more as a distraction that the idea became anemic somewhere in the middle. It becomes a drawn out skit that is painfully uneven. I found myself sighing how wonderfully funny this could've been. Wasted are the chops of Margo Matindale, Ehren Ehrenreich and O'Shea Jackson Jr. Who seem to have lines spoonfed to them in an awkward attempt to make them more human. People don't act this way. And if they do in this universe, perhaps have it boil down to one adventure and not four. You have -- Father/Son/Friend drug dealers, Woman Looking for her kid in the woods, Punks harassing campers as Park Ranger thwarts them, Local cop leaving to investigate where the cocaine disappeared. There is just too much movie here. And EVERYONE cracks wise.All to the truly wasted talent of Keri Russell. She plays a mother who is desperate to find her daughter in this madcapped mess.I'm not sure what Banks's motivation was to make this. Perhaps it was just to make something dumb and fun. It is neither of those. It seems, midway through, to truly take itself too seriously. The cocaine jokes are tiring. We get it, people on cocaine are funny (I guess). That trope is so drained of nuance it was ballsy to attempt to resuscitate it. Instead, this is a bland comedy. Worst that we feel nothing when these despicable people do dumb things and are done away with by the bear.Though only under 100 minutes this felt VERY long. Prologuing it with a joke about Europeans first encountering the bear. Ugh.Make it stop.\n",
            "...And it's very good at being just that.Granted, I really didn't expect a lot from a film called Cocaine Bear. What I did expect was some satisfying creature violence and some darkly humorous comedy to pad the time between the carnage. And the film 100% delivered on these fronts.I truly appreciated that the script wasted no time. We get to see our titular monster bear in action from the opening scene, then we get the bear minimum (pun intended) of character exposition for all the people who may or may not get mauled, and we're off to the races for more bloody fun.And oh, it's pretty fun. The CGI for the bear is shockingly good at times, and the gore is always impressive. It's not shown all the time, which was smart of them. It's only really shown at brief moments for maximum shock. Elizabeth Banks actually does have a knack for this, as it turns out. Color me pleasantly surprised.Of course, not all the characters get to shine. Would you expect them to? Most of them are pretty disposable. But even the inconsequential ones get fun personalities and all the actors give it their all and are clearly having fun, no matter how small their roles.What did surprise me most was that the film actually does give the true lead characters some heartfelt beats and emotional lessons that they take away from their horrific day in the woods.One man learns to appreciate his friends amidst his grief, another learns to stand up for what's right, a mother and daughter learn to prioritise each other, etc. It's nothing groundbreaking or powerful by any means, but it did make me feel something.And I truly did not expect a movie called Cocaine Bear to make me feel anything. The film won't be a timeless classic, but it's a really good time at the movies.And Y'know what? If it's not trying to be anything other than that, I'm perfectly happy with it.\n",
            "Cocaine Bear is very self aware which is exactly what should be expected from a movie with that title but the problem is that it doesn't make it funny. Pretty much none of the jokes landed for me and the movie looked very plain and uninteresting. For a movie set in the 80s I would expect more flair and a better energy from it. I think that problem comes down mainly to the director, Elizabeth Banks. I think she has no sense of comedic timing and her movies look very bland. Additionally, the cast is underwhelming as they weren't the right people to bring the necessary charisma and energy into the movie. A film like Cocaine Bear needs character actors that can liven up the movie whilst chewing the scenery. We get some of that but this movie needed guys like Nicolas Cage or Gary Busey to go make it live up to its title.Furthermore, the character dynamics and their plots are not what I was looking for. Instead of a family story this should have just followed a few groups of cops and gangsters, maybe some junkies looking for the lost cocaine and getting mauled by the bear. Now, it does sort of happen but the movie tried to have too much of a feel-good story with nice characters that just didn't fit. What it needed was that 70s/80s sleaze that some schlock movies from that era used to have where the majority of the characters are corrupt and we just want the bear to murder them all. That's not to say Cocaine Bear is all bad. I did appreciate some of the gore and despite me complaining about the cast, some of them did a good job like Ray Liotta who fit the movie well but wasn't allowed to do much in it. Also it's nice to get an R-rated movie in the cinema instead of the usual watered down family entertainment that gets released constantly. On top of that, it's nice and short although it does drag a bit. However, I just think the movie could've been more if the director and cast were more suited to the project and if the movie went all out but as it stands it's just bearable.\n"
          ]
        }
      ],
      "source": [
        "# Write your code here\n",
        "\n",
        "import requests\n",
        "from bs4 import BeautifulSoup\n",
        "\n",
        "# URL of the IMDB page for Cocaine Bear\n",
        "url = \"https://www.imdb.com/title/tt14209916/reviews/?ref_=tt_ql_2\"\n",
        "\n",
        "# Send a GET request to the URL\n",
        "response = requests.get(url)\n",
        "\n",
        "# Parse the HTML content using Beautiful Soup\n",
        "soup = BeautifulSoup(response.content, \"html.parser\")\n",
        "\n",
        "# Find all the user reviews on the page\n",
        "reviews = soup.find_all(\"div\", class_=\"lister-item-content\")\n",
        "\n",
        "# Print the text of each review\n",
        "imdb_reviews = []\n",
        "for review in reviews:\n",
        "    text = review.find(\"div\", class_=\"text\").text.strip()\n",
        "    imdb_reviews.append(text)\n",
        "    print(text)\n",
        "\n",
        "\n",
        "\n"
      ]
    },
    {
      "cell_type": "code",
      "source": [
        "df = pd.DataFrame({'user_reviews': imdb_reviews})\n",
        "\n",
        "#save the dataframe on a csv file\n",
        "df.to_csv('user_reviews.csv')\n",
        "df.head()\n"
      ],
      "metadata": {
        "colab": {
          "base_uri": "https://localhost:8080/",
          "height": 206
        },
        "id": "bbmW87XDUnkx",
        "outputId": "a3426fe2-5505-4b74-e763-b92f9dceed7f"
      },
      "execution_count": 20,
      "outputs": [
        {
          "output_type": "execute_result",
          "data": {
            "text/plain": [
              "                                        user_reviews\n",
              "0  Ummmmm, where do I begin. I didn't watch any t...\n",
              "1  Cocaine Bear promised so much but just didn't ...\n",
              "2  I first groaned and rolled my eyes when I hear...\n",
              "3  If you go down to the woods today you're sure ...\n",
              "4  This film is exactly what you think it is. It'..."
            ],
            "text/html": [
              "\n",
              "  <div id=\"df-ae033dec-5fa4-48e8-83f4-a4051ae0c172\">\n",
              "    <div class=\"colab-df-container\">\n",
              "      <div>\n",
              "<style scoped>\n",
              "    .dataframe tbody tr th:only-of-type {\n",
              "        vertical-align: middle;\n",
              "    }\n",
              "\n",
              "    .dataframe tbody tr th {\n",
              "        vertical-align: top;\n",
              "    }\n",
              "\n",
              "    .dataframe thead th {\n",
              "        text-align: right;\n",
              "    }\n",
              "</style>\n",
              "<table border=\"1\" class=\"dataframe\">\n",
              "  <thead>\n",
              "    <tr style=\"text-align: right;\">\n",
              "      <th></th>\n",
              "      <th>user_reviews</th>\n",
              "    </tr>\n",
              "  </thead>\n",
              "  <tbody>\n",
              "    <tr>\n",
              "      <th>0</th>\n",
              "      <td>Ummmmm, where do I begin. I didn't watch any t...</td>\n",
              "    </tr>\n",
              "    <tr>\n",
              "      <th>1</th>\n",
              "      <td>Cocaine Bear promised so much but just didn't ...</td>\n",
              "    </tr>\n",
              "    <tr>\n",
              "      <th>2</th>\n",
              "      <td>I first groaned and rolled my eyes when I hear...</td>\n",
              "    </tr>\n",
              "    <tr>\n",
              "      <th>3</th>\n",
              "      <td>If you go down to the woods today you're sure ...</td>\n",
              "    </tr>\n",
              "    <tr>\n",
              "      <th>4</th>\n",
              "      <td>This film is exactly what you think it is. It'...</td>\n",
              "    </tr>\n",
              "  </tbody>\n",
              "</table>\n",
              "</div>\n",
              "      <button class=\"colab-df-convert\" onclick=\"convertToInteractive('df-ae033dec-5fa4-48e8-83f4-a4051ae0c172')\"\n",
              "              title=\"Convert this dataframe to an interactive table.\"\n",
              "              style=\"display:none;\">\n",
              "        \n",
              "  <svg xmlns=\"http://www.w3.org/2000/svg\" height=\"24px\"viewBox=\"0 0 24 24\"\n",
              "       width=\"24px\">\n",
              "    <path d=\"M0 0h24v24H0V0z\" fill=\"none\"/>\n",
              "    <path d=\"M18.56 5.44l.94 2.06.94-2.06 2.06-.94-2.06-.94-.94-2.06-.94 2.06-2.06.94zm-11 1L8.5 8.5l.94-2.06 2.06-.94-2.06-.94L8.5 2.5l-.94 2.06-2.06.94zm10 10l.94 2.06.94-2.06 2.06-.94-2.06-.94-.94-2.06-.94 2.06-2.06.94z\"/><path d=\"M17.41 7.96l-1.37-1.37c-.4-.4-.92-.59-1.43-.59-.52 0-1.04.2-1.43.59L10.3 9.45l-7.72 7.72c-.78.78-.78 2.05 0 2.83L4 21.41c.39.39.9.59 1.41.59.51 0 1.02-.2 1.41-.59l7.78-7.78 2.81-2.81c.8-.78.8-2.07 0-2.86zM5.41 20L4 18.59l7.72-7.72 1.47 1.35L5.41 20z\"/>\n",
              "  </svg>\n",
              "      </button>\n",
              "      \n",
              "  <style>\n",
              "    .colab-df-container {\n",
              "      display:flex;\n",
              "      flex-wrap:wrap;\n",
              "      gap: 12px;\n",
              "    }\n",
              "\n",
              "    .colab-df-convert {\n",
              "      background-color: #E8F0FE;\n",
              "      border: none;\n",
              "      border-radius: 50%;\n",
              "      cursor: pointer;\n",
              "      display: none;\n",
              "      fill: #1967D2;\n",
              "      height: 32px;\n",
              "      padding: 0 0 0 0;\n",
              "      width: 32px;\n",
              "    }\n",
              "\n",
              "    .colab-df-convert:hover {\n",
              "      background-color: #E2EBFA;\n",
              "      box-shadow: 0px 1px 2px rgba(60, 64, 67, 0.3), 0px 1px 3px 1px rgba(60, 64, 67, 0.15);\n",
              "      fill: #174EA6;\n",
              "    }\n",
              "\n",
              "    [theme=dark] .colab-df-convert {\n",
              "      background-color: #3B4455;\n",
              "      fill: #D2E3FC;\n",
              "    }\n",
              "\n",
              "    [theme=dark] .colab-df-convert:hover {\n",
              "      background-color: #434B5C;\n",
              "      box-shadow: 0px 1px 3px 1px rgba(0, 0, 0, 0.15);\n",
              "      filter: drop-shadow(0px 1px 2px rgba(0, 0, 0, 0.3));\n",
              "      fill: #FFFFFF;\n",
              "    }\n",
              "  </style>\n",
              "\n",
              "      <script>\n",
              "        const buttonEl =\n",
              "          document.querySelector('#df-ae033dec-5fa4-48e8-83f4-a4051ae0c172 button.colab-df-convert');\n",
              "        buttonEl.style.display =\n",
              "          google.colab.kernel.accessAllowed ? 'block' : 'none';\n",
              "\n",
              "        async function convertToInteractive(key) {\n",
              "          const element = document.querySelector('#df-ae033dec-5fa4-48e8-83f4-a4051ae0c172');\n",
              "          const dataTable =\n",
              "            await google.colab.kernel.invokeFunction('convertToInteractive',\n",
              "                                                     [key], {});\n",
              "          if (!dataTable) return;\n",
              "\n",
              "          const docLinkHtml = 'Like what you see? Visit the ' +\n",
              "            '<a target=\"_blank\" href=https://colab.research.google.com/notebooks/data_table.ipynb>data table notebook</a>'\n",
              "            + ' to learn more about interactive tables.';\n",
              "          element.innerHTML = '';\n",
              "          dataTable['output_type'] = 'display_data';\n",
              "          await google.colab.output.renderOutput(dataTable, element);\n",
              "          const docLink = document.createElement('div');\n",
              "          docLink.innerHTML = docLinkHtml;\n",
              "          element.appendChild(docLink);\n",
              "        }\n",
              "      </script>\n",
              "    </div>\n",
              "  </div>\n",
              "  "
            ]
          },
          "metadata": {},
          "execution_count": 20
        }
      ]
    },
    {
      "cell_type": "code",
      "source": [
        "import nltk\n",
        "nltk.download('stopwords')\n",
        "import os\n",
        "def install_java():\n",
        "  !apt-get install -y openjdk-8-jdk-headless -qq > /dev/null\n",
        "  os.environ[\"JAVA_HOME\"] = \"/usr/lib/jvm/java-8-openjdk-amd64\"\n",
        "  !java -version\n",
        "install_java()\n",
        "!pip install pyLDAvis"
      ],
      "metadata": {
        "colab": {
          "base_uri": "https://localhost:8080/"
        },
        "id": "ie9bjjXG2fyT",
        "outputId": "7a0b1afe-74b4-4899-8372-d96baf889c75"
      },
      "execution_count": 21,
      "outputs": [
        {
          "output_type": "stream",
          "name": "stderr",
          "text": [
            "[nltk_data] Downloading package stopwords to /root/nltk_data...\n",
            "[nltk_data]   Package stopwords is already up-to-date!\n"
          ]
        },
        {
          "output_type": "stream",
          "name": "stdout",
          "text": [
            "openjdk version \"11.0.18\" 2023-01-17\n",
            "OpenJDK Runtime Environment (build 11.0.18+10-post-Ubuntu-0ubuntu120.04.1)\n",
            "OpenJDK 64-Bit Server VM (build 11.0.18+10-post-Ubuntu-0ubuntu120.04.1, mixed mode, sharing)\n",
            "Looking in indexes: https://pypi.org/simple, https://us-python.pkg.dev/colab-wheels/public/simple/\n",
            "Requirement already satisfied: pyLDAvis in /usr/local/lib/python3.9/dist-packages (3.4.0)\n",
            "Requirement already satisfied: joblib>=1.2.0 in /usr/local/lib/python3.9/dist-packages (from pyLDAvis) (1.2.0)\n",
            "Requirement already satisfied: scikit-learn>=1.0.0 in /usr/local/lib/python3.9/dist-packages (from pyLDAvis) (1.2.2)\n",
            "Requirement already satisfied: pandas>=1.3.4 in /usr/local/lib/python3.9/dist-packages (from pyLDAvis) (1.4.4)\n",
            "Requirement already satisfied: numpy>=1.22.0 in /usr/local/lib/python3.9/dist-packages (from pyLDAvis) (1.22.4)\n",
            "Requirement already satisfied: scipy in /usr/local/lib/python3.9/dist-packages (from pyLDAvis) (1.10.1)\n",
            "Requirement already satisfied: gensim in /usr/local/lib/python3.9/dist-packages (from pyLDAvis) (4.3.1)\n",
            "Requirement already satisfied: setuptools in /usr/local/lib/python3.9/dist-packages (from pyLDAvis) (67.6.1)\n",
            "Requirement already satisfied: numexpr in /usr/local/lib/python3.9/dist-packages (from pyLDAvis) (2.8.4)\n",
            "Requirement already satisfied: jinja2 in /usr/local/lib/python3.9/dist-packages (from pyLDAvis) (3.1.2)\n",
            "Requirement already satisfied: funcy in /usr/local/lib/python3.9/dist-packages (from pyLDAvis) (2.0)\n",
            "Requirement already satisfied: pytz>=2020.1 in /usr/local/lib/python3.9/dist-packages (from pandas>=1.3.4->pyLDAvis) (2022.7.1)\n",
            "Requirement already satisfied: python-dateutil>=2.8.1 in /usr/local/lib/python3.9/dist-packages (from pandas>=1.3.4->pyLDAvis) (2.8.2)\n",
            "Requirement already satisfied: threadpoolctl>=2.0.0 in /usr/local/lib/python3.9/dist-packages (from scikit-learn>=1.0.0->pyLDAvis) (3.1.0)\n",
            "Requirement already satisfied: smart-open>=1.8.1 in /usr/local/lib/python3.9/dist-packages (from gensim->pyLDAvis) (6.3.0)\n",
            "Requirement already satisfied: MarkupSafe>=2.0 in /usr/local/lib/python3.9/dist-packages (from jinja2->pyLDAvis) (2.1.2)\n",
            "Requirement already satisfied: six>=1.5 in /usr/local/lib/python3.9/dist-packages (from python-dateutil>=2.8.1->pandas>=1.3.4->pyLDAvis) (1.16.0)\n",
            "\u001b[31mERROR: Operation cancelled by user\u001b[0m\u001b[31m\n",
            "\u001b[0m"
          ]
        }
      ]
    },
    {
      "cell_type": "code",
      "source": [
        "!pip install --upgrade gensim\n",
        "import requests\n",
        "from bs4 import BeautifulSoup\n",
        "import re\n",
        "import pandas as pd\n",
        "import numpy as np\n",
        "import itertools\n",
        "import lxml.html as LH\n",
        "import urllib.request as urllib2\n",
        "from bs4 import BeautifulSoup\n",
        "import spacy.cli\n",
        "spacy.cli.download(\"en\")"
      ],
      "metadata": {
        "colab": {
          "base_uri": "https://localhost:8080/"
        },
        "id": "6stfQmoFPiaq",
        "outputId": "43314314-f54e-4470-91f2-c69cf4ad2988"
      },
      "execution_count": 22,
      "outputs": [
        {
          "output_type": "stream",
          "name": "stdout",
          "text": [
            "Looking in indexes: https://pypi.org/simple, https://us-python.pkg.dev/colab-wheels/public/simple/\n",
            "Requirement already satisfied: gensim in /usr/local/lib/python3.9/dist-packages (4.3.1)\n",
            "Requirement already satisfied: smart-open>=1.8.1 in /usr/local/lib/python3.9/dist-packages (from gensim) (6.3.0)\n",
            "Requirement already satisfied: scipy>=1.7.0 in /usr/local/lib/python3.9/dist-packages (from gensim) (1.10.1)\n",
            "Requirement already satisfied: numpy>=1.18.5 in /usr/local/lib/python3.9/dist-packages (from gensim) (1.22.4)\n",
            "\u001b[38;5;3m⚠ As of spaCy v3.0, shortcuts like 'en' are deprecated. Please use the\n",
            "full pipeline package name 'en_core_web_sm' instead.\u001b[0m\n",
            "\u001b[38;5;2m✔ Download and installation successful\u001b[0m\n",
            "You can now load the package via spacy.load('en_core_web_sm')\n"
          ]
        }
      ]
    },
    {
      "cell_type": "code",
      "source": [
        "import re\n",
        "import numpy as np\n",
        "import pandas as pd\n",
        "from pprint import pprint\n",
        "import gensim\n",
        "import gensim.corpora as corpora\n",
        "from gensim.utils import simple_preprocess\n",
        "from gensim.models import CoherenceModel\n",
        "import spacy\n",
        "import pyLDAvis\n",
        "import pyLDAvis.gensim_models  \n",
        "import matplotlib.pyplot as plt\n",
        "%matplotlib inline\n",
        "import logging\n",
        "logging.basicConfig(format='%(asctime)s : %(levelname)s : %(message)s', level=logging.ERROR)\n",
        "import warnings\n",
        "warnings.filterwarnings(\"ignore\",category=DeprecationWarning)"
      ],
      "metadata": {
        "id": "NCF_FRrpPzDP"
      },
      "execution_count": 23,
      "outputs": []
    },
    {
      "cell_type": "code",
      "source": [
        "from nltk.corpus import stopwords\n",
        "stop_words = stopwords.words('english')\n",
        "stop_words.extend(['from', 'subject', 're', 'edu', 'use'])\n",
        "data_word = df.user_reviews.tolist()\n",
        "data_word\n"
      ],
      "metadata": {
        "colab": {
          "base_uri": "https://localhost:8080/"
        },
        "id": "IdRRjCIswJum",
        "outputId": "641966c0-3d6d-4181-ffef-76dc151d1bc5"
      },
      "execution_count": 49,
      "outputs": [
        {
          "output_type": "execute_result",
          "data": {
            "text/plain": [
              "['Ummmmm, I begin. I watch trailers read reviews. I saw poster title thought, \"I\\'m definitely watching that.\" After seeing it, I say confidence exactly movie named Cocaine Bear be.Aside extremely fun outrageous thriller, movie hysterical. I full-volume laughing frequently. So many parts perfect combination memorable hilarious. It knows exactly doing.The thing made happy seeing studio courage allow filmmakers go out. I compare M3gan going similar tone. But M3gan toned PG-13 teens could watch. Cocaine Bear rated R absolutely be. It\\'s gratuitous never feels like holding back.I blast movie. If title premise intrigue you, likely pleased. (1 viewing, opening Thursday 2/23/2023)',\n",
              " 'Cocaine Bear promised much hit spot me.There many characters opinion becomes bit chore breaks things little much. If focus couple characters protagonists would better.The humour always work me. Sometimes good fell flat little often.The central premise great go far enough opinion. I feel like lot fun concept. Although saying wildly fun gruesome body horror moments, effects bear injury detail top notch.Overall bit let down. This film mostly fun expected, premise wears little thin come third act. Not quite riotous spectacle I hoping for.',\n",
              " \"I first groaned rolled eyes I heard made film bear cocaine, named Cocaine Bear. I Googled name look trailer, stumbled Wikipedia page I learned movie loosely based actual events, that's sold give watch. If fact bear actually found cocaine months funny enough alone give film watch, I know is.I'm glad filmmakers producers took already hilarious true concept, made film ridiculously funny. It's I've heard entire theatre burst laughter many times. The entire film simply put, comedy gold. The story could've little tighter subplots, casting various colorful characters performances made writing issues.The 95 min runtime right, pacing, soundtrack awesome spot-on era. This truly one rare ridiculous films actually worked. It's fun ride start finish. Final fun fact; actual taxidermied bear found Kentucky Fun Mall Kentucky USA.\",\n",
              " \"If go woods today sure big surprise, mother bear's opened bag cocaine reaching skies, made somewhat volatile temper wont abate, catches hold remould limbs amputate.It's worst film drug addled bear high kite cocaine come across, probably last, variations theme bound come along multiform. Quite often amusing, various appendages body parts removed claw tooth, fine performances round must fun movie direct make.\",\n",
              " \"This film exactly think is. It's bear cocaine going crazy woods. That mean good. It's actually surprisingly good.It's good thriller. You're edge seat edge seat, laughing ass off.The cast actually unrelated. Keri Russell phenomenal. Alden Ehrenreich And O'Shea Jackson Jr (Ice Cube's son) great together great chemistry.The production value definitely super high budget film. But look bad. The editing well done especially action scenes CGI actually pretty good.\",\n",
              " 'Curious \"Cocaine bear?\" It could either brilliant terrible, is.Those hoping top, hilarious horror movie take seriously (like us) beyond disappointed. Its like good idea here, went way avoid it.There jokes, they\\'re cringey. There action. But CGI mixed. What anything get invested in. There\\'s characters care about. Mostly walking around woods talking. Then there\\'s bear. Who gets couple good kills passes out.Boring worst thing movie could been. But stuff early movie also done extremely bad taste. This set bar low cinema audience maybe laughed rest longest hour half ever.',\n",
              " \"I wrong. Other good gore scenes, I scored 1, thing horrible. I think I might chuckled once, perhaps garners half star, that, I find comedy all. You'll laugh harder watching 'Goodfellas', one Liotta's decent works (among many).I realize going focus kid actors, hard tried, simply funny, probably given anything funny work with. Certainly 'Sandlot' proves make kid-centric comedy, kids' fault. As adults, cared less happened them. The movie would far interesting met demise paws bear.So basically, enough comedy comedy fans, enough gore gore fans, discernible drama drama fans. Essentially, bunch you've-seen-this-before scenes occasional bear attack. I say bear looked good. Huge disappointment.\",\n",
              " \"I got Cocaine Bear.This movie awful. I hoping 'so bad good' type movie, I laugh absurdity all, giant bear done cocaine rips everybody apart!! You know nice bit gore/comedy. It even failed level. I laugh once, plain bad. I fun three Sharknado movies, let sink in!!It's funny, intense scary. I spent time trying figure I knew mother (It's Bon Jovi music video Always) likewise daughter (She young girl The Turning)At one point I checked watch see long left, nothing seemed happening, half hour in. I thought least double that.We spend time bunch human characters, I care about, stakes all. Ray Liotta The guy played Han Solo Solo bigger role son. Jesse Tyler Fergurson (from Modern Family) small role, standout Margo Metindale ranger. But low bar, acting great.There one Sly Stallone related thing, I waited see pay to, wasn't!! I bothered that, human characters.It's dialogue cringe, violence tame nothing wrote home about, funny. The trailer suggested dark horror comedy. This movie live trailer .As Elizabeth Banks.... I preferred Charlies AngelsAn unfunny (I'm sure trying be, actors seemed think comedy, based performances) badly edited, dull, waste talent time. This goes worst year list.\",\n",
              " \"'Cocaine Bear' exactly says box - film black bear Georgia, USA, gets high cocaine dumped forest goes rampage. Very loosely based true story, illegal drugs actually thrown plane killed bear. Needless say, bear CGI. The cast surprisingly strong, main cast 'The Americans' present - Russell, Rhys & Martindale - along Ehrenreich (from 'Solo'), Jackson Jr (from 'Obi-Wan Kenobi'), Whitlock Jr (from heaps stuff) & Ray Liotta's final ever role.Even though funny parts, there's probably enough consistently funny jokes moments true comedy. Likewise horror/thriller aspect - there's scary moments, nothing sustained truly horrific. A bit gore I think death tally reached 9 end, probably needed reach actual horror territory.It's basically creature feature, I'd put alongside 'The Meg' 'Piranha 3D', rather 'Jaws' 'King Kong'. The cast likeable, skills severely underutilised. The score good shots Chattahoochee forest nice. The ending bit underwhelming much family drama.\",\n",
              " 'I really wanted like movie I can\\'t. I hoping sort non stop crazed coked bear I really got boring.After opening bit get 30 minutes drawn \"set up\" bad except pay off.I might chuckled one time snooze fest wasted far much time scenes like lame fight bathroom, police officer new dog park ranger dolling try hit gayest man world.If seen trailer seen 90% best stuff offer.',\n",
              " 'Cocaine Bear story bear takes much cocaine stuff like dance, wiggle, kill, kill, kill. It 12 characters never delve deep somehow end involved bear lot death, comedy, bizarre scenes. The film incredibly strange exactly funny, heartwarming, scary...yet delves three sort keeps smiling kind bizarrely focused enjoying yourself. Also, classic final film legendary Ray Liotta - TBH wroth seeing see legendary Ray final role.',\n",
              " \"After watching full movie I realised two minutes long intro tells everything happens. And nothing else really happen. Visuals: could've better, Storyline: second none, Casting: okay-ish, Characters: elaborate, Horror factor: basic, grade E+, Funniness: might contain easy digest jokes, that's all. If primarily horror movie, frightening unpredictable. If primarily comedy, way funnier. It fails both, I'm sad say (maybe I high expectations), missed shot again.\",\n",
              " 'What wild ride! The \"ambulance scene\" alone makes movie worth watch. Totally insane, scary, funny gory. The bear really well made scenes bananas. A lot different characters throughout movie. They sub plot blend pretty well. When tends drag little bit bear always pops fun kills always entertaining goofy. Great directing, special effects acting. Most easy jokes landed, whole theatre laughing loud entire movie. A good comedy horror entry. Nothing revolutionary ultimately really fun popcorn movie.',\n",
              " \"Cocaine Bear offers little beyond trailers terms originality, flashiness, cleverness, offer same...and lot it. Chances are, however interpret trailers however feel determine enjoy movie. If ready leave-your-brain-at-home 80's adventure slasher gore (sans human antagonist) corny punchlines, ticket. I would lying I said I occasional chuckle, truth told, SFX company Weta's bear animations uncomfortably realistic times. Ultimately though, I found several times throughout brisk 95 minute runtime wishing film would tingle brain abstractions never came.My advice? If like trailer, see theaters. If indifferent trailer, wait hits streaming.\",\n",
              " 'Come \"Cocaine\" ...stay \"Bear.\" I certain HUGE hit. They may already working sequels. Allow suggest:Cocaine Bear 2: Mushroom Bear (Trippin\\' psilocybin)Cocaine Bear 3: Molly Bear (Luvs everybody)Cocaine Bear 4: Cannabis Bear (Uncontrollable munchies)Cocaine Bear 5: Viagra Bear (self-explanatory)The title pretty much tells kind movie expect delivers promised. If expect much ...then may disappointed, I think anyone going see film expecting Oscar-worthy meaningful masterpiece. Yeah, I guess movie could better (definitely 10-star film), compared things category; I think average effort made produce something entertaining.I predict \"Cocaine Bear\" films become quite successful franchise. I\\'m actually kicking right thinking: \"Why I come first?!\"',\n",
              " \"Yh I knew Going Happen. Sigh 😔.Problems Movie -1. The Feel Movie Flat Hell.2. The First Half Movie Boring Hell.3. The Bathroom Fight Unspeakably Bad.4. It Takes Long Get Going. And get going, good enough.5. Almost All Jokes Don't Land.6. Almost All Characters Boring Hell.The 2 Good Things I Liked -1. The Ambulance Scene 🚑2. The Detective Top Wooden Building, Shoots Off 2 Fingers Scene.Overall, basically waste time watch Movie 👎. Not Making Unfunny Comedy would Probably Better Choice.\",\n",
              " \"I understand make movie like 'Cocaine Bear' can't take seriously else death sentence movie. There way make film silly fun without making completely unbearable (I'm sorry) anyone 11 years old enjoy, however. And film that.I love comedy-horror done right. I've found key getting films right though humour. The horror elements always hit miss, audience laughing along way forgive imperfections horror. I laugh 'Cocaine Bear'. The editing strange. It kept stepping jokes. Every time line could've potentially funny came would quickly cut next scene time breathe, almost film embarrassed standard joke.So funny really bear scenes look forward to. There decent kills I give movie credit that. It afraid quite brutal times. But CGI bear looked awful really took lot scenes.I go 'Cocaine Bear' expecting masterpiece, I also go expecting checking watch multiple times 95 minute film. This disappointing effort. 4/10.\",\n",
              " \"I love cheesy low budget movies. The low budget usually means film makers need get creative lead wild ,fun movies. Unfortunately, get creative, stuck movie hard watch.Cocaine Bear bright spots. It's great premise movie. There good scenes grab attention make laugh. But there's much dead space. It feels like good key scenes mind, like ambulance scene, wrote rest movie around them. So cool scenes rest filler.That's really sad making movie called Cocaine Bear fun entertaining movie slam dunk. Hollywood made cheesy, low budget Nature Goes Haywire type movies decades. Some drek. But entertaining. The creators plenty moves choose give idea type film works.I want give shout Jesse Tyler Ferguson He got spirit thing character fun. But overall many gaps anything fun interesting. Cocaine Bear get high enough.\",\n",
              " 'What terrible movie. So glad friend paid ticket. The trailer makes bear ate cocaine went rampage. But trailers show instead get introduced endless characters movie becomes random people.From drug dealers, ranger others. You \"bearly\" get see bear all. Which ends making movie beyond boring. Unless want see stories people.Admittedly I expectation movie. I knew I lose brain cells watching it. If want horror movie, go watch something else. If want save time, read actual story cocaine bear. Sure, story short, stupid interesting. But still better movie. Hollywood ideas.',\n",
              " \"The first waste time movie seen cinema I even want watch it, I got roped seeing friend I am.This short I care talk film real depth none begin with.Now go cinema watch something called Cocaine Bear expect master piece goodness film desperate entertaining funny, definitely not.The characters inconsequential uninteresting actors give good performances, hell even child actors performed well characters cares.But called Cocaine Bear really I doubt anyone came interesting characters rather came see coked bear stupid s**t. Which precisely film provides.The kills gruesome pretty funny times, bear surprisingly well done. By I mean cgi, I must admit really good. From budget $35 million impressive. They must've spent $1 mill cast, crew, marketing, $34 mill bears cgi friend I joked.Anyway film provides exactly advertised nothing more. But boring, stupid, uninteresting. I understand passes entertainment days whatever, simply put me.IMDb: 4/10 Letterboxd: 2/5Watched Theaters.\",\n",
              " \"This fun ride first little while, shoehorned villain-arc later half. It much story ludicrous premise support.We also really needed see kids outrageous, DEFINITELY needed Margo Martindale's park ranger! What waste incredible talent!The film would lot better focused kids instead following Keri Russell's blandly forgettable nurse around, mention crooks whose entire story-arc felt wholly unnecessary.5/10 Stars. I enjoyed opening first half, bored tears end.\",\n",
              " 'Movie scary funny, ultimately huge waste time.Gore pretty subdued, often cutting away gnarliest parts film failed horror/gore fest.Humor SNL levels schlocky funny faces, movie really land single joke. Movie completely spineless, afraid rating.Instead watching fun horror comedy, stuck hour dumb character development, mother daughter bonding, friends becoming friends, incredibly lame sub plot overcoming grief.This movie took creative premise somehow managed make streamlined hollywood cash grab I seen years.',\n",
              " \"Director Elizabeth Banks undoubtedly thought premise movie then, perhaps, laughed likely told cast remember making bear cocaine flick fun. But so...bland.The story real life drug smuggling incident ton cocaine dropped sky bear ingests bulk die within minute. This germination story weirdos attempting recover it. Though takes place mid-1980s, way shot constructed modern tone attempting set. It buries flick lot needle drop familiar tunes, placate lot Gen Xers. But distraction idea became anemic somewhere middle. It becomes drawn skit painfully uneven. I found sighing wonderfully funny could've been. Wasted chops Margo Matindale, Ehren Ehrenreich O'Shea Jackson Jr. Who seem lines spoonfed awkward attempt make human. People act way. And universe, perhaps boil one adventure four. You -- Father/Son/Friend drug dealers, Woman Looking kid woods, Punks harassing campers Park Ranger thwarts them, Local cop leaving investigate cocaine disappeared. There much movie here. And EVERYONE cracks wise.All truly wasted talent Keri Russell. She plays mother desperate find daughter madcapped mess.I'm sure Banks's motivation make this. Perhaps make something dumb fun. It neither those. It seems, midway through, truly take seriously. The cocaine jokes tiring. We get it, people cocaine funny (I guess). That trope drained nuance ballsy attempt resuscitate it. Instead, bland comedy. Worst feel nothing despicable people dumb things done away bear.Though 100 minutes felt VERY long. Prologuing joke Europeans first encountering bear. Ugh.Make stop.\",\n",
              " \"...And good that.Granted, I really expect lot film called Cocaine Bear. What I expect satisfying creature violence darkly humorous comedy pad time carnage. And film 100% delivered fronts.I truly appreciated script wasted time. We get see titular monster bear action opening scene, get bear minimum (pun intended) character exposition people may may get mauled, we're races bloody fun.And oh, pretty fun. The CGI bear shockingly good times, gore always impressive. It's shown time, smart them. It's really shown brief moments maximum shock. Elizabeth Banks actually knack this, turns out. Color pleasantly surprised.Of course, characters get shine. Would expect to? Most pretty disposable. But even inconsequential ones get fun personalities actors give clearly fun, matter small roles.What surprise film actually give true lead characters heartfelt beats emotional lessons take away horrific day woods.One man learns appreciate friends amidst grief, another learns stand what's right, mother daughter learn prioritise other, etc. It's nothing groundbreaking powerful means, make feel something.And I truly expect movie called Cocaine Bear make feel anything. The film timeless classic, really good time movies.And Y'know what? If trying anything that, I'm perfectly happy it.\",\n",
              " \"Cocaine Bear self aware exactly expected movie title problem make funny. Pretty much none jokes landed movie looked plain uninteresting. For movie set 80s I would expect flair better energy it. I think problem comes mainly director, Elizabeth Banks. I think sense comedic timing movies look bland. Additionally, cast underwhelming right people bring necessary charisma energy movie. A film like Cocaine Bear needs character actors liven movie whilst chewing scenery. We get movie needed guys like Nicolas Cage Gary Busey go make live title.Furthermore, character dynamics plots I looking for. Instead family story followed groups cops gangsters, maybe junkies looking lost cocaine getting mauled bear. Now, sort happen movie tried much feel-good story nice characters fit. What needed 70s/80s sleaze schlock movies era used majority characters corrupt want bear murder all. That's say Cocaine Bear bad. I appreciate gore despite complaining cast, good job like Ray Liotta fit movie well allowed much it. Also nice get R-rated movie cinema instead usual watered family entertainment gets released constantly. On top that, nice short although drag bit. However, I think movie could've director cast suited project movie went stands bearable.\"]"
            ]
          },
          "metadata": {},
          "execution_count": 49
        }
      ]
    },
    {
      "cell_type": "code",
      "source": [
        "# Build the bigram and trigram models\n",
        "bigram = gensim.models.Phrases(data_word, min_count=5, threshold=100) # higher threshold fewer phrases.\n",
        "trigram = gensim.models.Phrases(bigram[data_word], threshold=100)  \n",
        "\n",
        "bigram_mod = gensim.models.phrases.Phraser(bigram)\n",
        "trigram_mod = gensim.models.phrases.Phraser(trigram)\n",
        "def remove_stopwords(texts):\n",
        "    return [[word for word in simple_preprocess(str(doc)) if word not in stop_words] for doc in texts]\n",
        "\n",
        "def make_bigrams(texts):\n",
        "    return [bigram_mod[doc] for doc in texts]\n",
        "\n",
        "def make_trigrams(texts):\n",
        "    return [trigram_mod[bigram_mod[doc]] for doc in texts]\n",
        "\n",
        "def lemmatization(texts, allowed_postags=['NOUN', 'ADJ', 'VERB', 'ADV']):\n",
        "    \"\"\"https://spacy.io/api/annotation\"\"\"\n",
        "    texts_out = []\n",
        "    for sent in texts:\n",
        "        doc = nlp(\" \".join(sent)) \n",
        "        texts_out.append([token.lemma_ for token in doc if token.pos_ in allowed_postags])\n",
        "    return texts_out\n",
        "data_words_nostops = remove_stopwords(data_words)\n",
        "\n",
        "# Form Bigrams\n",
        "data_words_bigrams = make_bigrams(data_words_nostops)\n",
        "\n",
        "# Initialize spacy 'en' model, keeping only tagger component (for efficiency)\n",
        "# python3 -m spacy download en\n",
        "nlp = spacy.load('en_core_web_sm', disable=['parser', 'ner'])\n",
        "\n",
        "# Do lemmatization keeping only noun, adj, vb, adv\n",
        "data_lemmatized = lemmatization(data_words_bigrams, allowed_postags=['NOUN', 'ADJ', 'VERB', 'ADV'])\n",
        "\n",
        "print(data_lemmatized[:1])\n",
        "\n",
        "\n",
        "\n"
      ],
      "metadata": {
        "colab": {
          "base_uri": "https://localhost:8080/"
        },
        "id": "QaUxAnUixJw0",
        "outputId": "0341f5f6-2130-4f87-ed0d-77fff43053b2"
      },
      "execution_count": 53,
      "outputs": [
        {
          "output_type": "stream",
          "name": "stdout",
          "text": [
            "[['begin', 'watch', 'trailer', 'read', 'review', 'see', 'poster', 'title', 'think', 'definitely', 'watch', 'see', 'say', 'confidence', 'exactly', 'movie', 'name', 'cocaine', 'extremely', 'fun', 'outrageous', 'thriller', 'movie', 'hysterical', 'full', 'volume', 'laugh', 'frequently', 'many', 'part', 'perfect', 'combination', 'memorable', 'hilarious', 'know', 'exactly', 'thing', 'make', 'happy', 'see', 'studio', 'courage', 'allow', 'filmmaker', 'go', 'compare', 'go', 'similar', 'tone', 'tone', 'teen', 'watch', 'cocaine', 'rate', 'absolutely', 'gratuitous', 'never', 'feel', 'hold', 'blast', 'movie', 'title', 'premise', 'intrigue', 'likely', 'pleased', 'view', 'opening', 'thursday']]\n"
          ]
        }
      ]
    },
    {
      "cell_type": "code",
      "source": [
        "\n",
        "id2word = corpora.Dictionary(data_lemmatized)\n",
        "texts = data_lemmatized\n",
        "corpus = [id2word.doc2bow(text) for text in texts]\n",
        "print (corpus[:1])\n",
        "[[(id2word[i], f) for i, f in c] for c in corpus[:1]]\n"
      ],
      "metadata": {
        "colab": {
          "base_uri": "https://localhost:8080/"
        },
        "id": "FKqQTLcgzfww",
        "outputId": "88e3d101-19b3-4a12-f9c1-efede26d1a47"
      },
      "execution_count": 56,
      "outputs": [
        {
          "output_type": "stream",
          "name": "stdout",
          "text": [
            "[[(0, 1), (1, 1), (2, 1), (3, 1), (4, 2), (5, 1), (6, 1), (7, 1), (8, 1), (9, 1), (10, 2), (11, 1), (12, 1), (13, 1), (14, 1), (15, 1), (16, 1), (17, 2), (18, 1), (19, 1), (20, 1), (21, 1), (22, 1), (23, 1), (24, 1), (25, 1), (26, 1), (27, 1), (28, 1), (29, 1), (30, 3), (31, 1), (32, 1), (33, 1), (34, 1), (35, 1), (36, 1), (37, 1), (38, 1), (39, 1), (40, 1), (41, 1), (42, 1), (43, 1), (44, 3), (45, 1), (46, 1), (47, 1), (48, 1), (49, 1), (50, 1), (51, 1), (52, 2), (53, 2), (54, 1), (55, 1), (56, 1), (57, 3)]]\n"
          ]
        },
        {
          "output_type": "execute_result",
          "data": {
            "text/plain": [
              "[[('absolutely', 1),\n",
              "  ('allow', 1),\n",
              "  ('begin', 1),\n",
              "  ('blast', 1),\n",
              "  ('cocaine', 2),\n",
              "  ('combination', 1),\n",
              "  ('compare', 1),\n",
              "  ('confidence', 1),\n",
              "  ('courage', 1),\n",
              "  ('definitely', 1),\n",
              "  ('exactly', 2),\n",
              "  ('extremely', 1),\n",
              "  ('feel', 1),\n",
              "  ('filmmaker', 1),\n",
              "  ('frequently', 1),\n",
              "  ('full', 1),\n",
              "  ('fun', 1),\n",
              "  ('go', 2),\n",
              "  ('gratuitous', 1),\n",
              "  ('happy', 1),\n",
              "  ('hilarious', 1),\n",
              "  ('hold', 1),\n",
              "  ('hysterical', 1),\n",
              "  ('intrigue', 1),\n",
              "  ('know', 1),\n",
              "  ('laugh', 1),\n",
              "  ('likely', 1),\n",
              "  ('make', 1),\n",
              "  ('many', 1),\n",
              "  ('memorable', 1),\n",
              "  ('movie', 3),\n",
              "  ('name', 1),\n",
              "  ('never', 1),\n",
              "  ('opening', 1),\n",
              "  ('outrageous', 1),\n",
              "  ('part', 1),\n",
              "  ('perfect', 1),\n",
              "  ('pleased', 1),\n",
              "  ('poster', 1),\n",
              "  ('premise', 1),\n",
              "  ('rate', 1),\n",
              "  ('read', 1),\n",
              "  ('review', 1),\n",
              "  ('say', 1),\n",
              "  ('see', 3),\n",
              "  ('similar', 1),\n",
              "  ('studio', 1),\n",
              "  ('teen', 1),\n",
              "  ('thing', 1),\n",
              "  ('think', 1),\n",
              "  ('thriller', 1),\n",
              "  ('thursday', 1),\n",
              "  ('title', 2),\n",
              "  ('tone', 2),\n",
              "  ('trailer', 1),\n",
              "  ('view', 1),\n",
              "  ('volume', 1),\n",
              "  ('watch', 3)]]"
            ]
          },
          "metadata": {},
          "execution_count": 56
        }
      ]
    },
    {
      "cell_type": "code",
      "source": [
        "# Build LDA model\n",
        "lda_model = gensim.models.ldamodel.LdaModel(corpus=corpus,\n",
        "                                           id2word=id2word,\n",
        "                                           num_topics=20, \n",
        "                                           random_state=100,\n",
        "                                           update_every=1,\n",
        "                                           chunksize=100,\n",
        "                                           passes=10,\n",
        "                                           alpha='auto',\n",
        "                                           per_word_topics=True)\n",
        "pprint(lda_model.print_topics())\n",
        "doc_lda = lda_model[corpus]"
      ],
      "metadata": {
        "colab": {
          "base_uri": "https://localhost:8080/"
        },
        "id": "IcdG1G9U0HuQ",
        "outputId": "7c303643-bdde-46d2-a91b-b61b5e72cb5f"
      },
      "execution_count": 57,
      "outputs": [
        {
          "output_type": "stream",
          "name": "stdout",
          "text": [
            "[(0,\n",
            "  '0.033*\"movie\" + 0.026*\"go\" + 0.020*\"make\" + 0.013*\"cocaine\" + 0.013*\"get\" + '\n",
            "  '0.013*\"good\" + 0.013*\"bad\" + 0.013*\"come\" + 0.013*\"hell\" + 0.013*\"almost\"'),\n",
            " (1,\n",
            "  '0.054*\"movie\" + 0.027*\"bear\" + 0.027*\"want\" + 0.027*\"story\" + '\n",
            "  '0.018*\"cocaine\" + 0.018*\"get\" + 0.018*\"go\" + 0.018*\"make\" + 0.018*\"watch\" + '\n",
            "  '0.018*\"trailer\"'),\n",
            " (2,\n",
            "  '0.022*\"film\" + 0.022*\"see\" + 0.022*\"story\" + 0.021*\"kill\" + 0.015*\"lot\" + '\n",
            "  '0.015*\"kid\" + 0.015*\"half\" + 0.015*\"arc\" + 0.015*\"need\" + 0.015*\"much\"'),\n",
            " (3,\n",
            "  '0.036*\"film\" + 0.021*\"make\" + 0.021*\"bear\" + 0.014*\"cocaine\" + 0.014*\"fun\" '\n",
            "  '+ 0.014*\"give\" + 0.014*\"funny\" + 0.014*\"hear\" + 0.014*\"find\" + '\n",
            "  '0.014*\"actual\"'),\n",
            " (4,\n",
            "  '0.001*\"cocaine\" + 0.001*\"bear\" + 0.001*\"expect\" + 0.001*\"much\" + '\n",
            "  '0.001*\"film\" + 0.001*\"make\" + 0.001*\"think\" + 0.001*\"movie\" + '\n",
            "  '0.001*\"actually\" + 0.001*\"become\"'),\n",
            " (5,\n",
            "  '0.041*\"movie\" + 0.022*\"make\" + 0.022*\"film\" + 0.018*\"really\" + '\n",
            "  '0.018*\"horror\" + 0.015*\"scene\" + 0.015*\"fun\" + 0.015*\"funny\" + 0.015*\"time\" '\n",
            "  '+ 0.011*\"watch\"'),\n",
            " (6,\n",
            "  '0.030*\"cast\" + 0.015*\"funny\" + 0.015*\"exactly\" + 0.015*\"end\" + '\n",
            "  '0.015*\"horror\" + 0.015*\"probably\" + 0.015*\"moment\" + 0.015*\"bit\" + '\n",
            "  '0.015*\"reach\" + 0.015*\"forest\"'),\n",
            " (7,\n",
            "  '0.022*\"comedy\" + 0.016*\"kid\" + 0.016*\"movie\" + 0.016*\"film\" + 0.016*\"work\" '\n",
            "  '+ 0.016*\"cocaine\" + 0.016*\"think\" + 0.016*\"expect\" + 0.011*\"funny\" + '\n",
            "  '0.011*\"scene\"'),\n",
            " (8,\n",
            "  '0.001*\"film\" + 0.001*\"bear\" + 0.001*\"make\" + 0.001*\"fact\" + 0.001*\"give\" + '\n",
            "  '0.001*\"entire\" + 0.001*\"find\" + 0.001*\"funny\" + 0.001*\"watch\" + '\n",
            "  '0.001*\"hear\"'),\n",
            " (9,\n",
            "  '0.001*\"trailer\" + 0.001*\"offer\" + 0.001*\"kid\" + 0.001*\"feel\" + 0.001*\"arc\" '\n",
            "  '+ 0.001*\"half\" + 0.001*\"need\" + 0.001*\"time\" + 0.001*\"story\" + '\n",
            "  '0.001*\"film\"'),\n",
            " (10,\n",
            "  '0.001*\"good\" + 0.001*\"bear\" + 0.001*\"bad\" + 0.001*\"get\" + 0.001*\"movie\" + '\n",
            "  '0.001*\"cocaine\" + 0.001*\"outbore\" + 0.001*\"ever\" + 0.001*\"half\" + '\n",
            "  '0.001*\"extremely\"'),\n",
            " (11,\n",
            "  '0.001*\"see\" + 0.001*\"movie\" + 0.001*\"title\" + 0.001*\"trailer\" + '\n",
            "  '0.001*\"cocaine\" + 0.001*\"go\" + 0.001*\"tone\" + 0.001*\"watch\" + '\n",
            "  '0.001*\"exactly\" + 0.001*\"never\"'),\n",
            " (12,\n",
            "  '0.001*\"film\" + 0.001*\"watch\" + 0.001*\"character\" + 0.001*\"see\" + '\n",
            "  '0.001*\"cinema\" + 0.001*\"bear\" + 0.001*\"even\" + 0.001*\"funny\" + '\n",
            "  '0.001*\"actor\" + 0.001*\"call\"'),\n",
            " (13,\n",
            "  '0.037*\"movie\" + 0.023*\"cocaine\" + 0.018*\"make\" + 0.016*\"get\" + 0.016*\"bear\" '\n",
            "  '+ 0.016*\"fun\" + 0.009*\"go\" + 0.009*\"laugh\" + 0.009*\"thing\" + 0.009*\"good\"'),\n",
            " (14,\n",
            "  '0.039*\"trailer\" + 0.020*\"time\" + 0.020*\"however\" + 0.020*\"offer\" + '\n",
            "  '0.010*\"movie\" + 0.010*\"bear\" + 0.010*\"see\" + 0.010*\"ticket\" + '\n",
            "  '0.010*\"little\" + 0.010*\"brain\"'),\n",
            " (15,\n",
            "  '0.023*\"primarily\" + 0.023*\"happen\" + 0.023*\"horror\" + 0.023*\"movie\" + '\n",
            "  '0.012*\"long\" + 0.012*\"funniness\" + 0.012*\"realise\" + 0.012*\"high\" + '\n",
            "  '0.012*\"visual\" + 0.012*\"factor\"'),\n",
            " (16,\n",
            "  '0.001*\"time\" + 0.001*\"see\" + 0.001*\"character\" + 0.001*\"funny\" + '\n",
            "  '0.001*\"spend\" + 0.001*\"movie\" + 0.001*\"bad\" + 0.001*\"watch\" + '\n",
            "  '0.001*\"cocaine\" + 0.001*\"human\"'),\n",
            " (17,\n",
            "  '0.048*\"movie\" + 0.019*\"get\" + 0.014*\"time\" + 0.014*\"think\" + '\n",
            "  '0.014*\"character\" + 0.014*\"bad\" + 0.014*\"cocaine\" + 0.011*\"good\" + '\n",
            "  '0.011*\"much\" + 0.011*\"try\"'),\n",
            " (18,\n",
            "  '0.021*\"fun\" + 0.021*\"film\" + 0.020*\"good\" + 0.017*\"expect\" + 0.017*\"get\" + '\n",
            "  '0.017*\"time\" + 0.017*\"character\" + 0.017*\"actually\" + 0.014*\"bear\" + '\n",
            "  '0.011*\"feel\"'),\n",
            " (19,\n",
            "  '0.028*\"film\" + 0.021*\"see\" + 0.021*\"character\" + 0.021*\"watch\" + '\n",
            "  '0.014*\"bear\" + 0.014*\"time\" + 0.014*\"stupid\" + 0.014*\"well\" + 0.014*\"come\" '\n",
            "  '+ 0.014*\"call\"')]\n"
          ]
        }
      ]
    },
    {
      "cell_type": "code",
      "source": [
        "# Compute Coherence Score\n",
        "coherence_model_lda = CoherenceModel(model=lda_model, texts=data_lemmatized, dictionary=id2word, coherence='c_v')\n",
        "coherence_lda = coherence_model_lda.get_coherence()\n",
        "print('\\nCoherence Score: ', coherence_lda)\n"
      ],
      "metadata": {
        "colab": {
          "base_uri": "https://localhost:8080/"
        },
        "id": "6t60iqi3mQSc",
        "outputId": "9d17edc8-d76b-4c00-811e-36c41352da80"
      },
      "execution_count": 65,
      "outputs": [
        {
          "output_type": "stream",
          "name": "stdout",
          "text": [
            "\n",
            "Coherence Score:  0.48467131941924524\n"
          ]
        }
      ]
    },
    {
      "cell_type": "code",
      "source": [
        "# calculating model coherence value for various number of topics to get the best k number\n",
        "def compute_coherence_values(dictionary, corpus, texts, limit, start=2, step=3):\n",
        "    \"\"\"\n",
        "    Parameters:\n",
        "    ----------\n",
        "    dictionary : Gensim dictionary\n",
        "    corpus : Gensim corpus\n",
        "    texts : List of input texts\n",
        "    limit : Max num of topics\n",
        "\n",
        "    Returns:\n",
        "    -------\n",
        "    model_list : List of LDA topic models\n",
        "    coherence_values : Coherence values corresponding to the LDA model with respective number of topics\n",
        "    \"\"\"\n",
        "    coherence_values = []\n",
        "    model_list = []\n",
        "    for num_topics in range(start, limit, step):\n",
        "        model = gensim.models.ldamodel.LdaModel(corpus=corpus,\n",
        "                                           id2word=id2word,\n",
        "                                           num_topics=num_topics, \n",
        "                                           random_state=100,\n",
        "                                           update_every=1,\n",
        "                                           chunksize=100,\n",
        "                                           passes=10,\n",
        "                                           alpha='auto',\n",
        "                                           per_word_topics=True)\n",
        "        model_list.append(model)\n",
        "        coherencemodel = CoherenceModel(model=model, texts=texts, dictionary=dictionary, coherence='c_v')\n",
        "        coherence_values.append(coherencemodel.get_coherence())\n",
        "\n",
        "    return model_list, coherence_values\n",
        "start, limit, step=2, 20, 2\n",
        "model_list, coherence_values = compute_coherence_values(dictionary=id2word, corpus=corpus, texts=data_lemmatized, start=start, limit=limit, step=step)\n",
        "for m, cv in zip(range(start, limit, step), coherence_values):\n",
        "    print(\"Num Topics =\", m, \" has Coherence Value of\", round(cv, 4))\n"
      ],
      "metadata": {
        "colab": {
          "base_uri": "https://localhost:8080/"
        },
        "id": "SDqThBuH9xw2",
        "outputId": "614bacc2-037b-41e0-a3e5-b6bc78a516aa"
      },
      "execution_count": 72,
      "outputs": [
        {
          "output_type": "stream",
          "name": "stdout",
          "text": [
            "Num Topics = 2  has Coherence Value of 0.2981\n",
            "Num Topics = 4  has Coherence Value of 0.3607\n",
            "Num Topics = 6  has Coherence Value of 0.3353\n",
            "Num Topics = 8  has Coherence Value of 0.3951\n",
            "Num Topics = 10  has Coherence Value of 0.3411\n",
            "Num Topics = 12  has Coherence Value of 0.4287\n",
            "Num Topics = 14  has Coherence Value of 0.4257\n",
            "Num Topics = 16  has Coherence Value of 0.3977\n",
            "Num Topics = 18  has Coherence Value of 0.455\n"
          ]
        }
      ]
    },
    {
      "cell_type": "code",
      "source": [
        "sum(coherence_values)/len(coherence_values)"
      ],
      "metadata": {
        "colab": {
          "base_uri": "https://localhost:8080/"
        },
        "id": "DplrKBwV_wEJ",
        "outputId": "fb406737-b274-498c-d281-6c266122f2f4"
      },
      "execution_count": 74,
      "outputs": [
        {
          "output_type": "execute_result",
          "data": {
            "text/plain": [
              "0.3819115018506132"
            ]
          },
          "metadata": {},
          "execution_count": 74
        }
      ]
    },
    {
      "cell_type": "code",
      "source": [
        "optimal_model = model_list[3]\n",
        "model_topics = optimal_model.show_topics(formatted=False)\n",
        "pprint(optimal_model.print_topics(num_words=10))\n"
      ],
      "metadata": {
        "colab": {
          "base_uri": "https://localhost:8080/"
        },
        "id": "ucrecDv2AR3-",
        "outputId": "5b9945bd-faf1-4cf8-a69b-dbf1b4160f74"
      },
      "execution_count": 75,
      "outputs": [
        {
          "output_type": "stream",
          "name": "stdout",
          "text": [
            "[(0,\n",
            "  '0.020*\"movie\" + 0.015*\"go\" + 0.015*\"first\" + 0.015*\"half\" + 0.010*\"get\" + '\n",
            "  '0.010*\"good\" + 0.010*\"feel\" + 0.010*\"story\" + 0.010*\"need\" + 0.010*\"well\"'),\n",
            " (1,\n",
            "  '0.030*\"movie\" + 0.026*\"trailer\" + 0.017*\"bear\" + 0.013*\"want\" + '\n",
            "  '0.013*\"time\" + 0.013*\"story\" + 0.013*\"see\" + 0.009*\"get\" + 0.009*\"cocaine\" '\n",
            "  '+ 0.009*\"make\"'),\n",
            " (2,\n",
            "  '0.021*\"film\" + 0.021*\"expect\" + 0.016*\"fun\" + 0.016*\"bear\" + '\n",
            "  '0.013*\"cocaine\" + 0.013*\"time\" + 0.013*\"character\" + 0.013*\"get\" + '\n",
            "  '0.011*\"much\" + 0.008*\"movie\"'),\n",
            " (3,\n",
            "  '0.021*\"cocaine\" + 0.019*\"make\" + 0.015*\"film\" + 0.015*\"bear\" + '\n",
            "  '0.011*\"actually\" + 0.011*\"fun\" + 0.009*\"find\" + 0.009*\"attempt\" + '\n",
            "  '0.009*\"funny\" + 0.009*\"movie\"'),\n",
            " (4,\n",
            "  '0.014*\"get\" + 0.014*\"time\" + 0.014*\"see\" + 0.014*\"really\" + 0.007*\"movie\" + '\n",
            "  '0.007*\"good\" + 0.007*\"bad\" + 0.007*\"much\" + 0.007*\"set\" + 0.007*\"stuff\"'),\n",
            " (5,\n",
            "  '0.045*\"movie\" + 0.014*\"get\" + 0.014*\"film\" + 0.014*\"character\" + '\n",
            "  '0.013*\"bear\" + 0.013*\"cocaine\" + 0.012*\"make\" + 0.011*\"good\" + 0.010*\"fun\" '\n",
            "  '+ 0.010*\"funny\"'),\n",
            " (6,\n",
            "  '0.017*\"kill\" + 0.013*\"funny\" + 0.013*\"cast\" + 0.013*\"end\" + 0.013*\"final\" + '\n",
            "  '0.009*\"cocaine\" + 0.009*\"bear\" + 0.009*\"film\" + 0.009*\"story\" + '\n",
            "  '0.009*\"see\"'),\n",
            " (7,\n",
            "  '0.017*\"movie\" + 0.016*\"comedy\" + 0.016*\"see\" + 0.016*\"watch\" + 0.012*\"kid\" '\n",
            "  '+ 0.012*\"go\" + 0.009*\"cocaine\" + 0.009*\"make\" + 0.009*\"funny\" + '\n",
            "  '0.009*\"think\"')]\n"
          ]
        }
      ]
    },
    {
      "cell_type": "code",
      "source": [
        "#import pyLDAvis.gensim\n",
        "\n",
        "import pyLDAvis\n",
        "import pyLDAvis.gensim_models as gensimvis\n",
        "pyLDAvis.enable_notebook()\n",
        "\n",
        "\n",
        "LDAvis_prepared = pyLDAvis.gensim_models.prepare(lda_model, corpus, id2word)\n",
        "\n",
        "pyLDAvis.display(LDAvis_prepared)"
      ],
      "metadata": {
        "colab": {
          "base_uri": "https://localhost:8080/",
          "height": 919
        },
        "id": "vWkdz5XNBfFY",
        "outputId": "0377228e-a286-4aac-bf13-4e8da4c03e45"
      },
      "execution_count": 77,
      "outputs": [
        {
          "output_type": "stream",
          "name": "stderr",
          "text": [
            "/usr/local/lib/python3.9/dist-packages/pyLDAvis/_prepare.py:243: FutureWarning: In a future version of pandas all arguments of DataFrame.drop except for the argument 'labels' will be keyword-only.\n",
            "  default_term_info = default_term_info.sort_values(\n"
          ]
        },
        {
          "output_type": "execute_result",
          "data": {
            "text/plain": [
              "<IPython.core.display.HTML object>"
            ],
            "text/html": [
              "\n",
              "<link rel=\"stylesheet\" type=\"text/css\" href=\"https://cdn.jsdelivr.net/gh/bmabey/pyLDAvis@3.4.0/pyLDAvis/js/ldavis.v1.0.0.css\">\n",
              "\n",
              "\n",
              "<div id=\"ldavis_el14751398697747626082531549624\" style=\"background-color:white;\"></div>\n",
              "<script type=\"text/javascript\">\n",
              "\n",
              "var ldavis_el14751398697747626082531549624_data = {\"mdsDat\": {\"x\": [-0.10132158199769163, -0.09386026829171107, -0.12284210456727918, -0.13224161635969675, -0.05747522771095928, -0.06778087852603482, -0.06203315180650823, -0.009532046433274854, 0.04324503226975117, 0.10676940519885068, -0.02810809949662805, 0.1090585723563759, 0.07591143037085907, 0.04662017949076512, 0.04958791333775595, 0.0480657868976279, 0.049319361525459376, 0.048341842961229856, 0.04892406677560595, 0.04935138400550253], \"y\": [-0.0787296274099487, -0.11169478908611478, 0.1088442711842077, 0.020556014829125526, 0.06721411886104997, -0.07815568356029097, 0.03590428702285731, 0.10333942271767234, 0.10901357239089857, -0.020431371808854546, -0.07456261904756406, 0.01684025597105651, -0.08378559013882911, -0.0014948936211357073, -0.001574619721207277, -0.0017176466647772913, -0.002275356111893886, -0.002557561810252068, -0.0024842521926670184, -0.002247931803332499], \"topics\": [1, 2, 3, 4, 5, 6, 7, 8, 9, 10, 11, 12, 13, 14, 15, 16, 17, 18, 19, 20], \"cluster\": [1, 1, 1, 1, 1, 1, 1, 1, 1, 1, 1, 1, 1, 1, 1, 1, 1, 1, 1, 1], \"Freq\": [19.39673097476379, 16.306627232464997, 12.13621713865304, 11.324524746619517, 7.044240440428733, 5.416121034442582, 5.140044403526265, 4.895567865225166, 4.82445998665489, 4.57473277018059, 3.4117127447886744, 3.066667019771943, 2.2736580582861334, 0.02852888854642465, 0.02728026912155821, 0.027238192951819437, 0.027002456257443658, 0.026834372374512812, 0.025961592380015854, 0.025849812561902243]}, \"tinfo\": {\"Term\": [\"movie\", \"film\", \"trailer\", \"make\", \"horror\", \"story\", \"see\", \"time\", \"cast\", \"watch\", \"get\", \"think\", \"bear\", \"go\", \"fun\", \"really\", \"expect\", \"bad\", \"want\", \"character\", \"funny\", \"actually\", \"much\", \"good\", \"joke\", \"comedy\", \"lot\", \"feel\", \"kill\", \"bit\", \"attempt\", \"rest\", \"tone\", \"extremely\", \"likely\", \"drop\", \"low\", \"idea\", \"perhaps\", \"early\", \"isthose\", \"avoid\", \"invest\", \"curious\", \"mix\", \"walk\", \"brilliant\", \"taste\", \"studio\", \"outbore\", \"volume\", \"teen\", \"gratuitous\", \"similar\", \"poster\", \"pleased\", \"intrigue\", \"frequently\", \"confidence\", \"thursday\", \"hilarious\", \"budget\", \"people\", \"seriously\", \"dumb\", \"creative\", \"type\", \"way\", \"thing\", \"cocaine\", \"movie\", \"fun\", \"make\", \"feel\", \"premise\", \"get\", \"laugh\", \"bear\", \"entertain\", \"wood\", \"title\", \"scene\", \"joke\", \"take\", \"go\", \"good\", \"bad\", \"watch\", \"see\", \"film\", \"do\", \"fit\", \"live\", \"guy\", \"plain\", \"energy\", \"nice\", \"family\", \"f\", \"boringafter\", \"gayest\", \"police\", \"dog\", \"park\", \"dolle\", \"snooze\", \"craze\", \"new\", \"officer\", \"list\", \"angelsan\", \"music\", \"scenery\", \"thatwe\", \"charlie\", \"prefer\", \"point\", \"badly\", \"sly\", \"related\", \"dialogue\", \"bring\", \"try\", \"sort\", \"role\", \"spend\", \"problem\", \"director\", \"human\", \"bad\", \"movie\", \"think\", \"look\", \"need\", \"get\", \"bit\", \"much\", \"hope\", \"time\", \"set\", \"seem\", \"character\", \"trailer\", \"cast\", \"instead\", \"see\", \"cocaine\", \"good\", \"comedy\", \"funny\", \"go\", \"bear\", \"really\", \"well\", \"laugh\", \"waste\", \"make\", \"actor\", \"opinion\", \"action\", \"seat\", \"edge\", \"learn\", \"intend\", \"moviesand\", \"script\", \"personality\", \"wildly\", \"humorous\", \"satisfy\", \"woodsone\", \"pun\", \"clearly\", \"lesson\", \"darkly\", \"funand\", \"one\", \"perfectly\", \"matter\", \"exposition\", \"monster\", \"prioritise\", \"shine\", \"surprisedof\", \"carnage\", \"beat\", \"brief\", \"race\", \"riotous\", \"show\", \"actually\", \"cgi\", \"great\", \"appreciate\", \"expect\", \"little\", \"moment\", \"good\", \"fun\", \"pretty\", \"mean\", \"time\", \"character\", \"film\", \"get\", \"call\", \"feel\", \"truly\", \"really\", \"always\", \"bear\", \"premise\", \"bit\", \"lot\", \"cocaine\", \"make\", \"much\", \"give\", \"completely\", \"cut\", \"sub\", \"afraid\", \"timegore\", \"spineless\", \"single\", \"subdue\", \"cash\", \"face\", \"schlocky\", \"snl\", \"ratinginstead\", \"bonding\", \"streamlined\", \"manage\", \"gnarliest\", \"development\", \"overcome\", \"gory\", \"whole\", \"loud\", \"pop\", \"special\", \"entry\", \"popcorn\", \"insane\", \"worth\", \"tend\", \"blend\", \"ultimately\", \"plot\", \"year\", \"horror\", \"always\", \"really\", \"scary\", \"land\", \"movie\", \"make\", \"film\", \"scene\", \"joke\", \"take\", \"funny\", \"time\", \"laugh\", \"fun\", \"friend\", \"right\", \"way\", \"watch\", \"comedy\", \"kill\", \"pretty\", \"lot\", \"bear\", \"cocaine\", \"well\", \"character\", \"go\", \"expect\", \"fan\", \"sandlot\", \"bearso\", \"goodfella\", \"garner\", \"meet\", \"wrong\", \"horrible\", \"prof\", \"centric\", \"demise\", \"fault\", \"less\", \"disappointment\", \"certainly\", \"adult\", \"discernible\", \"essentially\", \"attack\", \"realize\", \"thinking\", \"entertainingi\", \"munchie\", \"franchise\", \"explanatory\", \"kick\", \"predict\", \"worthy\", \"sequel\", \"category\", \"average\", \"drama\", \"star\", \"work\", \"huge\", \"hard\", \"kid\", \"comedy\", \"think\", \"expect\", \"enough\", \"come\", \"thing\", \"film\", \"cocaine\", \"much\", \"scene\", \"movie\", \"funny\", \"see\", \"go\", \"make\", \"bear\", \"look\", \"give\", \"watch\", \"laugh\", \"find\", \"decent\", \"good\", \"hell\", \"amputateit\", \"addle\", \"last\", \"bind\", \"theme\", \"fine\", \"variation\", \"amusing\", \"catch\", \"claw\", \"abate\", \"tooth\", \"limb\", \"appendage\", \"multiform\", \"volatile\", \"remove\", \"round\", \"bag\", \"somewhat\", \"kite\", \"unspeakably\", \"temper\", \"finger\", \"building\", \"choice\", \"today\", \"shoot\", \"detective\", \"almost\", \"probably\", \"go\", \"movie\", \"come\", \"make\", \"bad\", \"good\", \"get\", \"cocaine\", \"film\", \"bear\", \"first\", \"character\", \"fun\", \"time\", \"feel\", \"take\", \"half\", \"watch\", \"comedy\", \"know\", \"open\", \"various\", \"enough\", \"performance\", \"wood\", \"well\", \"top\", \"mill\", \"child\", \"rope\", \"perform\", \"withnow\", \"letterboxd\", \"precisely\", \"provide\", \"marketing\", \"doubt\", \"piece\", \"crew\", \"goodness\", \"depth\", \"caresbut\", \"advertised\", \"admit\", \"master\", \"meimdb\", \"jokedanyway\", \"stupid\", \"uninteresting\", \"theater\", \"even\", \"rather\", \"cinema\", \"bore\", \"understand\", \"day\", \"impressive\", \"call\", \"actor\", \"watch\", \"film\", \"see\", \"come\", \"character\", \"well\", \"really\", \"funny\", \"time\", \"good\", \"bear\", \"movie\", \"want\", \"cocaine\", \"get\", \"go\", \"interesting\", \"friend\", \"pass\", \"short\", \"pretty\", \"hear\", \"fact\", \"soundtrack\", \"ridiculous\", \"subplot\", \"gold\", \"tight\", \"min\", \"colorful\", \"wikipedia\", \"awesome\", \"month\", \"eye\", \"event\", \"sell\", \"google\", \"laughter\", \"rare\", \"burst\", \"finish\", \"producer\", \"start\", \"page\", \"stumble\", \"ridiculously\", \"taxidermie\", \"roll\", \"pacing\", \"name\", \"actual\", \"entire\", \"film\", \"find\", \"actually\", \"make\", \"give\", \"bear\", \"watch\", \"funny\", \"fun\", \"cocaine\", \"time\", \"comedy\", \"movie\", \"truly\", \"performance\", \"trailer\", \"look\", \"write\", \"various\", \"know\", \"character\", \"learn\", \"base\", \"work\", \"simply\", \"arc\", \"focused\", \"delve\", \"blandly\", \"bored\", \"crook\", \"tear\", \"supportwe\", \"ludicrous\", \"forgettable\", \"incredible\", \"wholly\", \"villain\", \"shoehorned\", \"later\", \"unnecessary\", \"mention\", \"nurse\", \"smile\", \"bizarrely\", \"deep\", \"heartwarming\", \"bizarre\", \"wroth\", \"involve\", \"tbh\", \"legendary\", \"dance\", \"scaryyet\", \"enjoy\", \"final\", \"kill\", \"end\", \"story\", \"also\", \"kid\", \"half\", \"first\", \"see\", \"need\", \"lot\", \"film\", \"much\", \"bear\", \"fun\", \"really\", \"character\", \"little\", \"well\", \"premise\", \"feel\", \"entire\", \"ride\", \"scene\", \"definitely\", \"forest\", \"sustain\", \"severely\", \"underutilise\", \"territoryit\", \"feature\", \"skill\", \"main\", \"throw\", \"meg\", \"consistently\", \"chattahoochee\", \"dump\", \"plane\", \"likeable\", \"roleeven\", \"heap\", \"russell\", \"strong\", \"illegal\", \"tally\", \"piranha\", \"present\", \"aspect\", \"reach\", \"surprisingly\", \"thriller\", \"true\", \"rampage\", \"moment\", \"end\", \"cast\", \"probably\", \"high\", \"exactly\", \"bit\", \"horror\", \"funny\", \"think\", \"actually\", \"death\", \"go\", \"good\", \"final\", \"cocaine\", \"kill\", \"comedy\", \"story\", \"much\", \"joke\", \"shot\", \"likewise\", \"base\", \"family\", \"eat\", \"endless\", \"other\", \"cell\", \"bearly\", \"peoplefrom\", \"still\", \"random\", \"introduce\", \"expectation\", \"brain\", \"ticket\", \"rampage\", \"glad\", \"boring\", \"want\", \"lose\", \"pay\", \"ranger\", \"dealer\", \"read\", \"terrible\", \"else\", \"stupid\", \"short\", \"show\", \"hollywood\", \"actual\", \"story\", \"interesting\", \"trailer\", \"movie\", \"bear\", \"watch\", \"see\", \"go\", \"get\", \"make\", \"cocaine\", \"character\", \"well\", \"instead\", \"time\", \"idea\", \"drug\", \"brisk\", \"tingle\", \"term\", \"animation\", \"truth\", \"lie\", \"weta\", \"sameand\", \"realistic\", \"originality\", \"several\", \"flashiness\", \"interpret\", \"stream\", \"ready\", \"advice\", \"determine\", \"uncomfortably\", \"punchline\", \"cleverness\", \"wish\", \"abstraction\", \"chance\", \"slasher\", \"camemy\", \"indifferent\", \"corny\", \"offer\", \"ticket\", \"brain\", \"however\", \"trailer\", \"time\", \"movie\", \"bear\", \"see\", \"little\", \"lot\", \"find\", \"feel\", \"say\", \"leave\", \"enjoy\", \"hit\", \"theater\", \"occasional\", \"ultimately\", \"wait\", \"film\", \"primarily\", \"funniness\", \"realise\", \"visual\", \"factor\", \"grade\", \"ish\", \"basic\", \"elaborate\", \"storyline\", \"frighten\", \"contain\", \"digest\", \"funnier\", \"unpredictable\", \"second\", \"expectation\", \"miss\", \"easy\", \"full\", \"sad\", \"happen\", \"else\", \"shot\", \"none\", \"fail\", \"maybe\", \"tell\", \"high\", \"long\", \"horror\", \"movie\", \"minute\", \"say\", \"funniness\", \"realise\", \"visual\", \"factor\", \"grade\", \"ish\", \"basic\", \"elaborate\", \"storyline\", \"frighten\", \"contain\", \"digest\", \"funnier\", \"unpredictable\", \"second\", \"corny\", \"wish\", \"camemy\", \"abstraction\", \"originality\", \"determine\", \"indifferent\", \"slasher\", \"interpret\", \"punchline\", \"realistic\", \"animation\", \"truth\", \"flashiness\", \"several\", \"uncontrollable\", \"meaningful\", \"oscar\", \"luvs\", \"stay\", \"category\", \"predict\", \"average\", \"munchie\", \"worthy\", \"molly\", \"produce\", \"certain\", \"explanatory\", \"sequel\", \"entertainingi\", \"kick\", \"franchise\", \"successful\", \"thinking\", \"guess\", \"self\", \"cocaine\", \"kind\", \"deliver\", \"expect\", \"local\", \"disappointed\", \"wiseall\", \"much\", \"think\", \"effort\", \"bear\", \"become\", \"film\", \"make\", \"actually\", \"tell\", \"definitely\", \"movie\", \"pretty\", \"come\", \"go\", \"thing\", \"get\", \"well\", \"right\", \"see\", \"first\", \"funniness\", \"realise\", \"visual\", \"factor\", \"grade\", \"ish\", \"basic\", \"elaborate\", \"storyline\", \"frighten\", \"contain\", \"digest\", \"funnier\", \"unpredictable\", \"second\", \"corny\", \"wish\", \"camemy\", \"abstraction\", \"indifferent\", \"determine\", \"slasher\", \"originality\", \"interpret\", \"punchline\", \"realistic\", \"chance\", \"flashiness\", \"several\", \"uncomfortably\", \"truth\", \"animation\", \"stream\", \"weta\", \"advice\", \"cleverness\", \"term\", \"brisk\", \"tingle\", \"ready\", \"lie\", \"sameand\", \"nurse\", \"shoehorned\", \"forgettable\", \"unnecessary\", \"crook\", \"tear\", \"bored\", \"arc\", \"ludicrous\", \"offer\", \"supportwe\", \"trailer\", \"kid\", \"villain\", \"later\", \"half\", \"need\", \"enjoy\", \"focused\", \"feel\", \"little\", \"time\", \"story\", \"however\", \"follow\", \"film\", \"lot\", \"see\", \"hit\", \"first\", \"entire\", \"end\", \"say\", \"funniness\", \"realise\", \"visual\", \"factor\", \"grade\", \"ish\", \"basic\", \"elaborate\", \"storyline\", \"frighten\", \"contain\", \"digest\", \"funnier\", \"unpredictable\", \"second\", \"corny\", \"wish\", \"camemy\", \"abstraction\", \"originality\", \"determine\", \"indifferent\", \"slasher\", \"interpret\", \"punchline\", \"realistic\", \"animation\", \"truth\", \"flashiness\", \"several\", \"depth\", \"withnow\", \"piece\", \"goodness\", \"letterboxd\", \"rope\", \"advertised\", \"admit\", \"provide\", \"crew\", \"doubt\", \"master\", \"perform\", \"caresbut\", \"marketing\", \"jokedanyway\", \"precisely\", \"meimdb\", \"child\", \"mill\", \"theater\", \"cinema\", \"even\", \"uninteresting\", \"stupid\", \"rather\", \"bore\", \"entertainment\", \"short\", \"talk\", \"film\", \"watch\", \"call\", \"actor\", \"character\", \"put\", \"see\", \"bear\", \"funny\", \"performance\", \"good\", \"cgi\", \"really\", \"time\", \"well\", \"come\", \"do\", \"give\", \"first\", \"definitely\", \"cast\", \"entertain\", \"funniness\", \"realise\", \"visual\", \"factor\", \"grade\", \"ish\", \"basic\", \"elaborate\", \"storyline\", \"frighten\", \"contain\", \"digest\", \"funnier\", \"unpredictable\", \"second\", \"corny\", \"wish\", \"slasher\", \"punchline\", \"originality\", \"truth\", \"camemy\", \"abstraction\", \"determine\", \"interpret\", \"chance\", \"weta\", \"realistic\", \"indifferent\", \"cleverness\", \"advice\", \"sameand\", \"term\", \"see\", \"movie\", \"title\", \"trailer\", \"cocaine\", \"go\", \"tone\", \"watch\", \"exactly\", \"never\", \"poster\", \"extremely\", \"part\", \"feel\", \"courage\", \"blast\", \"think\", \"outrageous\", \"review\", \"hysterical\", \"name\", \"definitely\", \"absolutely\", \"full\", \"filmmaker\", \"rate\", \"many\", \"memorable\", \"happy\", \"volume\", \"funniness\", \"realise\", \"visual\", \"factor\", \"grade\", \"ish\", \"basic\", \"elaborate\", \"storyline\", \"frighten\", \"contain\", \"digest\", \"funnier\", \"unpredictable\", \"second\", \"corny\", \"wish\", \"camemy\", \"abstraction\", \"originality\", \"determine\", \"indifferent\", \"slasher\", \"interpret\", \"punchline\", \"realistic\", \"animation\", \"truth\", \"flashiness\", \"several\", \"depth\", \"perform\", \"jokedanyway\", \"young\", \"admit\", \"advertised\", \"apart\", \"doubt\", \"letterboxd\", \"crew\", \"provide\", \"meimdb\", \"caresbut\", \"master\", \"video\", \"solo\", \"double\", \"charactersit\", \"greatthere\", \"cringe\", \"angelsan\", \"dialogue\", \"thatwe\", \"least\", \"bother\", \"sharknado\", \"spend\", \"point\", \"badly\", \"giant\", \"prefer\", \"music\", \"jovi\", \"standout\", \"girl\", \"dull\", \"figure\", \"human\", \"time\", \"role\", \"see\", \"funny\", \"character\", \"even\", \"bad\", \"watch\", \"performance\", \"guy\", \"care\", \"movie\", \"cocaine\", \"comedy\", \"good\", \"trailer\", \"film\", \"think\", \"know\", \"actor\", \"bear\", \"get\", \"seem\", \"waste\", \"go\", \"do\", \"try\", \"funniness\", \"realise\", \"visual\", \"factor\", \"grade\", \"ish\", \"basic\", \"elaborate\", \"storyline\", \"frighten\", \"contain\", \"digest\", \"funnier\", \"unpredictable\", \"second\", \"corny\", \"wish\", \"camemy\", \"abstraction\", \"originality\", \"determine\", \"indifferent\", \"slasher\", \"interpret\", \"punchline\", \"realistic\", \"animation\", \"truth\", \"flashiness\", \"several\", \"outbore\", \"brilliant\", \"walk\", \"avoid\", \"early\", \"invest\", \"isthose\", \"mix\", \"taste\", \"curious\", \"ever\", \"extremely\", \"couple\", \"audience\", \"terrible\", \"bad\", \"good\", \"bear\", \"maybe\", \"mostly\", \"disappointed\", \"bar\", \"hope\", \"talk\", \"long\", \"half\", \"stuff\", \"cinema\", \"pass\", \"idea\", \"get\", \"movie\", \"cocaine\", \"low\", \"also\", \"set\", \"way\", \"care\", \"wood\", \"character\", \"horror\", \"funniness\", \"realise\", \"visual\", \"factor\", \"grade\", \"ish\", \"basic\", \"elaborate\", \"storyline\", \"frighten\", \"contain\", \"digest\", \"funnier\", \"unpredictable\", \"second\", \"corny\", \"wish\", \"camemy\", \"abstraction\", \"originality\", \"determine\", \"indifferent\", \"slasher\", \"interpret\", \"punchline\", \"realistic\", \"animation\", \"truth\", \"flashiness\", \"several\", \"film\", \"bear\", \"make\", \"fact\", \"give\", \"entire\", \"find\", \"funny\", \"watch\", \"hear\", \"actual\", \"name\", \"cocaine\", \"fun\", \"spot\", \"actually\", \"movie\", \"gold\", \"colorful\", \"wikipedia\", \"look\", \"loosely\", \"finish\", \"runtime\", \"story\", \"concept\", \"alone\", \"already\", \"ridiculously\", \"right\"], \"Freq\": [53.0, 25.0, 8.0, 23.0, 10.0, 9.0, 16.0, 17.0, 8.0, 13.0, 22.0, 10.0, 24.0, 17.0, 18.0, 12.0, 11.0, 9.0, 5.0, 18.0, 14.0, 7.0, 11.0, 17.0, 8.0, 13.0, 7.0, 9.0, 6.0, 7.0, 3.637359806135824, 2.744139203144841, 2.743034278776883, 1.8453491667811863, 1.8432677168047988, 1.841645539314414, 3.6380028973587573, 2.7434408748487207, 2.7413100407340534, 0.9459596618500794, 0.9459779522716645, 0.9458454381672803, 0.9458214777150038, 0.9458770805966226, 0.9458154418758806, 0.9456881405416482, 0.94565896731922, 0.9454785323102827, 0.9459233553632329, 0.9451482987485631, 0.9459098204512599, 0.9455363300424916, 0.9454634427124748, 0.9454059193365897, 0.9452902324200637, 0.9452921529143302, 0.9452750513701481, 0.9452830077035376, 0.9452626138834702, 0.9452263988487316, 1.8461671144344733, 2.739896191145523, 2.7409722166473762, 1.8460491412152493, 1.8402832687147537, 1.833996119199082, 1.8423010680240248, 2.7476716322655768, 3.6438561980744297, 9.033277802163951, 14.439341129236917, 6.335501342557307, 7.238522867954681, 3.6384685714923144, 2.7399949594220825, 6.339684727782258, 3.6522251633749208, 6.339450610385968, 1.838961968659444, 1.8426160290837208, 1.8445462172735994, 3.636203851491644, 2.747693214963047, 2.748245402790702, 3.652346245965814, 3.6403758966552116, 2.743462640450407, 2.751354225747526, 2.7457522354244333, 1.8509857260010751, 1.846291672205468, 1.810784840522104, 1.8099974066493314, 1.8087449854632869, 1.8089062856258604, 1.8079211091324303, 3.57785533803341, 2.6941610955998727, 0.9291639740581947, 0.9291261477092976, 0.9289919871832296, 0.9289660007890687, 0.9287604930032922, 0.9287402728208534, 0.9287431174853029, 0.9287281253348254, 0.9286811499299958, 0.9284949397327829, 0.9280516333755863, 0.9277068139146035, 0.9274900812366748, 0.9275401319544228, 0.92786819096, 0.9274660169130878, 0.9275755749358081, 0.9274970775735643, 0.9274653249676812, 0.9274391079250512, 0.9275366722273896, 0.9275400550715999, 0.9273725274003665, 0.927731954597712, 3.5792441493473883, 1.810530973440685, 1.8094258597434347, 1.809683724731648, 1.8102827956881649, 1.8110097996620897, 1.80907942574317, 4.461644915167421, 15.952827798108089, 4.461739634805309, 3.5777163338894957, 2.6930936544858737, 6.231553926502468, 2.6977075464574454, 3.579996063355953, 1.8114418811271338, 4.462974680473364, 1.8115633559874131, 1.8099034558396723, 4.461660291732013, 2.695303574349082, 2.6960029005067407, 1.8094630710297481, 3.5773940410956406, 4.4581295249703246, 3.5817951214132546, 2.69871102106274, 2.696334726770643, 2.69422229432695, 2.6943047127131647, 1.814977414623846, 1.814655121829991, 1.812584821173281, 1.8125795931413196, 1.8117867774709395, 1.8111783268100214, 1.7380267349911527, 1.7373379195803207, 1.7336630166940208, 1.72544449555614, 2.586824245646144, 0.8909774696632217, 0.8910122594762957, 0.8908907240108855, 0.8909176746720006, 0.8909706032527465, 0.8909308352920778, 0.8908256075515463, 0.8908508416100424, 0.8907870984327981, 0.8907532241411207, 0.8907027560241284, 0.8907006961009858, 0.8906859333184642, 0.8906842739359327, 0.8906821567927029, 0.8906613859010156, 0.8906134926879514, 0.8906156670512686, 0.8905857409456144, 0.8905360739098441, 0.8905894030312012, 0.8905692043403867, 0.8905494634102706, 0.8905132430950142, 0.8905337278862651, 0.8906386695263603, 1.7390665384174395, 4.120376829738877, 1.7365798678638642, 2.5841548141337554, 1.738416289345443, 4.288554448224611, 2.5862424317985497, 1.7384479892738032, 5.02239016597802, 5.136368002258513, 2.5879915354269194, 1.7356513002872749, 4.28308924324709, 4.282167313200627, 5.125441712149757, 4.285314418001737, 1.7374815419994258, 2.592579442026065, 1.7442423241934324, 2.5855995068977267, 1.7389321856524758, 3.4461191246355436, 1.7418528133480804, 1.7390675683790107, 1.7430266262188072, 2.5295615866082883, 1.7478630968771531, 1.7418108138040074, 1.738394431272097, 1.715195029331867, 1.714622868837613, 1.7141895304117674, 1.713520194469628, 0.8798051479146709, 0.87979308107334, 0.8797920132112753, 0.8797906783836945, 0.8797904648112815, 0.8797857128250938, 0.8797825092388997, 0.8797819219147641, 0.8797762088527181, 0.8797762088527181, 0.8797688939975751, 0.8797557059010763, 0.8797506335562691, 0.8797492453355851, 0.8797427313769905, 0.8772985552902555, 0.8772373134008462, 0.8772479920214931, 0.8771035636772455, 0.8771246539530229, 0.8769194642572953, 0.8769147656642107, 0.8768717842161075, 0.8768354235128052, 0.8768203666576933, 0.8767411312924943, 1.714649778961643, 1.716008847011357, 1.7151802928353743, 4.235991821000569, 2.5470692952597345, 4.241185902083156, 1.714949100698372, 1.7161134974936951, 9.343506024597351, 5.077061767525986, 5.075527890456285, 3.4042994119823162, 2.5637708715236895, 2.551516300041874, 3.3926680448014452, 3.3905171570307737, 2.54962575704257, 3.4028740296983857, 1.7201807705256356, 1.713659016538036, 1.7172558963304863, 2.5735655159533164, 2.558369625200555, 1.7123445851226256, 1.7185037999392674, 1.7113632198851878, 2.5634421835801824, 2.5717356275192866, 1.7305374307599015, 1.7360831588203867, 1.72958489779821, 1.7211179262735956, 1.5770305147228592, 0.8078013254774095, 0.8077313138850134, 0.8077151726924591, 0.8076985665272798, 0.8076893999241007, 0.8076741222521358, 0.8076625643611709, 0.8076581139089029, 0.807655257648492, 0.8076459581959916, 0.8076413084697414, 0.8076384522093305, 0.8076312119213124, 0.8076305476747052, 0.8075950769058822, 0.8075902943303105, 0.8075844489601673, 0.8075717618499704, 0.8075362246564866, 0.8045054002372751, 0.8043681004635724, 0.8041628482619557, 0.8042739102946752, 0.8041955956196895, 0.804220372018137, 0.8039849630205547, 0.8040270098307888, 0.8040273419540924, 0.80371135984306, 0.8038747645084247, 1.577240682349369, 1.572882693209025, 2.3434213782158566, 1.573231422677791, 1.5767176545708805, 2.346340609205063, 3.116256363743687, 2.3400560392052725, 2.336950287768772, 1.5771616370031154, 1.5703632058280157, 1.5733370378883316, 2.3434601702177154, 2.3406434989046567, 1.5681911194225582, 1.5777445798255707, 2.34420784619875, 1.5790487616140954, 1.5733563010399396, 1.5740921534313663, 1.5765980901815893, 1.5707366452705687, 0.8106741256287743, 0.8098427545752359, 0.8094078723215195, 0.8091712676800442, 0.8089998256307327, 0.8082591242390735, 0.8081846621944093, 1.464647217829854, 0.7511054679990083, 0.7509765620723833, 0.7508698724999903, 0.7508661442382456, 0.7508134889251115, 0.750789995768912, 0.7507606293236626, 0.7507511809891042, 0.7507252363731273, 0.7506924480986054, 0.7506894348459624, 0.750634992010074, 0.7506260543963025, 0.7505929086172297, 0.7505460755210668, 0.7505372400514526, 0.7504961270281035, 0.7504898962345028, 0.7504711017095432, 0.7504693141867889, 0.7504589976268926, 0.750570283686368, 0.7504157395762383, 0.7505175262290765, 0.7504601212126238, 0.7504577208249252, 0.7502640555025154, 0.7504226343068621, 0.7503223287443059, 1.4646431320635585, 1.4641123910217646, 2.895857341450066, 3.617834921879285, 1.4647497705638728, 2.193053853669302, 1.4685236907469283, 1.4693202108862489, 1.4739249716455076, 1.4745331379586024, 0.766337102604716, 0.765732664553366, 0.760501913325548, 0.7598443092402768, 0.758750243170482, 0.755979123252594, 0.7559298897687324, 0.7558763662302604, 0.7557412295100346, 0.7548083979926786, 0.7544681047323367, 0.7536338423268611, 0.7534652533950904, 0.7533182679526075, 0.7532883397144924, 0.7531255729996928, 0.7522005044382983, 0.7519921303572246, 0.7517710393285558, 1.4519113359782172, 0.7445242980693833, 0.7440110137411962, 0.7438976452762642, 0.7438365261508776, 0.7437428844774067, 0.7439814962571673, 0.7437938736287998, 0.7439003595276692, 0.743801143945063, 0.7436065902818578, 0.7436452198956034, 0.7434621048633191, 0.743299928341873, 0.7434961299434312, 0.7433359406417637, 0.7433056961261085, 0.7433034180936794, 0.7434419903216574, 0.7432457402513241, 1.453417454695317, 1.451937509116765, 0.7444014297245339, 1.4515154430232944, 0.7436451229580532, 1.4515877584357264, 0.7438286742093133, 0.7436620870293341, 0.7439458232387022, 0.7438205799238735, 1.4522312298938012, 1.452214653572721, 2.1608651755105615, 2.869527136079323, 2.1663679324839076, 1.452497323469037, 2.161707368946499, 1.4527532386015043, 1.452059650429988, 1.4512715481470493, 1.4543776211298198, 1.4511456262693694, 1.4574885409900993, 0.7510239608087492, 0.7470901865537927, 0.746585335792471, 0.7459688614421205, 0.7457452265138622, 0.7447154589183322, 0.7447117268226504, 0.7443349790338876, 0.7442827781631173, 0.7440401919437994, 1.4315241224631325, 1.4311792814989426, 0.733140476269476, 0.7330410863637329, 0.7329804737551677, 0.7328437376191663, 0.732828042046499, 0.7327561193929236, 0.732752564807349, 0.7327231586903223, 0.7327281443428166, 0.7327141568177632, 0.7326800420289363, 0.7326693782722123, 0.7326393258668994, 0.7325548929186393, 0.7325523077654941, 0.7324562416280804, 0.7324447930927231, 0.7323424025627937, 0.7323034867752686, 0.7322579696145335, 0.7322351187072679, 0.7321390064064053, 0.7320943201877526, 0.7320599745816806, 0.7319877287839621, 0.7318214480405869, 1.4306721298479932, 1.4312525890559886, 1.4312327387729094, 3.526702851440413, 1.4315174749264734, 1.4303706825258833, 2.131312707064307, 1.4323622660435655, 2.130188165446145, 1.43121667389265, 1.432122123781756, 1.4338725494417501, 1.436143606479808, 0.7370621997541926, 0.7360742557816853, 0.7356014035733589, 0.7345384901596407, 0.7343095656159434, 0.7341065387671473, 0.7339053584563119, 0.733612405208822, 0.7335668880480868, 0.7335445911022095, 0.7335208630894124, 0.7334815318308462, 0.7334499560317156, 0.7333423028685976, 0.7332455442794488, 1.4229415168125807, 1.4212148782524343, 1.3982307595847996, 0.7293743179465597, 0.7291488549992001, 0.7289276683870003, 0.7289465934447286, 0.7290338488791587, 0.72891288318565, 0.7286603974395148, 0.7289811680694246, 0.7287816815835142, 0.7287317758423412, 0.7284408030797682, 0.7287027058618403, 0.728409140002415, 0.7286604884253693, 0.7282503241934496, 0.7254932253385813, 0.7250804680098094, 0.7245429235816414, 0.7238413316578763, 0.7211385968510496, 0.7204494244964189, 0.7202213684522071, 0.7187827001214364, 0.7167109522153114, 0.7139426621003441, 0.7134451969410671, 1.4219182898932887, 1.3900759704068344, 2.0824751383661853, 1.4079486857424408, 2.1107588191128785, 1.4213339787359265, 1.4233153776885696, 1.4230071176136487, 1.4216281360034058, 2.119349521519576, 1.4224581089678183, 1.426984109312231, 2.1216574687038876, 1.4219597794429237, 1.4186885650174117, 0.7418431559209657, 0.7363634873429978, 0.7350184889493969, 0.7347887496668776, 0.7323652504473982, 0.7317486393117018, 0.7308417833002679, 0.7300960632370883, 0.7297718806376362, 0.7293985201838469, 0.7292163210102844, 1.3965260114406237, 0.7156477419250016, 0.7156332475270463, 0.7156103412017062, 0.7155809641629932, 0.7155730267545891, 0.7155592657041495, 0.7155471439010976, 0.7155452026870858, 0.7155296729749908, 0.7155185433479894, 0.7155030999120727, 0.7154744562208754, 0.7154621187273777, 0.715413588377081, 0.7154081098397587, 0.7153857643095776, 0.7153817093291972, 0.7153487518290846, 0.7153345593977534, 0.7152654521789309, 0.7152357731735939, 0.7151947057127206, 0.7151260730128788, 1.396673026048456, 1.3817200702054784, 1.3860869389703996, 1.3965000423109537, 0.7156135765583926, 1.3970010480783726, 1.4147149279032967, 2.745018623371573, 1.3970699827448383, 1.3789159218582006, 1.4167002290422792, 1.3969589453033595, 1.3972039696497465, 1.4293113905775168, 1.2748501132434569, 0.8510419407155082, 0.7482267915814776, 0.8198421451835093, 0.8083709507922192, 0.7532226999624224, 0.7934668272661626, 0.7594507184457447, 0.7279350658249703, 0.7245837539548804, 0.7235705265168634, 0.7158176628581737, 0.7157504105771848, 0.7156897584238362, 0.7156854014768318, 0.715668491345884, 0.6475132549709042, 0.6473979532916643, 0.6473170748258136, 0.6473105118954104, 0.6472289256625554, 0.6471269428714866, 0.64690290244341, 0.6469485212439575, 0.6468862377475824, 0.647054686294597, 0.6473946074840078, 0.6471625885915195, 0.6473807738561972, 0.6473525918609365, 0.6474378456137228, 1.8821618346828892, 0.6479801238238978, 0.6473642378452794, 0.6470998546979598, 0.6471468890325158, 0.6472833593794287, 0.6470001882352686, 0.6469081141822596, 0.6478204901932092, 0.6477378744810752, 0.6470597050060817, 0.6469194384543278, 0.647447239612143, 1.8807540217689558, 0.6479359205573589, 1.2639296727877924, 3.736179507468637, 1.884878759184889, 1.2651591284166517, 1.2637296964378608, 1.2666190587190809, 1.267031751225021, 1.2661353321428948, 1.2676907466484446, 0.6524827444776524, 0.6506291670359433, 0.6498948909402482, 0.6479848851655629, 0.6477804691862409, 0.6474900273446734, 0.6217234760802335, 0.6217050845056874, 0.6215407170375745, 0.621481725194691, 0.6213666911010681, 0.6214142315862154, 0.6212986191411917, 0.6214517665921286, 0.6212407261659697, 0.6211769340064593, 0.6212001258976322, 0.621152701082765, 0.6210896607800757, 0.6211584267616331, 0.621224011810486, 0.6211296248618723, 0.6209994379615479, 0.6210966588320256, 0.6210244227420633, 0.6211061437949991, 0.6208274362549443, 0.620893599655198, 0.6209603992419926, 0.6208263373872828, 0.6207155830940259, 0.6206432313337834, 0.62042906781006, 1.2115390740367133, 0.6232669802987396, 0.6225284833950336, 1.2131204024368332, 2.3988352767350096, 1.21438201818258, 0.6313902727340852, 0.6271838073256473, 0.6242087677198336, 0.6229911645156889, 0.6222856336418296, 0.6217713057410812, 0.6217640763485709, 0.6216083841514705, 0.6215306537232003, 0.6214758838455428, 0.6213465066371795, 0.6213382940472879, 0.6213167215400374, 0.6213085089501457, 0.621267098989847, 0.6212633397057417, 1.0654122174286365, 0.5456706150243871, 0.5454719111436115, 0.5453572940798841, 0.5453132138922627, 0.5451489422981213, 0.5451479560682426, 0.5451217137775575, 0.5451148959275266, 0.5449870719593367, 0.5449746368869532, 0.5449113895360373, 0.5447871674508826, 0.5446954480721647, 0.5446407337536775, 0.5446100319887583, 0.5450049098562729, 0.5449406333959185, 0.5434417783781129, 0.5445302331277045, 0.5442597917431444, 1.0649185879345733, 0.5443656184970836, 0.5451367645030974, 0.5432341555488692, 0.5435636420874708, 0.5444344830703519, 0.5450456025586587, 0.5453753892541799, 0.5456983152201103, 1.0613367725334195, 1.0540340404386568, 0.5445198133946384, 0.5444779629441341, 0.0006730465657219523, 0.0006730465657219523, 0.0006730465657219523, 0.0006730465657219523, 0.0006730465657219523, 0.0006730465657219523, 0.0006730465657219523, 0.0006730465657219523, 0.0006730465657219523, 0.0006730465657219523, 0.0006730465657219523, 0.0006730465657219523, 0.0006730465657219523, 0.0006730465657219523, 0.0006730465657219523, 0.0006730465657219523, 0.0006730465657219523, 0.0006730465657219523, 0.0006730465657219523, 0.0006730465657219523, 0.0006730465657219523, 0.0006730465657219523, 0.0006730465657219523, 0.0006730465657219523, 0.0006730465657219523, 0.0006730465657219523, 0.0006730465657219523, 0.0006730465657219523, 0.0006730465657219523, 0.0006730465657219523, 0.0007163238312491977, 0.0007125059393423671, 0.0007110309181103243, 0.0007104932872636642, 0.0007101469948907028, 0.0007096326340306507, 0.0007065277721758956, 0.0007051115311990417, 0.0007047547471558178, 0.0007043218985031902, 0.000704022885900707, 0.0007037706150343294, 0.0007030548948103918, 0.0007016374432562, 0.0007014044743729337, 0.000700790173628201, 0.0007001381432231008, 0.0006997833768087736, 0.0006975261881077969, 0.000697302971097531, 0.0007136970801886516, 0.0007103636882342028, 0.0008276678252337616, 0.0007034528384831074, 0.0007057264372324434, 0.0007802172288423929, 0.0006877708178839104, 0.0007059086963761074, 0.000687248184745382, 0.0007789577576308086, 0.000762634063788181, 0.0007032846354874235, 0.0007877158811453784, 0.0007361891363484082, 0.0007768494026881079, 0.0007669663838093603, 0.00073713103277166, 0.0007159414233189863, 0.0007181949802879491, 0.0007432209093247093, 0.0007239588752655967, 0.0007220902146358178, 0.0007268348034948788, 0.0007182715829317252, 0.0007137635274336479, 0.0007114899286843118, 0.0007098436780132401, 0.0007075466075144063, 0.0007066843401782755, 0.0006462275342745855, 0.0006462275342745855, 0.0006462275342745855, 0.0006462275342745855, 0.0006462275342745855, 0.0006462275342745855, 0.0006462275342745855, 0.0006462275342745855, 0.0006462275342745855, 0.0006462275342745855, 0.0006462275342745855, 0.0006462275342745855, 0.0006462275342745855, 0.0006462275342745855, 0.0006462275342745855, 0.0006768231988401972, 0.0006743063318322292, 0.0006740350046167085, 0.000671219413997436, 0.0006709566401167492, 0.0006700358382509457, 0.0006700518516372136, 0.0006696881098190139, 0.000669189636899483, 0.0006684297406258181, 0.0006674419912294725, 0.0006673971666100797, 0.0006670453222877015, 0.0006667255047378593, 0.0006664717986783123, 0.0006661611775711861, 0.0006660766731954587, 0.0006660831042742812, 0.0006655250795648541, 0.0006654470705787373, 0.0006653896410448526, 0.0006651630741379363, 0.0006643217604063788, 0.0006624872951722647, 0.0006622712109238292, 0.0006617252123318001, 0.0006600562830665768, 0.0006760976445274444, 0.0006759766116240052, 0.0006757561542419703, 0.0006751147184402156, 0.0006730343930627179, 0.0006724657570732338, 0.000670173206094594, 0.0006976663896146621, 0.0006695171074331239, 0.0007062900161400981, 0.0006686546354522404, 0.0007304227037322645, 0.000700490083393251, 0.0006680558377030788, 0.0006680265119836481, 0.0006956773855564437, 0.0006939849185427301, 0.0006841903211852959, 0.0006761824061463248, 0.0006978478746590327, 0.0006830740145232888, 0.0006900740508892, 0.0006854664401560417, 0.0006773807733741067, 0.0006737767968019857, 0.0006846137434149684, 0.0006821528911035441, 0.0006782466538267662, 0.0006751895761977094, 0.0006741095408202611, 0.0006740072223561953, 0.0006737915239724892, 0.0006733942119228361, 0.0006457645414542493, 0.0006457645414542493, 0.0006457645414542493, 0.0006457645414542493, 0.0006457645414542493, 0.0006457645414542493, 0.0006457645414542493, 0.0006457645414542493, 0.0006457645414542493, 0.0006457645414542493, 0.0006457645414542493, 0.0006457645414542493, 0.0006457645414542493, 0.0006457645414542493, 0.0006457645414542493, 0.0006457645414542493, 0.0006457645414542493, 0.0006457645414542493, 0.0006457645414542493, 0.0006457645414542493, 0.0006457645414542493, 0.0006457645414542493, 0.0006457645414542493, 0.0006457645414542493, 0.0006457645414542493, 0.0006457645414542493, 0.0006457645414542493, 0.0006457645414542493, 0.0006457645414542493, 0.0006457645414542493, 0.0006648668495730102, 0.0006642007184612954, 0.0006639221043400567, 0.0006638447935767538, 0.0006637030785812309, 0.0006634686420390225, 0.0006626769772543365, 0.0006625617174369539, 0.0006623443611796612, 0.0006620570142811723, 0.0006620411540166077, 0.0006619725118189575, 0.0006605734695342032, 0.0006603856506117272, 0.0006603375561252539, 0.0006598420994395019, 0.0006597589454208331, 0.0006577480308241903, 0.0006572661227854956, 0.0006793678830432983, 0.0006668312749731152, 0.0006898758541159486, 0.0006859925935499122, 0.0006783946920726843, 0.0006748545782833015, 0.0006651337771835171, 0.0006649791556569112, 0.0006663570081145144, 0.0006725453366050098, 0.0006655546842046556, 0.000726403969756231, 0.0007109097112969315, 0.0006816831606117482, 0.0006834579691646493, 0.0006990272267697443, 0.000670839940788928, 0.0006945490457535404, 0.0006881855480252623, 0.0006838456787899176, 0.0006707229472584147, 0.0006812107558894728, 0.0006683406327822503, 0.0006758941640456557, 0.0006755089586726869, 0.0006738282843216149, 0.0006731485403512453, 0.0006707832419483993, 0.0006696909384645571, 0.000668285924501242, 0.0006678665585584417, 0.0006669886575984105, 0.0006664738732218328, 0.0006424027474863181, 0.0006424027474863181, 0.0006424027474863181, 0.0006424027474863181, 0.0006424027474863181, 0.0006424027474863181, 0.0006424027474863181, 0.0006424027474863181, 0.0006424027474863181, 0.0006424027474863181, 0.0006424027474863181, 0.0006424027474863181, 0.0006424027474863181, 0.0006424027474863181, 0.0006424027474863181, 0.0006428314061102467, 0.0006428068986005627, 0.000642860496842521, 0.0006428688994172698, 0.0006427885657102016, 0.0006428715093079115, 0.0006426988109344755, 0.0006427317846747777, 0.000642734521877158, 0.0006427448341279861, 0.0006428112908555449, 0.0006428274594463496, 0.0006427735429250446, 0.0006427235094117675, 0.0006428259317054861, 0.0006427651403502957, 0.0006428060710742616, 0.0006427434973547306, 0.0006480400476164773, 0.0006457441713781, 0.0006453612813242048, 0.0006453083196409395, 0.0006450143568364693, 0.0006449658510640557, 0.000644930331088981, 0.0006448040378442715, 0.0006444919967729174, 0.0006443334300024681, 0.0006443316476381274, 0.0006442970188452232, 0.0006442830145539752, 0.0006442301165265792, 0.0006441793191428704, 0.0006441625139933727, 0.0006441162361763849, 0.0006440747962054645, 0.0006440557631005411, 0.0006440250809715341, 0.0006440204340930745, 0.0006439380633981882, 0.0006439209399693441, 0.0006439123464269873, 0.0006438844651562299, 0.0006438678509743402, 0.0006438546742093931, 0.0006438444892703036, 0.0006438406699181451, 0.0006438352591692538, 0.0006364132256252696, 0.0006364132256252696, 0.0006364132256252696, 0.0006364132256252696, 0.0006364132256252696, 0.0006364132256252696, 0.0006364132256252696, 0.0006364132256252696, 0.0006364132256252696, 0.0006364132256252696, 0.0006364132256252696, 0.0006364132256252696, 0.0006364132256252696, 0.0006364132256252696, 0.0006364132256252696, 0.0006364132256252696, 0.0006364132256252696, 0.0006364132256252696, 0.0006364132256252696, 0.0006364132256252696, 0.0006364132256252696, 0.0006364132256252696, 0.0006364132256252696, 0.0006364132256252696, 0.0006364132256252696, 0.0006364132256252696, 0.0006364132256252696, 0.0006364132256252696, 0.0006364132256252696, 0.0006364132256252696, 0.0006438142223829136, 0.0006433884218360847, 0.0006430996416405307, 0.0006508481867868656, 0.0006425752825954163, 0.000642523725999715, 0.0006499610970426697, 0.0006424020777377105, 0.0006422554419231883, 0.0006420295417965019, 0.0006419067548612182, 0.0006418705070951607, 0.0006418271742509209, 0.000641796936149393, 0.0006483708765485106, 0.0006481862849580119, 0.0006475310417454054, 0.0006473255112184931, 0.0006472920468760072, 0.0006472332786828704, 0.0006471235864902985, 0.0006471201704704606, 0.0006468788349948772, 0.0006465687363051497, 0.0006464300079439559, 0.000646033749642762, 0.0006662192639032934, 0.000645716945432612, 0.0006456574181239556, 0.0006456277493590674, 0.0006454136155229337, 0.0006453823652673798, 0.000645227505701396, 0.0006452120070928722, 0.0006450945972258518, 0.000645071317683253, 0.000645040067427699, 0.0006607588827116977, 0.0006830873168242319, 0.0006574753917916034, 0.0006695140782965541, 0.0006681522883141464, 0.0006690322297205334, 0.0006553990210668128, 0.0006618306273060188, 0.0006617791339699441, 0.0006529087426049993, 0.000649624745607892, 0.0006522844333498137, 0.0006654508492186506, 0.000661777805517785, 0.0006592813276125619, 0.0006584244127102673, 0.0006573121186952782, 0.0006563873262136125, 0.0006552289159308118, 0.0006538112676980921, 0.0006536981594856823, 0.0006533612387142649, 0.0006525912425389565, 0.0006525744154782736, 0.0006525451895307718, 0.0006520856083433238, 0.0006517040262755074, 0.0006499126401686732, 0.0006170932031180217, 0.0006170932031180217, 0.0006170932031180217, 0.0006170932031180217, 0.0006170932031180217, 0.0006170932031180217, 0.0006170932031180217, 0.0006170932031180217, 0.0006170932031180217, 0.0006170932031180217, 0.0006170932031180217, 0.0006170932031180217, 0.0006170932031180217, 0.0006170932031180217, 0.0006170932031180217, 0.0006170932031180217, 0.0006170932031180217, 0.0006170932031180217, 0.0006170932031180217, 0.0006170932031180217, 0.0006170932031180217, 0.0006170932031180217, 0.0006170932031180217, 0.0006170932031180217, 0.0006170932031180217, 0.0006170932031180217, 0.0006170932031180217, 0.0006170932031180217, 0.0006170932031180217, 0.0006170932031180217, 0.0006318563799644727, 0.0006280398153838215, 0.0006278982548662614, 0.0006278406636656457, 0.0006277153217114896, 0.0006264972157966612, 0.0006258930284082682, 0.0006254705501321259, 0.0006251062750778597, 0.0006248568764141947, 0.0006302244864754015, 0.0006290989181751648, 0.000628637576548979, 0.0006271152348655422, 0.0006252888410198752, 0.000640248905105838, 0.0006434908429249796, 0.0006430325002029704, 0.0006278288516553175, 0.0006253627731881469, 0.0006247837398735617, 0.0006249767713791321, 0.0006282636927609225, 0.0006241460137200917, 0.0006286951677495947, 0.0006296045701406129, 0.0006259427857367491, 0.0006272739931805231, 0.000623714967146302, 0.0006274492760695383, 0.0006370780229550436, 0.0006370701890829088, 0.0006328613188742593, 0.0006288251610653307, 0.0006279283663122794, 0.0006278122658791573, 0.0006274416870059077, 0.0006271333506948538, 0.0006270459540588505, 0.0006267373117371663, 0.0006266614211008608, 0.0006150878730759854, 0.0006150878730759854, 0.0006150878730759854, 0.0006150878730759854, 0.0006150878730759854, 0.0006150878730759854, 0.0006150878730759854, 0.0006150878730759854, 0.0006150878730759854, 0.0006150878730759854, 0.0006150878730759854, 0.0006150878730759854, 0.0006150878730759854, 0.0006150878730759854, 0.0006150878730759854, 0.0006150878730759854, 0.0006150878730759854, 0.0006150878730759854, 0.0006150878730759854, 0.0006150878730759854, 0.0006150878730759854, 0.0006150878730759854, 0.0006150878730759854, 0.0006150878730759854, 0.0006150878730759854, 0.0006150878730759854, 0.0006150878730759854, 0.0006150878730759854, 0.0006150878730759854, 0.0006150878730759854, 0.0006160421108506959, 0.0006157559431139286, 0.0006156377831391432, 0.0006155817805518158, 0.000615510238617624, 0.000615507069809636, 0.0006154946992707595, 0.0006154855584784863, 0.0006154478374757054, 0.0006154449124221779, 0.0006154366857091321, 0.0006153899457913083, 0.0006153879957556233, 0.0006153636203095613, 0.0006153535654380608, 0.0006153478981468513, 0.0006153357713624355, 0.0006153324806772171, 0.0006153307134573777, 0.0006153282149741563, 0.0006153235836394046, 0.0006153220601740257, 0.0006153173679006587, 0.0006153148084788222, 0.0006153120053025251, 0.0006153095068193037, 0.0006153089583717673, 0.0006153080442925401, 0.000615307617722234, 0.0006153060333182399], \"Total\": [53.0, 25.0, 8.0, 23.0, 10.0, 9.0, 16.0, 17.0, 8.0, 13.0, 22.0, 10.0, 24.0, 17.0, 18.0, 12.0, 11.0, 9.0, 5.0, 18.0, 14.0, 7.0, 11.0, 17.0, 8.0, 13.0, 7.0, 9.0, 6.0, 7.0, 4.085863878062682, 3.185227596402465, 3.1849200070618346, 2.2825967414573514, 2.282734953823089, 2.2815748995801655, 4.971498255984582, 3.8039853231937277, 3.953017019799951, 1.3804910224359936, 1.3805987499848926, 1.3804602513835436, 1.3805319078247995, 1.38063696798177, 1.3805892280592162, 1.3804241447437609, 1.3804101538090257, 1.3805400709665099, 1.3812119364431683, 1.3800863537090056, 1.3812090082711062, 1.3812267708392483, 1.381200625298251, 1.381187943822432, 1.3811249963637315, 1.3811673311810702, 1.3811657968441462, 1.381179447030353, 1.3811847844732037, 1.3811567883949676, 2.98355454891124, 4.744891013201969, 4.919305368705284, 3.120097097247348, 3.119663944344831, 3.120629903830908, 3.1677962024311976, 5.383847106001308, 8.075089622465264, 27.436847953035254, 53.582935040651236, 18.941981464589016, 23.21787172085538, 9.525437210783954, 6.4184613516568145, 22.141537910897306, 9.98992421474711, 24.97887493535037, 3.8315238895675012, 3.8471486943089848, 3.9366492011495273, 12.975290769596944, 8.507140720436695, 8.661147348862642, 17.12758979226509, 17.8474706018993, 9.890194262835394, 13.368826420544606, 16.006633127191666, 25.343567978892636, 5.563467304708247, 2.2495683801861692, 2.248871601285634, 2.2484844746120616, 2.248755390060043, 2.248894678828493, 4.701994283701496, 3.8165782009993428, 1.36458622177676, 1.3645769092951676, 1.364542849124239, 1.3645476864018617, 1.3645135532140928, 1.3644890657109565, 1.3645076732605863, 1.3645019778452279, 1.3644902554654754, 1.3644428729420917, 1.3643654162935017, 1.3638649035254016, 1.3637067671143794, 1.3637998727242566, 1.364291306074767, 1.3637105714889894, 1.3638856771300687, 1.3637899040268608, 1.3637602474911685, 1.363752623988754, 1.3638992838135076, 1.3639166416679935, 1.3636735299562999, 1.3642045730516354, 5.639468194233057, 2.9463287093094825, 2.945037596835288, 2.9590371299156573, 2.9654031372404828, 3.1509537795974905, 3.1495021949117525, 9.890194262835394, 53.582935040651236, 10.407791273502152, 8.916355361589835, 6.110055107397357, 22.141537910897306, 7.036812932555368, 11.13339093704818, 4.000461910820925, 17.14988687384646, 4.052503369510676, 4.051916834294074, 18.02323841050326, 8.347645253163924, 8.703759266890845, 4.465806265872228, 16.006633127191666, 27.436847953035254, 17.8474706018993, 13.797876613828633, 14.711209296229583, 17.12758979226509, 24.97887493535037, 12.534356225584585, 9.52132380297814, 9.98992421474711, 7.167594931012656, 23.21787172085538, 5.289904149704237, 2.1786614034039027, 2.1779463691286116, 2.177069782699971, 2.175354919629032, 3.72891204959687, 1.3288056679577045, 1.3288647254305228, 1.3287769277133783, 1.3288201626226055, 1.3289140593855726, 1.3288548514092358, 1.3288148875726382, 1.3288526659428708, 1.3287681370921036, 1.328735392967265, 1.3287035873166853, 1.3287301749454277, 1.3287209539033495, 1.3287576759249473, 1.3287673037320102, 1.328741339998138, 1.328714603042179, 1.3287465494840855, 1.328707807091372, 1.3286575656177588, 1.328766558174137, 1.3287364485981512, 1.3287183494074286, 1.328666613360203, 1.32870331920954, 1.3288615914060795, 2.798568351024762, 7.5464048804641655, 2.8884171863825294, 4.767345716656901, 3.0638186490204045, 11.190777467814817, 5.855695051592218, 3.5430630259556875, 17.8474706018993, 18.941981464589016, 7.068049248299764, 3.790580181605181, 17.14988687384646, 18.02323841050326, 25.343567978892636, 22.141537910897306, 4.501912542284861, 9.525437210783954, 5.364482630819409, 12.534356225584585, 5.577472443762679, 24.97887493535037, 6.4184613516568145, 7.036812932555368, 7.642495255878057, 27.436847953035254, 23.21787172085538, 11.13339093704818, 7.701903281564517, 2.154941267057619, 2.155003947238788, 2.1545633665811796, 2.155040744344127, 1.316863010484948, 1.316860590987498, 1.3168605609328359, 1.3168603776449757, 1.3168604313435102, 1.3168594495836667, 1.3168589044904075, 1.3168589341640977, 1.3168576339159932, 1.3168578699105533, 1.3168565032556456, 1.3168541851254474, 1.3168531104716208, 1.3168529135969684, 1.3168520407613507, 1.316704572929322, 1.316691407611797, 1.3167337691360907, 1.316717269334493, 1.316760870086401, 1.3166412943687513, 1.3166699724243793, 1.3166947740958683, 1.3166720300185575, 1.3166918297828503, 1.3166094439971079, 2.7475889137068106, 3.0399491043140094, 3.03974790518344, 10.338109716099005, 5.577472443762679, 12.534356225584585, 3.7219043442373145, 3.756138940569795, 53.582935040651236, 23.21787172085538, 25.343567978892636, 12.975290769596944, 8.507140720436695, 8.661147348862642, 14.711209296229583, 17.14988687384646, 9.98992421474711, 18.941981464589016, 5.2364889493217595, 5.35855094690519, 5.383847106001308, 13.368826420544606, 13.797876613828633, 6.539310399332856, 7.068049248299764, 7.642495255878057, 24.97887493535037, 27.436847953035254, 9.52132380297814, 18.02323841050326, 17.12758979226509, 11.190777467814817, 2.0181769728238415, 1.2485383200378188, 1.2485332503756166, 1.248528463048832, 1.2485261831285839, 1.2485304137218207, 1.2485301062785512, 1.2485263415018466, 1.248529548481104, 1.2485331784025104, 1.2485273602962883, 1.248526118431428, 1.2485222569599537, 1.248518468781497, 1.2485235895673936, 1.2485212615337278, 1.2485315160712596, 1.2485278300812175, 1.2485239035080216, 1.2485250878941387, 1.247358902876126, 1.247159734295553, 1.246942701037144, 1.247239394353091, 1.2471297852750867, 1.2472178177140478, 1.2468567734991127, 1.2469786946534758, 1.247163441726871, 1.2466809913833075, 1.2469405767444537, 2.7003760664095364, 2.7123052287456804, 4.336850697513841, 2.8546368672480944, 2.9201955430628987, 5.080302888611508, 13.797876613828633, 10.407791273502152, 11.190777467814817, 5.869025725997055, 7.443080442756157, 8.075089622465264, 25.343567978892636, 27.436847953035254, 11.13339093704818, 12.975290769596944, 53.582935040651236, 14.711209296229583, 16.006633127191666, 17.12758979226509, 23.21787172085538, 24.97887493535037, 8.916355361589835, 7.701903281564517, 13.368826420544606, 9.98992421474711, 5.883292065337981, 2.086634699194466, 17.8474706018993, 1.9114485259192942, 1.1948880346176196, 1.1948851635624695, 1.1948823965694706, 1.1948825748895993, 1.1948812504465616, 1.1948808332444416, 1.1948800535149988, 1.1948801667848188, 1.1948793206590316, 1.1948787775536511, 1.194878438895836, 1.194877277335765, 1.1948770501877806, 1.194876547737597, 1.1948750644596666, 1.194875222206965, 1.194874499316294, 1.194874145706797, 1.1948735251546738, 1.1948733735491444, 1.1948735332069602, 1.1951090189814473, 1.1948725204825918, 1.1951178004127017, 1.195127570594255, 1.1951276796824084, 1.1948691134071256, 1.1951337325503868, 1.1951508684554626, 2.74953932192571, 4.045198356530294, 17.12758979226509, 53.582935040651236, 7.443080442756157, 23.21787172085538, 9.890194262835394, 17.8474706018993, 22.141537910897306, 27.436847953035254, 25.343567978892636, 24.97887493535037, 5.668817911266699, 18.02323841050326, 18.941981464589016, 17.14988687384646, 9.525437210783954, 8.661147348862642, 5.141967200970966, 13.368826420544606, 13.797876613828633, 6.037346683602456, 1.8909060736365486, 1.8953850957371225, 5.869025725997055, 3.4906184211559044, 3.8471486943089848, 9.52132380297814, 2.9818627872357153, 1.900754544435547, 1.1899790224977305, 1.1896655411845043, 1.189725345592727, 1.189672833451002, 1.189597743273816, 1.1899825553007815, 1.1896837137336924, 1.1898554088903652, 1.1896975052531702, 1.1897107539937, 1.1897913749269116, 1.189728476535192, 1.1895285626500147, 1.1899033870366629, 1.1897165236278382, 1.1897232694382875, 1.189818261136944, 1.1900628409649197, 1.1898436234921899, 2.52059522017671, 2.7858341077856275, 1.782251538015551, 3.6348476428057035, 1.8717638919412098, 3.686832837702416, 1.905774080922344, 2.0278609116420174, 2.0393261252989117, 2.039354381746364, 4.501912542284861, 5.289904149704237, 13.368826420544606, 25.343567978892636, 16.006633127191666, 7.443080442756157, 18.02323841050326, 9.52132380297814, 12.534356225584585, 14.711209296229583, 17.14988687384646, 17.8474706018993, 24.97887493535037, 53.582935040651236, 5.7219006630128515, 27.436847953035254, 22.141537910897306, 17.12758979226509, 3.481061150511919, 5.2364889493217595, 2.0916733178392306, 2.6942640063499845, 7.068049248299764, 1.8799808675867498, 1.8799482566504566, 1.1794555152246906, 1.17940191691055, 1.1794549967087424, 1.1794214904794453, 1.1794406745987693, 1.1794205274841811, 1.1794578952182986, 1.1794325015546074, 1.1794495366282378, 1.179454986646869, 1.179411804606028, 1.1794452203043615, 1.1794565343841656, 1.1794569839028035, 1.1794707115373153, 1.1794259344550142, 1.1794525520990267, 1.1794338087423437, 1.1794724323302035, 1.1794535241112192, 1.179444762487982, 1.1794628911965006, 1.1794386291363548, 1.1794590456108545, 1.1794808254000795, 1.1794550549920986, 2.782195995126841, 3.181913789787404, 3.4131552687589446, 25.343567978892636, 5.883292065337981, 7.5464048804641655, 23.21787172085538, 7.701903281564517, 24.97887493535037, 13.368826420544606, 14.711209296229583, 18.941981464589016, 27.436847953035254, 17.14988687384646, 13.797876613828633, 53.582935040651236, 5.364482630819409, 3.4906184211559044, 8.347645253163924, 8.916355361589835, 2.96612161772418, 1.8953850957371225, 6.037346683602456, 18.02323841050326, 3.72891204959687, 2.746337930009685, 4.336850697513841, 2.659815625760466, 1.8700182382699426, 1.8711011072528114, 1.8721311898621524, 1.17491346638238, 1.1745640343110413, 1.174413891753307, 1.1744470263469255, 1.1746511780881006, 1.1746143428372224, 1.1742733975992352, 1.1747978280762543, 1.1747623825513998, 1.174689501225893, 1.174267694414188, 1.174697606628276, 1.1742975203208863, 1.1747140879731117, 1.1742600319790961, 1.1757041501789278, 1.175695106049752, 1.175683600961364, 1.175668470842546, 1.1756096830005371, 1.1755944246591712, 1.1755898481819451, 1.1755585006949063, 1.1755132454106436, 1.1754525282458637, 1.1754414072959545, 3.3025606778196863, 3.2547211257170265, 6.539310399332856, 3.855198820075012, 9.38230065410179, 4.4964344322258265, 5.080302888611508, 5.141967200970966, 5.668817911266699, 16.006633127191666, 6.110055107397357, 7.642495255878057, 25.343567978892636, 11.13339093704818, 24.97887493535037, 18.941981464589016, 12.534356225584585, 18.02323841050326, 5.855695051592218, 9.52132380297814, 6.4184613516568145, 9.525437210783954, 3.4131552687589446, 2.71282617350426, 12.975290769596944, 4.403889493084638, 1.84343702153532, 1.1610731712733782, 1.161077831641087, 1.1610814201466535, 1.161088082297243, 1.161086546483661, 1.1610849734514859, 1.1610922679631763, 1.161101783040241, 1.161110379818991, 1.161113800008992, 1.1611114094851398, 1.1611240897540056, 1.1611234532937846, 1.1611322123659047, 1.161140600754945, 1.161146128196471, 1.1611439091034372, 1.1611581426013715, 1.161164071714477, 1.1611748913581148, 1.161176988639778, 1.1611995255615362, 1.1612258957429153, 2.559365487966367, 2.557352167545978, 2.747681188357256, 3.3938925039358034, 1.7809571110436944, 3.5430630259556875, 3.855198820075012, 8.703759266890845, 4.045198356530294, 3.9887163013356974, 5.943781003286176, 7.036812932555368, 10.338109716099005, 14.711209296229583, 10.407791273502152, 7.5464048804641655, 2.6954813767666344, 17.12758979226509, 17.8474706018993, 3.2547211257170265, 27.436847953035254, 6.539310399332856, 13.797876613828633, 9.38230065410179, 11.13339093704818, 8.507140720436695, 2.585902660294911, 2.0458389500426044, 2.746337930009685, 3.8165782009993428, 1.0987274696193998, 1.098722462708409, 1.0987065188353333, 1.0987077670660577, 1.098770275202312, 1.0989355597522905, 1.0987262273007798, 1.098868169559526, 1.0987713788889466, 1.6224476190498807, 1.6915896789856684, 1.6916001130186369, 1.7809571110436944, 1.799200876023395, 1.814823878406398, 5.7219006630128515, 1.9838661742494723, 1.983401023886919, 1.9843765941058589, 1.9999160415391537, 2.0009618539726737, 2.000424948984537, 2.4608402245193592, 2.52059522017671, 2.6942640063499845, 2.798568351024762, 2.8388380966358353, 3.181913789787404, 9.38230065410179, 3.481061150511919, 8.347645253163924, 53.582935040651236, 24.97887493535037, 13.368826420544606, 16.006633127191666, 17.12758979226509, 22.141537910897306, 23.21787172085538, 27.436847953035254, 18.02323841050326, 9.52132380297814, 4.465806265872228, 17.14988687384646, 3.8039853231937277, 4.299123025402658, 1.0717272203333836, 1.071831173886772, 1.0717123563965738, 1.0716756107870582, 1.0716860564443056, 1.071926964942842, 1.0717363224430896, 1.0720027766768983, 1.0716471549673425, 1.0715374914262454, 1.0717015943675114, 1.071691854298324, 1.0715842646958857, 1.0717411564967185, 1.071933394589988, 1.0717774968800953, 1.0715570541170016, 1.0717307157495706, 1.071631356395128, 1.0717819523359868, 1.0713560729978295, 1.0715140883119885, 1.071703018566481, 1.0715835657456663, 1.071399046527758, 1.0715782324305405, 1.0712979187956089, 2.549339554950303, 1.6916001130186369, 1.6915896789856684, 3.3883363544534344, 8.347645253163924, 17.14988687384646, 53.582935040651236, 24.97887493535037, 16.006633127191666, 5.855695051592218, 7.642495255878057, 5.883292065337981, 9.525437210783954, 5.684485934327529, 2.8577144277178963, 3.3025606778196863, 4.413050225580581, 1.782251538015551, 1.8412035394713249, 2.7475889137068106, 1.9564516839060908, 25.343567978892636, 1.525408372861153, 1.0022049618673594, 1.0023252250482337, 1.0023942402148032, 1.0024212195734483, 1.0025207432799712, 1.0025210017768118, 1.002536966734233, 1.002540894246228, 1.0026184635349717, 1.0026260041573356, 1.002664200365495, 1.0027393014088501, 1.002794916961437, 1.0028281577693205, 1.002846404131791, 1.6224476190498807, 1.8407094619491475, 1.8413236200303413, 1.9051025547767568, 1.9050185319382131, 4.781735603456406, 2.4608402245193592, 2.585902660294911, 2.5998591909727002, 2.726246776233717, 2.789584119171813, 3.2647248416301147, 3.9887163013356974, 4.406210103634329, 10.338109716099005, 53.582935040651236, 5.122395170351425, 5.684485934327529, 1.0022049618673594, 1.0023252250482337, 1.0023942402148032, 1.0024212195734483, 1.0025207432799712, 1.0025210017768118, 1.002536966734233, 1.002540894246228, 1.0026184635349717, 1.0026260041573356, 1.002664200365495, 1.0027393014088501, 1.002794916961437, 1.0028281577693205, 1.002846404131791, 1.0712979187956089, 1.0713560729978295, 1.071399046527758, 1.0715140883119885, 1.0715374914262454, 1.0715570541170016, 1.0715782324305405, 1.0715835657456663, 1.0715842646958857, 1.071631356395128, 1.0716471549673425, 1.0716756107870582, 1.0716860564443056, 1.071691854298324, 1.0717015943675114, 1.2463030118535485, 1.2465474801696976, 1.246602568822786, 1.2466686095904524, 1.2466586726891704, 1.2466809913833075, 1.2468567734991127, 1.2469405767444537, 1.246942701037144, 1.2469786946534758, 1.2470149862284472, 1.2470581922469095, 1.247106643541985, 1.2471297852750867, 1.247163441726871, 1.247159734295553, 1.2472178177140478, 1.247239394353091, 1.2473903052540272, 1.247358902876126, 2.148496899679788, 2.131759502663285, 27.436847953035254, 1.9438369236077226, 2.0968833180341315, 11.190777467814817, 1.3800000698946528, 2.1485953642953297, 1.3800131459060507, 11.13339093704818, 10.407791273502152, 2.085135240072008, 24.97887493535037, 5.357152216964892, 25.343567978892636, 23.21787172085538, 7.5464048804641655, 3.2647248416301147, 4.403889493084638, 53.582935040651236, 7.068049248299764, 7.443080442756157, 17.12758979226509, 8.075089622465264, 22.141537910897306, 9.52132380297814, 5.35855094690519, 16.006633127191666, 5.668817911266699, 1.0022049618673594, 1.0023252250482337, 1.0023942402148032, 1.0024212195734483, 1.0025207432799712, 1.0025210017768118, 1.002536966734233, 1.002540894246228, 1.0026184635349717, 1.0026260041573356, 1.002664200365495, 1.0027393014088501, 1.002794916961437, 1.0028281577693205, 1.002846404131791, 1.0712979187956089, 1.0713560729978295, 1.071399046527758, 1.0715140883119885, 1.0715782324305405, 1.0715570541170016, 1.0715835657456663, 1.0715374914262454, 1.0715842646958857, 1.071631356395128, 1.0716471549673425, 1.071703018566481, 1.071691854298324, 1.0717015943675114, 1.0717307157495706, 1.0716860564443056, 1.0716756107870582, 1.0717411564967185, 1.0717363224430896, 1.0717774968800953, 1.0717819523359868, 1.0717123563965738, 1.0717272203333836, 1.071831173886772, 1.071933394589988, 1.071926964942842, 1.0720027766768983, 1.1742600319790961, 1.174267694414188, 1.1742733975992352, 1.1742975203208863, 1.174413891753307, 1.1744470263469255, 1.1745640343110413, 1.8700182382699426, 1.1746143428372224, 2.549339554950303, 1.1746511780881006, 8.347645253163924, 5.080302888611508, 1.174689501225893, 1.174697606628276, 5.141967200970966, 6.110055107397357, 3.3025606778196863, 1.8711011072528114, 9.525437210783954, 5.855695051592218, 17.14988687384646, 9.38230065410179, 3.3883363544534344, 2.059477103207665, 25.343567978892636, 7.642495255878057, 16.006633127191666, 4.413050225580581, 5.668817911266699, 3.4131552687589446, 3.855198820075012, 5.684485934327529, 1.0022049618673594, 1.0023252250482337, 1.0023942402148032, 1.0024212195734483, 1.0025207432799712, 1.0025210017768118, 1.002536966734233, 1.002540894246228, 1.0026184635349717, 1.0026260041573356, 1.002664200365495, 1.0027393014088501, 1.002794916961437, 1.0028281577693205, 1.002846404131791, 1.0712979187956089, 1.0713560729978295, 1.071399046527758, 1.0715140883119885, 1.0715374914262454, 1.0715570541170016, 1.0715782324305405, 1.0715835657456663, 1.0715842646958857, 1.071631356395128, 1.0716471549673425, 1.0716756107870582, 1.0716860564443056, 1.071691854298324, 1.0717015943675114, 1.1895285626500147, 1.189672833451002, 1.1897107539937, 1.189728476535192, 1.189597743273816, 1.1896655411845043, 1.1897165236278382, 1.1897232694382875, 1.1896837137336924, 1.1897913749269116, 1.1896975052531702, 1.189818261136944, 1.189725345592727, 1.1899033870366629, 1.1898554088903652, 1.1898436234921899, 1.1899825553007815, 1.1900628409649197, 1.1899790224977305, 1.900754544435547, 1.782251538015551, 3.686832837702416, 3.6348476428057035, 2.7858341077856275, 2.52059522017671, 1.8717638919412098, 1.905774080922344, 2.074613218614863, 2.6942640063499845, 2.0913428489621153, 25.343567978892636, 13.368826420544606, 4.501912542284861, 5.289904149704237, 18.02323841050326, 2.572089396167949, 16.006633127191666, 24.97887493535037, 14.711209296229583, 3.4906184211559044, 17.8474706018993, 2.8884171863825294, 12.534356225584585, 17.14988687384646, 9.52132380297814, 7.443080442756157, 5.563467304708247, 7.701903281564517, 5.668817911266699, 4.403889493084638, 8.703759266890845, 3.8315238895675012, 1.0022049618673594, 1.0023252250482337, 1.0023942402148032, 1.0024212195734483, 1.0025207432799712, 1.0025210017768118, 1.002536966734233, 1.002540894246228, 1.0026184635349717, 1.0026260041573356, 1.002664200365495, 1.0027393014088501, 1.002794916961437, 1.0028281577693205, 1.002846404131791, 1.0712979187956089, 1.0713560729978295, 1.0715835657456663, 1.071631356395128, 1.0715374914262454, 1.0716860564443056, 1.071399046527758, 1.0715140883119885, 1.0715570541170016, 1.0715842646958857, 1.071703018566481, 1.0717363224430896, 1.0716471549673425, 1.0715782324305405, 1.0717819523359868, 1.0717774968800953, 1.0720027766768983, 1.0717123563965738, 16.006633127191666, 53.582935040651236, 3.9366492011495273, 8.347645253163924, 27.436847953035254, 17.12758979226509, 3.1849200070618346, 13.368826420544606, 5.943781003286176, 2.6706196289885207, 1.3811249963637315, 2.2825967414573514, 3.617193277826706, 9.525437210783954, 1.3811027595704204, 1.3810927239688437, 10.407791273502152, 2.0767141841570114, 1.3811155525305576, 1.3811204594798085, 2.782195995126841, 4.403889493084638, 1.3810778127919565, 1.9051025547767568, 2.08171459182424, 2.266313710958076, 4.603188687046908, 1.381098566661613, 2.2308464285654845, 1.3812090082711062, 1.0022049618673594, 1.0023252250482337, 1.0023942402148032, 1.0024212195734483, 1.0025207432799712, 1.0025210017768118, 1.002536966734233, 1.002540894246228, 1.0026184635349717, 1.0026260041573356, 1.002664200365495, 1.0027393014088501, 1.002794916961437, 1.0028281577693205, 1.002846404131791, 1.0712979187956089, 1.0713560729978295, 1.071399046527758, 1.0715140883119885, 1.0715374914262454, 1.0715570541170016, 1.0715782324305405, 1.0715835657456663, 1.0715842646958857, 1.071631356395128, 1.0716471549673425, 1.0716756107870582, 1.0716860564443056, 1.071691854298324, 1.0717015943675114, 1.1895285626500147, 1.189725345592727, 1.1898436234921899, 1.3632146087567096, 1.1897232694382875, 1.1897165236278382, 1.3633679066390418, 1.1896975052531702, 1.189597743273816, 1.1897913749269116, 1.1896837137336924, 1.1900628409649197, 1.1899033870366629, 1.189818261136944, 1.3635774734690955, 1.3634430950768373, 1.3635683804286016, 1.3635597700179998, 1.3635915625976498, 1.363561899689379, 1.3637067671143794, 1.3636735299562999, 1.3637105714889894, 1.3636496473746507, 1.3636877042794693, 1.363672852471035, 2.9590371299156573, 1.3637602474911685, 1.363752623988754, 1.3637013266647615, 1.3637899040268608, 1.3637998727242566, 1.3637194613048274, 1.3637683416111621, 1.3637803019699506, 1.3637699539674655, 1.3637374044223944, 3.1495021949117525, 17.14988687384646, 2.945037596835288, 16.006633127191666, 14.711209296229583, 18.02323841050326, 3.6348476428057035, 9.890194262835394, 13.368826420544606, 3.4906184211559044, 2.2484844746120616, 3.745399983565831, 53.582935040651236, 27.436847953035254, 13.797876613828633, 17.8474706018993, 8.347645253163924, 25.343567978892636, 10.407791273502152, 6.037346683602456, 5.289904149704237, 24.97887493535037, 22.141537910897306, 4.051916834294074, 7.167594931012656, 17.12758979226509, 5.563467304708247, 5.639468194233057, 1.0022049618673594, 1.0023252250482337, 1.0023942402148032, 1.0024212195734483, 1.0025207432799712, 1.0025210017768118, 1.002536966734233, 1.002540894246228, 1.0026184635349717, 1.0026260041573356, 1.002664200365495, 1.0027393014088501, 1.002794916961437, 1.0028281577693205, 1.002846404131791, 1.0712979187956089, 1.0713560729978295, 1.071399046527758, 1.0715140883119885, 1.0715374914262454, 1.0715570541170016, 1.0715782324305405, 1.0715835657456663, 1.0715842646958857, 1.071631356395128, 1.0716471549673425, 1.0716756107870582, 1.0716860564443056, 1.071691854298324, 1.0717015943675114, 1.3800863537090056, 1.3804101538090257, 1.3804241447437609, 1.3804602513835436, 1.3804910224359936, 1.3805319078247995, 1.3805987499848926, 1.3805892280592162, 1.3805400709665099, 1.38063696798177, 2.062403913344254, 2.2825967414573514, 2.2301014005707462, 2.2185220433209802, 2.000424948984537, 9.890194262835394, 17.8474706018993, 24.97887493535037, 2.789584119171813, 2.230487388256122, 2.1485953642953297, 2.265451900623132, 4.000461910820925, 2.0913428489621153, 4.406210103634329, 5.141967200970966, 2.962825729916276, 3.686832837702416, 2.0916733178392306, 3.8039853231937277, 22.141537910897306, 53.582935040651236, 27.436847953035254, 4.971498255984582, 4.4964344322258265, 4.052503369510676, 5.383847106001308, 3.745399983565831, 3.8471486943089848, 18.02323841050326, 10.338109716099005, 1.0022049618673594, 1.0023252250482337, 1.0023942402148032, 1.0024212195734483, 1.0025207432799712, 1.0025210017768118, 1.002536966734233, 1.002540894246228, 1.0026184635349717, 1.0026260041573356, 1.002664200365495, 1.0027393014088501, 1.002794916961437, 1.0028281577693205, 1.002846404131791, 1.0712979187956089, 1.0713560729978295, 1.071399046527758, 1.0715140883119885, 1.0715374914262454, 1.0715570541170016, 1.0715782324305405, 1.0715835657456663, 1.0715842646958857, 1.071631356395128, 1.0716471549673425, 1.0716756107870582, 1.0716860564443056, 1.071691854298324, 1.0717015943675114, 25.343567978892636, 24.97887493535037, 23.21787172085538, 1.8799482566504566, 7.701903281564517, 3.4131552687589446, 5.883292065337981, 14.711209296229583, 13.368826420544606, 1.8799808675867498, 3.181913789787404, 2.782195995126841, 27.436847953035254, 18.941981464589016, 2.931413984164066, 7.5464048804641655, 53.582935040651236, 1.1794214904794453, 1.1794578952182986, 1.1794325015546074, 8.916355361589835, 1.861674140138089, 1.1794338087423437, 1.7720515733108932, 9.38230065410179, 2.0293493912368272, 2.0171855531503864, 1.9477722849594994, 1.1794386291363548, 5.35855094690519], \"Category\": [\"Default\", \"Default\", \"Default\", \"Default\", \"Default\", \"Default\", \"Default\", \"Default\", \"Default\", \"Default\", \"Default\", \"Default\", \"Default\", \"Default\", \"Default\", \"Default\", \"Default\", \"Default\", \"Default\", \"Default\", \"Default\", \"Default\", \"Default\", \"Default\", \"Default\", \"Default\", \"Default\", \"Default\", \"Default\", \"Default\", \"Topic1\", \"Topic1\", \"Topic1\", \"Topic1\", \"Topic1\", \"Topic1\", \"Topic1\", \"Topic1\", \"Topic1\", \"Topic1\", \"Topic1\", \"Topic1\", \"Topic1\", \"Topic1\", \"Topic1\", \"Topic1\", \"Topic1\", \"Topic1\", \"Topic1\", \"Topic1\", \"Topic1\", \"Topic1\", \"Topic1\", \"Topic1\", \"Topic1\", \"Topic1\", \"Topic1\", \"Topic1\", \"Topic1\", \"Topic1\", \"Topic1\", \"Topic1\", \"Topic1\", \"Topic1\", \"Topic1\", \"Topic1\", \"Topic1\", \"Topic1\", \"Topic1\", \"Topic1\", \"Topic1\", \"Topic1\", \"Topic1\", \"Topic1\", \"Topic1\", \"Topic1\", \"Topic1\", \"Topic1\", \"Topic1\", \"Topic1\", \"Topic1\", \"Topic1\", \"Topic1\", \"Topic1\", \"Topic1\", \"Topic1\", \"Topic1\", \"Topic1\", \"Topic1\", \"Topic1\", \"Topic1\", \"Topic2\", \"Topic2\", \"Topic2\", \"Topic2\", \"Topic2\", \"Topic2\", \"Topic2\", \"Topic2\", \"Topic2\", \"Topic2\", \"Topic2\", \"Topic2\", \"Topic2\", \"Topic2\", \"Topic2\", \"Topic2\", \"Topic2\", \"Topic2\", \"Topic2\", \"Topic2\", \"Topic2\", \"Topic2\", \"Topic2\", \"Topic2\", \"Topic2\", \"Topic2\", \"Topic2\", \"Topic2\", \"Topic2\", \"Topic2\", \"Topic2\", \"Topic2\", \"Topic2\", \"Topic2\", \"Topic2\", \"Topic2\", \"Topic2\", \"Topic2\", \"Topic2\", \"Topic2\", \"Topic2\", \"Topic2\", \"Topic2\", \"Topic2\", \"Topic2\", \"Topic2\", \"Topic2\", \"Topic2\", \"Topic2\", \"Topic2\", \"Topic2\", \"Topic2\", \"Topic2\", \"Topic2\", \"Topic2\", \"Topic2\", \"Topic2\", \"Topic2\", \"Topic2\", \"Topic2\", \"Topic2\", \"Topic2\", \"Topic2\", \"Topic2\", \"Topic2\", \"Topic2\", \"Topic2\", \"Topic3\", \"Topic3\", \"Topic3\", \"Topic3\", \"Topic3\", \"Topic3\", \"Topic3\", \"Topic3\", \"Topic3\", \"Topic3\", \"Topic3\", \"Topic3\", \"Topic3\", \"Topic3\", \"Topic3\", \"Topic3\", \"Topic3\", \"Topic3\", \"Topic3\", \"Topic3\", \"Topic3\", \"Topic3\", \"Topic3\", \"Topic3\", \"Topic3\", \"Topic3\", \"Topic3\", \"Topic3\", \"Topic3\", \"Topic3\", \"Topic3\", \"Topic3\", \"Topic3\", \"Topic3\", \"Topic3\", \"Topic3\", \"Topic3\", \"Topic3\", \"Topic3\", \"Topic3\", \"Topic3\", \"Topic3\", \"Topic3\", \"Topic3\", \"Topic3\", \"Topic3\", \"Topic3\", \"Topic3\", \"Topic3\", \"Topic3\", \"Topic3\", \"Topic3\", \"Topic3\", \"Topic3\", \"Topic3\", \"Topic3\", \"Topic3\", \"Topic3\", \"Topic3\", \"Topic3\", \"Topic4\", \"Topic4\", \"Topic4\", \"Topic4\", \"Topic4\", \"Topic4\", \"Topic4\", \"Topic4\", \"Topic4\", \"Topic4\", \"Topic4\", \"Topic4\", \"Topic4\", \"Topic4\", \"Topic4\", \"Topic4\", \"Topic4\", \"Topic4\", \"Topic4\", \"Topic4\", \"Topic4\", \"Topic4\", \"Topic4\", \"Topic4\", \"Topic4\", \"Topic4\", \"Topic4\", \"Topic4\", \"Topic4\", \"Topic4\", \"Topic4\", \"Topic4\", \"Topic4\", \"Topic4\", \"Topic4\", \"Topic4\", \"Topic4\", \"Topic4\", \"Topic4\", \"Topic4\", \"Topic4\", \"Topic4\", \"Topic4\", \"Topic4\", \"Topic4\", \"Topic4\", \"Topic4\", \"Topic4\", \"Topic4\", \"Topic4\", \"Topic4\", \"Topic4\", \"Topic4\", \"Topic4\", \"Topic4\", \"Topic4\", \"Topic4\", \"Topic4\", \"Topic4\", \"Topic4\", \"Topic4\", \"Topic4\", \"Topic5\", \"Topic5\", \"Topic5\", \"Topic5\", \"Topic5\", \"Topic5\", \"Topic5\", \"Topic5\", \"Topic5\", \"Topic5\", \"Topic5\", \"Topic5\", \"Topic5\", \"Topic5\", \"Topic5\", \"Topic5\", \"Topic5\", \"Topic5\", \"Topic5\", \"Topic5\", \"Topic5\", \"Topic5\", \"Topic5\", \"Topic5\", \"Topic5\", \"Topic5\", \"Topic5\", \"Topic5\", \"Topic5\", \"Topic5\", \"Topic5\", \"Topic5\", \"Topic5\", \"Topic5\", \"Topic5\", \"Topic5\", \"Topic5\", \"Topic5\", \"Topic5\", \"Topic5\", \"Topic5\", \"Topic5\", \"Topic5\", \"Topic5\", \"Topic5\", \"Topic5\", \"Topic5\", \"Topic5\", \"Topic5\", \"Topic5\", \"Topic5\", \"Topic5\", \"Topic5\", \"Topic5\", \"Topic5\", \"Topic5\", \"Topic5\", \"Topic5\", \"Topic5\", \"Topic5\", \"Topic6\", \"Topic6\", \"Topic6\", \"Topic6\", \"Topic6\", \"Topic6\", \"Topic6\", \"Topic6\", \"Topic6\", \"Topic6\", \"Topic6\", \"Topic6\", \"Topic6\", \"Topic6\", \"Topic6\", \"Topic6\", \"Topic6\", \"Topic6\", \"Topic6\", \"Topic6\", \"Topic6\", \"Topic6\", \"Topic6\", \"Topic6\", \"Topic6\", \"Topic6\", \"Topic6\", \"Topic6\", \"Topic6\", \"Topic6\", \"Topic6\", \"Topic6\", \"Topic6\", \"Topic6\", \"Topic6\", \"Topic6\", \"Topic6\", \"Topic6\", \"Topic6\", \"Topic6\", \"Topic6\", \"Topic6\", \"Topic6\", \"Topic6\", \"Topic6\", \"Topic6\", \"Topic6\", \"Topic6\", \"Topic6\", \"Topic6\", \"Topic6\", \"Topic6\", \"Topic6\", \"Topic6\", \"Topic6\", \"Topic6\", \"Topic6\", \"Topic6\", \"Topic6\", \"Topic7\", \"Topic7\", \"Topic7\", \"Topic7\", \"Topic7\", \"Topic7\", \"Topic7\", \"Topic7\", \"Topic7\", \"Topic7\", \"Topic7\", \"Topic7\", \"Topic7\", \"Topic7\", \"Topic7\", \"Topic7\", \"Topic7\", \"Topic7\", \"Topic7\", \"Topic7\", \"Topic7\", \"Topic7\", \"Topic7\", \"Topic7\", \"Topic7\", \"Topic7\", \"Topic7\", \"Topic7\", \"Topic7\", \"Topic7\", \"Topic7\", \"Topic7\", \"Topic7\", \"Topic7\", \"Topic7\", \"Topic7\", \"Topic7\", \"Topic7\", \"Topic7\", \"Topic7\", \"Topic7\", \"Topic7\", \"Topic7\", \"Topic7\", \"Topic7\", \"Topic7\", \"Topic7\", \"Topic7\", \"Topic7\", \"Topic7\", \"Topic7\", \"Topic7\", \"Topic7\", \"Topic8\", \"Topic8\", \"Topic8\", \"Topic8\", \"Topic8\", \"Topic8\", \"Topic8\", \"Topic8\", \"Topic8\", \"Topic8\", \"Topic8\", \"Topic8\", \"Topic8\", \"Topic8\", \"Topic8\", \"Topic8\", \"Topic8\", \"Topic8\", \"Topic8\", \"Topic8\", \"Topic8\", \"Topic8\", \"Topic8\", \"Topic8\", \"Topic8\", \"Topic8\", \"Topic8\", \"Topic8\", \"Topic8\", \"Topic8\", \"Topic8\", \"Topic8\", \"Topic8\", \"Topic8\", \"Topic8\", \"Topic8\", \"Topic8\", \"Topic8\", \"Topic8\", \"Topic8\", \"Topic8\", \"Topic8\", \"Topic8\", \"Topic8\", \"Topic8\", \"Topic8\", \"Topic8\", \"Topic8\", \"Topic8\", \"Topic8\", \"Topic8\", \"Topic8\", \"Topic8\", \"Topic8\", \"Topic8\", \"Topic8\", \"Topic9\", \"Topic9\", \"Topic9\", \"Topic9\", \"Topic9\", \"Topic9\", \"Topic9\", \"Topic9\", \"Topic9\", \"Topic9\", \"Topic9\", \"Topic9\", \"Topic9\", \"Topic9\", \"Topic9\", \"Topic9\", \"Topic9\", \"Topic9\", \"Topic9\", \"Topic9\", \"Topic9\", \"Topic9\", \"Topic9\", \"Topic9\", \"Topic9\", \"Topic9\", \"Topic9\", \"Topic9\", \"Topic9\", \"Topic9\", \"Topic9\", \"Topic9\", \"Topic9\", \"Topic9\", \"Topic9\", \"Topic9\", \"Topic9\", \"Topic9\", \"Topic9\", \"Topic9\", \"Topic9\", \"Topic9\", \"Topic9\", \"Topic9\", \"Topic9\", \"Topic9\", \"Topic9\", \"Topic9\", \"Topic9\", \"Topic9\", \"Topic9\", \"Topic9\", \"Topic9\", \"Topic9\", \"Topic9\", \"Topic10\", \"Topic10\", \"Topic10\", \"Topic10\", \"Topic10\", \"Topic10\", \"Topic10\", \"Topic10\", \"Topic10\", \"Topic10\", \"Topic10\", \"Topic10\", \"Topic10\", \"Topic10\", \"Topic10\", \"Topic10\", \"Topic10\", \"Topic10\", \"Topic10\", \"Topic10\", \"Topic10\", \"Topic10\", \"Topic10\", \"Topic10\", \"Topic10\", \"Topic10\", \"Topic10\", \"Topic10\", \"Topic10\", \"Topic10\", \"Topic10\", \"Topic10\", \"Topic10\", \"Topic10\", \"Topic10\", \"Topic10\", \"Topic10\", \"Topic10\", \"Topic10\", \"Topic10\", \"Topic10\", \"Topic10\", \"Topic10\", \"Topic10\", \"Topic10\", \"Topic10\", \"Topic10\", \"Topic10\", \"Topic10\", \"Topic10\", \"Topic10\", \"Topic10\", \"Topic10\", \"Topic10\", \"Topic11\", \"Topic11\", \"Topic11\", \"Topic11\", \"Topic11\", \"Topic11\", \"Topic11\", \"Topic11\", \"Topic11\", \"Topic11\", \"Topic11\", \"Topic11\", \"Topic11\", \"Topic11\", \"Topic11\", \"Topic11\", \"Topic11\", \"Topic11\", \"Topic11\", \"Topic11\", \"Topic11\", \"Topic11\", \"Topic11\", \"Topic11\", \"Topic11\", \"Topic11\", \"Topic11\", \"Topic11\", \"Topic11\", \"Topic11\", \"Topic11\", \"Topic11\", \"Topic11\", \"Topic11\", \"Topic11\", \"Topic11\", \"Topic11\", \"Topic11\", \"Topic11\", \"Topic11\", \"Topic11\", \"Topic11\", \"Topic11\", \"Topic11\", \"Topic11\", \"Topic12\", \"Topic12\", \"Topic12\", \"Topic12\", \"Topic12\", \"Topic12\", \"Topic12\", \"Topic12\", \"Topic12\", \"Topic12\", \"Topic12\", \"Topic12\", \"Topic12\", \"Topic12\", \"Topic12\", \"Topic12\", \"Topic12\", \"Topic12\", \"Topic12\", \"Topic12\", \"Topic12\", \"Topic12\", \"Topic12\", \"Topic12\", \"Topic12\", \"Topic12\", \"Topic12\", \"Topic12\", \"Topic12\", \"Topic12\", \"Topic12\", \"Topic12\", \"Topic12\", \"Topic12\", \"Topic12\", \"Topic12\", \"Topic12\", \"Topic12\", \"Topic12\", \"Topic12\", \"Topic12\", \"Topic12\", \"Topic12\", \"Topic12\", \"Topic12\", \"Topic12\", \"Topic12\", \"Topic12\", \"Topic12\", \"Topic13\", \"Topic13\", \"Topic13\", \"Topic13\", \"Topic13\", \"Topic13\", \"Topic13\", \"Topic13\", \"Topic13\", \"Topic13\", \"Topic13\", \"Topic13\", \"Topic13\", \"Topic13\", \"Topic13\", \"Topic13\", \"Topic13\", \"Topic13\", \"Topic13\", \"Topic13\", \"Topic13\", \"Topic13\", \"Topic13\", \"Topic13\", \"Topic13\", \"Topic13\", \"Topic13\", \"Topic13\", \"Topic13\", \"Topic13\", \"Topic13\", \"Topic13\", \"Topic13\", \"Topic13\", \"Topic14\", \"Topic14\", \"Topic14\", \"Topic14\", \"Topic14\", \"Topic14\", \"Topic14\", \"Topic14\", \"Topic14\", \"Topic14\", \"Topic14\", \"Topic14\", \"Topic14\", \"Topic14\", \"Topic14\", \"Topic14\", \"Topic14\", \"Topic14\", \"Topic14\", \"Topic14\", \"Topic14\", \"Topic14\", \"Topic14\", \"Topic14\", \"Topic14\", \"Topic14\", \"Topic14\", \"Topic14\", \"Topic14\", \"Topic14\", \"Topic14\", \"Topic14\", \"Topic14\", \"Topic14\", \"Topic14\", \"Topic14\", \"Topic14\", \"Topic14\", \"Topic14\", \"Topic14\", \"Topic14\", \"Topic14\", \"Topic14\", \"Topic14\", \"Topic14\", \"Topic14\", \"Topic14\", \"Topic14\", \"Topic14\", \"Topic14\", \"Topic14\", \"Topic14\", \"Topic14\", \"Topic14\", \"Topic14\", \"Topic14\", \"Topic14\", \"Topic14\", \"Topic14\", \"Topic14\", \"Topic14\", \"Topic14\", \"Topic14\", \"Topic14\", \"Topic14\", \"Topic14\", \"Topic14\", \"Topic14\", \"Topic14\", \"Topic14\", \"Topic14\", \"Topic14\", \"Topic14\", \"Topic14\", \"Topic14\", \"Topic14\", \"Topic14\", \"Topic14\", \"Topic14\", \"Topic15\", \"Topic15\", \"Topic15\", \"Topic15\", \"Topic15\", \"Topic15\", \"Topic15\", \"Topic15\", \"Topic15\", \"Topic15\", \"Topic15\", \"Topic15\", \"Topic15\", \"Topic15\", \"Topic15\", \"Topic15\", \"Topic15\", \"Topic15\", \"Topic15\", \"Topic15\", \"Topic15\", \"Topic15\", \"Topic15\", \"Topic15\", \"Topic15\", \"Topic15\", \"Topic15\", \"Topic15\", \"Topic15\", \"Topic15\", \"Topic15\", \"Topic15\", \"Topic15\", \"Topic15\", \"Topic15\", \"Topic15\", \"Topic15\", \"Topic15\", \"Topic15\", \"Topic15\", \"Topic15\", \"Topic15\", \"Topic15\", \"Topic15\", \"Topic15\", \"Topic15\", \"Topic15\", \"Topic15\", \"Topic15\", \"Topic15\", \"Topic15\", \"Topic15\", \"Topic15\", \"Topic15\", \"Topic15\", \"Topic15\", \"Topic15\", \"Topic15\", \"Topic15\", \"Topic15\", \"Topic15\", \"Topic15\", \"Topic15\", \"Topic15\", \"Topic15\", \"Topic15\", \"Topic15\", \"Topic15\", \"Topic15\", \"Topic15\", \"Topic15\", \"Topic15\", \"Topic15\", \"Topic15\", \"Topic15\", \"Topic16\", \"Topic16\", \"Topic16\", \"Topic16\", \"Topic16\", \"Topic16\", \"Topic16\", \"Topic16\", \"Topic16\", \"Topic16\", \"Topic16\", \"Topic16\", \"Topic16\", \"Topic16\", \"Topic16\", \"Topic16\", \"Topic16\", \"Topic16\", \"Topic16\", \"Topic16\", \"Topic16\", \"Topic16\", \"Topic16\", \"Topic16\", \"Topic16\", \"Topic16\", \"Topic16\", \"Topic16\", \"Topic16\", \"Topic16\", \"Topic16\", \"Topic16\", \"Topic16\", \"Topic16\", \"Topic16\", \"Topic16\", \"Topic16\", \"Topic16\", \"Topic16\", \"Topic16\", \"Topic16\", \"Topic16\", \"Topic16\", \"Topic16\", \"Topic16\", \"Topic16\", \"Topic16\", \"Topic16\", \"Topic16\", \"Topic16\", \"Topic16\", \"Topic16\", \"Topic16\", \"Topic16\", \"Topic16\", \"Topic16\", \"Topic16\", \"Topic16\", \"Topic16\", \"Topic16\", \"Topic16\", \"Topic16\", \"Topic16\", \"Topic16\", \"Topic16\", \"Topic16\", \"Topic16\", \"Topic16\", \"Topic16\", \"Topic16\", \"Topic16\", \"Topic16\", \"Topic16\", \"Topic16\", \"Topic16\", \"Topic16\", \"Topic16\", \"Topic16\", \"Topic16\", \"Topic16\", \"Topic16\", \"Topic16\", \"Topic17\", \"Topic17\", \"Topic17\", \"Topic17\", \"Topic17\", \"Topic17\", \"Topic17\", \"Topic17\", \"Topic17\", \"Topic17\", \"Topic17\", \"Topic17\", \"Topic17\", \"Topic17\", \"Topic17\", \"Topic17\", \"Topic17\", \"Topic17\", \"Topic17\", \"Topic17\", \"Topic17\", \"Topic17\", \"Topic17\", \"Topic17\", \"Topic17\", \"Topic17\", \"Topic17\", \"Topic17\", \"Topic17\", \"Topic17\", \"Topic17\", \"Topic17\", \"Topic17\", \"Topic17\", \"Topic17\", \"Topic17\", \"Topic17\", \"Topic17\", \"Topic17\", \"Topic17\", \"Topic17\", \"Topic17\", \"Topic17\", \"Topic17\", \"Topic17\", \"Topic17\", \"Topic17\", \"Topic17\", \"Topic17\", \"Topic17\", \"Topic17\", \"Topic17\", \"Topic17\", \"Topic17\", \"Topic17\", \"Topic17\", \"Topic17\", \"Topic17\", \"Topic17\", \"Topic17\", \"Topic17\", \"Topic17\", \"Topic17\", \"Topic18\", \"Topic18\", \"Topic18\", \"Topic18\", \"Topic18\", \"Topic18\", \"Topic18\", \"Topic18\", \"Topic18\", \"Topic18\", \"Topic18\", \"Topic18\", \"Topic18\", \"Topic18\", \"Topic18\", \"Topic18\", \"Topic18\", \"Topic18\", \"Topic18\", \"Topic18\", \"Topic18\", \"Topic18\", \"Topic18\", \"Topic18\", \"Topic18\", \"Topic18\", \"Topic18\", \"Topic18\", \"Topic18\", \"Topic18\", \"Topic18\", \"Topic18\", \"Topic18\", \"Topic18\", \"Topic18\", \"Topic18\", \"Topic18\", \"Topic18\", \"Topic18\", \"Topic18\", \"Topic18\", \"Topic18\", \"Topic18\", \"Topic18\", \"Topic18\", \"Topic18\", \"Topic18\", \"Topic18\", \"Topic18\", \"Topic18\", \"Topic18\", \"Topic18\", \"Topic18\", \"Topic18\", \"Topic18\", \"Topic18\", \"Topic18\", \"Topic18\", \"Topic18\", \"Topic18\", \"Topic18\", \"Topic18\", \"Topic18\", \"Topic18\", \"Topic18\", \"Topic18\", \"Topic18\", \"Topic18\", \"Topic18\", \"Topic18\", \"Topic18\", \"Topic18\", \"Topic18\", \"Topic18\", \"Topic18\", \"Topic18\", \"Topic18\", \"Topic18\", \"Topic18\", \"Topic18\", \"Topic18\", \"Topic18\", \"Topic18\", \"Topic18\", \"Topic18\", \"Topic18\", \"Topic18\", \"Topic18\", \"Topic18\", \"Topic18\", \"Topic18\", \"Topic18\", \"Topic18\", \"Topic18\", \"Topic18\", \"Topic19\", \"Topic19\", \"Topic19\", \"Topic19\", \"Topic19\", \"Topic19\", \"Topic19\", \"Topic19\", \"Topic19\", \"Topic19\", \"Topic19\", \"Topic19\", \"Topic19\", \"Topic19\", \"Topic19\", \"Topic19\", \"Topic19\", \"Topic19\", \"Topic19\", \"Topic19\", \"Topic19\", \"Topic19\", \"Topic19\", \"Topic19\", \"Topic19\", \"Topic19\", \"Topic19\", \"Topic19\", \"Topic19\", \"Topic19\", \"Topic19\", \"Topic19\", \"Topic19\", \"Topic19\", \"Topic19\", \"Topic19\", \"Topic19\", \"Topic19\", \"Topic19\", \"Topic19\", \"Topic19\", \"Topic19\", \"Topic19\", \"Topic19\", \"Topic19\", \"Topic19\", \"Topic19\", \"Topic19\", \"Topic19\", \"Topic19\", \"Topic19\", \"Topic19\", \"Topic19\", \"Topic19\", \"Topic19\", \"Topic19\", \"Topic19\", \"Topic19\", \"Topic19\", \"Topic19\", \"Topic19\", \"Topic19\", \"Topic19\", \"Topic19\", \"Topic19\", \"Topic19\", \"Topic19\", \"Topic19\", \"Topic19\", \"Topic19\", \"Topic19\", \"Topic20\", \"Topic20\", \"Topic20\", \"Topic20\", \"Topic20\", \"Topic20\", \"Topic20\", \"Topic20\", \"Topic20\", \"Topic20\", \"Topic20\", \"Topic20\", \"Topic20\", \"Topic20\", \"Topic20\", \"Topic20\", \"Topic20\", \"Topic20\", \"Topic20\", \"Topic20\", \"Topic20\", \"Topic20\", \"Topic20\", \"Topic20\", \"Topic20\", \"Topic20\", \"Topic20\", \"Topic20\", \"Topic20\", \"Topic20\", \"Topic20\", \"Topic20\", \"Topic20\", \"Topic20\", \"Topic20\", \"Topic20\", \"Topic20\", \"Topic20\", \"Topic20\", \"Topic20\", \"Topic20\", \"Topic20\", \"Topic20\", \"Topic20\", \"Topic20\", \"Topic20\", \"Topic20\", \"Topic20\", \"Topic20\", \"Topic20\", \"Topic20\", \"Topic20\", \"Topic20\", \"Topic20\", \"Topic20\", \"Topic20\", \"Topic20\", \"Topic20\", \"Topic20\", \"Topic20\"], \"logprob\": [30.0, 29.0, 28.0, 27.0, 26.0, 25.0, 24.0, 23.0, 22.0, 21.0, 20.0, 19.0, 18.0, 17.0, 16.0, 15.0, 14.0, 13.0, 12.0, 11.0, 10.0, 9.0, 8.0, 7.0, 6.0, 5.0, 4.0, 3.0, 2.0, 1.0, -4.682, -4.9638, -4.9642, -5.3606, -5.3617, -5.3626, -4.6818, -4.964, -4.9648, -6.0288, -6.0288, -6.0289, -6.029, -6.0289, -6.029, -6.0291, -6.0291, -6.0293, -6.0289, -6.0297, -6.0289, -6.0293, -6.0293, -6.0294, -6.0295, -6.0295, -6.0295, -6.0295, -6.0296, -6.0296, -5.3601, -4.9653, -4.9649, -5.3602, -5.3633, -5.3668, -5.3622, -4.9625, -4.6802, -3.7723, -3.3033, -4.1271, -3.9938, -4.6817, -4.9653, -4.1264, -4.6779, -4.1265, -5.3641, -5.3621, -5.361, -4.6823, -4.9625, -4.9623, -4.6779, -4.6812, -4.964, -4.9612, -4.9632, -5.3575, -5.3601, -5.206, -5.2064, -5.2071, -5.207, -5.2075, -4.525, -4.8086, -5.8732, -5.8732, -5.8734, -5.8734, -5.8736, -5.8737, -5.8736, -5.8737, -5.8737, -5.8739, -5.8744, -5.8748, -5.875, -5.8749, -5.8746, -5.875, -5.8749, -5.875, -5.875, -5.8751, -5.8749, -5.8749, -5.8751, -5.8747, -4.5246, -5.2061, -5.2067, -5.2066, -5.2062, -5.2058, -5.2069, -4.3042, -3.0301, -4.3042, -4.525, -4.809, -3.9701, -4.8073, -4.5244, -5.2056, -4.3039, -5.2055, -5.2065, -4.3042, -4.8082, -4.808, -5.2067, -4.5251, -4.305, -4.5239, -4.807, -4.8078, -4.8086, -4.8086, -5.2037, -5.2038, -5.205, -5.205, -5.2054, -5.2057, -4.9516, -4.952, -4.9541, -4.9589, -4.5539, -5.6198, -5.6197, -5.6199, -5.6199, -5.6198, -5.6198, -5.62, -5.6199, -5.62, -5.62, -5.6201, -5.6201, -5.6201, -5.6201, -5.6201, -5.6201, -5.6202, -5.6202, -5.6202, -5.6203, -5.6202, -5.6202, -5.6203, -5.6203, -5.6203, -5.6202, -4.951, -4.0884, -4.9524, -4.555, -4.9514, -4.0484, -4.5541, -4.9514, -3.8904, -3.868, -4.5535, -4.953, -4.0497, -4.0499, -3.8701, -4.0492, -4.9519, -4.5517, -4.948, -4.5544, -4.9511, -4.2671, -4.9494, -4.951, -4.9487, -4.5763, -4.946, -4.9494, -4.9514, -4.8956, -4.8959, -4.8962, -4.8966, -5.5632, -5.5632, -5.5632, -5.5632, -5.5632, -5.5632, -5.5632, -5.5632, -5.5632, -5.5632, -5.5632, -5.5632, -5.5632, -5.5632, -5.5633, -5.566, -5.5661, -5.5661, -5.5663, -5.5662, -5.5665, -5.5665, -5.5665, -5.5666, -5.5666, -5.5667, -4.8959, -4.8951, -4.8956, -3.9915, -4.5002, -3.9903, -4.8957, -4.8951, -3.2004, -3.8104, -3.8107, -4.2101, -4.4936, -4.4984, -4.2135, -4.2141, -4.4992, -4.2105, -4.8927, -4.8965, -4.8944, -4.4898, -4.4958, -4.8973, -4.8937, -4.8978, -4.4938, -4.4905, -4.8867, -4.8835, -4.8872, -4.8922, -4.5048, -5.1738, -5.1739, -5.1739, -5.1739, -5.1739, -5.174, -5.174, -5.174, -5.174, -5.174, -5.174, -5.174, -5.174, -5.174, -5.1741, -5.1741, -5.1741, -5.1741, -5.1741, -5.1779, -5.1781, -5.1783, -5.1782, -5.1783, -5.1782, -5.1785, -5.1785, -5.1785, -5.1789, -5.1787, -4.5047, -4.5075, -4.1088, -4.5072, -4.505, -4.1075, -3.8237, -4.1102, -4.1115, -4.5047, -4.5091, -4.5072, -4.1087, -4.1099, -4.5104, -4.5044, -4.1084, -4.5035, -4.5072, -4.5067, -4.5051, -4.5088, -5.1703, -5.1713, -5.1718, -5.1721, -5.1723, -5.1732, -5.1733, -4.3159, -4.9837, -4.9839, -4.9841, -4.9841, -4.9841, -4.9842, -4.9842, -4.9842, -4.9843, -4.9843, -4.9843, -4.9844, -4.9844, -4.9844, -4.9845, -4.9845, -4.9846, -4.9846, -4.9846, -4.9846, -4.9846, -4.9845, -4.9847, -4.9845, -4.9846, -4.9846, -4.9849, -4.9847, -4.9848, -4.3159, -4.3163, -3.6343, -3.4117, -4.3159, -3.9122, -4.3133, -4.3127, -4.3096, -4.3092, -4.9637, -4.9645, -4.9713, -4.9722, -4.9736, -4.9773, -4.9773, -4.9774, -4.9776, -4.9788, -4.9793, -4.9804, -4.9806, -4.9808, -4.9808, -4.9811, -4.9823, -4.9826, -4.9829, -4.2723, -4.9402, -4.9409, -4.9411, -4.9412, -4.9413, -4.941, -4.9412, -4.9411, -4.9412, -4.9415, -4.9414, -4.9417, -4.9419, -4.9416, -4.9418, -4.9419, -4.9419, -4.9417, -4.9419, -4.2713, -4.2723, -4.9404, -4.2726, -4.9414, -4.2726, -4.9412, -4.9414, -4.941, -4.9412, -4.2721, -4.2721, -3.8747, -3.5911, -3.8722, -4.2719, -3.8743, -4.2718, -4.2722, -4.2728, -4.2706, -4.2729, -4.2685, -4.9315, -4.9368, -4.9375, -4.9383, -4.9386, -4.94, -4.94, -4.9405, -4.9406, -4.9409, -4.2377, -4.238, -4.9069, -4.907, -4.9071, -4.9073, -4.9073, -4.9074, -4.9074, -4.9075, -4.9075, -4.9075, -4.9075, -4.9075, -4.9076, -4.9077, -4.9077, -4.9078, -4.9079, -4.908, -4.908, -4.9081, -4.9081, -4.9083, -4.9083, -4.9084, -4.9085, -4.9087, -4.2383, -4.2379, -4.2379, -3.3361, -4.2378, -4.2386, -3.8397, -4.2372, -3.8403, -4.238, -4.2373, -4.2361, -4.2345, -4.9016, -4.9029, -4.9036, -4.905, -4.9053, -4.9056, -4.9059, -4.9063, -4.9063, -4.9064, -4.9064, -4.9064, -4.9065, -4.9066, -4.9068, -4.2291, -4.2303, -4.2466, -4.8974, -4.8977, -4.898, -4.898, -4.8979, -4.8981, -4.8984, -4.898, -4.8982, -4.8983, -4.8987, -4.8983, -4.8987, -4.8984, -4.899, -4.9028, -4.9033, -4.9041, -4.905, -4.9088, -4.9097, -4.9101, -4.912, -4.9149, -4.9188, -4.9195, -4.2298, -4.2525, -3.8483, -4.2397, -3.8348, -4.2303, -4.2289, -4.2291, -4.2301, -3.8307, -4.2295, -4.2263, -3.8297, -4.2298, -4.2321, -4.8805, -4.8879, -4.8897, -4.89, -4.8933, -4.8942, -4.8954, -4.8964, -4.8969, -4.8974, -4.8976, -4.1947, -4.8633, -4.8633, -4.8633, -4.8634, -4.8634, -4.8634, -4.8634, -4.8634, -4.8634, -4.8635, -4.8635, -4.8635, -4.8635, -4.8636, -4.8636, -4.8636, -4.8636, -4.8637, -4.8637, -4.8638, -4.8638, -4.8639, -4.864, -4.1946, -4.2054, -4.2022, -4.1947, -4.8633, -4.1944, -4.1818, -3.5189, -4.1943, -4.2074, -4.1804, -4.1944, -4.1942, -4.1715, -4.2859, -4.69, -4.8188, -4.7273, -4.7414, -4.8121, -4.76, -4.8039, -4.8462, -4.8509, -4.8523, -4.863, -4.8631, -4.8632, -4.8632, -4.8632, -4.67, -4.6702, -4.6703, -4.6703, -4.6704, -4.6706, -4.6709, -4.6709, -4.671, -4.6707, -4.6702, -4.6705, -4.6702, -4.6702, -4.6701, -3.6029, -4.6693, -4.6702, -4.6706, -4.6706, -4.6703, -4.6708, -4.6709, -4.6695, -4.6696, -4.6707, -4.6709, -4.6701, -3.6037, -4.6693, -4.0011, -2.9173, -3.6015, -4.0002, -4.0013, -3.999, -3.9987, -3.9994, -3.9982, -4.6623, -4.6652, -4.6663, -4.6693, -4.6696, -4.67, -4.604, -4.604, -4.6043, -4.6044, -4.6046, -4.6045, -4.6047, -4.6044, -4.6048, -4.6049, -4.6048, -4.6049, -4.605, -4.6049, -4.6048, -4.605, -4.6052, -4.605, -4.6051, -4.605, -4.6054, -4.6053, -4.6052, -4.6055, -4.6056, -4.6057, -4.6061, -3.9369, -4.6015, -4.6027, -3.9356, -3.2538, -3.9345, -4.5886, -4.5953, -4.6, -4.602, -4.6031, -4.6039, -4.6039, -4.6042, -4.6043, -4.6044, -4.6046, -4.6046, -4.6047, -4.6047, -4.6047, -4.6047, -3.7662, -4.4353, -4.4356, -4.4359, -4.4359, -4.4362, -4.4362, -4.4363, -4.4363, -4.4365, -4.4366, -4.4367, -4.4369, -4.4371, -4.4372, -4.4372, -4.4365, -4.4366, -4.4394, -4.4374, -4.4379, -3.7666, -4.4377, -4.4363, -4.4398, -4.4392, -4.4376, -4.4364, -4.4358, -4.4352, -3.77, -3.7769, -4.4374, -4.4375, -6.755, -6.755, -6.755, -6.755, -6.755, -6.755, -6.755, -6.755, -6.755, -6.755, -6.755, -6.755, -6.755, -6.755, -6.755, -6.755, -6.755, -6.755, -6.755, -6.755, -6.755, -6.755, -6.755, -6.755, -6.755, -6.755, -6.755, -6.755, -6.755, -6.755, -6.6927, -6.698, -6.7001, -6.7009, -6.7014, -6.7021, -6.7065, -6.7085, -6.709, -6.7096, -6.71, -6.7104, -6.7114, -6.7134, -6.7137, -6.7146, -6.7155, -6.7161, -6.7193, -6.7196, -6.6964, -6.7011, -6.5482, -6.7108, -6.7076, -6.6073, -6.7334, -6.7073, -6.7341, -6.6089, -6.63, -6.7111, -6.5977, -6.6653, -6.6116, -6.6244, -6.6641, -6.6932, -6.6901, -6.6558, -6.6821, -6.6847, -6.6781, -6.69, -6.6963, -6.6995, -6.7018, -6.705, -6.7062, -6.7509, -6.7509, -6.7509, -6.7509, -6.7509, -6.7509, -6.7509, -6.7509, -6.7509, -6.7509, -6.7509, -6.7509, -6.7509, -6.7509, -6.7509, -6.7047, -6.7084, -6.7088, -6.713, -6.7134, -6.7147, -6.7147, -6.7153, -6.716, -6.7171, -6.7186, -6.7187, -6.7192, -6.7197, -6.7201, -6.7205, -6.7207, -6.7207, -6.7215, -6.7216, -6.7217, -6.722, -6.7233, -6.7261, -6.7264, -6.7272, -6.7297, -6.7057, -6.7059, -6.7062, -6.7072, -6.7103, -6.7111, -6.7145, -6.6743, -6.7155, -6.662, -6.7168, -6.6285, -6.6703, -6.7177, -6.7177, -6.6772, -6.6796, -6.6938, -6.7056, -6.6741, -6.6955, -6.6853, -6.692, -6.7038, -6.7092, -6.6932, -6.6968, -6.7026, -6.7071, -6.7087, -6.7088, -6.7092, -6.7097, -6.7501, -6.7501, -6.7501, -6.7501, -6.7501, -6.7501, -6.7501, -6.7501, -6.7501, -6.7501, -6.7501, -6.7501, -6.7501, -6.7501, -6.7501, -6.7501, -6.7501, -6.7501, -6.7501, -6.7501, -6.7501, -6.7501, -6.7501, -6.7501, -6.7501, -6.7501, -6.7501, -6.7501, -6.7501, -6.7501, -6.7209, -6.7219, -6.7224, -6.7225, -6.7227, -6.723, -6.7242, -6.7244, -6.7247, -6.7252, -6.7252, -6.7253, -6.7274, -6.7277, -6.7278, -6.7285, -6.7287, -6.7317, -6.7324, -6.6994, -6.718, -6.684, -6.6897, -6.7008, -6.706, -6.7205, -6.7208, -6.7187, -6.7095, -6.7199, -6.6324, -6.654, -6.696, -6.6934, -6.6708, -6.712, -6.6773, -6.6865, -6.6928, -6.7122, -6.6967, -6.7157, -6.7045, -6.7051, -6.7076, -6.7086, -6.7121, -6.7137, -6.7158, -6.7164, -6.7178, -6.7185, -6.7466, -6.7466, -6.7466, -6.7466, -6.7466, -6.7466, -6.7466, -6.7466, -6.7466, -6.7466, -6.7466, -6.7466, -6.7466, -6.7466, -6.7466, -6.746, -6.746, -6.7459, -6.7459, -6.746, -6.7459, -6.7462, -6.7461, -6.7461, -6.7461, -6.746, -6.746, -6.746, -6.7461, -6.746, -6.7461, -6.746, -6.7461, -6.7379, -6.7414, -6.742, -6.7421, -6.7426, -6.7426, -6.7427, -6.7429, -6.7434, -6.7436, -6.7436, -6.7437, -6.7437, -6.7438, -6.7439, -6.7439, -6.744, -6.744, -6.7441, -6.7441, -6.7441, -6.7442, -6.7443, -6.7443, -6.7443, -6.7443, -6.7444, -6.7444, -6.7444, -6.7444, -6.7497, -6.7497, -6.7497, -6.7497, -6.7497, -6.7497, -6.7497, -6.7497, -6.7497, -6.7497, -6.7497, -6.7497, -6.7497, -6.7497, -6.7497, -6.7497, -6.7497, -6.7497, -6.7497, -6.7497, -6.7497, -6.7497, -6.7497, -6.7497, -6.7497, -6.7497, -6.7497, -6.7497, -6.7497, -6.7497, -6.7382, -6.7388, -6.7393, -6.7273, -6.7401, -6.7402, -6.7287, -6.7404, -6.7406, -6.741, -6.7412, -6.7412, -6.7413, -6.7413, -6.7311, -6.7314, -6.7324, -6.7327, -6.7328, -6.7329, -6.7331, -6.7331, -6.7334, -6.7339, -6.7341, -6.7347, -6.704, -6.7352, -6.7353, -6.7354, -6.7357, -6.7358, -6.736, -6.736, -6.7362, -6.7362, -6.7363, -6.7122, -6.679, -6.7172, -6.699, -6.7011, -6.6998, -6.7203, -6.7106, -6.7107, -6.7242, -6.7292, -6.7251, -6.7051, -6.7107, -6.7144, -6.7157, -6.7174, -6.7188, -6.7206, -6.7228, -6.7229, -6.7235, -6.7246, -6.7247, -6.7247, -6.7254, -6.726, -6.7288, -6.7475, -6.7475, -6.7475, -6.7475, -6.7475, -6.7475, -6.7475, -6.7475, -6.7475, -6.7475, -6.7475, -6.7475, -6.7475, -6.7475, -6.7475, -6.7475, -6.7475, -6.7475, -6.7475, -6.7475, -6.7475, -6.7475, -6.7475, -6.7475, -6.7475, -6.7475, -6.7475, -6.7475, -6.7475, -6.7475, -6.7239, -6.7299, -6.7302, -6.7302, -6.7304, -6.7324, -6.7333, -6.734, -6.7346, -6.735, -6.7265, -6.7282, -6.729, -6.7314, -6.7343, -6.7107, -6.7056, -6.7063, -6.7303, -6.7342, -6.7351, -6.7348, -6.7296, -6.7361, -6.7289, -6.7274, -6.7333, -6.7311, -6.7368, -6.7309, -6.7156, -6.7156, -6.7223, -6.7287, -6.7301, -6.7303, -6.7309, -6.7314, -6.7315, -6.732, -6.7321, -6.7464, -6.7464, -6.7464, -6.7464, -6.7464, -6.7464, -6.7464, -6.7464, -6.7464, -6.7464, -6.7464, -6.7464, -6.7464, -6.7464, -6.7464, -6.7464, -6.7464, -6.7464, -6.7464, -6.7464, -6.7464, -6.7464, -6.7464, -6.7464, -6.7464, -6.7464, -6.7464, -6.7464, -6.7464, -6.7464, -6.7449, -6.7454, -6.7456, -6.7456, -6.7458, -6.7458, -6.7458, -6.7458, -6.7459, -6.7459, -6.7459, -6.746, -6.746, -6.746, -6.746, -6.746, -6.746, -6.7461, -6.7461, -6.7461, -6.7461, -6.7461, -6.7461, -6.7461, -6.7461, -6.7461, -6.7461, -6.7461, -6.7461, -6.7461], \"loglift\": [30.0, 29.0, 28.0, 27.0, 26.0, 25.0, 24.0, 23.0, 22.0, 21.0, 20.0, 19.0, 18.0, 17.0, 16.0, 15.0, 14.0, 13.0, 12.0, 11.0, 10.0, 9.0, 8.0, 7.0, 6.0, 5.0, 4.0, 3.0, 2.0, 1.0, 1.5238, 1.491, 1.4907, 1.4274, 1.4262, 1.4259, 1.3278, 1.3132, 1.274, 1.2621, 1.262, 1.262, 1.2619, 1.2619, 1.2618, 1.2618, 1.2618, 1.2615, 1.2615, 1.2615, 1.2615, 1.2611, 1.261, 1.261, 1.2609, 1.2609, 1.2609, 1.2609, 1.2608, 1.2608, 1.1601, 1.0909, 1.0552, 1.1152, 1.1123, 1.1085, 1.098, 0.9674, 0.8443, 0.5291, 0.3288, 0.5449, 0.4746, 0.6777, 0.7888, 0.3894, 0.6338, 0.2688, 0.906, 0.9039, 0.882, 0.368, 0.5099, 0.4922, 0.0947, 0.0503, 0.3577, 0.0592, -0.1229, -0.9767, 0.537, 1.5966, 1.5965, 1.596, 1.5959, 1.5953, 1.5404, 1.4653, 1.4293, 1.4292, 1.4291, 1.4291, 1.4289, 1.4289, 1.4289, 1.4289, 1.4288, 1.4287, 1.4282, 1.4282, 1.4281, 1.4281, 1.4281, 1.4281, 1.4281, 1.4281, 1.4281, 1.428, 1.428, 1.428, 1.428, 1.428, 1.359, 1.3267, 1.3265, 1.3219, 1.3201, 1.2598, 1.2592, 1.0176, 0.602, 0.9666, 0.9004, 0.9944, 0.5458, 0.8548, 0.679, 1.0213, 0.4674, 1.0085, 1.0077, 0.4175, 0.6831, 0.6416, 0.9102, 0.3152, -0.0036, 0.2076, 0.1819, 0.1169, -0.036, -0.4133, -0.1188, 0.156, 0.1068, 0.4388, -0.737, 0.7418, 1.883, 1.8829, 1.8812, 1.8773, 1.7433, 1.7093, 1.7093, 1.7092, 1.7092, 1.7092, 1.7092, 1.7091, 1.7091, 1.7091, 1.7091, 1.709, 1.709, 1.709, 1.709, 1.709, 1.709, 1.7089, 1.7089, 1.7089, 1.7089, 1.7089, 1.7089, 1.7088, 1.7088, 1.7088, 1.7088, 1.6332, 1.5038, 1.6002, 1.4966, 1.5423, 1.1498, 1.2918, 1.397, 0.841, 0.8039, 1.1043, 1.3278, 0.7217, 0.6718, 0.5107, 0.4667, 1.1569, 0.8077, 0.9855, 0.5305, 0.9435, 0.1282, 0.8047, 0.7112, 0.6309, -0.2749, -0.4776, 0.254, 0.6205, 1.95, 1.9496, 1.9496, 1.9489, 1.7749, 1.7749, 1.7749, 1.7749, 1.7749, 1.7749, 1.7749, 1.7749, 1.7749, 1.7749, 1.7749, 1.7748, 1.7748, 1.7748, 1.7748, 1.7722, 1.7721, 1.7721, 1.7719, 1.7719, 1.7718, 1.7717, 1.7717, 1.7717, 1.7716, 1.7716, 1.7067, 1.6064, 1.6059, 1.286, 1.3944, 1.0946, 1.4033, 1.3949, 0.4317, 0.658, 0.5701, 0.8402, 0.9788, 0.956, 0.7112, 0.5572, 0.8126, 0.4614, 1.065, 1.0381, 1.0355, 0.5306, 0.4931, 0.8382, 0.7641, 0.6818, -0.0985, -0.1891, 0.4731, -0.1618, -0.1146, 0.3061, 2.4063, 2.2175, 2.2175, 2.2174, 2.2174, 2.2174, 2.2174, 2.2174, 2.2174, 2.2174, 2.2174, 2.2174, 2.2174, 2.2174, 2.2173, 2.2173, 2.2173, 2.2173, 2.2173, 2.2172, 2.2144, 2.2144, 2.2143, 2.2142, 2.2142, 2.2142, 2.2142, 2.2141, 2.214, 2.214, 2.214, 2.1152, 2.1081, 2.0374, 2.0571, 2.0367, 1.8804, 1.1651, 1.1606, 1.0867, 1.3389, 1.097, 1.0174, 0.2721, 0.1915, 0.6929, 0.5459, -0.4763, 0.4212, 0.3332, 0.2659, -0.0367, -0.1135, 0.2552, 0.4006, -0.1514, 0.1396, 0.6689, 1.7045, -0.4419, 2.6495, 2.4515, 2.4514, 2.4512, 2.4512, 2.4511, 2.4511, 2.4511, 2.4511, 2.451, 2.451, 2.451, 2.4509, 2.4509, 2.4509, 2.4508, 2.4508, 2.4507, 2.4507, 2.4507, 2.4507, 2.4507, 2.4506, 2.4506, 2.4506, 2.4505, 2.4505, 2.4504, 2.4504, 2.4503, 2.286, 1.8995, 1.1384, 0.2204, 1.2902, 0.5562, 1.0085, 0.4187, 0.2063, -0.0078, -0.5829, -0.5692, 0.907, -0.2505, -0.3017, -0.2059, 0.382, 0.4771, 0.9983, 0.0416, 0.0095, 0.835, 1.9957, 1.9931, 0.8628, 1.3822, 1.2837, 0.3772, 1.5379, 2.6987, 2.4992, 2.4987, 2.4985, 2.4985, 2.4984, 2.4984, 2.4984, 2.4984, 2.4984, 2.4982, 2.4981, 2.4979, 2.4979, 2.4978, 2.4978, 2.4977, 2.4977, 2.4976, 2.4976, 2.4175, 2.3165, 2.0951, 2.0501, 2.045, 2.036, 2.0273, 1.965, 1.9597, 1.9595, 1.8367, 1.6754, 1.1457, 0.7897, 0.9682, 1.3341, 0.8473, 1.088, 0.8126, 0.6519, 0.5007, 0.4586, 0.1268, -1.2994, 0.9322, -0.636, -0.4224, -0.166, 1.426, 1.0177, 1.9349, 1.6816, 0.7169, 2.7443, 2.7441, 2.5414, 2.5413, 2.5412, 2.541, 2.541, 2.5409, 2.5408, 2.5408, 2.5408, 2.5408, 2.5408, 2.5407, 2.5407, 2.5406, 2.5406, 2.5405, 2.5404, 2.5403, 2.5402, 2.5402, 2.5401, 2.54, 2.54, 2.5399, 2.5398, 2.5396, 2.3517, 2.2179, 2.1477, 1.0447, 1.6035, 1.3537, 0.6287, 1.3347, 0.555, 0.7824, 0.6874, 0.4358, 0.0669, -0.1302, 0.0859, -1.2715, 1.0285, 1.4579, 0.5858, 0.5196, 1.6198, 2.0676, 0.909, -0.1847, 1.3908, 1.6966, 1.2395, 1.7283, 2.7582, 2.7565, 2.7396, 2.5547, 2.5547, 2.5545, 2.5545, 2.5545, 2.5543, 2.5543, 2.5543, 2.554, 2.554, 2.554, 2.554, 2.5539, 2.5539, 2.5537, 2.5487, 2.5481, 2.5474, 2.5465, 2.5428, 2.5418, 2.5415, 2.5395, 2.5367, 2.5329, 2.5322, 2.1888, 2.1807, 1.8872, 2.0242, 1.5397, 1.8798, 1.7591, 1.7468, 1.6483, 1.0096, 1.5739, 1.3533, 0.5511, 0.9736, 0.1632, -0.2085, 0.197, -0.1681, 0.9559, 0.4665, 0.86, 0.4639, 1.4893, 1.7185, 0.1529, 1.2332, 2.807, 2.6007, 2.6007, 2.6007, 2.6006, 2.6006, 2.6006, 2.6006, 2.6005, 2.6005, 2.6005, 2.6005, 2.6004, 2.6004, 2.6003, 2.6003, 2.6003, 2.6003, 2.6002, 2.6002, 2.6001, 2.6, 2.6, 2.5998, 2.479, 2.469, 2.4003, 2.1966, 2.1729, 2.154, 2.0821, 1.9307, 2.0215, 2.0225, 1.6506, 1.4678, 1.0833, 0.7532, 0.9849, 0.9023, 1.803, 0.0453, -0.01, 1.6211, -0.4586, 0.9316, 0.1426, 0.5236, 0.3511, 0.6094, 1.8001, 2.0343, 1.7398, 1.4107, 2.8492, 2.849, 2.8489, 2.8489, 2.8487, 2.8484, 2.8482, 2.8482, 2.8482, 2.4587, 2.4175, 2.4171, 2.366, 2.3557, 2.3472, 2.2661, 2.259, 2.2583, 2.2574, 2.2497, 2.2494, 2.2492, 2.0419, 2.0193, 1.9526, 1.9135, 1.899, 1.7858, 1.7708, 1.6967, 1.4902, 0.7148, 0.7938, 1.0202, 0.839, 0.7736, 0.5172, 0.469, 0.3033, 0.0593, 0.6946, 1.4506, 0.1021, 1.6077, 1.4849, 2.94, 2.9399, 2.9398, 2.9397, 2.9395, 2.9394, 2.9394, 2.9394, 2.9393, 2.9393, 2.9392, 2.9392, 2.9392, 2.9391, 2.9391, 2.939, 2.939, 2.939, 2.939, 2.939, 2.939, 2.9389, 2.9388, 2.9387, 2.9387, 2.9384, 2.9384, 2.7406, 2.4861, 2.4849, 2.4574, 2.2376, 0.8368, -0.9565, -0.2, 0.2403, 1.2439, 0.9765, 1.2373, 0.7554, 1.2714, 1.959, 1.8142, 1.5241, 2.4308, 2.3982, 1.9979, 2.3375, -0.2239, 3.4249, 3.1758, 3.1754, 3.1751, 3.175, 3.1746, 3.1746, 3.1745, 3.1745, 3.1742, 3.1741, 3.174, 3.1737, 3.1735, 3.1733, 3.1733, 2.6929, 2.5666, 2.5635, 2.5314, 2.531, 2.2819, 2.2751, 2.227, 2.2181, 2.1712, 2.1499, 1.9937, 1.794, 1.6951, 1.5075, -0.1448, 1.5423, 1.4381, 0.8561, 0.856, 0.8559, 0.8559, 0.8558, 0.8558, 0.8558, 0.8558, 0.8557, 0.8557, 0.8557, 0.8556, 0.8555, 0.8555, 0.8555, 0.7894, 0.7894, 0.7893, 0.7892, 0.7892, 0.7892, 0.7892, 0.7892, 0.7892, 0.7891, 0.7891, 0.7891, 0.7891, 0.7891, 0.7891, 0.7004, 0.6949, 0.6928, 0.692, 0.6915, 0.6908, 0.6862, 0.6842, 0.6837, 0.683, 0.6826, 0.6822, 0.6811, 0.6791, 0.6787, 0.6778, 0.6769, 0.6763, 0.673, 0.6727, 0.1522, 0.1553, -2.2468, 0.2378, 0.1653, -1.409, 0.5579, 0.1412, 0.5571, -1.4055, -1.3593, 0.1674, -2.2024, -0.7304, -2.2308, -2.156, -1.0718, -0.2631, -0.5592, -3.0237, -1.0244, -1.0786, -1.9055, -1.1654, -2.1804, -1.3397, -0.7672, -1.8647, -0.8279, 0.8602, 0.8601, 0.86, 0.86, 0.8599, 0.8599, 0.8599, 0.8599, 0.8598, 0.8598, 0.8597, 0.8597, 0.8596, 0.8596, 0.8596, 0.8398, 0.836, 0.8356, 0.8313, 0.8308, 0.8295, 0.8295, 0.829, 0.8282, 0.827, 0.8255, 0.8254, 0.8249, 0.8244, 0.824, 0.8235, 0.8234, 0.8234, 0.8225, 0.8224, 0.8223, 0.822, 0.8207, 0.8179, 0.8175, 0.8166, 0.814, 0.747, 0.7468, 0.7464, 0.7455, 0.7423, 0.7414, 0.7379, 0.313, 0.7369, 0.0154, 0.7355, -1.1371, -0.6823, 0.7346, 0.7346, -0.7013, -0.8762, -0.2752, 0.2812, -1.3147, -0.8496, -1.9139, -1.3175, -0.3109, 0.1817, -2.3124, -1.1172, -1.8622, -0.5783, -0.8303, -0.3231, -0.4453, -0.8342, 0.861, 0.8609, 0.8608, 0.8608, 0.8607, 0.8607, 0.8607, 0.8607, 0.8606, 0.8606, 0.8606, 0.8605, 0.8604, 0.8604, 0.8604, 0.7944, 0.7943, 0.7943, 0.7942, 0.7941, 0.7941, 0.7941, 0.7941, 0.7941, 0.794, 0.794, 0.794, 0.794, 0.794, 0.794, 0.7188, 0.7177, 0.7172, 0.7171, 0.717, 0.7166, 0.7154, 0.7152, 0.7149, 0.7144, 0.7144, 0.7142, 0.7122, 0.7117, 0.7117, 0.711, 0.7107, 0.7076, 0.7069, 0.2717, 0.3175, -0.3755, -0.3669, -0.112, -0.0172, 0.2659, 0.2477, 0.1648, -0.0873, 0.1556, -2.2516, -1.6336, -0.5871, -0.7458, -1.9492, -0.0434, -1.8369, -2.2912, -1.7681, -0.3489, -1.9652, -0.1631, -1.6196, -1.9337, -1.3478, -1.1025, -0.815, -1.1419, -0.8375, -0.5856, -1.2682, -0.4485, 0.8645, 0.8644, 0.8643, 0.8643, 0.8642, 0.8642, 0.8642, 0.8642, 0.8641, 0.8641, 0.864, 0.864, 0.8639, 0.8639, 0.8639, 0.7985, 0.7984, 0.7983, 0.7982, 0.7982, 0.7982, 0.7982, 0.7981, 0.7981, 0.7981, 0.7981, 0.7981, 0.7981, 0.7981, 0.798, 0.7979, 0.7978, 0.798, -1.8976, -3.1093, -0.499, -1.2508, -2.4411, -1.97, -0.2878, -1.7225, -0.9124, -0.1126, 0.5468, 0.0443, -0.4161, -1.3844, 0.5466, 0.5466, -1.4732, 0.1385, 0.5464, 0.5463, -0.154, -0.6134, 0.5462, 0.2245, 0.1358, 0.0508, -0.6578, 0.5461, 0.0666, 0.546, 0.8614, 0.8613, 0.8612, 0.8612, 0.8611, 0.8611, 0.861, 0.861, 0.861, 0.861, 0.8609, 0.8608, 0.8608, 0.8608, 0.8607, 0.7947, 0.7947, 0.7946, 0.7945, 0.7945, 0.7945, 0.7944, 0.7944, 0.7944, 0.7944, 0.7944, 0.7944, 0.7943, 0.7943, 0.7943, 0.7016, 0.7008, 0.7002, 0.5762, 0.6995, 0.6994, 0.5747, 0.6992, 0.6991, 0.6986, 0.6985, 0.6981, 0.6982, 0.6982, 0.5721, 0.5719, 0.5708, 0.5705, 0.5704, 0.5703, 0.5701, 0.5701, 0.5697, 0.5692, 0.569, 0.5684, -0.1755, 0.5678, 0.5678, 0.5678, 0.5674, 0.5673, 0.5671, 0.5671, 0.5669, 0.5668, 0.5668, -0.2461, -1.9076, -0.184, -1.8587, -1.7764, -1.9781, -0.3976, -1.3888, -1.6903, -0.3609, 0.0739, -0.4323, -3.073, -2.4092, -1.7256, -1.9843, -1.2261, -2.338, -1.4498, -0.9074, -0.7754, -2.3282, -2.2088, -0.5105, -1.081, -1.9528, -0.8289, -0.8452, 0.8636, 0.8635, 0.8634, 0.8634, 0.8633, 0.8633, 0.8633, 0.8633, 0.8632, 0.8632, 0.8632, 0.8631, 0.863, 0.863, 0.863, 0.7969, 0.7969, 0.7969, 0.7967, 0.7967, 0.7967, 0.7967, 0.7967, 0.7967, 0.7966, 0.7966, 0.7966, 0.7966, 0.7966, 0.7966, 0.5673, 0.561, 0.5608, 0.5607, 0.5604, 0.5585, 0.5575, 0.5568, 0.5562, 0.5558, 0.163, 0.0598, 0.0823, 0.0851, 0.1857, -1.3889, -1.9742, -2.311, -0.1428, 0.0769, 0.1134, 0.0607, -0.5027, 0.1394, -0.5986, -0.7515, -0.2061, -0.4226, 0.1385, -0.4536, -2.1998, -3.0836, -2.4208, -0.7191, -0.6201, -0.5163, -0.801, -0.4386, -0.4655, -2.0103, -1.4546, 0.8647, 0.8646, 0.8645, 0.8645, 0.8644, 0.8644, 0.8643, 0.8643, 0.8643, 0.8643, 0.8642, 0.8641, 0.8641, 0.8641, 0.864, 0.798, 0.798, 0.7979, 0.7978, 0.7978, 0.7978, 0.7977, 0.7977, 0.7977, 0.7977, 0.7977, 0.7977, 0.7976, 0.7976, 0.7976, -2.3641, -2.3501, -2.2772, 0.2364, -1.1739, -0.3601, -0.9046, -1.8211, -1.7255, 0.2362, -0.29, -0.1559, -2.4445, -2.0741, -0.2082, -1.1538, -3.114, 0.7023, 0.7022, 0.7022, -1.3206, 0.2458, 0.7022, 0.2951, -1.3716, 0.1595, 0.1655, 0.2005, 0.7022, -0.8115]}, \"token.table\": {\"Topic\": [6, 1, 12, 3, 2, 3, 5, 7, 8, 10, 11, 3, 5, 8, 10, 6, 7, 5, 7, 12, 4, 4, 6, 4, 8, 5, 8, 1, 2, 4, 9, 2, 3, 4, 6, 6, 2, 12, 2, 6, 2, 3, 9, 10, 5, 1, 1, 4, 5, 1, 8, 1, 2, 3, 6, 2, 6, 1, 2, 2, 8, 10, 13, 1, 2, 3, 4, 5, 6, 7, 8, 9, 11, 12, 11, 5, 3, 1, 3, 4, 5, 11, 6, 2, 3, 4, 10, 9, 9, 9, 1, 4, 4, 6, 7, 9, 6, 11, 2, 2, 11, 12, 3, 1, 2, 12, 1, 3, 7, 6, 8, 1, 3, 7, 12, 1, 2, 5, 7, 7, 3, 4, 1, 2, 7, 8, 10, 13, 6, 5, 11, 5, 5, 5, 3, 7, 12, 1, 2, 3, 4, 6, 7, 8, 9, 11, 13, 2, 2, 10, 7, 6, 1, 2, 7, 6, 3, 12, 1, 2, 3, 4, 5, 6, 7, 8, 9, 10, 11, 8, 2, 3, 4, 5, 6, 7, 1, 2, 3, 4, 5, 6, 8, 9, 10, 13, 4, 3, 8, 1, 10, 13, 12, 1, 3, 1, 2, 1, 4, 7, 2, 9, 1, 4, 9, 3, 3, 7, 1, 11, 4, 9, 10, 4, 5, 9, 1, 3, 5, 7, 9, 3, 5, 9, 5, 7, 6, 12, 4, 2, 13, 1, 2, 1, 5, 5, 5, 1, 2, 3, 4, 7, 2, 2, 2, 7, 5, 10, 1, 1, 6, 10, 11, 2, 1, 4, 10, 1, 4, 13, 11, 3, 4, 5, 13, 4, 11, 13, 9, 10, 11, 11, 2, 4, 9, 12, 1, 3, 5, 6, 8, 10, 1, 4, 7, 5, 2, 7, 4, 8, 9, 4, 5, 2, 3, 7, 8, 1, 10, 1, 2, 7, 9, 10, 2, 3, 4, 5, 7, 11, 13, 5, 3, 1, 8, 2, 4, 8, 13, 2, 4, 13, 2, 10, 5, 5, 10, 1, 2, 3, 6, 9, 12, 2, 1, 2, 3, 4, 5, 6, 7, 8, 9, 12, 1, 8, 8, 9, 10, 1, 4, 5, 8, 12, 6, 6, 8, 1, 5, 6, 7, 8, 9, 2, 12, 9, 2, 9, 10, 9, 5, 1, 1, 3, 4, 7, 11, 13, 1, 13, 1, 2, 3, 4, 6, 8, 9, 3, 13, 13, 1, 2, 4, 5, 7, 8, 9, 10, 5, 2, 1, 2, 3, 4, 6, 7, 10, 11, 2, 2, 1, 3, 4, 5, 7, 8, 8, 11, 4, 1, 2, 3, 4, 5, 6, 7, 10, 11, 8, 1, 2, 3, 4, 5, 6, 7, 10, 5, 7, 8, 4, 13, 1, 1, 3, 4, 2, 1, 5, 2, 1, 2, 5, 6, 9, 2, 5, 6, 13, 1, 3, 1, 5, 10, 8, 9, 6, 1, 6, 10, 13, 1, 8, 2, 3, 4, 5, 12, 1, 4, 11, 1, 2, 3, 5, 1, 2, 3, 4, 10, 11, 13, 2, 4, 12, 4, 5, 1, 2, 3, 1, 1, 11, 10, 3, 7, 9, 12, 4, 1, 2, 9, 11, 3, 1, 5, 7, 11, 12, 1, 11, 1, 9, 13, 1, 1, 2, 4, 6, 10, 13, 7, 2, 5, 1, 5, 9, 1, 4, 7, 9, 10, 5, 9, 6, 1, 2, 3, 6, 8, 11, 2, 4, 6, 6, 9, 1, 2, 3, 4, 5, 8, 3, 8, 2, 1, 2, 12, 9, 5, 3, 7, 12, 10, 1, 2, 10, 6, 2, 3, 4, 8, 9, 12, 2, 1, 1, 2, 6, 13, 1, 2, 3, 4, 5, 8, 8, 10, 2, 11, 1, 3, 4, 9, 12, 4, 1, 2, 9, 5, 10, 1, 2, 3, 4, 5, 6, 8, 11, 4, 1, 3, 5, 8, 7, 7, 3, 1, 2, 13, 1, 3, 7, 5, 5, 10, 7, 1, 9, 7, 8, 1, 2, 4, 12, 13, 4, 13, 1, 5, 3, 10, 3, 8, 1, 3, 1, 2, 3, 4, 5, 6, 7, 8, 11, 12, 13, 3, 1, 2, 3, 5, 9, 10, 6, 5, 2, 1, 8, 1, 2, 9, 10, 1, 9, 12, 2, 2, 10, 2, 7, 13, 9, 5, 12, 2, 12, 2, 3, 6, 9, 3, 12, 5, 11, 1, 1, 9, 4, 8, 8, 2, 1, 4, 6, 10, 1, 7, 2, 11, 1, 2, 3, 11, 3, 7, 2, 6, 7, 8, 1, 5, 3, 7, 10, 2, 10, 1, 2, 4, 2, 2, 4, 4, 1, 7, 5, 2, 1, 3, 4, 9, 10, 2, 3, 4, 5, 7, 13, 3, 5, 6, 10, 2, 6, 5, 8, 5, 7, 3, 12, 7, 8, 10, 3, 10, 11, 11, 2, 11, 8, 1, 2, 7, 10, 4, 6, 10, 1, 11, 12, 13, 12, 5, 1, 2, 3, 4, 7, 9, 13, 2, 6, 1, 1, 4, 8, 9, 8, 8, 2, 3, 4, 5, 8, 3, 2, 9, 10, 8, 7, 6, 8, 12, 10, 1, 13, 12, 5, 3, 1, 2, 3, 5, 10, 12, 13, 2, 4, 10, 9, 1, 2, 3, 4, 5, 6, 9, 2, 4, 3, 3, 13, 1, 2, 3, 4, 5, 7, 9, 11, 12, 1, 2, 2, 5, 8, 5, 1, 4, 1, 2, 12, 10, 2, 3, 9, 6, 2, 7, 11, 1, 10, 13, 3, 11, 1, 5, 7, 8, 4, 10, 12, 2, 9, 4, 2, 2, 6, 2, 9, 8, 4, 2, 7, 4, 1, 3, 8, 2, 5, 9, 8, 5, 11, 1, 2, 8, 9, 10, 11, 13, 12, 4, 10, 1, 1, 2, 9, 8, 7, 11, 4, 4, 8, 5, 9, 3, 7, 10, 10, 1, 3, 4, 6, 8, 9, 1, 7, 10, 1, 8, 9, 9, 1, 1, 5, 12, 13, 6, 4, 12, 1, 11, 10, 2, 7, 12, 6, 1, 2, 3, 5, 6, 1, 2, 5, 10, 5, 1, 10, 10, 1, 11, 12, 8, 2, 3, 4, 6, 7, 8, 11, 12, 4, 12, 1, 2, 5, 6, 1, 6, 1, 2, 6, 1, 2, 8, 11, 12, 3, 8, 10, 1, 3, 8, 10, 12, 2, 3, 5, 1, 2, 4, 12, 12, 5, 4, 7, 10, 2, 7, 9, 13, 6, 6, 6, 8, 2, 9, 13, 6, 1, 2, 12, 1, 1, 2, 7, 11, 1, 2, 3, 4, 6, 7, 1, 2, 4, 5, 6, 7, 8, 11, 13, 1, 4, 13, 2, 3, 4, 5, 6, 7, 9, 11, 13, 12, 4, 9, 8, 3, 1, 12, 7, 1, 3, 6, 3, 3, 5, 8, 4, 5, 1, 2, 8, 5, 9, 2, 4, 2], \"Freq\": [0.8369052176755993, 0.7240721635940426, 0.9332588445713782, 0.918296257588837, 0.37807868411222945, 0.18903934205611472, 0.18903934205611472, 0.18903934205611472, 0.3142762708435334, 0.3142762708435334, 0.3142762708435334, 0.5300537227143804, 0.1325134306785951, 0.1325134306785951, 0.1325134306785951, 0.836900507676041, 0.8405315972950055, 0.8009475135181635, 0.8405363631923596, 0.9330294794497581, 0.9280566992753947, 0.3636972899516943, 0.3636972899516943, 0.49574021509237304, 0.49574021509237304, 0.5134070382466671, 0.5134070382466671, 0.2223984392684627, 0.2223984392684627, 0.2223984392684627, 0.2223984392684627, 0.17929268321501185, 0.3585853664300237, 0.5378780496450355, 0.8368984967867835, 0.8369040074460338, 0.7332954738620331, 0.9331181842102216, 0.7334777319683196, 0.8369065422644874, 0.3263900754438355, 0.652780150887671, 0.5347541427858775, 0.8611588870572265, 0.8009458186505399, 0.9789851349371447, 0.45075053593024766, 0.45075053593024766, 0.8019628349979814, 0.7243960838407093, 0.8478531458486636, 0.3033307456126689, 0.40444099415022516, 0.10111024853755629, 0.10111024853755629, 0.7332708164294218, 0.8369086593248872, 0.44141303539701787, 0.44141303539701787, 0.3641212500008961, 0.3641212500008961, 0.3641212500008961, 0.9974694531788716, 0.2402029721326134, 0.1201014860663067, 0.1201014860663067, 0.1201014860663067, 0.0800676573775378, 0.0400338286887689, 0.0400338286887689, 0.0800676573775378, 0.0400338286887689, 0.0800676573775378, 0.0400338286887689, 0.9101083480037482, 0.8009398225470997, 0.7526049447920788, 0.3733326810588751, 0.18666634052943756, 0.18666634052943756, 0.18666634052943756, 0.18666634052943756, 0.8369023207928148, 0.42632936654045334, 0.28421957769363554, 0.14210978884681777, 0.14210978884681777, 0.8506224595289787, 0.8505606554406147, 0.8511265115371027, 0.7240643460392013, 0.759526680109547, 0.7593833950112812, 0.5247211671154781, 0.5247211671154781, 0.8513797211461234, 0.5510176562576986, 0.5510176562576986, 0.7328278774089185, 0.7333057245158409, 0.5911599085894353, 0.5911599085894353, 0.7526342499650805, 0.7244223734812849, 0.7330278902108253, 0.9330732494495462, 0.6322589900701483, 0.21075299669004946, 0.21075299669004946, 0.8367307596316003, 0.8478509781680816, 0.2221278158132474, 0.4442556316264948, 0.2221278158132474, 0.9333590535112463, 0.26699418069841074, 0.26699418069841074, 0.26699418069841074, 0.26699418069841074, 0.8404043646689682, 0.7525946932930334, 0.7593819179301808, 0.11489288356170492, 0.3446786506851147, 0.11489288356170492, 0.11489288356170492, 0.3446786506851147, 0.11489288356170492, 0.8369046000799926, 0.8021298206290992, 0.9101601262639267, 0.800939868718181, 0.8018560442913188, 0.8009460200479627, 0.6924207519014286, 0.3462103759507143, 0.9330943206053561, 0.11096784908723593, 0.22193569817447187, 0.22193569817447187, 0.11096784908723593, 0.05548392454361797, 0.11096784908723593, 0.05548392454361797, 0.05548392454361797, 0.05548392454361797, 0.05548392454361797, 0.7333745259929453, 0.7331992825852028, 0.8612437978224847, 0.8403509482890126, 0.8367306832569877, 0.2712355140633895, 0.2712355140633895, 0.2712355140633895, 0.8369049804762301, 0.7525952912015464, 0.9330256007954458, 0.32802601871051873, 0.14578934164911944, 0.10934200623683958, 0.10934200623683958, 0.07289467082455972, 0.03644733541227986, 0.03644733541227986, 0.03644733541227986, 0.03644733541227986, 0.03644733541227986, 0.03644733541227986, 0.8478471372773474, 0.13435297491285772, 0.13435297491285772, 0.13435297491285772, 0.26870594982571544, 0.13435297491285772, 0.13435297491285772, 0.0724749197277044, 0.21742475918311321, 0.0724749197277044, 0.21742475918311321, 0.21742475918311321, 0.0724749197277044, 0.0724749197277044, 0.0724749197277044, 0.0724749197277044, 0.0724749197277044, 0.9280995406110638, 0.4927687683147209, 0.4927687683147209, 0.724016084771314, 0.8612420246768712, 0.9973428787379425, 0.9334471601739276, 0.44841010356931377, 0.44841010356931377, 0.7240590847208509, 0.7328744166508283, 0.6408962490376656, 0.3204481245188328, 0.8404834839733392, 0.7333733805761229, 0.8514885655065603, 0.7243033637305908, 0.9280725460213681, 0.8507361854011299, 0.7525982466990118, 0.490358058769745, 0.490358058769745, 0.5000209904963765, 0.5000209904963765, 0.37099124802692957, 0.37099124802692957, 0.37099124802692957, 0.4792405687426, 0.4792405687426, 0.8505689789177068, 0.22707200114132858, 0.22707200114132858, 0.22707200114132858, 0.22707200114132858, 0.22707200114132858, 0.47689825723708806, 0.47689825723708806, 0.5341506008847763, 0.800943601077905, 0.840669178865461, 0.8367144486890904, 0.9332214240557009, 0.7593862531453962, 0.7333133466571328, 0.9972681818644173, 0.317364223643973, 0.634728447287946, 0.465420346993985, 0.465420346993985, 0.8009493051199789, 0.8009409351128669, 0.35948804773372917, 0.17974402386686458, 0.17974402386686458, 0.17974402386686458, 0.17974402386686458, 0.7328619035292935, 0.7328650615869606, 0.7333698950144887, 0.8405497999150615, 0.7406375818828939, 0.37031879094144693, 0.8765874836578986, 0.4652111577599432, 0.2326055788799716, 0.2326055788799716, 0.2326055788799716, 0.7332614984593335, 0.6410946934285979, 0.32054734671429896, 0.8612343924514207, 0.7243799371005072, 0.5430875860830602, 0.5430875860830602, 0.9101438051297661, 0.9193902024691513, 0.47958519945472033, 0.47958519945472033, 0.9974655455345407, 0.4063652690801231, 0.4063652690801231, 0.4063652690801231, 0.25938999430917614, 0.25938999430917614, 0.25938999430917614, 0.9101479526821971, 0.8893257736026355, 0.30279534505333866, 0.30279534505333866, 0.30279534505333866, 0.17038603112105385, 0.17038603112105385, 0.3407720622421077, 0.17038603112105385, 0.17038603112105385, 0.17038603112105385, 0.5219855226390767, 0.26099276131953836, 0.26099276131953836, 0.8018219098172225, 0.4820175592381795, 0.4820175592381795, 0.2929840342023495, 0.2929840342023495, 0.2929840342023495, 0.7595083066868555, 0.800943299705982, 0.27511469482888967, 0.27511469482888967, 0.27511469482888967, 0.8478562486708329, 0.48487107376482225, 0.48487107376482225, 0.33648615231520934, 0.16824307615760467, 0.16824307615760467, 0.16824307615760467, 0.16824307615760467, 0.17871859267616488, 0.35743718535232977, 0.17871859267616488, 0.17871859267616488, 0.08935929633808244, 0.6163527181146278, 0.6163527181146278, 0.8018411650551864, 0.7526070667925486, 0.8761950648904703, 0.8478802705676166, 0.7328228762986847, 0.7593824840731151, 0.5319295339445784, 0.9975846285711324, 0.36680465199173573, 0.36680465199173573, 0.36680465199173573, 0.7860444204220608, 0.2620148068073536, 0.990993370220448, 0.8009443977482337, 0.8612622401219702, 0.41992823127021545, 0.10498205781755386, 0.31494617345266157, 0.10498205781755386, 0.10498205781755386, 0.10498205781755386, 0.7332789998698804, 0.07891548663020526, 0.03945774331510263, 0.19728871657551314, 0.19728871657551314, 0.07891548663020526, 0.03945774331510263, 0.11837322994530788, 0.1578309732604105, 0.07891548663020526, 0.03945774331510263, 0.4803732480559133, 0.4803732480559133, 0.3072459855618802, 0.3072459855618802, 0.3072459855618802, 0.33994572728816325, 0.16997286364408162, 0.16997286364408162, 0.16997286364408162, 0.16997286364408162, 0.8369035406524309, 0.8367375999710464, 0.8478644520681683, 0.1764036198821122, 0.1764036198821122, 0.1764036198821122, 0.1764036198821122, 0.1764036198821122, 0.1764036198821122, 0.8890594380751762, 0.9331040410442764, 0.5344446626234005, 0.48556014458353813, 0.48556014458353813, 0.5424649653434555, 0.8515904405604933, 0.8017706981735232, 0.7240188826658843, 0.19096765211917843, 0.19096765211917843, 0.38193530423835687, 0.19096765211917843, 0.19096765211917843, 0.9973808736792712, 0.5249061251283565, 0.5249061251283565, 0.31675672427494805, 0.05279278737915801, 0.26396393689579006, 0.15837836213747403, 0.05279278737915801, 0.05279278737915801, 0.05279278737915801, 0.7526034695714895, 0.997212872827571, 0.9977998892928538, 0.1359507542668563, 0.20392613140028445, 0.20392613140028445, 0.1359507542668563, 0.06797537713342815, 0.06797537713342815, 0.06797537713342815, 0.06797537713342815, 0.8009443562442387, 0.7328461694272174, 0.27098388667243417, 0.27098388667243417, 0.18065592444828943, 0.04516398111207236, 0.04516398111207236, 0.04516398111207236, 0.04516398111207236, 0.04516398111207236, 0.7332983993245245, 0.7332559346659591, 0.2596760731580795, 0.2596760731580795, 0.12983803657903975, 0.12983803657903975, 0.12983803657903975, 0.12983803657903975, 0.555802308306011, 0.555802308306011, 0.7593861396142032, 0.2335413241743109, 0.17515599313073318, 0.11677066208715545, 0.11677066208715545, 0.11677066208715545, 0.17515599313073318, 0.05838533104357772, 0.05838533104357772, 0.05838533104357772, 0.8478733074411685, 0.22412139452266847, 0.22412139452266847, 0.2801517431533356, 0.056030348630667116, 0.056030348630667116, 0.056030348630667116, 0.056030348630667116, 0.056030348630667116, 0.8009428936510263, 0.840527918531687, 0.8478477923722293, 0.7594718060219556, 0.9974855948898135, 0.7240077811172899, 0.2097603277450685, 0.6292809832352055, 0.2097603277450685, 0.7333574271279548, 0.4654416769924313, 0.4654416769924313, 0.8894880185219276, 0.19447809776211103, 0.19447809776211103, 0.19447809776211103, 0.19447809776211103, 0.19447809776211103, 0.41825817357077, 0.209129086785385, 0.209129086785385, 0.209129086785385, 0.4482603496122485, 0.4482603496122485, 0.3424428211239348, 0.6848856422478696, 0.8612180463050174, 0.5319203068718762, 0.8505799252091427, 0.5231634472181557, 0.25070722619834634, 0.25070722619834634, 0.25070722619834634, 0.25070722619834634, 0.6703413553239176, 0.3351706776619588, 0.22660063876078818, 0.22660063876078818, 0.22660063876078818, 0.22660063876078818, 0.22660063876078818, 0.3522567916729911, 0.3522567916729911, 0.3522567916729911, 0.24997113390708237, 0.49994226781416473, 0.24997113390708237, 0.8009442546459249, 0.096729482222727, 0.096729482222727, 0.096729482222727, 0.386917928890908, 0.096729482222727, 0.096729482222727, 0.096729482222727, 0.295130086092444, 0.295130086092444, 0.295130086092444, 0.3503072532528498, 0.7006145065056996, 0.31751049471106, 0.63502098942212, 0.7525276360616143, 0.7240498054576967, 0.7886465759235047, 0.2628821919745016, 0.8612047378657559, 0.4903512645721084, 0.4903512645721084, 0.8512102900611521, 0.9332029801798161, 0.759477458005913, 0.2239237307811622, 0.4478474615623244, 0.2239237307811622, 0.2239237307811622, 0.7525554895750413, 0.28726872547267424, 0.28726872547267424, 0.28726872547267424, 0.28726872547267424, 0.9331977269037248, 0.7240260382098371, 0.9101074338241117, 0.7243584840973541, 0.8506368114240731, 0.9974853376913364, 0.7243234140339057, 0.3526449248445019, 0.11754830828150063, 0.3526449248445019, 0.11754830828150063, 0.11754830828150063, 0.11754830828150063, 0.840446576555162, 0.7332886479768976, 0.8017845686592588, 0.19683865744337717, 0.39367731488675434, 0.19683865744337717, 0.15292132334045813, 0.30584264668091626, 0.15292132334045813, 0.30584264668091626, 0.15292132334045813, 0.5144464475672269, 0.5144464475672269, 0.8369086536849362, 0.16563567613501778, 0.33127135227003557, 0.16563567613501778, 0.16563567613501778, 0.16563567613501778, 0.16563567613501778, 0.2662308332631335, 0.532461666526267, 0.2662308332631335, 0.8369024456892313, 0.8512829126044541, 0.4004034379054855, 0.20020171895274275, 0.10010085947637137, 0.3003025784291141, 0.10010085947637137, 0.8478379244335841, 0.8045242044054989, 0.26817473480183296, 0.7333261897036658, 0.3499299966087152, 0.3499299966087152, 0.3499299966087152, 0.8506922434980039, 0.8009468749359067, 0.7526133063428379, 0.8406202900553289, 0.9328993790666724, 0.8612283677518651, 0.8761420140566171, 0.48879702870999453, 0.48879702870999453, 0.8369061903422158, 0.7332104502543755, 0.512321760878629, 0.17077392029287636, 0.17077392029287636, 0.17077392029287636, 0.17077392029287636, 0.8893348997144349, 0.7246376444577561, 0.453904819098472, 0.226952409549236, 0.226952409549236, 0.226952409549236, 0.11215344829209394, 0.44861379316837574, 0.11215344829209394, 0.22430689658418787, 0.11215344829209394, 0.11215344829209394, 0.5371509322924931, 0.5371509322924931, 0.5040662585914172, 0.5040662585914172, 0.2616946341526014, 0.2616946341526014, 0.2616946341526014, 0.1308473170763007, 0.1308473170763007, 0.7594549660985, 0.8045864232547776, 0.2011466058136944, 0.8513432567020677, 0.802137787305412, 0.8612579961058828, 0.3014918888414855, 0.08614053966899585, 0.08614053966899585, 0.21535134917248963, 0.08614053966899585, 0.08614053966899585, 0.08614053966899585, 0.04307026983449792, 0.7593855198969787, 0.4344814292813758, 0.2172407146406879, 0.2172407146406879, 0.2172407146406879, 0.8404382520163349, 0.8404644916480261, 0.7525919228202844, 0.3584763739968829, 0.3584763739968829, 0.3584763739968829, 0.2638118578398028, 0.5276237156796056, 0.2638118578398028, 0.8022157325799302, 0.8009416422776909, 0.8612445615686366, 0.840291760718439, 0.7240612829084291, 0.8512709690282434, 0.5261068573675106, 0.8478739997285764, 0.39044234844981485, 0.19522117422490742, 0.19522117422490742, 0.19522117422490742, 0.19522117422490742, 0.5432687888403035, 0.5432687888403035, 0.7243284096934212, 0.8019149818114574, 0.5644833256841459, 0.28224166284207297, 0.7525889722071313, 0.8478492280938583, 0.4483325058304128, 0.4483325058304128, 0.2612772142731405, 0.29860253059787484, 0.018662658162367177, 0.1679639234613046, 0.037325316324734355, 0.07465063264946871, 0.018662658162367177, 0.018662658162367177, 0.07465063264946871, 0.018662658162367177, 0.018662658162367177, 0.7525220444662056, 0.17963978910905506, 0.35927957821811013, 0.17963978910905506, 0.17963978910905506, 0.08981989455452753, 0.08981989455452753, 0.8369075811722702, 0.801961468773385, 0.733245412321715, 0.3594283083404445, 0.3594283083404445, 0.16366464498647718, 0.4909939349594315, 0.16366464498647718, 0.16366464498647718, 0.37444493747645496, 0.37444493747645496, 0.37444493747645496, 0.7328998669205853, 0.8507028632223531, 0.21267571580558828, 0.3846362154812947, 0.3846362154812947, 0.3846362154812947, 0.851600133502459, 0.5431230054484555, 0.5431230054484555, 0.3922584569239519, 0.3922584569239519, 0.7329414745183488, 0.7525826703532686, 0.5288469977130181, 0.5288469977130181, 0.9179948737675505, 0.9332384615576753, 0.802180281839414, 0.9101611602887679, 0.7245923396840227, 0.48152991279631685, 0.48152991279631685, 0.7593867564816472, 0.8478491789640082, 0.8478565777769431, 0.73287505567438, 0.27645744177674225, 0.27645744177674225, 0.27645744177674225, 0.27645744177674225, 0.4780861291633408, 0.4780861291633408, 0.5041844730120567, 0.5041844730120567, 0.6098421982674299, 0.20328073275580996, 0.20328073275580996, 0.9099714638640036, 0.7525772173889094, 0.8405301305082268, 0.2864821872076335, 0.2864821872076335, 0.2864821872076335, 0.2864821872076335, 0.7589140104820039, 0.25297133682733464, 0.7525472807594712, 0.8405404394665962, 0.8611951578298297, 0.8893808587809984, 0.8612348645299325, 0.7240252338902886, 0.32895287575074666, 0.6579057515014933, 0.7332667174011287, 0.7328435715111375, 0.7594644828387713, 0.7594917640285392, 0.7240474270126388, 0.8403484534672349, 0.8020167362075221, 0.73325077201943, 0.46740173939438023, 0.3116011595962535, 0.15580057979812675, 0.15580057979812675, 0.8611784434862021, 0.14148175329148313, 0.42444525987444937, 0.28296350658296626, 0.14148175329148313, 0.14148175329148313, 0.6555621548899305, 0.752610916157003, 0.24720666624064744, 0.24720666624064744, 0.24720666624064744, 0.6744445552388338, 0.3372222776194169, 0.801887198381843, 0.8478366874793063, 0.8009421973364971, 0.8405595440670607, 0.7525767453969925, 0.9331567185229728, 0.3887889750215755, 0.3887889750215755, 0.3887889750215755, 0.7526134582059377, 0.5614958349075402, 0.5614958349075402, 0.9100272696049094, 0.5039366030471603, 0.5039366030471603, 0.8478701127274068, 0.4412451794139539, 0.4412451794139539, 0.5342554177401606, 0.5342554177401606, 0.7593835311006697, 0.3907218428558966, 0.3907218428558966, 0.49975965209662443, 0.49975965209662443, 0.932893783370279, 0.9976801690807274, 0.9331429616219847, 0.800945058850743, 0.07978072283910707, 0.15956144567821415, 0.2393421685173212, 0.3191228913564283, 0.07978072283910707, 0.07978072283910707, 0.07978072283910707, 0.7331826370100273, 0.8369079770069567, 0.9418479242702565, 0.7240523779257599, 0.36861926863093564, 0.36861926863093564, 0.36861926863093564, 0.8478873789009141, 0.8478609868257843, 0.18661761545395888, 0.18661761545395888, 0.37323523090791777, 0.18661761545395888, 0.18661761545395888, 0.7525238192352988, 0.679108477986557, 0.3395542389932785, 0.8612221460086958, 0.8478306543565898, 0.840572383902402, 0.8369082246804125, 0.5643176615518049, 0.5643176615518049, 0.8612196922017509, 0.5249292766630334, 0.5249292766630334, 0.9328334046856672, 0.8009365703486854, 0.7525502681767148, 0.175917402479825, 0.175917402479825, 0.175917402479825, 0.175917402479825, 0.175917402479825, 0.175917402479825, 0.175917402479825, 0.26867966167596874, 0.5373593233519375, 0.26867966167596874, 0.8507442342876547, 0.3082782552644293, 0.07706956381610733, 0.15413912763221466, 0.23120869144832198, 0.15413912763221466, 0.07706956381610733, 0.07706956381610733, 0.7329812889280386, 0.7593827984076819, 0.752571766670307, 0.9186660050554872, 0.9971616748885336, 0.1874223002527418, 0.24989640033698907, 0.06247410008424727, 0.06247410008424727, 0.12494820016849453, 0.12494820016849453, 0.12494820016849453, 0.06247410008424727, 0.06247410008424727, 0.4935935464105942, 0.4935935464105942, 0.46909606770869955, 0.46909606770869955, 0.8478481155069729, 0.8018195262485894, 0.6410056923435061, 0.32050284617175306, 0.4935221066186287, 0.4935221066186287, 0.9330955606072158, 0.861268704602329, 0.7333137109739745, 0.7526393751689138, 0.8515945765661843, 0.8367264455551965, 0.3711588759093938, 0.3711588759093938, 0.3711588759093938, 0.386712158719058, 0.386712158719058, 0.386712158719058, 0.7146511176929635, 0.35732555884648176, 0.7240144286464767, 0.37596590918368283, 0.37596590918368283, 0.37596590918368283, 0.7593818432010914, 0.8612634069557903, 0.9331983355905104, 0.733191967961129, 0.850554112484686, 0.7593827812959858, 0.7328681205571895, 0.7334372836026902, 0.836908765511855, 0.6788108854523333, 0.33940544272616663, 0.8478488481267531, 0.7594393353550851, 0.6758955404040526, 0.3379477702020263, 0.7593818258697468, 0.34113230181821763, 0.34113230181821763, 0.34113230181821763, 0.7332623653798822, 0.737380136572944, 0.368690068286472, 0.8478502794364475, 0.8021441810073784, 0.9101448342201508, 0.213167332164487, 0.213167332164487, 0.1065836660822435, 0.213167332164487, 0.1065836660822435, 0.213167332164487, 0.9973883749100931, 0.9330611164255143, 0.7593841831116103, 0.8612091353548752, 0.7240018520077033, 0.33751563242575805, 0.33751563242575805, 0.33751563242575805, 0.8478435459597671, 0.3967316894022728, 0.3967316894022728, 0.9282623249895695, 0.7593819488960272, 0.8478492208608978, 0.8016736989120282, 0.8513165598894061, 0.752577639652599, 0.3910294454907221, 0.3910294454907221, 0.8612721616013871, 0.34637443275849034, 0.11545814425283012, 0.34637443275849034, 0.11545814425283012, 0.11545814425283012, 0.11545814425283012, 0.4781616751630545, 0.4781616751630545, 0.8611967132964751, 0.7243542009612981, 0.8478463103244838, 0.8506594945371679, 0.8514645425179059, 0.7239940762170352, 0.3063045274898844, 0.3063045274898844, 0.3063045274898844, 0.3063045274898844, 0.8369093630139844, 0.7594791563071526, 0.9330861905542521, 0.4998937853217756, 0.4998937853217756, 0.8612611008989723, 0.7332934281708573, 0.5610880275145957, 0.5610880275145957, 0.8369032484410239, 0.49535053937628376, 0.12383763484407094, 0.12383763484407094, 0.24767526968814188, 0.12383763484407094, 0.19216373075158852, 0.38432746150317704, 0.19216373075158852, 0.09608186537579426, 0.8016938811229289, 0.36394324211895396, 0.36394324211895396, 0.8612509382093873, 0.7240307605931495, 0.5911562622300337, 0.5911562622300337, 0.847859516410342, 0.23323769010394999, 0.23323769010394999, 0.17492826757796248, 0.058309422525987496, 0.058309422525987496, 0.058309422525987496, 0.058309422525987496, 0.058309422525987496, 0.759380430643078, 0.9329827535932815, 0.5080462844939262, 0.2540231422469631, 0.2540231422469631, 0.8369117493953262, 0.9419388849164761, 0.8369060312450785, 0.3353608369508621, 0.3353608369508621, 0.3353608369508621, 0.11979426169565364, 0.3593827850869609, 0.11979426169565364, 0.11979426169565364, 0.2395885233913073, 0.294646927927248, 0.294646927927248, 0.294646927927248, 0.3728225325047806, 0.3728225325047806, 0.1864112662523903, 0.1864112662523903, 0.9331090891653949, 0.7092867380811574, 0.17732168452028935, 0.17732168452028935, 0.6313537463253016, 0.3156768731626508, 0.7279109294780827, 0.36395546473904133, 0.933070206260346, 0.8023730910453009, 0.4931304678042594, 0.4931304678042594, 0.8612660427153268, 0.35895891905597666, 0.35895891905597666, 0.8515729469706637, 0.9971798181498898, 0.836743748158028, 0.8369040867811653, 0.5275972688869837, 0.5275972688869837, 0.7333650045243757, 0.8512887864890347, 0.9976114784794752, 0.8369074706838213, 0.7240033868963286, 0.5111294126126754, 0.5111294126126754, 0.724415031284188, 0.17476710255809522, 0.34953420511619043, 0.17476710255809522, 0.34953420511619043, 0.279033625539639, 0.279033625539639, 0.1395168127698195, 0.1395168127698195, 0.1395168127698195, 0.1395168127698195, 0.22440264430314813, 0.07480088143438271, 0.22440264430314813, 0.07480088143438271, 0.07480088143438271, 0.14960176286876542, 0.07480088143438271, 0.07480088143438271, 0.07480088143438271, 0.5572223618044311, 0.3714815745362874, 0.1857407872681437, 0.21005482445355209, 0.10502741222677604, 0.21005482445355209, 0.10502741222677604, 0.10502741222677604, 0.10502741222677604, 0.10502741222677604, 0.10502741222677604, 0.10502741222677604, 0.9330653249863154, 0.75947939981912, 0.8512359732086048, 0.8478653917726552, 0.7524941082061792, 0.724630778312947, 0.9333964917955209, 0.840567231496075, 0.5198655313111663, 0.25993276565558315, 0.25993276565558315, 0.7525288736885383, 0.2305820674373835, 0.461164134874767, 0.2305820674373835, 0.7594905771529952, 0.8019383204280736, 0.33714059262589213, 0.33714059262589213, 0.33714059262589213, 0.8009418395049072, 0.8506334999759125, 0.3289746489486117, 0.6579492978972235, 0.7335602139064724], \"Term\": [\"abate\", \"absolutely\", \"abstraction\", \"action\", \"actor\", \"actor\", \"actor\", \"actor\", \"actual\", \"actual\", \"actual\", \"actually\", \"actually\", \"actually\", \"actually\", \"addle\", \"admit\", \"adult\", \"advertised\", \"advice\", \"afraid\", \"almost\", \"almost\", \"alone\", \"alone\", \"already\", \"already\", \"also\", \"also\", \"also\", \"also\", \"always\", \"always\", \"always\", \"amputateit\", \"amusing\", \"angelsan\", \"animation\", \"apart\", \"appendage\", \"appreciate\", \"appreciate\", \"arc\", \"aspect\", \"attack\", \"attempt\", \"audience\", \"audience\", \"average\", \"avoid\", \"awesome\", \"bad\", \"bad\", \"bad\", \"bad\", \"badly\", \"bag\", \"bar\", \"bar\", \"base\", \"base\", \"base\", \"basic\", \"bear\", \"bear\", \"bear\", \"bear\", \"bear\", \"bear\", \"bear\", \"bear\", \"bear\", \"bear\", \"bear\", \"bearly\", \"bearso\", \"beat\", \"become\", \"become\", \"become\", \"become\", \"become\", \"bind\", \"bit\", \"bit\", \"bit\", \"bit\", \"bizarre\", \"bizarrely\", \"blandly\", \"blast\", \"blend\", \"bonding\", \"bore\", \"bore\", \"bored\", \"boring\", \"boring\", \"boringafter\", \"bother\", \"brain\", \"brain\", \"brief\", \"brilliant\", \"bring\", \"brisk\", \"budget\", \"budget\", \"budget\", \"building\", \"burst\", \"call\", \"call\", \"call\", \"camemy\", \"care\", \"care\", \"care\", \"care\", \"caresbut\", \"carnage\", \"cash\", \"cast\", \"cast\", \"cast\", \"cast\", \"cast\", \"cast\", \"catch\", \"category\", \"cell\", \"centric\", \"certain\", \"certainly\", \"cgi\", \"cgi\", \"chance\", \"character\", \"character\", \"character\", \"character\", \"character\", \"character\", \"character\", \"character\", \"character\", \"character\", \"charactersit\", \"charlie\", \"chattahoochee\", \"child\", \"choice\", \"cinema\", \"cinema\", \"cinema\", \"claw\", \"clearly\", \"cleverness\", \"cocaine\", \"cocaine\", \"cocaine\", \"cocaine\", \"cocaine\", \"cocaine\", \"cocaine\", \"cocaine\", \"cocaine\", \"cocaine\", \"cocaine\", \"colorful\", \"come\", \"come\", \"come\", \"come\", \"come\", \"come\", \"comedy\", \"comedy\", \"comedy\", \"comedy\", \"comedy\", \"comedy\", \"comedy\", \"comedy\", \"comedy\", \"comedy\", \"completely\", \"concept\", \"concept\", \"confidence\", \"consistently\", \"contain\", \"corny\", \"couple\", \"couple\", \"courage\", \"craze\", \"creative\", \"creative\", \"crew\", \"cringe\", \"crook\", \"curious\", \"cut\", \"dance\", \"darkly\", \"day\", \"day\", \"dealer\", \"dealer\", \"death\", \"death\", \"death\", \"decent\", \"decent\", \"deep\", \"definitely\", \"definitely\", \"definitely\", \"definitely\", \"definitely\", \"deliver\", \"deliver\", \"delve\", \"demise\", \"depth\", \"detective\", \"determine\", \"development\", \"dialogue\", \"digest\", \"director\", \"director\", \"disappointed\", \"disappointed\", \"disappointment\", \"discernible\", \"do\", \"do\", \"do\", \"do\", \"do\", \"dog\", \"dolle\", \"double\", \"doubt\", \"drama\", \"drama\", \"drop\", \"drug\", \"drug\", \"drug\", \"drug\", \"dull\", \"dumb\", \"dumb\", \"dump\", \"early\", \"easy\", \"easy\", \"eat\", \"edge\", \"effort\", \"effort\", \"elaborate\", \"else\", \"else\", \"else\", \"end\", \"end\", \"end\", \"endless\", \"energy\", \"enjoy\", \"enjoy\", \"enjoy\", \"enough\", \"enough\", \"enough\", \"enough\", \"enough\", \"enough\", \"entertain\", \"entertain\", \"entertain\", \"entertainingi\", \"entertainment\", \"entertainment\", \"entire\", \"entire\", \"entire\", \"entry\", \"essentially\", \"even\", \"even\", \"even\", \"event\", \"ever\", \"ever\", \"exactly\", \"exactly\", \"exactly\", \"exactly\", \"exactly\", \"expect\", \"expect\", \"expect\", \"expect\", \"expect\", \"expectation\", \"expectation\", \"explanatory\", \"exposition\", \"extremely\", \"eye\", \"f\", \"face\", \"fact\", \"factor\", \"fail\", \"fail\", \"fail\", \"family\", \"family\", \"fan\", \"fault\", \"feature\", \"feel\", \"feel\", \"feel\", \"feel\", \"feel\", \"feel\", \"figure\", \"film\", \"film\", \"film\", \"film\", \"film\", \"film\", \"film\", \"film\", \"film\", \"film\", \"filmmaker\", \"filmmaker\", \"final\", \"final\", \"final\", \"find\", \"find\", \"find\", \"find\", \"find\", \"fine\", \"finger\", \"finish\", \"first\", \"first\", \"first\", \"first\", \"first\", \"first\", \"fit\", \"flashiness\", \"focused\", \"follow\", \"follow\", \"forest\", \"forgettable\", \"franchise\", \"frequently\", \"friend\", \"friend\", \"friend\", \"friend\", \"friend\", \"frighten\", \"full\", \"full\", \"fun\", \"fun\", \"fun\", \"fun\", \"fun\", \"fun\", \"fun\", \"funand\", \"funnier\", \"funniness\", \"funny\", \"funny\", \"funny\", \"funny\", \"funny\", \"funny\", \"funny\", \"funny\", \"garner\", \"gayest\", \"get\", \"get\", \"get\", \"get\", \"get\", \"get\", \"get\", \"get\", \"giant\", \"girl\", \"give\", \"give\", \"give\", \"give\", \"give\", \"give\", \"glad\", \"glad\", \"gnarliest\", \"go\", \"go\", \"go\", \"go\", \"go\", \"go\", \"go\", \"go\", \"go\", \"gold\", \"good\", \"good\", \"good\", \"good\", \"good\", \"good\", \"good\", \"good\", \"goodfella\", \"goodness\", \"google\", \"gory\", \"grade\", \"gratuitous\", \"great\", \"great\", \"great\", \"greatthere\", \"guess\", \"guess\", \"guy\", \"half\", \"half\", \"half\", \"half\", \"half\", \"happen\", \"happen\", \"happen\", \"happen\", \"happy\", \"happy\", \"hard\", \"hard\", \"heap\", \"hear\", \"heartwarming\", \"hell\", \"high\", \"high\", \"high\", \"high\", \"hilarious\", \"hilarious\", \"hit\", \"hit\", \"hit\", \"hit\", \"hit\", \"hollywood\", \"hollywood\", \"hollywood\", \"hope\", \"hope\", \"hope\", \"horrible\", \"horror\", \"horror\", \"horror\", \"horror\", \"horror\", \"horror\", \"horror\", \"however\", \"however\", \"however\", \"huge\", \"huge\", \"human\", \"human\", \"humorous\", \"hysterical\", \"idea\", \"idea\", \"illegal\", \"impressive\", \"impressive\", \"incredible\", \"indifferent\", \"insane\", \"instead\", \"instead\", \"instead\", \"instead\", \"intend\", \"interesting\", \"interesting\", \"interesting\", \"interesting\", \"interpret\", \"intrigue\", \"introduce\", \"invest\", \"involve\", \"ish\", \"isthose\", \"joke\", \"joke\", \"joke\", \"joke\", \"joke\", \"joke\", \"jokedanyway\", \"jovi\", \"kick\", \"kid\", \"kid\", \"kid\", \"kill\", \"kill\", \"kill\", \"kill\", \"kill\", \"kind\", \"kind\", \"kite\", \"know\", \"know\", \"know\", \"know\", \"know\", \"know\", \"land\", \"land\", \"land\", \"last\", \"later\", \"laugh\", \"laugh\", \"laugh\", \"laugh\", \"laugh\", \"laughter\", \"learn\", \"learn\", \"least\", \"leave\", \"leave\", \"leave\", \"legendary\", \"less\", \"lesson\", \"letterboxd\", \"lie\", \"likeable\", \"likely\", \"likewise\", \"likewise\", \"limb\", \"list\", \"little\", \"little\", \"little\", \"little\", \"little\", \"live\", \"local\", \"long\", \"long\", \"long\", \"long\", \"look\", \"look\", \"look\", \"look\", \"look\", \"look\", \"loosely\", \"loosely\", \"lose\", \"lose\", \"lot\", \"lot\", \"lot\", \"lot\", \"lot\", \"loud\", \"low\", \"low\", \"ludicrous\", \"luvs\", \"main\", \"make\", \"make\", \"make\", \"make\", \"make\", \"make\", \"make\", \"make\", \"manage\", \"many\", \"many\", \"many\", \"many\", \"marketing\", \"master\", \"matter\", \"maybe\", \"maybe\", \"maybe\", \"mean\", \"mean\", \"mean\", \"meaningful\", \"meet\", \"meg\", \"meimdb\", \"memorable\", \"mention\", \"mill\", \"min\", \"minute\", \"minute\", \"minute\", \"minute\", \"minute\", \"miss\", \"miss\", \"mix\", \"molly\", \"moment\", \"moment\", \"monster\", \"month\", \"mostly\", \"mostly\", \"movie\", \"movie\", \"movie\", \"movie\", \"movie\", \"movie\", \"movie\", \"movie\", \"movie\", \"movie\", \"movie\", \"moviesand\", \"much\", \"much\", \"much\", \"much\", \"much\", \"much\", \"multiform\", \"munchie\", \"music\", \"name\", \"name\", \"need\", \"need\", \"need\", \"need\", \"never\", \"never\", \"never\", \"new\", \"nice\", \"nice\", \"none\", \"none\", \"none\", \"nurse\", \"occasional\", \"occasional\", \"offer\", \"offer\", \"officer\", \"one\", \"open\", \"open\", \"opinion\", \"originality\", \"oscar\", \"other\", \"outbore\", \"outrageous\", \"outrageous\", \"overcome\", \"pacing\", \"page\", \"park\", \"part\", \"part\", \"part\", \"part\", \"pass\", \"pass\", \"pay\", \"pay\", \"people\", \"people\", \"people\", \"peoplefrom\", \"perfectly\", \"perform\", \"performance\", \"performance\", \"performance\", \"performance\", \"perhaps\", \"perhaps\", \"personality\", \"piece\", \"piranha\", \"plain\", \"plane\", \"pleased\", \"plot\", \"plot\", \"point\", \"police\", \"pop\", \"popcorn\", \"poster\", \"precisely\", \"predict\", \"prefer\", \"premise\", \"premise\", \"premise\", \"premise\", \"present\", \"pretty\", \"pretty\", \"pretty\", \"pretty\", \"pretty\", \"primarily\", \"prioritise\", \"probably\", \"probably\", \"probably\", \"problem\", \"problem\", \"produce\", \"producer\", \"prof\", \"provide\", \"pun\", \"punchline\", \"put\", \"put\", \"put\", \"race\", \"rampage\", \"rampage\", \"random\", \"ranger\", \"ranger\", \"rare\", \"rate\", \"rate\", \"rather\", \"rather\", \"ratinginstead\", \"reach\", \"reach\", \"read\", \"read\", \"ready\", \"realise\", \"realistic\", \"realize\", \"really\", \"really\", \"really\", \"really\", \"really\", \"really\", \"really\", \"related\", \"remove\", \"rest\", \"review\", \"ride\", \"ride\", \"ride\", \"ridiculous\", \"ridiculously\", \"right\", \"right\", \"right\", \"right\", \"right\", \"riotous\", \"role\", \"role\", \"roleeven\", \"roll\", \"rope\", \"round\", \"runtime\", \"runtime\", \"russell\", \"sad\", \"sad\", \"sameand\", \"sandlot\", \"satisfy\", \"say\", \"say\", \"say\", \"say\", \"say\", \"say\", \"say\", \"scary\", \"scary\", \"scary\", \"scaryyet\", \"scene\", \"scene\", \"scene\", \"scene\", \"scene\", \"scene\", \"scene\", \"scenery\", \"schlocky\", \"script\", \"seat\", \"second\", \"see\", \"see\", \"see\", \"see\", \"see\", \"see\", \"see\", \"see\", \"see\", \"seem\", \"seem\", \"self\", \"self\", \"sell\", \"sequel\", \"seriously\", \"seriously\", \"set\", \"set\", \"several\", \"severely\", \"sharknado\", \"shine\", \"shoehorned\", \"shoot\", \"short\", \"short\", \"short\", \"shot\", \"shot\", \"shot\", \"show\", \"show\", \"similar\", \"simply\", \"simply\", \"simply\", \"single\", \"skill\", \"slasher\", \"sly\", \"smile\", \"snl\", \"snooze\", \"solo\", \"somewhat\", \"sort\", \"sort\", \"soundtrack\", \"special\", \"spend\", \"spend\", \"spineless\", \"spot\", \"spot\", \"spot\", \"standout\", \"star\", \"star\", \"start\", \"stay\", \"still\", \"story\", \"story\", \"story\", \"story\", \"story\", \"story\", \"storyline\", \"stream\", \"streamlined\", \"strong\", \"studio\", \"stuff\", \"stuff\", \"stuff\", \"stumble\", \"stupid\", \"stupid\", \"sub\", \"subdue\", \"subplot\", \"successful\", \"supportwe\", \"surprisedof\", \"surprisingly\", \"surprisingly\", \"sustain\", \"take\", \"take\", \"take\", \"take\", \"take\", \"take\", \"talk\", \"talk\", \"tally\", \"taste\", \"taxidermie\", \"tbh\", \"tear\", \"teen\", \"tell\", \"tell\", \"tell\", \"tell\", \"temper\", \"tend\", \"term\", \"terrible\", \"terrible\", \"territoryit\", \"thatwe\", \"theater\", \"theater\", \"theme\", \"thing\", \"thing\", \"thing\", \"thing\", \"thing\", \"think\", \"think\", \"think\", \"think\", \"thinking\", \"thriller\", \"thriller\", \"throw\", \"thursday\", \"ticket\", \"ticket\", \"tight\", \"time\", \"time\", \"time\", \"time\", \"time\", \"time\", \"time\", \"time\", \"timegore\", \"tingle\", \"title\", \"title\", \"title\", \"today\", \"tone\", \"tooth\", \"top\", \"top\", \"top\", \"trailer\", \"trailer\", \"trailer\", \"trailer\", \"trailer\", \"true\", \"true\", \"true\", \"truly\", \"truly\", \"truly\", \"truly\", \"truth\", \"try\", \"try\", \"try\", \"type\", \"type\", \"ultimately\", \"ultimately\", \"uncomfortably\", \"uncontrollable\", \"understand\", \"understand\", \"underutilise\", \"uninteresting\", \"uninteresting\", \"unnecessary\", \"unpredictable\", \"unspeakably\", \"variation\", \"various\", \"various\", \"video\", \"villain\", \"visual\", \"volatile\", \"volume\", \"wait\", \"wait\", \"walk\", \"want\", \"want\", \"want\", \"want\", \"waste\", \"waste\", \"waste\", \"waste\", \"waste\", \"waste\", \"watch\", \"watch\", \"watch\", \"watch\", \"watch\", \"watch\", \"watch\", \"watch\", \"watch\", \"way\", \"way\", \"way\", \"well\", \"well\", \"well\", \"well\", \"well\", \"well\", \"well\", \"well\", \"well\", \"weta\", \"whole\", \"wholly\", \"wikipedia\", \"wildly\", \"wiseall\", \"wish\", \"withnow\", \"wood\", \"wood\", \"wood\", \"woodsone\", \"work\", \"work\", \"work\", \"worth\", \"worthy\", \"write\", \"write\", \"write\", \"wrong\", \"wroth\", \"year\", \"year\", \"young\"]}, \"R\": 30, \"lambda.step\": 0.01, \"plot.opts\": {\"xlab\": \"PC1\", \"ylab\": \"PC2\"}, \"topic.order\": [14, 18, 19, 6, 8, 1, 20, 4, 3, 7, 2, 15, 16, 5, 10, 13, 12, 17, 11, 9]};\n",
              "\n",
              "function LDAvis_load_lib(url, callback){\n",
              "  var s = document.createElement('script');\n",
              "  s.src = url;\n",
              "  s.async = true;\n",
              "  s.onreadystatechange = s.onload = callback;\n",
              "  s.onerror = function(){console.warn(\"failed to load library \" + url);};\n",
              "  document.getElementsByTagName(\"head\")[0].appendChild(s);\n",
              "}\n",
              "\n",
              "if(typeof(LDAvis) !== \"undefined\"){\n",
              "   // already loaded: just create the visualization\n",
              "   !function(LDAvis){\n",
              "       new LDAvis(\"#\" + \"ldavis_el14751398697747626082531549624\", ldavis_el14751398697747626082531549624_data);\n",
              "   }(LDAvis);\n",
              "}else if(typeof define === \"function\" && define.amd){\n",
              "   // require.js is available: use it to load d3/LDAvis\n",
              "   require.config({paths: {d3: \"https://d3js.org/d3.v5\"}});\n",
              "   require([\"d3\"], function(d3){\n",
              "      window.d3 = d3;\n",
              "      LDAvis_load_lib(\"https://cdn.jsdelivr.net/gh/bmabey/pyLDAvis@3.4.0/pyLDAvis/js/ldavis.v3.0.0.js\", function(){\n",
              "        new LDAvis(\"#\" + \"ldavis_el14751398697747626082531549624\", ldavis_el14751398697747626082531549624_data);\n",
              "      });\n",
              "    });\n",
              "}else{\n",
              "    // require.js not available: dynamically load d3 & LDAvis\n",
              "    LDAvis_load_lib(\"https://d3js.org/d3.v5.js\", function(){\n",
              "         LDAvis_load_lib(\"https://cdn.jsdelivr.net/gh/bmabey/pyLDAvis@3.4.0/pyLDAvis/js/ldavis.v3.0.0.js\", function(){\n",
              "                 new LDAvis(\"#\" + \"ldavis_el14751398697747626082531549624\", ldavis_el14751398697747626082531549624_data);\n",
              "            })\n",
              "         });\n",
              "}\n",
              "</script>"
            ]
          },
          "metadata": {},
          "execution_count": 77
        }
      ]
    },
    {
      "cell_type": "markdown",
      "metadata": {
        "id": "Ln-LTl4rITPm"
      },
      "source": [
        "## (2) (10 points) Generate K topics by using LSA, the number of topics K should be decided by the coherence score, then summarize what are the topics. You may refer the code here:\n",
        "\n",
        "https://www.datacamp.com/community/tutorials/discovering-hidden-topics-python"
      ]
    },
    {
      "cell_type": "code",
      "source": [
        "df.head()"
      ],
      "metadata": {
        "colab": {
          "base_uri": "https://localhost:8080/",
          "height": 206
        },
        "id": "L7JHdOVmsFW_",
        "outputId": "75b8d798-5b0d-4158-9556-02586d81deaf"
      },
      "execution_count": 80,
      "outputs": [
        {
          "output_type": "execute_result",
          "data": {
            "text/plain": [
              "                                        user_reviews  \\\n",
              "0  Ummmmm, I begin. I watch trailers read reviews...   \n",
              "1  Cocaine Bear promised much hit spot me.There m...   \n",
              "2  I first groaned rolled eyes I heard made film ...   \n",
              "3  If go woods today sure big surprise, mother be...   \n",
              "4  This film exactly think is. It's bear cocaine ...   \n",
              "\n",
              "                                        Text (Clean)  \\\n",
              "0  [ummmmm, begin, watch, trailer, read, review, ...   \n",
              "1  [cocain, bear, promis, hit, spot, there, chara...   \n",
              "2  [groan, roll, ey, heard, film, bear, cocain, n...   \n",
              "3  [wood, todai, sure, big, surpris, mother, bear...   \n",
              "4  [film, exactli, think, bear, cocain, go, crazi...   \n",
              "\n",
              "                              user_reviews_processed  \n",
              "0  ummmmm i begin i watch trailers read reviews i...  \n",
              "1  cocaine bear promised much hit spot methere ma...  \n",
              "2  i first groaned rolled eyes i heard made film ...  \n",
              "3  if go woods today sure big surprise mother bea...  \n",
              "4  this film exactly think is it's bear cocaine g...  "
            ],
            "text/html": [
              "\n",
              "  <div id=\"df-7d3f3223-c8d7-41b3-88de-92972c3e8c26\">\n",
              "    <div class=\"colab-df-container\">\n",
              "      <div>\n",
              "<style scoped>\n",
              "    .dataframe tbody tr th:only-of-type {\n",
              "        vertical-align: middle;\n",
              "    }\n",
              "\n",
              "    .dataframe tbody tr th {\n",
              "        vertical-align: top;\n",
              "    }\n",
              "\n",
              "    .dataframe thead th {\n",
              "        text-align: right;\n",
              "    }\n",
              "</style>\n",
              "<table border=\"1\" class=\"dataframe\">\n",
              "  <thead>\n",
              "    <tr style=\"text-align: right;\">\n",
              "      <th></th>\n",
              "      <th>user_reviews</th>\n",
              "      <th>Text (Clean)</th>\n",
              "      <th>user_reviews_processed</th>\n",
              "    </tr>\n",
              "  </thead>\n",
              "  <tbody>\n",
              "    <tr>\n",
              "      <th>0</th>\n",
              "      <td>Ummmmm, I begin. I watch trailers read reviews...</td>\n",
              "      <td>[ummmmm, begin, watch, trailer, read, review, ...</td>\n",
              "      <td>ummmmm i begin i watch trailers read reviews i...</td>\n",
              "    </tr>\n",
              "    <tr>\n",
              "      <th>1</th>\n",
              "      <td>Cocaine Bear promised much hit spot me.There m...</td>\n",
              "      <td>[cocain, bear, promis, hit, spot, there, chara...</td>\n",
              "      <td>cocaine bear promised much hit spot methere ma...</td>\n",
              "    </tr>\n",
              "    <tr>\n",
              "      <th>2</th>\n",
              "      <td>I first groaned rolled eyes I heard made film ...</td>\n",
              "      <td>[groan, roll, ey, heard, film, bear, cocain, n...</td>\n",
              "      <td>i first groaned rolled eyes i heard made film ...</td>\n",
              "    </tr>\n",
              "    <tr>\n",
              "      <th>3</th>\n",
              "      <td>If go woods today sure big surprise, mother be...</td>\n",
              "      <td>[wood, todai, sure, big, surpris, mother, bear...</td>\n",
              "      <td>if go woods today sure big surprise mother bea...</td>\n",
              "    </tr>\n",
              "    <tr>\n",
              "      <th>4</th>\n",
              "      <td>This film exactly think is. It's bear cocaine ...</td>\n",
              "      <td>[film, exactli, think, bear, cocain, go, crazi...</td>\n",
              "      <td>this film exactly think is it's bear cocaine g...</td>\n",
              "    </tr>\n",
              "  </tbody>\n",
              "</table>\n",
              "</div>\n",
              "      <button class=\"colab-df-convert\" onclick=\"convertToInteractive('df-7d3f3223-c8d7-41b3-88de-92972c3e8c26')\"\n",
              "              title=\"Convert this dataframe to an interactive table.\"\n",
              "              style=\"display:none;\">\n",
              "        \n",
              "  <svg xmlns=\"http://www.w3.org/2000/svg\" height=\"24px\"viewBox=\"0 0 24 24\"\n",
              "       width=\"24px\">\n",
              "    <path d=\"M0 0h24v24H0V0z\" fill=\"none\"/>\n",
              "    <path d=\"M18.56 5.44l.94 2.06.94-2.06 2.06-.94-2.06-.94-.94-2.06-.94 2.06-2.06.94zm-11 1L8.5 8.5l.94-2.06 2.06-.94-2.06-.94L8.5 2.5l-.94 2.06-2.06.94zm10 10l.94 2.06.94-2.06 2.06-.94-2.06-.94-.94-2.06-.94 2.06-2.06.94z\"/><path d=\"M17.41 7.96l-1.37-1.37c-.4-.4-.92-.59-1.43-.59-.52 0-1.04.2-1.43.59L10.3 9.45l-7.72 7.72c-.78.78-.78 2.05 0 2.83L4 21.41c.39.39.9.59 1.41.59.51 0 1.02-.2 1.41-.59l7.78-7.78 2.81-2.81c.8-.78.8-2.07 0-2.86zM5.41 20L4 18.59l7.72-7.72 1.47 1.35L5.41 20z\"/>\n",
              "  </svg>\n",
              "      </button>\n",
              "      \n",
              "  <style>\n",
              "    .colab-df-container {\n",
              "      display:flex;\n",
              "      flex-wrap:wrap;\n",
              "      gap: 12px;\n",
              "    }\n",
              "\n",
              "    .colab-df-convert {\n",
              "      background-color: #E8F0FE;\n",
              "      border: none;\n",
              "      border-radius: 50%;\n",
              "      cursor: pointer;\n",
              "      display: none;\n",
              "      fill: #1967D2;\n",
              "      height: 32px;\n",
              "      padding: 0 0 0 0;\n",
              "      width: 32px;\n",
              "    }\n",
              "\n",
              "    .colab-df-convert:hover {\n",
              "      background-color: #E2EBFA;\n",
              "      box-shadow: 0px 1px 2px rgba(60, 64, 67, 0.3), 0px 1px 3px 1px rgba(60, 64, 67, 0.15);\n",
              "      fill: #174EA6;\n",
              "    }\n",
              "\n",
              "    [theme=dark] .colab-df-convert {\n",
              "      background-color: #3B4455;\n",
              "      fill: #D2E3FC;\n",
              "    }\n",
              "\n",
              "    [theme=dark] .colab-df-convert:hover {\n",
              "      background-color: #434B5C;\n",
              "      box-shadow: 0px 1px 3px 1px rgba(0, 0, 0, 0.15);\n",
              "      filter: drop-shadow(0px 1px 2px rgba(0, 0, 0, 0.3));\n",
              "      fill: #FFFFFF;\n",
              "    }\n",
              "  </style>\n",
              "\n",
              "      <script>\n",
              "        const buttonEl =\n",
              "          document.querySelector('#df-7d3f3223-c8d7-41b3-88de-92972c3e8c26 button.colab-df-convert');\n",
              "        buttonEl.style.display =\n",
              "          google.colab.kernel.accessAllowed ? 'block' : 'none';\n",
              "\n",
              "        async function convertToInteractive(key) {\n",
              "          const element = document.querySelector('#df-7d3f3223-c8d7-41b3-88de-92972c3e8c26');\n",
              "          const dataTable =\n",
              "            await google.colab.kernel.invokeFunction('convertToInteractive',\n",
              "                                                     [key], {});\n",
              "          if (!dataTable) return;\n",
              "\n",
              "          const docLinkHtml = 'Like what you see? Visit the ' +\n",
              "            '<a target=\"_blank\" href=https://colab.research.google.com/notebooks/data_table.ipynb>data table notebook</a>'\n",
              "            + ' to learn more about interactive tables.';\n",
              "          element.innerHTML = '';\n",
              "          dataTable['output_type'] = 'display_data';\n",
              "          await google.colab.output.renderOutput(dataTable, element);\n",
              "          const docLink = document.createElement('div');\n",
              "          docLink.innerHTML = docLinkHtml;\n",
              "          element.appendChild(docLink);\n",
              "        }\n",
              "      </script>\n",
              "    </div>\n",
              "  </div>\n",
              "  "
            ]
          },
          "metadata": {},
          "execution_count": 80
        }
      ]
    },
    {
      "cell_type": "code",
      "execution_count": 81,
      "metadata": {
        "id": "fC6tT08QITPm",
        "colab": {
          "base_uri": "https://localhost:8080/"
        },
        "outputId": "4603b67a-b075-415e-ac21-a2f60c90494d"
      },
      "outputs": [
        {
          "output_type": "stream",
          "name": "stdout",
          "text": [
            "Coherence score with 2 clusters: 0.3662187996819584\n",
            "Coherence score with 3 clusters: 0.44584094402834235\n",
            "Coherence score with 4 clusters: 0.4995213981370341\n",
            "Coherence score with 5 clusters: 0.44709229643008597\n",
            "Coherence score with 6 clusters: 0.43191758965319066\n",
            "Coherence score with 7 clusters: 0.4650464186901172\n",
            "Coherence score with 8 clusters: 0.4325279376775685\n",
            "Coherence score with 9 clusters: 0.45828154772134844\n",
            "Coherence score with 10 clusters: 0.4119948002107048\n"
          ]
        }
      ],
      "source": [
        "# Write your code here\n",
        "from gensim.models import LsiModel\n",
        "from gensim.models.coherencemodel import CoherenceModel\n",
        "\n",
        "# Coherence score in topic modeling to measure how interpretable the topics are to humans.\n",
        "# find the coherence score with a different number of topics\n",
        "for i in range(2,11):\n",
        "    lsi = LsiModel(bow, num_topics=i, id2word=dictionary)\n",
        "    coherence_model = CoherenceModel(model=lsi, texts=df['Text (Clean)'], dictionary=dictionary, coherence='c_v')\n",
        "    coherence_score = coherence_model.get_coherence()\n",
        "    print('Coherence score with {} clusters: {}'.format(i, coherence_score))\n",
        "\n",
        "\n",
        "\n"
      ]
    },
    {
      "cell_type": "code",
      "source": [
        "# perform SVD on the bag of words with the LsiModel to extract 2 topics\n",
        "lsi = LsiModel(bow, num_topics=2, id2word=dictionary)"
      ],
      "metadata": {
        "id": "1Q0em0ANC6zg"
      },
      "execution_count": 83,
      "outputs": []
    },
    {
      "cell_type": "code",
      "source": [
        "for topic_num, words in lsi.print_topics(num_words=10):\n",
        "    print('Words in {}: {}.'.format(topic_num, words))"
      ],
      "metadata": {
        "colab": {
          "base_uri": "https://localhost:8080/"
        },
        "id": "o3S-42tbDcVy",
        "outputId": "f5ae566e-7b3e-4dc3-c2fa-e930540f4629"
      },
      "execution_count": 84,
      "outputs": [
        {
          "output_type": "stream",
          "name": "stdout",
          "text": [
            "Words in 0: 0.478*\"movi\" + 0.468*\"bear\" + 0.308*\"cocain\" + 0.220*\"film\" + 0.162*\"charact\" + 0.153*\"time\" + 0.146*\"fun\" + 0.143*\"good\" + 0.123*\"expect\" + 0.117*\"funni\".\n",
            "Words in 1: 0.585*\"movi\" + -0.311*\"film\" + -0.297*\"bear\" + -0.162*\"actual\" + -0.126*\"time\" + 0.125*\"like\" + -0.112*\"cocain\" + -0.110*\"fun\" + -0.102*\"the\" + 0.101*\"need\".\n"
          ]
        }
      ]
    },
    {
      "cell_type": "code",
      "source": [
        "corpus_lsi = lsi[bow]\n",
        "score1 = []\n",
        "score2 = []\n",
        "for doc in corpus_lsi:\n",
        "    score1.append(round(doc[0][1],2))\n",
        "    score2.append(round(doc[1][1],2))\n",
        "\n",
        "# create data frame that shows scores assigned for both topics for each review\n",
        "df_topic = pd.DataFrame()\n",
        "df_topic['Text'] = df['user_reviews']\n",
        "df_topic['Topic 0 score'] = score1\n",
        "df_topic['Topic 1 score'] = score2\n",
        "df_topic['Topic']= df_topic[['Topic 0 score', 'Topic 1 score']].apply(lambda x: x.argmax(), axis=1)\n",
        "df_topic.head(1)"
      ],
      "metadata": {
        "colab": {
          "base_uri": "https://localhost:8080/",
          "height": 81
        },
        "id": "ecXV-kncDk-1",
        "outputId": "b334cace-bdd8-4c1c-91af-015c560388ef"
      },
      "execution_count": 86,
      "outputs": [
        {
          "output_type": "execute_result",
          "data": {
            "text/plain": [
              "                                                Text  Topic 0 score  \\\n",
              "0  Ummmmm, I begin. I watch trailers read reviews...            4.7   \n",
              "\n",
              "   Topic 1 score  Topic  \n",
              "0           1.13      0  "
            ],
            "text/html": [
              "\n",
              "  <div id=\"df-111763cd-7c9b-4551-926c-ce3855191af1\">\n",
              "    <div class=\"colab-df-container\">\n",
              "      <div>\n",
              "<style scoped>\n",
              "    .dataframe tbody tr th:only-of-type {\n",
              "        vertical-align: middle;\n",
              "    }\n",
              "\n",
              "    .dataframe tbody tr th {\n",
              "        vertical-align: top;\n",
              "    }\n",
              "\n",
              "    .dataframe thead th {\n",
              "        text-align: right;\n",
              "    }\n",
              "</style>\n",
              "<table border=\"1\" class=\"dataframe\">\n",
              "  <thead>\n",
              "    <tr style=\"text-align: right;\">\n",
              "      <th></th>\n",
              "      <th>Text</th>\n",
              "      <th>Topic 0 score</th>\n",
              "      <th>Topic 1 score</th>\n",
              "      <th>Topic</th>\n",
              "    </tr>\n",
              "  </thead>\n",
              "  <tbody>\n",
              "    <tr>\n",
              "      <th>0</th>\n",
              "      <td>Ummmmm, I begin. I watch trailers read reviews...</td>\n",
              "      <td>4.7</td>\n",
              "      <td>1.13</td>\n",
              "      <td>0</td>\n",
              "    </tr>\n",
              "  </tbody>\n",
              "</table>\n",
              "</div>\n",
              "      <button class=\"colab-df-convert\" onclick=\"convertToInteractive('df-111763cd-7c9b-4551-926c-ce3855191af1')\"\n",
              "              title=\"Convert this dataframe to an interactive table.\"\n",
              "              style=\"display:none;\">\n",
              "        \n",
              "  <svg xmlns=\"http://www.w3.org/2000/svg\" height=\"24px\"viewBox=\"0 0 24 24\"\n",
              "       width=\"24px\">\n",
              "    <path d=\"M0 0h24v24H0V0z\" fill=\"none\"/>\n",
              "    <path d=\"M18.56 5.44l.94 2.06.94-2.06 2.06-.94-2.06-.94-.94-2.06-.94 2.06-2.06.94zm-11 1L8.5 8.5l.94-2.06 2.06-.94-2.06-.94L8.5 2.5l-.94 2.06-2.06.94zm10 10l.94 2.06.94-2.06 2.06-.94-2.06-.94-.94-2.06-.94 2.06-2.06.94z\"/><path d=\"M17.41 7.96l-1.37-1.37c-.4-.4-.92-.59-1.43-.59-.52 0-1.04.2-1.43.59L10.3 9.45l-7.72 7.72c-.78.78-.78 2.05 0 2.83L4 21.41c.39.39.9.59 1.41.59.51 0 1.02-.2 1.41-.59l7.78-7.78 2.81-2.81c.8-.78.8-2.07 0-2.86zM5.41 20L4 18.59l7.72-7.72 1.47 1.35L5.41 20z\"/>\n",
              "  </svg>\n",
              "      </button>\n",
              "      \n",
              "  <style>\n",
              "    .colab-df-container {\n",
              "      display:flex;\n",
              "      flex-wrap:wrap;\n",
              "      gap: 12px;\n",
              "    }\n",
              "\n",
              "    .colab-df-convert {\n",
              "      background-color: #E8F0FE;\n",
              "      border: none;\n",
              "      border-radius: 50%;\n",
              "      cursor: pointer;\n",
              "      display: none;\n",
              "      fill: #1967D2;\n",
              "      height: 32px;\n",
              "      padding: 0 0 0 0;\n",
              "      width: 32px;\n",
              "    }\n",
              "\n",
              "    .colab-df-convert:hover {\n",
              "      background-color: #E2EBFA;\n",
              "      box-shadow: 0px 1px 2px rgba(60, 64, 67, 0.3), 0px 1px 3px 1px rgba(60, 64, 67, 0.15);\n",
              "      fill: #174EA6;\n",
              "    }\n",
              "\n",
              "    [theme=dark] .colab-df-convert {\n",
              "      background-color: #3B4455;\n",
              "      fill: #D2E3FC;\n",
              "    }\n",
              "\n",
              "    [theme=dark] .colab-df-convert:hover {\n",
              "      background-color: #434B5C;\n",
              "      box-shadow: 0px 1px 3px 1px rgba(0, 0, 0, 0.15);\n",
              "      filter: drop-shadow(0px 1px 2px rgba(0, 0, 0, 0.3));\n",
              "      fill: #FFFFFF;\n",
              "    }\n",
              "  </style>\n",
              "\n",
              "      <script>\n",
              "        const buttonEl =\n",
              "          document.querySelector('#df-111763cd-7c9b-4551-926c-ce3855191af1 button.colab-df-convert');\n",
              "        buttonEl.style.display =\n",
              "          google.colab.kernel.accessAllowed ? 'block' : 'none';\n",
              "\n",
              "        async function convertToInteractive(key) {\n",
              "          const element = document.querySelector('#df-111763cd-7c9b-4551-926c-ce3855191af1');\n",
              "          const dataTable =\n",
              "            await google.colab.kernel.invokeFunction('convertToInteractive',\n",
              "                                                     [key], {});\n",
              "          if (!dataTable) return;\n",
              "\n",
              "          const docLinkHtml = 'Like what you see? Visit the ' +\n",
              "            '<a target=\"_blank\" href=https://colab.research.google.com/notebooks/data_table.ipynb>data table notebook</a>'\n",
              "            + ' to learn more about interactive tables.';\n",
              "          element.innerHTML = '';\n",
              "          dataTable['output_type'] = 'display_data';\n",
              "          await google.colab.output.renderOutput(dataTable, element);\n",
              "          const docLink = document.createElement('div');\n",
              "          docLink.innerHTML = docLinkHtml;\n",
              "          element.appendChild(docLink);\n",
              "        }\n",
              "      </script>\n",
              "    </div>\n",
              "  </div>\n",
              "  "
            ]
          },
          "metadata": {},
          "execution_count": 86
        }
      ]
    },
    {
      "cell_type": "markdown",
      "metadata": {
        "id": "mM4-AXFkITPn"
      },
      "source": [
        "## (3) (10 points) Generate K topics by using  lda2vec, the number of topics K should be decided by the coherence score, then summarize what are the topics. You may refer the code here:\n",
        "\n",
        "https://nbviewer.org/github/cemoody/lda2vec/blob/master/examples/twenty_newsgroups/lda2vec/lda2vec.ipynb"
      ]
    },
    {
      "cell_type": "code",
      "execution_count": 26,
      "metadata": {
        "id": "yOuHjDetITPn"
      },
      "outputs": [],
      "source": [
        "# Write your code here\n",
        "\n",
        "\n",
        "\n"
      ]
    },
    {
      "cell_type": "markdown",
      "metadata": {
        "id": "1Rg5CtdjITPo"
      },
      "source": [
        "## (4) (10 points) Generate K topics by using BERTopic, the number of topics K should be decided by the coherence score, then summarize what are the topics. You may refer the code here: \n",
        "\n",
        "https://colab.research.google.com/drive/1FieRA9fLdkQEGDIMYl0I3MCjSUKVF8C-?usp=sharing"
      ]
    },
    {
      "cell_type": "code",
      "execution_count": 27,
      "metadata": {
        "id": "MKktKR9ZITPo"
      },
      "outputs": [],
      "source": [
        "# Write your code here\n",
        "\n",
        "\n",
        "\n"
      ]
    },
    {
      "cell_type": "markdown",
      "metadata": {
        "id": "DpOIHUjVITPp"
      },
      "source": [
        "## (5) (10 extra points) Compare the results generated by the four topic modeling algorithms, which one is better? You should explain the reasons in details."
      ]
    },
    {
      "cell_type": "code",
      "execution_count": 28,
      "metadata": {
        "id": "cxupfJ3rITPp"
      },
      "outputs": [],
      "source": [
        "# Write your answer here (no code needed for this question)\n",
        "\n",
        "\n",
        "\n"
      ]
    }
  ],
  "metadata": {
    "kernelspec": {
      "display_name": "Python 3 (ipykernel)",
      "language": "python",
      "name": "python3"
    },
    "language_info": {
      "codemirror_mode": {
        "name": "ipython",
        "version": 3
      },
      "file_extension": ".py",
      "mimetype": "text/x-python",
      "name": "python",
      "nbconvert_exporter": "python",
      "pygments_lexer": "ipython3",
      "version": "3.9.12"
    },
    "colab": {
      "provenance": [],
      "include_colab_link": true
    }
  },
  "nbformat": 4,
  "nbformat_minor": 0
}